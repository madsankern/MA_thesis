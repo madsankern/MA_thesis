{
 "cells": [
  {
   "cell_type": "markdown",
   "id": "42ac9d6a-cb65-4798-9979-ae3e2cb8f951",
   "metadata": {},
   "source": [
    "# Stationary Equilibrium"
   ]
  },
  {
   "cell_type": "markdown",
   "id": "ee8dd7be-b765-49a0-bf86-57cd8909c871",
   "metadata": {},
   "source": [
    "In this notebook, I illustrate the solution to the **stationary equilibrium** for the housing model."
   ]
  },
  {
   "cell_type": "markdown",
   "id": "55399621-d395-435e-9ccb-fdf1ae1af9bf",
   "metadata": {
    "tags": []
   },
   "source": [
    "## Setup and Solve"
   ]
  },
  {
   "cell_type": "code",
   "execution_count": 1,
   "id": "dc04521b-cb48-45f0-9624-558dd5872511",
   "metadata": {
    "tags": []
   },
   "outputs": [],
   "source": [
    "%load_ext autoreload\n",
    "%autoreload 2\n",
    "\n",
    "import time\n",
    "import numpy as np\n",
    "import numba as nb\n",
    "import matplotlib.pyplot as plt\n",
    "from scipy import optimize\n",
    "from consav import linear_interp\n",
    "\n",
    "# load the DurableConsumptionModel module\n",
    "from HousingModel import HousingModelClass\n",
    "\n",
    "# Set the number of threads in numba\n",
    "nb.set_num_threads(4)"
   ]
  },
  {
   "cell_type": "code",
   "execution_count": 3,
   "id": "5e2f5ddf-27df-412f-bf47-6d3040d181fd",
   "metadata": {},
   "outputs": [],
   "source": [
    "# Something for figure layout here"
   ]
  },
  {
   "cell_type": "markdown",
   "id": "99bd7190-7000-4273-ab44-378e00c89eb9",
   "metadata": {},
   "source": [
    "Run the model for the first time here"
   ]
  },
  {
   "cell_type": "code",
   "execution_count": 2,
   "id": "ce73899e-2410-4e63-b6ff-3490e36dcdcd",
   "metadata": {
    "tags": []
   },
   "outputs": [],
   "source": [
    "# Define the model\n",
    "model = HousingModelClass(name='example_negm',par={'solmethod':'negm', 'do_print':False})\n",
    "\n",
    "# Solve and simulate\n",
    "model.precompile_numba()\n",
    "model.solve()\n",
    "model.simulate()"
   ]
  },
  {
   "cell_type": "markdown",
   "id": "4e58e49b-d0b5-4676-b403-5f11b042992f",
   "metadata": {
    "tags": []
   },
   "source": [
    "# Find stationary equilibrium"
   ]
  },
  {
   "cell_type": "markdown",
   "id": "3b0138db-08b4-4fa6-ac5d-1b7a2eff6080",
   "metadata": {},
   "source": [
    "Find demand curve over a grid of house prices"
   ]
  },
  {
   "cell_type": "code",
   "execution_count": 16,
   "id": "6fd33ed5-ed4b-4b4c-bbdc-ae9fdde8195f",
   "metadata": {},
   "outputs": [
    {
     "name": "stderr",
     "output_type": "stream",
     "text": [
      "Traceback (most recent call last):\n",
      "  File \"C:\\Users\\madsh\\OneDrive - University of Copenhagen\\Desktop\\Thesis\\code\\MA_thesis\\HousingModel.py\", line 463, in simulate\n",
      "    simulate.lifecycle(sim,sol,par,path=False)\n",
      "KeyboardInterrupt\n"
     ]
    },
    {
     "ename": "KeyboardInterrupt",
     "evalue": "",
     "output_type": "error",
     "traceback": [
      "\u001b[1;31m---------------------------------------------------------------------------\u001b[0m",
      "\u001b[1;31mKeyboardInterrupt\u001b[0m                         Traceback (most recent call last)",
      "\u001b[1;32m~\\AppData\\Local\\Temp\\ipykernel_15076\\3963880772.py\u001b[0m in \u001b[0;36m<cell line: 15>\u001b[1;34m()\u001b[0m\n\u001b[0;32m     18\u001b[0m     \u001b[0mmodel\u001b[0m\u001b[1;33m.\u001b[0m\u001b[0mpar\u001b[0m\u001b[1;33m.\u001b[0m\u001b[0mph\u001b[0m \u001b[1;33m=\u001b[0m \u001b[0mp\u001b[0m\u001b[1;33m\u001b[0m\u001b[1;33m\u001b[0m\u001b[0m\n\u001b[0;32m     19\u001b[0m     \u001b[0mmodel\u001b[0m\u001b[1;33m.\u001b[0m\u001b[0msolve\u001b[0m\u001b[1;33m(\u001b[0m\u001b[1;33m)\u001b[0m\u001b[1;33m\u001b[0m\u001b[1;33m\u001b[0m\u001b[0m\n\u001b[1;32m---> 20\u001b[1;33m     \u001b[0mmodel\u001b[0m\u001b[1;33m.\u001b[0m\u001b[0msimulate\u001b[0m\u001b[1;33m(\u001b[0m\u001b[1;33m)\u001b[0m\u001b[1;33m\u001b[0m\u001b[1;33m\u001b[0m\u001b[0m\n\u001b[0m\u001b[0;32m     21\u001b[0m \u001b[1;33m\u001b[0m\u001b[0m\n\u001b[0;32m     22\u001b[0m     \u001b[1;31m# Aggregate demand\u001b[0m\u001b[1;33m\u001b[0m\u001b[1;33m\u001b[0m\u001b[0m\n",
      "\u001b[1;32m~\\OneDrive - University of Copenhagen\\Desktop\\Thesis\\code\\MA_thesis\\HousingModel.py\u001b[0m in \u001b[0;36msimulate\u001b[1;34m(self, do_utility, do_euler_error)\u001b[0m\n\u001b[0;32m    461\u001b[0m             \u001b[0msim\u001b[0m \u001b[1;33m=\u001b[0m \u001b[0mmodel\u001b[0m\u001b[1;33m.\u001b[0m\u001b[0msim\u001b[0m\u001b[1;33m\u001b[0m\u001b[1;33m\u001b[0m\u001b[0m\n\u001b[0;32m    462\u001b[0m \u001b[1;33m\u001b[0m\u001b[0m\n\u001b[1;32m--> 463\u001b[1;33m             \u001b[0msimulate\u001b[0m\u001b[1;33m.\u001b[0m\u001b[0mlifecycle\u001b[0m\u001b[1;33m(\u001b[0m\u001b[0msim\u001b[0m\u001b[1;33m,\u001b[0m\u001b[0msol\u001b[0m\u001b[1;33m,\u001b[0m\u001b[0mpar\u001b[0m\u001b[1;33m,\u001b[0m\u001b[0mpath\u001b[0m\u001b[1;33m=\u001b[0m\u001b[1;32mFalse\u001b[0m\u001b[1;33m)\u001b[0m\u001b[1;33m\u001b[0m\u001b[1;33m\u001b[0m\u001b[0m\n\u001b[0m\u001b[0;32m    464\u001b[0m \u001b[1;33m\u001b[0m\u001b[0m\n\u001b[0;32m    465\u001b[0m         \u001b[0mtoc\u001b[0m \u001b[1;33m=\u001b[0m \u001b[0mtime\u001b[0m\u001b[1;33m.\u001b[0m\u001b[0mtime\u001b[0m\u001b[1;33m(\u001b[0m\u001b[1;33m)\u001b[0m\u001b[1;33m\u001b[0m\u001b[1;33m\u001b[0m\u001b[0m\n",
      "\u001b[1;31mKeyboardInterrupt\u001b[0m: "
     ]
    }
   ],
   "source": [
    "# Grid over house prices\n",
    "Nr = 18\n",
    "p_vec = np.linspace(0.5,3.0,Nr)\n",
    "p_min = p_vec[0]\n",
    "p_max = p_vec[Nr-1]\n",
    "\n",
    "# Supply\n",
    "Hs = 0.05 # Find some value\n",
    "\n",
    "# Initialize demand function\n",
    "Hd = np.zeros(shape=len(p_vec))\n",
    "\n",
    "# Loop\n",
    "t0 = time.time()\n",
    "for i_p,p in enumerate(p_vec):\n",
    "    \n",
    "    # Solve and simulate model\n",
    "    model.par.ph = p\n",
    "    model.solve()\n",
    "    model.simulate()\n",
    "    \n",
    "    # Aggregate demand\n",
    "    Hd[i_p] = np.mean(model.sim.n[-1,:])\n",
    "    \n",
    "    # Bound on p\n",
    "    diff = Hs - Hd[i_p]\n",
    "    if diff < 0: p_min = np.fmax(p_min, p_vec[i_p])\n",
    "    if diff > 0: p_max = np.fmin(p_max, p_vec[i_p])\n",
    "    \n",
    "    # print(i_p)\n",
    "    \n",
    "t1 = time.time()"
   ]
  },
  {
   "cell_type": "code",
   "execution_count": 4,
   "id": "75354208-fb1c-43a3-8c49-bb6fb0c29006",
   "metadata": {},
   "outputs": [
    {
     "name": "stdout",
     "output_type": "stream",
     "text": [
      "157.57982063293457\n"
     ]
    }
   ],
   "source": [
    "print(t1-t0)"
   ]
  },
  {
   "cell_type": "code",
   "execution_count": 17,
   "id": "97716370-930a-4711-bc4d-e0f47d6d6ea0",
   "metadata": {},
   "outputs": [
    {
     "data": {
      "text/plain": [
       "<matplotlib.legend.Legend at 0x20a80ada940>"
      ]
     },
     "execution_count": 17,
     "metadata": {},
     "output_type": "execute_result"
    },
    {
     "data": {
      "image/png": "[encoded data removed]",
      "text/plain": [
       "<Figure size 432x288 with 1 Axes>"
      ]
     },
     "metadata": {
      "needs_background": "light"
     },
     "output_type": "display_data"
    }
   ],
   "source": [
    "fig = plt.figure(figsize=(6,4))\n",
    "ax = fig.add_subplot(1,1,1)\n",
    "\n",
    "ax.plot(Hd,p_vec, color = 'red', label = 'Demand',zorder=2)\n",
    "ax.scatter(Hd,p_vec, color = 'red',zorder=3, marker='o', s=10)\n",
    "\n",
    "ax.vlines(Hs,0,10, color = 'blue', linestyle = '-', label ='Supply')\n",
    "# ax.plot(Hd,supply, color = 'blue', linestyle = ':')\n",
    "\n",
    "ax.hlines(p_min,0,0.15, linestyle='--', color = '0.2', linewidth = 1)\n",
    "ax.hlines(p_max,0.0,0.15, linestyle='--', color = '0.2', linewidth = 1)\n",
    "\n",
    "ax.set_xlim(0.0,0.14)\n",
    "ax.set_ylim(2.5,9.4)\n",
    "ax.set_xlabel('Quantity')\n",
    "ax.set_ylabel('Price')\n",
    "\n",
    "ax.grid(visible=True, which = 'major', linestyle='-', linewidth=0.5, color='0.9')\n",
    "ax.tick_params(axis='both',bottom=True,top=True,left=True,right=True,direction='in',which='both')\n",
    "ax.legend(frameon = True, edgecolor = 'k', facecolor = 'white', framealpha=1, fancybox=False)\n",
    "\n",
    "# plt.savefig('../../tex/figs/equilibrium.pdf')"
   ]
  },
  {
   "cell_type": "markdown",
   "id": "0648b109-4d0f-4d4e-9859-2ac9200f3f46",
   "metadata": {},
   "source": [
    "Last step"
   ]
  },
  {
   "cell_type": "code",
   "execution_count": 7,
   "id": "ed100679-e419-440a-b19a-a5bf180f1d39",
   "metadata": {},
   "outputs": [
    {
     "name": "stdout",
     "output_type": "stream",
     "text": [
      "245.6076352596283\n"
     ]
    }
   ],
   "source": [
    "def obj(p,model):\n",
    "    \n",
    "    model.par.ph = p\n",
    "    model.solve()\n",
    "    model.simulate()\n",
    "    return np.mean(model.sim.n[-1,:]) - Hs\n",
    "\n",
    "t0 = time.time()\n",
    "\n",
    "opt = optimize.root_scalar(obj,bracket=[p_min,p_max],method='bisect',args=(model,),maxiter=100)\n",
    "model.par.ph = opt.root\n",
    "assert opt.converged\n",
    "\n",
    "t1 = time.time()\n",
    "print(t1-t0)"
   ]
  },
  {
   "cell_type": "code",
   "execution_count": 8,
   "id": "7bb80224-3733-4003-b7df-3970ea01e9ab",
   "metadata": {},
   "outputs": [
    {
     "name": "stdout",
     "output_type": "stream",
     "text": [
      "      converged: True\n",
      "           flag: 'converged'\n",
      " function_calls: 40\n",
      "     iterations: 38\n",
      "           root: 6.209736819654234\n"
     ]
    }
   ],
   "source": [
    "print(opt)"
   ]
  },
  {
   "cell_type": "markdown",
   "id": "139010e4-690e-47c7-96b8-7a2d3b4db26c",
   "metadata": {
    "tags": []
   },
   "source": [
    "## Plot Results"
   ]
  },
  {
   "cell_type": "markdown",
   "id": "aa0f7189-82ae-420d-9fdc-611ed7fb4a6e",
   "metadata": {},
   "source": [
    "Plot the **policy functions** and **stationary distributions** from the model.\n",
    "Also illustrate convergence of the distributions"
   ]
  },
  {
   "cell_type": "code",
   "execution_count": 90,
   "id": "b0795a73-b9bf-4688-83e5-93568331c2a8",
   "metadata": {},
   "outputs": [],
   "source": [
    "# Solve and simulate the model\n",
    "p = 2.0 # update this\n",
    "\n",
    "model.par.ph = p\n",
    "model.solve()\n",
    "model.simulate()"
   ]
  },
  {
   "cell_type": "markdown",
   "id": "0b016c1f-0f5b-4b0b-adc5-6275b36de5c2",
   "metadata": {
    "tags": []
   },
   "source": [
    "### Plot the policy functions"
   ]
  },
  {
   "cell_type": "markdown",
   "id": "d33e773e-57c1-42b4-9d0c-4d4263c104c5",
   "metadata": {},
   "source": [
    "Non-durable Consumption"
   ]
  },
  {
   "cell_type": "code",
   "execution_count": 123,
   "id": "13d16c7c-3884-45c4-9b81-2b10ae0a557d",
   "metadata": {},
   "outputs": [
    {
     "data": {
      "text/plain": [
       "<matplotlib.legend.Legend at 0x291b3e3f070>"
      ]
     },
     "execution_count": 123,
     "metadata": {},
     "output_type": "execute_result"
    },
    {
     "data": {
      "image/png": "[encoded data removed]",
      "text/plain": [
       "<Figure size 432x288 with 1 Axes>"
      ]
     },
     "metadata": {
      "needs_background": "light"
     },
     "output_type": "display_data"
    }
   ],
   "source": [
    "# Initialize the figure\n",
    "fig = plt.figure(figsize=(6,4))\n",
    "ax = fig.add_subplot(1,1,1)\n",
    "\n",
    "# Plot the avalanche sizes\n",
    "ax.plot(model.par.grid_m, model.sol.c_keep[0,0,1,5,:], color = 'red', linewidth = '1.5', label = r'$y=y_2$')\n",
    "ax.plot(model.par.grid_m, model.sol.c_keep[0,0,0,5,:], color = 'blue', linewidth = '1.5', label = r'$y=y_1$')\n",
    "\n",
    "# Plot setting\n",
    "ax.set_xlabel('Cash on Hand')\n",
    "ax.set_ylabel('Consumption')\n",
    "\n",
    "ax.grid(visible=True, which = 'major', linestyle='-', linewidth=0.5, color='0.9')\n",
    "ax.tick_params(axis='both',bottom=True,top=True,left=True,right=True,direction='in',which='both')\n",
    "ax.legend(frameon = True, edgecolor = 'k', facecolor = 'white', framealpha=1, fancybox=False)\n",
    "\n",
    "# plt.savefig('../../tex/figs/c_keep.pdf')"
   ]
  },
  {
   "cell_type": "code",
   "execution_count": 124,
   "id": "1f04c952-cf70-4d01-a8a5-b2a99e5f46f4",
   "metadata": {},
   "outputs": [
    {
     "data": {
      "text/plain": [
       "<matplotlib.legend.Legend at 0x2918c88a8b0>"
      ]
     },
     "execution_count": 124,
     "metadata": {},
     "output_type": "execute_result"
    },
    {
     "data": {
      "image/png": "[encoded data removed]",
      "text/plain": [
       "<Figure size 432x288 with 1 Axes>"
      ]
     },
     "metadata": {
      "needs_background": "light"
     },
     "output_type": "display_data"
    }
   ],
   "source": [
    "# Initialize the figure\n",
    "fig = plt.figure(figsize=(6,4))\n",
    "ax = fig.add_subplot(1,1,1)\n",
    "\n",
    "# Plot the avalanche sizes\n",
    "ax.plot(model.par.grid_m, model.sol.c_adj[0,0,1,:], linestyle = '-', color = 'red', linewidth = '1.5', label = r'$y=y_2$')\n",
    "ax.plot(model.par.grid_m, model.sol.c_adj[0,0,0,:], linestyle = '-', color = 'blue', linewidth = '1.5', label = r'$y=y_1$')\n",
    "\n",
    "# Plot setting\n",
    "ax.set_xlabel('Cash on Hand')\n",
    "ax.set_ylabel('Consumption')\n",
    "\n",
    "ax.grid(visible=True, which = 'major', linestyle='-', linewidth=0.5, color='0.9')\n",
    "ax.tick_params(axis='both',bottom=True,top=True,left=True,right=True,direction='in',which='both')\n",
    "ax.legend(frameon = True, edgecolor = 'k', facecolor = 'white', framealpha=1, fancybox=False)\n",
    "\n",
    "# plt.savefig('../../tex/figs/c_adj.pdf')"
   ]
  },
  {
   "cell_type": "markdown",
   "id": "27fb2771-6733-4d65-9b54-5d619913fd27",
   "metadata": {},
   "source": [
    "Housing demand"
   ]
  },
  {
   "cell_type": "code",
   "execution_count": 3,
   "id": "619611fd-a96d-4c9f-9b8d-865dfd8a8e0c",
   "metadata": {},
   "outputs": [
    {
     "data": {
      "text/plain": [
       "<matplotlib.legend.Legend at 0x17680619c10>"
      ]
     },
     "execution_count": 3,
     "metadata": {},
     "output_type": "execute_result"
    },
    {
     "data": {
      "image/png": "[encoded data removed]",
      "text/plain": [
       "<Figure size 432x288 with 1 Axes>"
      ]
     },
     "metadata": {
      "needs_background": "light"
     },
     "output_type": "display_data"
    }
   ],
   "source": [
    "# Initialize the figure\n",
    "fig = plt.figure(figsize=(6,4))\n",
    "ax = fig.add_subplot(1,1,1)\n",
    "\n",
    "# Plot the avalanche sizes\n",
    "ax.plot(model.par.grid_m, model.sol.d_adj[0,0,1,:], linestyle = '--', color = 'red', linewidth = '1.5', label = r'$y=y_2$')\n",
    "ax.plot(model.par.grid_m, model.sol.d_adj[0,0,0,:], linestyle = ':', color = 'blue', linewidth = '1.5', label = r'$y=y_1$')\n",
    "\n",
    "# Plot setting\n",
    "ax.set_xlabel('Cash on Hand')\n",
    "ax.set_ylabel('Housing Demand')\n",
    "\n",
    "ax.grid(visible=True, which = 'major', linestyle='-', linewidth=0.5, color='0.9')\n",
    "ax.tick_params(axis='both',bottom=True,top=True,left=True,right=True,direction='in',which='both')\n",
    "ax.legend(frameon = True, edgecolor = 'k', facecolor = 'white', framealpha=1, fancybox=False)\n",
    "\n",
    "# plt.savefig('../../tex/figs/h_adj.pdf')"
   ]
  },
  {
   "cell_type": "markdown",
   "id": "8314fff3-2461-46b3-b93b-cdcd7e13f0f8",
   "metadata": {},
   "source": [
    "## Plot Distributions"
   ]
  },
  {
   "cell_type": "markdown",
   "id": "33e887a6-ee5d-4e69-98a3-df0a9e82e8e0",
   "metadata": {},
   "source": [
    "Wealth distribution"
   ]
  },
  {
   "cell_type": "code",
   "execution_count": 4,
   "id": "7e5c4b58-3d3d-452e-8628-7bc09b9c11a5",
   "metadata": {},
   "outputs": [
    {
     "data": {
      "image/png": "[encoded data removed]",
      "text/plain": [
       "<Figure size 432x288 with 1 Axes>"
      ]
     },
     "metadata": {
      "needs_background": "light"
     },
     "output_type": "display_data"
    }
   ],
   "source": [
    "# Define wealth\n",
    "# w = model.sim.m + model.par.ph*model.sim.d\n",
    "w = model.sim.m\n",
    "\n",
    "# Initialize the figure\n",
    "fig = plt.figure(figsize=(6,4))\n",
    "ax = fig.add_subplot(1,1,1)\n",
    "\n",
    "# Plot the avalanche sizes\n",
    "ax.hist(w[-1,:], bins = 40, density = True, edgecolor = 'k', zorder=2)\n",
    "\n",
    "# Plot setting\n",
    "ax.set_xlabel('Wealth $w$')\n",
    "ax.set_ylabel('Density')\n",
    "\n",
    "ax.grid(visible=True, which = 'major', linestyle='-', linewidth=0.5, color='0.9')\n",
    "ax.tick_params(axis='both',bottom=True,top=True,left=True,right=True,direction='in',which='both')\n",
    "\n",
    "# plt.savefig('../../tex/figs/w_distr.pdf')"
   ]
  },
  {
   "cell_type": "markdown",
   "id": "142b6c77-61a3-4938-ae01-d718f443efb3",
   "metadata": {},
   "source": [
    "Aggregate housing demand"
   ]
  },
  {
   "cell_type": "code",
   "execution_count": 5,
   "id": "5a9af7ac-d73e-4a97-ad5b-79b984ea3899",
   "metadata": {},
   "outputs": [
    {
     "data": {
      "image/png": "[encoded data removed]",
      "text/plain": [
       "<Figure size 432x288 with 1 Axes>"
      ]
     },
     "metadata": {
      "needs_background": "light"
     },
     "output_type": "display_data"
    }
   ],
   "source": [
    "# Define wealth\n",
    "w = model.sim.m + model.par.ph*model.sim.d\n",
    "\n",
    "# Initialize the figure\n",
    "fig = plt.figure(figsize=(6,4))\n",
    "ax = fig.add_subplot(1,1,1)\n",
    "\n",
    "# Plot the avalanche sizes\n",
    "ax.hist(model.sim.n[-1,:], bins = model.par.grid_n, density = True, facecolor='0.6', edgecolor = 'k', zorder=2)\n",
    "\n",
    "# Plot setting\n",
    "ax.set_xlabel('Housing $h$')\n",
    "ax.set_ylabel('Density')\n",
    "\n",
    "ax.grid(visible=True, which = 'major', linestyle='-', linewidth=0.5, color='0.9')\n",
    "ax.tick_params(axis='both',bottom=True,top=True,left=True,right=True,direction='in',which='both')\n",
    "\n",
    "# plt.savefig('../../tex/figs/h_distr.pdf')"
   ]
  },
  {
   "cell_type": "markdown",
   "id": "5a8c547e-a4e9-4295-8ac6-113f8c1430bd",
   "metadata": {},
   "source": [
    "### Plot Convergence of Simulation "
   ]
  },
  {
   "cell_type": "markdown",
   "id": "d175d1ae-b65f-4ca1-98be-068ddb30d00e",
   "metadata": {},
   "source": [
    "Simulate a **longer time horizon** to check for convergence"
   ]
  },
  {
   "cell_type": "code",
   "execution_count": 228,
   "id": "c9ec9d63-5324-43a9-aaff-5d23802c06b6",
   "metadata": {},
   "outputs": [],
   "source": [
    "# Vector of aggregates\n",
    "h_agg = np.mean(model.sim.d, axis=1)\n",
    "n_agg = np.mean(model.sim.n, axis=1)\n",
    "c_agg = np.mean(model.sim.c, axis=1)\n",
    "m_agg = np.mean(model.sim.m, axis=1)\n",
    "y_agg = np.mean(model.sim.y, axis=1)"
   ]
  },
  {
   "cell_type": "code",
   "execution_count": 217,
   "id": "c498de4f-4056-43c6-a17b-8c70302e3dd6",
   "metadata": {
    "tags": []
   },
   "outputs": [
    {
     "data": {
      "image/png": "[encoded data removed]",
      "text/plain": [
       "<Figure size 432x288 with 1 Axes>"
      ]
     },
     "metadata": {
      "needs_background": "light"
     },
     "output_type": "display_data"
    }
   ],
   "source": [
    "# Initialize the figure\n",
    "fig = plt.figure(figsize=(6,4))\n",
    "ax = fig.add_subplot(1,1,1)\n",
    "\n",
    "# Plot the avalanche sizes\n",
    "ax.plot(range(model.par.sim_T),m_agg, linestyle = '-', color = 'red', linewidth = '1.', label = r'$H_D$')\n",
    "\n",
    "# Plot setting\n",
    "ax.set_xlabel('Time $t$')\n",
    "ax.set_ylabel(r'$H_D$')\n",
    "# ax.set_ylim(0.04,0.055)\n",
    "\n",
    "ax.grid(visible=True, which = 'major', linestyle='-', linewidth=0.5, color='0.9')\n",
    "ax.tick_params(axis='both',bottom=True,top=True,left=True,right=True,direction='in',which='both')\n",
    "\n",
    "# plt.savefig('../../tex/figs/h_conv.pdf')"
   ]
  },
  {
   "cell_type": "markdown",
   "id": "8fbcf4f9-fa39-42ab-8acc-70cbd07c2fe5",
   "metadata": {},
   "source": [
    "# Test code"
   ]
  },
  {
   "cell_type": "markdown",
   "id": "ebaed55b-6e78-47a8-aa7d-38d39212f534",
   "metadata": {},
   "source": [
    "Code to test whether the simulation along a path or in ss are correct"
   ]
  },
  {
   "cell_type": "markdown",
   "id": "b11b0940-38fd-4067-af00-b2ce3adce6b9",
   "metadata": {},
   "source": [
    "Setup model"
   ]
  },
  {
   "cell_type": "code",
   "execution_count": 31,
   "id": "e6d77e84-2794-4021-b5ca-de53f8689773",
   "metadata": {},
   "outputs": [],
   "source": [
    "# Define the model\n",
    "model = HousingModelClass(name='example_negm',par={'solmethod':'negm', 'do_print':False})\n",
    "\n",
    "# Solve and simulate\n",
    "model.precompile_numba()"
   ]
  },
  {
   "cell_type": "markdown",
   "id": "a68261d3-e109-4b40-829a-f4a36f7ef713",
   "metadata": {},
   "source": [
    "Set parameters, solve and simulate in ss"
   ]
  },
  {
   "cell_type": "code",
   "execution_count": 22,
   "id": "f1094828-463f-4f2e-a64e-84b3bc61bcc3",
   "metadata": {
    "tags": []
   },
   "outputs": [],
   "source": [
    "# model.par.R = 1.028\n",
    "# model.par.R_drop = 0.0\n",
    "model.solve()\n",
    "model.simulate()"
   ]
  },
  {
   "cell_type": "markdown",
   "id": "6137cfb9-ee48-48ae-922b-048aeb86d31d",
   "metadata": {},
   "source": [
    "Solve and simulate along a path"
   ]
  },
  {
   "cell_type": "code",
   "execution_count": 23,
   "id": "5a22db6a-29c5-4f1c-a053-617e68e16170",
   "metadata": {},
   "outputs": [],
   "source": [
    "model.solve_path()\n",
    "model.simulate_path()"
   ]
  },
  {
   "cell_type": "markdown",
   "id": "28724d70-5275-49aa-aa78-e7c2cf447473",
   "metadata": {},
   "source": [
    "Test if the policy functions are correct (the same for path and ss)"
   ]
  },
  {
   "cell_type": "code",
   "execution_count": 24,
   "id": "2e4857e5-f180-4483-a2b7-f2cdfa0c4a65",
   "metadata": {},
   "outputs": [
    {
     "data": {
      "image/png": "[encoded data removed]",
      "text/plain": [
       "<Figure size 432x288 with 1 Axes>"
      ]
     },
     "metadata": {
      "needs_background": "light"
     },
     "output_type": "display_data"
    }
   ],
   "source": [
    "# # Ajuster\n",
    "plt.plot(model.par.grid_m, model.sol_path.d_adj[0,0,1,:], color = 'red', linewidth = '1.5', label = 'path')\n",
    "plt.plot(model.par.grid_m, model.sol.d_adj[0,0,1,:], color = 'blue', linewidth = '1.5', label = 'ss')\n",
    "\n",
    "# Keeper\n",
    "# plt.plot(model.par.grid_m, model.sol_path.c_keep[0,0,1,5,:], color = 'red', linewidth = '1.5', label = 'path')\n",
    "# plt.plot(model.par.grid_m, model.sol.c_keep[0,0,1,5,:], color = 'blue', linewidth = '1.5', label = 'ss')\n",
    "\n",
    "plt.legend()\n",
    "plt.show()"
   ]
  },
  {
   "cell_type": "markdown",
   "id": "981588db-be03-4c8d-81c2-8e24745b9e2d",
   "metadata": {},
   "source": [
    "Compute aggregates in ss and along the path"
   ]
  },
  {
   "cell_type": "code",
   "execution_count": 25,
   "id": "be698de6-ac34-4c64-a5d8-ea5e559550cd",
   "metadata": {},
   "outputs": [],
   "source": [
    "# ss\n",
    "h_agg = np.mean(model.sim.d, axis=1)\n",
    "c_agg = np.mean(model.sim.c, axis=1)\n",
    "m_agg = np.mean(model.sim.m, axis=1)\n",
    "y_agg = np.mean(model.sim.y, axis=1)\n",
    "n_agg = np.mean(model.sim.n, axis=1)\n",
    "\n",
    "# path\n",
    "h_agg_path = np.mean(model.sim_path.d, axis=1)\n",
    "c_agg_path = np.mean(model.sim_path.c, axis=1)\n",
    "m_agg_path = np.mean(model.sim_path.m, axis=1)\n",
    "y_agg_path = np.mean(model.sim_path.y, axis=1)\n",
    "n_agg_path = np.mean(model.sim_path.n, axis=1)"
   ]
  },
  {
   "cell_type": "code",
   "execution_count": 26,
   "id": "5ed109ff-58fd-41d4-9143-401e03ddf227",
   "metadata": {},
   "outputs": [
    {
     "data": {
      "text/plain": [
       "<matplotlib.legend.Legend at 0x176ad5a8d60>"
      ]
     },
     "execution_count": 26,
     "metadata": {},
     "output_type": "execute_result"
    },
    {
     "data": {
      "image/png": "[encoded data removed]",
      "text/plain": [
       "<Figure size 432x288 with 1 Axes>"
      ]
     },
     "metadata": {
      "needs_background": "light"
     },
     "output_type": "display_data"
    }
   ],
   "source": [
    "plt.plot(m_agg_path, color = 'red', label = 'path')\n",
    "plt.plot(m_agg, color ='blue', label = 'ss')\n",
    "plt.legend()"
   ]
  },
  {
   "cell_type": "code",
   "execution_count": 27,
   "id": "0dd3f113-ec50-4226-b3b2-b14797e4e3e9",
   "metadata": {},
   "outputs": [
    {
     "data": {
      "text/plain": [
       "[<matplotlib.lines.Line2D at 0x176ad61e0d0>]"
      ]
     },
     "execution_count": 27,
     "metadata": {},
     "output_type": "execute_result"
    },
    {
     "data": {
      "image/png": "[encoded data removed]",
      "text/plain": [
       "<Figure size 432x288 with 1 Axes>"
      ]
     },
     "metadata": {
      "needs_background": "light"
     },
     "output_type": "display_data"
    }
   ],
   "source": [
    "plt.plot(h_agg_path, color = 'red', label = 'path')\n"
   ]
  },
  {
   "cell_type": "code",
   "execution_count": 28,
   "id": "d33c6c8c-a57b-4775-9dae-038a193c82bd",
   "metadata": {},
   "outputs": [
    {
     "data": {
      "text/plain": [
       "<matplotlib.legend.Legend at 0x176ad67b6d0>"
      ]
     },
     "execution_count": 28,
     "metadata": {},
     "output_type": "execute_result"
    },
    {
     "data": {
      "image/png": "[encoded data removed]",
      "text/plain": [
       "<Figure size 432x288 with 1 Axes>"
      ]
     },
     "metadata": {
      "needs_background": "light"
     },
     "output_type": "display_data"
    }
   ],
   "source": [
    "plt.plot(h_agg_path, color = 'red', label = 'path')\n",
    "plt.plot(h_agg, color ='blue', label = 'ss')\n",
    "plt.legend()"
   ]
  },
  {
   "cell_type": "code",
   "execution_count": 29,
   "id": "1cd2b246-f141-4c15-97ad-67c13b778e50",
   "metadata": {},
   "outputs": [
    {
     "data": {
      "text/plain": [
       "<matplotlib.legend.Legend at 0x176ad6e99a0>"
      ]
     },
     "execution_count": 29,
     "metadata": {},
     "output_type": "execute_result"
    },
    {
     "data": {
      "image/png": "[encoded data removed]",
      "text/plain": [
       "<Figure size 432x288 with 1 Axes>"
      ]
     },
     "metadata": {
      "needs_background": "light"
     },
     "output_type": "display_data"
    }
   ],
   "source": [
    "plt.plot(c_agg_path, color = 'red', label = 'path')\n",
    "plt.plot(c_agg, color ='blue', label = 'ss')\n",
    "plt.legend()"
   ]
  },
  {
   "cell_type": "code",
   "execution_count": 30,
   "id": "67157773-d232-44c9-9c0e-cc597e5368a6",
   "metadata": {},
   "outputs": [
    {
     "data": {
      "text/plain": [
       "array([1.028, 1.028, 1.028, 1.028, 1.028, 1.028, 1.028, 1.028, 1.028,\n",
       "       1.028, 1.028, 1.028, 1.028, 1.028, 1.028, 1.028, 1.028, 1.028,\n",
       "       1.028, 1.028, 1.028, 1.028, 1.028, 1.028, 1.028, 1.028, 1.028,\n",
       "       1.028, 1.028, 1.028, 1.028, 1.028, 1.028, 1.028, 1.028, 1.028,\n",
       "       1.028, 1.028, 1.028, 1.028, 1.028, 1.028, 1.028, 1.028, 1.028,\n",
       "       1.028, 1.028, 1.028, 1.028, 1.028, 1.028, 1.028, 1.028, 1.028,\n",
       "       1.028, 1.028, 1.028, 1.028, 1.028, 1.028, 1.028, 1.028, 1.028,\n",
       "       1.028, 1.028, 1.028, 1.028, 1.028, 1.028, 1.028, 1.028, 1.028,\n",
       "       1.028, 1.028, 1.028, 1.028, 1.028, 1.028, 1.028, 1.028, 1.028,\n",
       "       1.028, 1.028, 1.028, 1.028, 1.028, 1.028, 1.028, 1.028, 1.028,\n",
       "       1.028, 1.028, 1.028, 1.028, 1.028, 1.028, 1.028, 1.028, 1.028,\n",
       "       1.028, 1.028, 1.028, 1.028, 1.028, 1.028, 1.028, 1.028, 1.028,\n",
       "       1.028, 1.028, 1.028, 1.028, 1.028, 1.028, 1.028, 1.028, 1.028,\n",
       "       1.028, 1.028, 1.028, 1.028, 1.028, 1.028, 1.028, 1.028, 1.028,\n",
       "       1.028, 1.028, 1.028, 1.028, 1.028, 1.028, 1.028, 1.028, 1.028,\n",
       "       1.028, 1.028, 1.028, 1.028, 1.028, 1.028, 1.028, 1.028, 1.028,\n",
       "       1.028, 1.028, 1.028, 1.028, 1.028, 1.028, 1.028, 1.028, 1.028,\n",
       "       1.028, 1.028, 1.028, 1.028, 1.028, 1.028, 1.028, 1.028, 1.028,\n",
       "       1.028, 1.028, 1.028, 1.028, 1.028, 1.028, 1.028, 1.028, 1.028,\n",
       "       1.028, 1.028, 1.028, 1.028, 1.028, 1.028, 1.028, 1.028, 1.028,\n",
       "       1.028, 1.028, 1.028, 1.028, 1.028, 1.028, 1.028, 1.028, 1.028,\n",
       "       1.028, 1.028, 1.028, 1.028, 1.028, 1.028, 1.028, 1.028, 1.028,\n",
       "       1.028, 1.028, 1.028, 1.028, 1.028, 1.028, 1.028, 1.028, 1.028,\n",
       "       1.028, 1.028, 1.028, 1.028, 1.028, 1.028, 1.028, 1.028, 1.028,\n",
       "       1.028, 1.028, 1.028, 1.028, 1.028, 1.028, 1.028, 1.028, 1.028,\n",
       "       1.028, 1.028, 1.028, 1.028, 1.028, 1.028, 1.028, 1.028, 1.028,\n",
       "       1.028, 1.028, 1.028, 1.028, 1.028, 1.028, 1.028, 1.028, 1.028,\n",
       "       1.028, 1.028, 1.028, 1.028, 1.028, 1.028, 1.028, 1.028, 1.028,\n",
       "       1.028, 1.028, 1.028, 1.028, 1.028, 1.028, 1.028, 1.028, 1.028,\n",
       "       1.028, 1.028, 1.028, 1.028, 1.028, 1.028, 1.028, 1.028, 1.028,\n",
       "       1.028, 1.028, 1.028, 1.028, 1.028, 1.028, 1.028, 1.028, 1.028,\n",
       "       1.028, 1.028, 1.028, 1.028, 1.028, 1.028, 1.028, 1.028, 1.028,\n",
       "       1.028, 1.028, 1.028, 1.028, 1.028, 1.028, 1.028, 1.028, 1.028,\n",
       "       1.028, 1.028, 1.028, 1.028, 1.028, 1.028, 1.028, 1.028, 1.028,\n",
       "       1.028, 1.028, 1.028, 1.028, 1.028, 1.028, 1.028, 1.028, 1.028,\n",
       "       1.028, 1.028, 1.028, 1.028, 1.028, 1.028, 1.028, 1.028, 1.028,\n",
       "       1.028, 1.028, 1.028, 1.028, 1.028, 1.028, 1.028, 1.028, 1.028,\n",
       "       1.028, 1.028, 1.028, 1.028, 1.028, 1.028, 1.028, 1.028, 1.028,\n",
       "       1.028, 1.028, 1.028, 1.028, 1.028, 1.028, 1.028, 1.028, 1.028,\n",
       "       1.028, 1.028, 1.028, 1.028, 1.028, 1.028, 1.028, 1.028, 1.028,\n",
       "       1.028, 1.028, 1.028, 1.028, 1.028, 1.028, 1.028, 1.028, 1.028,\n",
       "       1.028, 1.028, 1.028, 1.028, 1.028, 1.028, 1.028, 1.028, 1.028,\n",
       "       1.028, 1.028, 1.028, 1.028, 1.028, 1.028, 1.028, 1.028, 1.028,\n",
       "       1.028, 1.028, 1.028, 1.028, 1.028, 1.028, 1.028, 1.028, 1.028,\n",
       "       1.028, 1.028, 1.028, 1.028, 1.028, 1.028, 1.028, 1.028, 1.028,\n",
       "       1.028, 1.028, 1.028, 1.028, 1.028, 1.028, 1.028, 1.028, 1.028,\n",
       "       1.028, 1.028, 1.028, 1.028, 1.028, 1.028, 1.028, 1.028, 1.028,\n",
       "       1.028, 1.028, 1.028, 1.028, 1.028, 1.028, 1.028, 1.028, 1.028,\n",
       "       1.028, 1.028, 1.028, 1.028, 1.028, 1.028, 1.028, 1.028, 1.028,\n",
       "       1.028, 1.028, 1.028, 1.028, 1.028, 1.028, 1.028, 1.028, 1.028,\n",
       "       1.028, 1.028, 1.028, 1.028, 1.028, 1.028, 1.028, 1.028, 1.028,\n",
       "       1.028, 1.028, 1.028, 1.028, 1.028, 1.028, 1.028, 1.028, 1.028,\n",
       "       1.028, 1.028, 1.028, 1.028, 1.028, 1.028, 1.028, 1.028, 1.028,\n",
       "       1.028, 1.028, 1.028, 1.028, 1.028, 1.028, 1.028, 1.028, 1.028,\n",
       "       1.028, 1.028, 1.028, 1.028, 1.028, 1.028, 1.028, 1.028, 1.028,\n",
       "       1.028, 1.028, 1.028, 1.028, 1.028, 1.028, 1.028, 1.028, 1.028,\n",
       "       1.028, 1.028, 1.028, 1.028, 1.028, 1.028, 1.028, 1.028, 1.028,\n",
       "       1.028, 1.028, 1.028, 1.028, 1.028, 1.028, 1.028, 1.028, 1.028,\n",
       "       1.028, 1.028, 1.028, 1.028, 1.028, 1.028, 1.028, 1.028, 1.028,\n",
       "       1.028, 1.028, 1.028, 1.028, 1.028, 1.028, 1.028, 1.028, 1.028,\n",
       "       1.028, 1.028, 1.028, 1.028, 1.028, 1.028, 1.028, 1.028, 1.028,\n",
       "       1.028, 1.028, 1.028, 1.028, 1.028, 1.028, 1.028, 1.028, 1.028,\n",
       "       1.028, 1.028, 1.028, 1.028, 1.028, 1.028, 1.028, 1.028, 1.028,\n",
       "       1.028, 1.028, 1.028, 1.028, 1.028, 1.028, 1.028, 1.028, 1.028,\n",
       "       1.028, 1.028, 1.028, 1.028, 1.028, 1.028, 1.028, 1.028, 1.028,\n",
       "       1.028, 1.028, 1.028, 1.028, 1.028, 1.028, 1.028, 1.028, 1.028,\n",
       "       1.028, 1.028, 1.028, 1.028, 1.028, 1.028])"
      ]
     },
     "execution_count": 30,
     "metadata": {},
     "output_type": "execute_result"
    }
   ],
   "source": [
    "model.par.path_R"
   ]
  }
 ],
 "metadata": {
  "kernelspec": {
   "display_name": "Python 3 (ipykernel)",
   "language": "python",
   "name": "python3"
  },
  "language_info": {
   "codemirror_mode": {
    "name": "ipython",
    "version": 3
   },
   "file_extension": ".py",
   "mimetype": "text/x-python",
   "name": "python",
   "nbconvert_exporter": "python",
   "pygments_lexer": "ipython3",
   "version": "3.9.10"
  }
 },
 "nbformat": 4,
 "nbformat_minor": 5
}
