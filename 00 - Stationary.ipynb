{
 "cells": [
  {
   "cell_type": "markdown",
   "id": "42ac9d6a-cb65-4798-9979-ae3e2cb8f951",
   "metadata": {},
   "source": [
    "# Stationary Equilibrium"
   ]
  },
  {
   "cell_type": "markdown",
   "id": "ee8dd7be-b765-49a0-bf86-57cd8909c871",
   "metadata": {},
   "source": [
    "In this notebook, I illustrate the solution to the **stationary equilibrium** for the housing model."
   ]
  },
  {
   "cell_type": "markdown",
   "id": "55399621-d395-435e-9ccb-fdf1ae1af9bf",
   "metadata": {
    "tags": []
   },
   "source": [
    "## Setup and Solve"
   ]
  },
  {
   "cell_type": "code",
   "execution_count": 1,
   "id": "dc04521b-cb48-45f0-9624-558dd5872511",
   "metadata": {
    "tags": []
   },
   "outputs": [],
   "source": [
    "%load_ext autoreload\n",
    "%autoreload 2\n",
    "\n",
    "import time\n",
    "import numpy as np\n",
    "import numba as nb\n",
    "import matplotlib.pyplot as plt\n",
    "from scipy import optimize\n",
    "from consav import linear_interp\n",
    "\n",
    "# load the DurableConsumptionModel module\n",
    "from DurableConsumptionModel import DurableConsumptionModelClass\n",
    "# from DurableConsumptionModel import gen_path_r\n",
    "\n",
    "# Set the number of threads in numba\n",
    "nb.set_num_threads(4)"
   ]
  },
  {
   "cell_type": "code",
   "execution_count": 3,
   "id": "5e2f5ddf-27df-412f-bf47-6d3040d181fd",
   "metadata": {},
   "outputs": [],
   "source": [
    "# Something for figure layout here"
   ]
  },
  {
   "cell_type": "markdown",
   "id": "99bd7190-7000-4273-ab44-378e00c89eb9",
   "metadata": {},
   "source": [
    "Run the model for the first time here"
   ]
  },
  {
   "cell_type": "code",
   "execution_count": 3,
   "id": "ce73899e-2410-4e63-b6ff-3490e36dcdcd",
   "metadata": {
    "tags": []
   },
   "outputs": [],
   "source": [
    "# Define the model\n",
    "model = DurableConsumptionModelClass(name='example_negm',par={'solmethod':'negm', 'do_print':False})\n",
    "\n",
    "# Solve and simulate\n",
    "model.precompile_numba()\n",
    "model.solve()\n",
    "model.simulate()"
   ]
  },
  {
   "cell_type": "markdown",
   "id": "4e58e49b-d0b5-4676-b403-5f11b042992f",
   "metadata": {},
   "source": [
    "# Find stationary equilibrium"
   ]
  },
  {
   "cell_type": "markdown",
   "id": "3b0138db-08b4-4fa6-ac5d-1b7a2eff6080",
   "metadata": {},
   "source": [
    "Find demand curve over a grid of house prices"
   ]
  },
  {
   "cell_type": "code",
   "execution_count": 5,
   "id": "6fd33ed5-ed4b-4b4c-bbdc-ae9fdde8195f",
   "metadata": {},
   "outputs": [],
   "source": [
    "# Grid over house prices\n",
    "Nr = 18\n",
    "p_vec = np.linspace(5.5,7.0,Nr)\n",
    "p_min = p_vec[0]\n",
    "p_max = p_vec[Nr-1]\n",
    "\n",
    "# Supply\n",
    "Hs = 0.05 # Find some value\n",
    "\n",
    "# Initialize demand function\n",
    "Hd = np.zeros(shape=len(p_vec))\n",
    "\n",
    "# Loop\n",
    "t0 = time.time()\n",
    "for i_p,p in enumerate(p_vec):\n",
    "    \n",
    "    # Solve and simulate model\n",
    "    model.par.ph = p\n",
    "    model.solve()\n",
    "    model.simulate()\n",
    "    \n",
    "    # Aggregate demand\n",
    "    Hd[i_p] = np.mean(model.sim.n[-1,:])\n",
    "    \n",
    "    # Bound on p\n",
    "    diff = Hs - Hd[i_p]\n",
    "    if diff < 0: p_min = np.fmax(p_min, p_vec[i_p])\n",
    "    if diff > 0: p_max = np.fmin(p_max, p_vec[i_p])\n",
    "    \n",
    "    # print(i_p)\n",
    "    \n",
    "t1 = time.time()"
   ]
  },
  {
   "cell_type": "code",
   "execution_count": 6,
   "id": "75354208-fb1c-43a3-8c49-bb6fb0c29006",
   "metadata": {},
   "outputs": [
    {
     "name": "stdout",
     "output_type": "stream",
     "text": [
      "206.4553985595703\n"
     ]
    }
   ],
   "source": [
    "print(t1-t0)"
   ]
  },
  {
   "cell_type": "code",
   "execution_count": 7,
   "id": "97716370-930a-4711-bc4d-e0f47d6d6ea0",
   "metadata": {},
   "outputs": [
    {
     "data": {
      "image/png": "[encoded data removed]",
      "text/plain": [
       "<Figure size 432x288 with 1 Axes>"
      ]
     },
     "metadata": {
      "needs_background": "light"
     },
     "output_type": "display_data"
    }
   ],
   "source": [
    "fig = plt.figure(figsize=(6,4))\n",
    "ax = fig.add_subplot(1,1,1)\n",
    "\n",
    "ax.plot(Hd,p_vec, color = 'red', label = 'Demand')\n",
    "ax.scatter(Hd,p_vec, color = 'red')\n",
    "\n",
    "ax.vlines(Hs,5.5,7.0, color = 'blue', linestyle = '-', label ='Supply')\n",
    "\n",
    "ax.hlines(p_min,0.035,0.08, linestyle='--', color = '0.2', linewidth = 1)\n",
    "ax.hlines(p_max,0.035,0.08, linestyle='--', color = '0.2', linewidth = 1)\n",
    "\n",
    "ax.set_xlim(0.038,0.07)\n",
    "ax.set_xlabel('Quantity')\n",
    "ax.set_ylabel('Price')\n",
    "\n",
    "ax.grid(visible=True, which = 'major', linestyle='-', linewidth=0.5, color='0.9')\n",
    "ax.tick_params(axis='both',bottom=True,top=True,left=True,right=True,direction='in',which='both')\n",
    "ax.legend(frameon = True, edgecolor = 'k', facecolor = 'white', framealpha=1, fancybox=False)\n",
    "\n",
    "plt.savefig('../../tex/figs/equilibrium.pdf')"
   ]
  },
  {
   "cell_type": "markdown",
   "id": "0648b109-4d0f-4d4e-9859-2ac9200f3f46",
   "metadata": {},
   "source": [
    "Last step"
   ]
  },
  {
   "cell_type": "code",
   "execution_count": 8,
   "id": "ed100679-e419-440a-b19a-a5bf180f1d39",
   "metadata": {},
   "outputs": [
    {
     "name": "stdout",
     "output_type": "stream",
     "text": [
      "420.91293692588806\n"
     ]
    }
   ],
   "source": [
    "def obj(p,model):\n",
    "    \n",
    "    model.par.ph = p\n",
    "    model.solve()\n",
    "    model.simulate()\n",
    "    return np.mean(model.sim.n[-1,:]) - Hs\n",
    "\n",
    "t0 = time.time()\n",
    "\n",
    "opt = optimize.root_scalar(obj,bracket=[p_min,p_max],method='bisect',args=(model,),maxiter=100)\n",
    "model.par.ph = opt.root\n",
    "assert opt.converged\n",
    "\n",
    "t1 = time.time()\n",
    "print(t1-t0)"
   ]
  },
  {
   "cell_type": "code",
   "execution_count": 9,
   "id": "7bb80224-3733-4003-b7df-3970ea01e9ab",
   "metadata": {},
   "outputs": [
    {
     "name": "stdout",
     "output_type": "stream",
     "text": [
      "      converged: True\n",
      "           flag: 'converged'\n",
      " function_calls: 38\n",
      "     iterations: 36\n",
      "           root: 6.4593010477953685\n"
     ]
    }
   ],
   "source": [
    "print(opt)"
   ]
  },
  {
   "cell_type": "markdown",
   "id": "139010e4-690e-47c7-96b8-7a2d3b4db26c",
   "metadata": {
    "tags": []
   },
   "source": [
    "## Plot Results"
   ]
  },
  {
   "cell_type": "markdown",
   "id": "aa0f7189-82ae-420d-9fdc-611ed7fb4a6e",
   "metadata": {},
   "source": [
    "Plot the **policy functions** and **stationary distributions** from the model.\n",
    "Also illustrate convergence of the distributions"
   ]
  },
  {
   "cell_type": "code",
   "execution_count": 10,
   "id": "b0795a73-b9bf-4688-83e5-93568331c2a8",
   "metadata": {},
   "outputs": [],
   "source": [
    "# Solve and simulate the model\n",
    "p = 6.427186923955129 # update this\n",
    "\n",
    "model.par.ph = p\n",
    "model.solve()\n",
    "model.simulate()"
   ]
  },
  {
   "cell_type": "markdown",
   "id": "0b016c1f-0f5b-4b0b-adc5-6275b36de5c2",
   "metadata": {
    "tags": []
   },
   "source": [
    "### Plot the policy functions"
   ]
  },
  {
   "cell_type": "markdown",
   "id": "d33e773e-57c1-42b4-9d0c-4d4263c104c5",
   "metadata": {},
   "source": [
    "Non-durable Consumption"
   ]
  },
  {
   "cell_type": "code",
   "execution_count": 5,
   "id": "13d16c7c-3884-45c4-9b81-2b10ae0a557d",
   "metadata": {},
   "outputs": [
    {
     "data": {
      "text/plain": [
       "<matplotlib.legend.Legend at 0x222079a3f40>"
      ]
     },
     "execution_count": 5,
     "metadata": {},
     "output_type": "execute_result"
    },
    {
     "data": {
      "image/png": "[encoded data removed]",
      "text/plain": [
       "<Figure size 432x288 with 1 Axes>"
      ]
     },
     "metadata": {
      "needs_background": "light"
     },
     "output_type": "display_data"
    }
   ],
   "source": [
    "# Initialize the figure\n",
    "fig = plt.figure(figsize=(6,4))\n",
    "ax = fig.add_subplot(1,1,1)\n",
    "\n",
    "# Plot the avalanche sizes\n",
    "ax.plot(model.par.grid_m, model.sol.c_keep[0,0,1,5,:], color = 'red', linewidth = '1.5', label = r'$y=y_2$')\n",
    "ax.plot(model.par.grid_m, model.sol.c_keep[0,0,0,5,:], color = 'blue', linewidth = '1.5', label = r'$y=y_1$')\n",
    "\n",
    "# Plot setting\n",
    "ax.set_xlabel('Cash on Hand')\n",
    "ax.set_ylabel('Consumption')\n",
    "\n",
    "ax.grid(visible=True, which = 'major', linestyle='-', linewidth=0.5, color='0.9')\n",
    "ax.tick_params(axis='both',bottom=True,top=True,left=True,right=True,direction='in',which='both')\n",
    "ax.legend(frameon = True, edgecolor = 'k', facecolor = 'white', framealpha=1, fancybox=False)\n",
    "\n",
    "# plt.savefig('../../tex/figs/c_keep.pdf')"
   ]
  },
  {
   "cell_type": "code",
   "execution_count": 12,
   "id": "1f04c952-cf70-4d01-a8a5-b2a99e5f46f4",
   "metadata": {},
   "outputs": [
    {
     "data": {
      "image/png": "[encoded data removed]",
      "text/plain": [
       "<Figure size 432x288 with 1 Axes>"
      ]
     },
     "metadata": {
      "needs_background": "light"
     },
     "output_type": "display_data"
    }
   ],
   "source": [
    "# Initialize the figure\n",
    "fig = plt.figure(figsize=(6,4))\n",
    "ax = fig.add_subplot(1,1,1)\n",
    "\n",
    "# Plot the avalanche sizes\n",
    "ax.plot(model.par.grid_m, model.sol.c_adj[0,0,1,:], linestyle = '-', color = 'red', linewidth = '1.5', label = r'$y=y_2$')\n",
    "ax.plot(model.par.grid_m, model.sol.c_adj[0,0,0,:], linestyle = '-', color = 'blue', linewidth = '1.5', label = r'$y=y_1$')\n",
    "\n",
    "# Plot setting\n",
    "ax.set_xlabel('Cash on Hand')\n",
    "ax.set_ylabel('Consumption')\n",
    "\n",
    "ax.grid(visible=True, which = 'major', linestyle='-', linewidth=0.5, color='0.9')\n",
    "ax.tick_params(axis='both',bottom=True,top=True,left=True,right=True,direction='in',which='both')\n",
    "ax.legend(frameon = True, edgecolor = 'k', facecolor = 'white', framealpha=1, fancybox=False)\n",
    "\n",
    "plt.savefig('../../tex/figs/c_adj.pdf')"
   ]
  },
  {
   "cell_type": "markdown",
   "id": "27fb2771-6733-4d65-9b54-5d619913fd27",
   "metadata": {},
   "source": [
    "Housing demand"
   ]
  },
  {
   "cell_type": "code",
   "execution_count": 13,
   "id": "619611fd-a96d-4c9f-9b8d-865dfd8a8e0c",
   "metadata": {},
   "outputs": [
    {
     "data": {
      "image/png": "[encoded data removed]",
      "text/plain": [
       "<Figure size 432x288 with 1 Axes>"
      ]
     },
     "metadata": {
      "needs_background": "light"
     },
     "output_type": "display_data"
    }
   ],
   "source": [
    "# Initialize the figure\n",
    "fig = plt.figure(figsize=(6,4))\n",
    "ax = fig.add_subplot(1,1,1)\n",
    "\n",
    "# Plot the avalanche sizes\n",
    "ax.plot(model.par.grid_m, model.sol.d_adj[0,0,1,:], linestyle = '--', color = 'red', linewidth = '1.5', label = r'$y=y_2$')\n",
    "ax.plot(model.par.grid_m, model.sol.d_adj[0,0,0,:], linestyle = ':', color = 'blue', linewidth = '1.5', label = r'$y=y_1$')\n",
    "\n",
    "# Plot setting\n",
    "ax.set_xlabel('Cash on Hand')\n",
    "ax.set_ylabel('Housing Demand')\n",
    "\n",
    "ax.grid(visible=True, which = 'major', linestyle='-', linewidth=0.5, color='0.9')\n",
    "ax.tick_params(axis='both',bottom=True,top=True,left=True,right=True,direction='in',which='both')\n",
    "ax.legend(frameon = True, edgecolor = 'k', facecolor = 'white', framealpha=1, fancybox=False)\n",
    "\n",
    "plt.savefig('../../tex/figs/h_adj.pdf')"
   ]
  },
  {
   "cell_type": "markdown",
   "id": "8314fff3-2461-46b3-b93b-cdcd7e13f0f8",
   "metadata": {},
   "source": [
    "## Plot Distributions"
   ]
  },
  {
   "cell_type": "markdown",
   "id": "33e887a6-ee5d-4e69-98a3-df0a9e82e8e0",
   "metadata": {},
   "source": [
    "Wealth distribution"
   ]
  },
  {
   "cell_type": "code",
   "execution_count": 14,
   "id": "7e5c4b58-3d3d-452e-8628-7bc09b9c11a5",
   "metadata": {},
   "outputs": [
    {
     "data": {
      "image/png": "[encoded data removed]",
      "text/plain": [
       "<Figure size 432x288 with 1 Axes>"
      ]
     },
     "metadata": {
      "needs_background": "light"
     },
     "output_type": "display_data"
    }
   ],
   "source": [
    "# Define wealth\n",
    "w = model.sim.m + model.par.ph*model.sim.d\n",
    "\n",
    "# Initialize the figure\n",
    "fig = plt.figure(figsize=(6,4))\n",
    "ax = fig.add_subplot(1,1,1)\n",
    "\n",
    "# Plot the avalanche sizes\n",
    "ax.hist(w[-1,:], bins = 40, density = True, edgecolor = 'k', zorder=2)\n",
    "\n",
    "# Plot setting\n",
    "ax.set_xlabel('Wealth $w$')\n",
    "ax.set_ylabel('Density')\n",
    "\n",
    "ax.grid(visible=True, which = 'major', linestyle='-', linewidth=0.5, color='0.9')\n",
    "ax.tick_params(axis='both',bottom=True,top=True,left=True,right=True,direction='in',which='both')\n",
    "\n",
    "plt.savefig('../../tex/figs/w_distr.pdf')"
   ]
  },
  {
   "cell_type": "markdown",
   "id": "142b6c77-61a3-4938-ae01-d718f443efb3",
   "metadata": {},
   "source": [
    "Aggregate housing demand"
   ]
  },
  {
   "cell_type": "code",
   "execution_count": 19,
   "id": "5a9af7ac-d73e-4a97-ad5b-79b984ea3899",
   "metadata": {},
   "outputs": [
    {
     "data": {
      "image/png": "[encoded data removed]",
      "text/plain": [
       "<Figure size 432x288 with 1 Axes>"
      ]
     },
     "metadata": {
      "needs_background": "light"
     },
     "output_type": "display_data"
    }
   ],
   "source": [
    "# Define wealth\n",
    "w = model.sim.m + model.par.ph*model.sim.d\n",
    "\n",
    "# Initialize the figure\n",
    "fig = plt.figure(figsize=(6,4))\n",
    "ax = fig.add_subplot(1,1,1)\n",
    "\n",
    "# Plot the avalanche sizes\n",
    "ax.hist(model.sim.n[-1,:], bins = model.par.grid_n, density = True, facecolor='0.6', edgecolor = 'k', zorder=2)\n",
    "\n",
    "# Plot setting\n",
    "ax.set_xlabel('Housing $h$')\n",
    "ax.set_ylabel('Density')\n",
    "\n",
    "ax.grid(visible=True, which = 'major', linestyle='-', linewidth=0.5, color='0.9')\n",
    "ax.tick_params(axis='both',bottom=True,top=True,left=True,right=True,direction='in',which='both')\n",
    "\n",
    "plt.savefig('../../tex/figs/h_distr.pdf')"
   ]
  },
  {
   "cell_type": "markdown",
   "id": "5a8c547e-a4e9-4295-8ac6-113f8c1430bd",
   "metadata": {},
   "source": [
    "### Plot Convergence of Simulation "
   ]
  },
  {
   "cell_type": "markdown",
   "id": "d175d1ae-b65f-4ca1-98be-068ddb30d00e",
   "metadata": {},
   "source": [
    "Simulate a **longer time horizon** to check for convergence"
   ]
  },
  {
   "cell_type": "code",
   "execution_count": 33,
   "id": "522071e2-c337-4217-a7c5-e6c3e7743499",
   "metadata": {},
   "outputs": [],
   "source": [
    "# Set parameters and define model\n",
    "T = 1000\n",
    "p = opt.root\n",
    "model_long = DurableConsumptionModelClass(name='example_negm',par={'solmethod':'negm', 'T':T, 'ph':p, 'do_print':False})\n",
    "\n",
    "# Solve and simulate\n",
    "model_long.precompile_numba()\n",
    "model_long.solve()\n",
    "model_long.simulate()"
   ]
  },
  {
   "cell_type": "code",
   "execution_count": 34,
   "id": "c9ec9d63-5324-43a9-aaff-5d23802c06b6",
   "metadata": {},
   "outputs": [],
   "source": [
    "# Vector of moments\n",
    "mom1_h = np.mean(model_long.sim.d, axis=1)\n",
    "mom2_h = np.var(model_long.sim.d, axis=1)\n",
    "\n",
    "mom1_c = np.mean(model_long.sim.c, axis=1)\n",
    "mom2_c = np.var(model_long.sim.c, axis=1)\n",
    "\n",
    "mom1_m = np.mean(model_long.sim.m, axis=1)\n",
    "mom2_m = np.var(model_long.sim.m, axis=1)"
   ]
  },
  {
   "cell_type": "code",
   "execution_count": 52,
   "id": "c498de4f-4056-43c6-a17b-8c70302e3dd6",
   "metadata": {},
   "outputs": [
    {
     "data": {
      "image/png": "[encoded data removed]",
      "text/plain": [
       "<Figure size 432x288 with 1 Axes>"
      ]
     },
     "metadata": {
      "needs_background": "light"
     },
     "output_type": "display_data"
    }
   ],
   "source": [
    "# Define wealth\n",
    "w = model.sim.m + model.par.ph*model.sim.d\n",
    "\n",
    "# Initialize the figure\n",
    "fig = plt.figure(figsize=(6,4))\n",
    "ax = fig.add_subplot(1,1,1)\n",
    "\n",
    "# Plot the avalanche sizes\n",
    "ax.plot(range(T),mom1_h, linestyle = '-', color = 'red', linewidth = '1.', label = r'$H_D$')\n",
    "# ax.plot(range(T),mom1_m, linestyle = '-', color = 'blue', linewidth = '1.', label = r'$H_D$')\n",
    "\n",
    "# Plot setting\n",
    "ax.set_xlabel('Time $t$')\n",
    "ax.set_ylabel(r'$H_D$')\n",
    "# ax.set_ylim(0.04,0.055)\n",
    "\n",
    "ax.grid(visible=True, which = 'major', linestyle='-', linewidth=0.5, color='0.9')\n",
    "ax.tick_params(axis='both',bottom=True,top=True,left=True,right=True,direction='in',which='both')\n",
    "\n",
    "plt.savefig('../../tex/figs/h_conv.pdf')"
   ]
  },
  {
   "cell_type": "markdown",
   "id": "5dc5c368-2641-43df-bf49-dd7d93e411e7",
   "metadata": {},
   "source": [
    "Model with lower interest rate"
   ]
  },
  {
   "cell_type": "markdown",
   "id": "2298dda5-327c-4060-b287-c62b4ce37e66",
   "metadata": {},
   "source": [
    "## Test code from here"
   ]
  },
  {
   "cell_type": "code",
   "execution_count": 7,
   "id": "d2b93974-ec05-4350-a053-f86337cd8a85",
   "metadata": {},
   "outputs": [],
   "source": [
    "m_val = np.mean(model.sim.m, axis=1)\n",
    "m_var = np.var(model.sim.m, axis=1)\n",
    "h_val = np.mean(model.sim.n, axis=1)"
   ]
  },
  {
   "cell_type": "code",
   "execution_count": 8,
   "id": "14e5f5a0-8b98-4d13-853d-f6530a466b8f",
   "metadata": {},
   "outputs": [
    {
     "data": {
      "text/plain": [
       "[<matplotlib.lines.Line2D at 0x2220a916c70>]"
      ]
     },
     "execution_count": 8,
     "metadata": {},
     "output_type": "execute_result"
    },
    {
     "data": {
      "image/png": "[encoded data removed]",
      "text/plain": [
       "<Figure size 432x288 with 1 Axes>"
      ]
     },
     "metadata": {
      "needs_background": "light"
     },
     "output_type": "display_data"
    }
   ],
   "source": [
    "plt.plot(h_val)"
   ]
  },
  {
   "cell_type": "code",
   "execution_count": 99,
   "id": "6de33ab1-4b3f-4feb-8af0-d6dab69008ca",
   "metadata": {},
   "outputs": [],
   "source": [
    "model = DurableConsumptionModelClass(name='example_negm',par={'solmethod':'negm', 'do_print':False})"
   ]
  },
  {
   "cell_type": "code",
   "execution_count": 100,
   "id": "19eea7ec-d41d-40ff-be1e-0a47e7ad83e6",
   "metadata": {},
   "outputs": [],
   "source": [
    "model.solve()"
   ]
  },
  {
   "cell_type": "code",
   "execution_count": 101,
   "id": "7a49a6c6-5789-4abe-9d49-bac2e1e38f59",
   "metadata": {},
   "outputs": [],
   "source": [
    "model.solve_path()"
   ]
  },
  {
   "cell_type": "code",
   "execution_count": 104,
   "id": "67c4a379-ec3c-437f-a9e7-dd6806958897",
   "metadata": {},
   "outputs": [
    {
     "data": {
      "text/plain": [
       "[<matplotlib.lines.Line2D at 0x24984a2d790>]"
      ]
     },
     "execution_count": 104,
     "metadata": {},
     "output_type": "execute_result"
    },
    {
     "data": {
      "image/png": "[encoded data removed]",
      "text/plain": [
       "<Figure size 432x288 with 1 Axes>"
      ]
     },
     "metadata": {
      "needs_background": "light"
     },
     "output_type": "display_data"
    }
   ],
   "source": [
    "# plt.plot(model.par.grid_m,model.sol_path.c_keep[0,0,1,5,:])\n",
    "t = 0\n",
    "\n",
    "plt.plot(model.par.grid_m,model.sol_path.d_adj[t,0,1,:], color = 'blue')\n",
    "plt.plot(model.par.grid_m,model.sol.d_adj[t,0,1,:], color = 'k')"
   ]
  }
 ],
 "metadata": {
  "kernelspec": {
   "display_name": "Python 3 (ipykernel)",
   "language": "python",
   "name": "python3"
  },
  "language_info": {
   "codemirror_mode": {
    "name": "ipython",
    "version": 3
   },
   "file_extension": ".py",
   "mimetype": "text/x-python",
   "name": "python",
   "nbconvert_exporter": "python",
   "pygments_lexer": "ipython3",
   "version": "3.9.10"
  }
 },
 "nbformat": 4,
 "nbformat_minor": 5
}
