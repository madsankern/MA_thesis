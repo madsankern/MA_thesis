{
 "cells": [
  {
   "cell_type": "markdown",
   "id": "42ac9d6a-cb65-4798-9979-ae3e2cb8f951",
   "metadata": {},
   "source": [
    "# Stationary Equilibrium"
   ]
  },
  {
   "cell_type": "markdown",
   "id": "ee8dd7be-b765-49a0-bf86-57cd8909c871",
   "metadata": {},
   "source": [
    "In this notebook, I illustrate the solution to the **stationary equilibrium** for the housing model."
   ]
  },
  {
   "cell_type": "markdown",
   "id": "55399621-d395-435e-9ccb-fdf1ae1af9bf",
   "metadata": {
    "tags": []
   },
   "source": [
    "## Setup and Solve"
   ]
  },
  {
   "cell_type": "code",
   "execution_count": 1,
   "id": "dc04521b-cb48-45f0-9624-558dd5872511",
   "metadata": {
    "tags": []
   },
   "outputs": [],
   "source": [
    "%load_ext autoreload\n",
    "%autoreload 2\n",
    "\n",
    "import time\n",
    "import numpy as np\n",
    "import numba as nb\n",
    "import matplotlib.pyplot as plt\n",
    "from scipy import optimize\n",
    "from consav import linear_interp\n",
    "from scipy import stats\n",
    "\n",
    "# load the DurableConsumptionModel module\n",
    "from HousingModel import HousingModelClass\n",
    "\n",
    "# Set the number of threads in numba\n",
    "nb.set_num_threads(4)"
   ]
  },
  {
   "cell_type": "code",
   "execution_count": 2,
   "id": "5e2f5ddf-27df-412f-bf47-6d3040d181fd",
   "metadata": {},
   "outputs": [],
   "source": [
    "# Something for figure layout here\n",
    "plt.rc('font', family='serif')\n",
    "plt.rc('text', usetex=True)\n",
    "plt.rc('axes', axisbelow=True)"
   ]
  },
  {
   "cell_type": "code",
   "execution_count": 19,
   "id": "0fb44b50-a0a0-4df9-8f73-29c3ea1ad5df",
   "metadata": {
    "tags": []
   },
   "outputs": [],
   "source": [
    "# Define the model\n",
    "model = HousingModelClass(name='example_negm',par={'solmethod':'negm', 'do_print':False})\n",
    "\n",
    "# Solve and simulate\n",
    "model.precompile_numba()\n",
    "model.solve()\n",
    "model.simulate()"
   ]
  },
  {
   "cell_type": "code",
   "execution_count": 5,
   "id": "3af78eb7-1f36-41e4-9907-57132687229f",
   "metadata": {},
   "outputs": [],
   "source": [
    "model.solve_path()\n",
    "model.simulate_path()"
   ]
  },
  {
   "cell_type": "markdown",
   "id": "b290025d-9d6a-40e9-9d02-df4ae6186499",
   "metadata": {},
   "source": [
    "Determine aggregate supply so that the equilibrium price is 1"
   ]
  },
  {
   "cell_type": "code",
   "execution_count": 9,
   "id": "084dc06b-a2a6-444c-b32e-5b0b9905bdee",
   "metadata": {},
   "outputs": [
    {
     "name": "stdout",
     "output_type": "stream",
     "text": [
      "0.31576333475798035\n"
     ]
    }
   ],
   "source": [
    "Hs = np.mean(model.sim.n)\n",
    "print(Hs)"
   ]
  },
  {
   "cell_type": "markdown",
   "id": "4e58e49b-d0b5-4676-b403-5f11b042992f",
   "metadata": {
    "tags": []
   },
   "source": [
    "# Find stationary equilibrium"
   ]
  },
  {
   "cell_type": "markdown",
   "id": "3b0138db-08b4-4fa6-ac5d-1b7a2eff6080",
   "metadata": {},
   "source": [
    "Find demand curve over a grid of house prices"
   ]
  },
  {
   "cell_type": "code",
   "execution_count": 297,
   "id": "6fd33ed5-ed4b-4b4c-bbdc-ae9fdde8195f",
   "metadata": {
    "tags": []
   },
   "outputs": [],
   "source": [
    "# Grid over house prices\n",
    "Nr = 15\n",
    "p_vec = np.linspace(.2,3.0,Nr)\n",
    "p_min = p_vec[0]\n",
    "p_max = p_vec[Nr-1]\n",
    "\n",
    "# Supply\n",
    "# Hs = 4.1 # Find some value\n",
    "\n",
    "# Initialize demand function\n",
    "Hd = np.zeros(shape=len(p_vec))\n",
    "\n",
    "# Loop\n",
    "t0 = time.time()\n",
    "for i_p,p in enumerate(p_vec):\n",
    "    \n",
    "    # Solve and simulate model\n",
    "    model.par.ph = p\n",
    "    model.solve()\n",
    "    model.simulate()\n",
    "    \n",
    "    # Aggregate demand\n",
    "    Hd[i_p] = np.mean(model.sim.d[175:,:])\n",
    "    \n",
    "    # Bound on p\n",
    "    diff = Hs - Hd[i_p]\n",
    "    if diff < 0: p_min = np.fmax(p_min, p_vec[i_p])\n",
    "    if diff > 0: p_max = np.fmin(p_max, p_vec[i_p])\n",
    "    \n",
    "    # print(i_p)\n",
    "    \n",
    "t1 = time.time()"
   ]
  },
  {
   "cell_type": "code",
   "execution_count": 298,
   "id": "75354208-fb1c-43a3-8c49-bb6fb0c29006",
   "metadata": {},
   "outputs": [
    {
     "name": "stdout",
     "output_type": "stream",
     "text": [
      "209.78582072257996\n"
     ]
    }
   ],
   "source": [
    "print(t1-t0)"
   ]
  },
  {
   "cell_type": "code",
   "execution_count": 314,
   "id": "97716370-930a-4711-bc4d-e0f47d6d6ea0",
   "metadata": {},
   "outputs": [
    {
     "data": {
      "image/png": "[encoded data removed]",
      "text/plain": [
       "<Figure size 432x288 with 1 Axes>"
      ]
     },
     "metadata": {
      "needs_background": "light"
     },
     "output_type": "display_data"
    }
   ],
   "source": [
    "fig = plt.figure(figsize=(6,4))\n",
    "ax = fig.add_subplot(1,1,1)\n",
    "\n",
    "ax.plot(Hd,p_vec, color = 'red', label = 'Demand',zorder=2)\n",
    "ax.scatter(Hd,p_vec, color = 'red',zorder=3, marker='o', s=10)\n",
    "\n",
    "ax.vlines(0.32,0,10, color = 'blue', linestyle = '-', label ='Supply')\n",
    "# ax.plot(Hd,supply, color = 'blue', linestyle = ':')\n",
    "\n",
    "ax.hlines(p_min,0,2, linestyle='--', color = '0.2', linewidth = 1)\n",
    "ax.hlines(p_max,0.0,2, linestyle='--', color = '0.2', linewidth = 1)\n",
    "\n",
    "ax.set_xlim(0,.68)\n",
    "ax.set_ylim(.1,3.1)\n",
    "ax.set_xlabel('Quantity')\n",
    "ax.set_ylabel('Price')\n",
    "\n",
    "ax.grid(visible=True, which = 'major', linestyle='-', linewidth=0.5, color='0.9')\n",
    "ax.tick_params(axis='both',bottom=True,top=True,left=True,right=True,direction='in',which='both')\n",
    "ax.legend(frameon = True, edgecolor = 'k', facecolor = 'white', framealpha=1, fancybox=False)\n",
    "\n",
    "plt.savefig('../../tex/figs/equilibrium.pdf')"
   ]
  },
  {
   "cell_type": "markdown",
   "id": "0648b109-4d0f-4d4e-9859-2ac9200f3f46",
   "metadata": {},
   "source": [
    "Last step"
   ]
  },
  {
   "cell_type": "code",
   "execution_count": null,
   "id": "6658ea9f-0ecc-44f0-b992-140f790be277",
   "metadata": {},
   "outputs": [],
   "source": [
    "def obj(p,model):\n",
    "    \n",
    "    model.par.ph = p\n",
    "    model.solve()\n",
    "    model.simulate()\n",
    "    return np.mean(model.sim.n[-1,:]) - Hs\n",
    "\n",
    "t0 = time.time()\n",
    "\n",
    "opt = optimize.root_scalar(obj,bracket=[p_min,p_max],method='bisect',args=(model,),maxiter=100)\n",
    "model.par.ph = opt.root\n",
    "assert opt.converged\n",
    "\n",
    "t1 = time.time()\n",
    "print(t1-t0)"
   ]
  },
  {
   "cell_type": "code",
   "execution_count": null,
   "id": "a9690f38-ef18-43fb-94ab-d9d2f4b3268e",
   "metadata": {},
   "outputs": [],
   "source": [
    "print(opt)"
   ]
  },
  {
   "cell_type": "markdown",
   "id": "139010e4-690e-47c7-96b8-7a2d3b4db26c",
   "metadata": {
    "tags": []
   },
   "source": [
    "## Plot Results"
   ]
  },
  {
   "cell_type": "markdown",
   "id": "aa0f7189-82ae-420d-9fdc-611ed7fb4a6e",
   "metadata": {},
   "source": [
    "Plot the **policy functions** and **stationary distributions** from the model.\n",
    "Also illustrate convergence of the distributions"
   ]
  },
  {
   "cell_type": "markdown",
   "id": "0b016c1f-0f5b-4b0b-adc5-6275b36de5c2",
   "metadata": {
    "tags": []
   },
   "source": [
    "### Plot the policy functions"
   ]
  },
  {
   "cell_type": "markdown",
   "id": "d33e773e-57c1-42b4-9d0c-4d4263c104c5",
   "metadata": {},
   "source": [
    "Non-durable Consumption"
   ]
  },
  {
   "cell_type": "code",
   "execution_count": 318,
   "id": "13d16c7c-3884-45c4-9b81-2b10ae0a557d",
   "metadata": {},
   "outputs": [
    {
     "data": {
      "image/png": "[encoded data removed]",
      "text/plain": [
       "<Figure size 288x216 with 1 Axes>"
      ]
     },
     "metadata": {
      "needs_background": "light"
     },
     "output_type": "display_data"
    }
   ],
   "source": [
    "# Initialize the figure\n",
    "fig = plt.figure(figsize=(4,3))\n",
    "ax = fig.add_subplot(1,1,1)\n",
    "\n",
    "# Plot the avalanche sizes\n",
    "ax.plot(model.par.grid_m, model.sol.c_keep[0,0,0,9,:], color = '0', linewidth = '1.5', label = r'$y=y_1$')\n",
    "ax.plot(model.par.grid_m, model.sol.c_keep[0,0,1,9,:], color = '0.2', linewidth = '1.5', label = r'$y=y_2$')\n",
    "ax.plot(model.par.grid_m, model.sol.c_keep[0,0,2,9,:], color = '0.4', linewidth = '1.5', label = r'$y=y_3$')\n",
    "ax.plot(model.par.grid_m, model.sol.c_keep[0,0,3,9,:], color = '0.6', linewidth = '1.5', label = r'$y=y_4$')\n",
    "ax.plot(model.par.grid_m, model.sol.c_keep[0,0,4,9,:], color = '0.8', linewidth = '1.5', label = r'$y=y_5$')\n",
    "\n",
    "# Plot setting\n",
    "ax.set_xlabel('Cash on Hand')\n",
    "ax.set_ylabel('Consumption')\n",
    "\n",
    "ax.set_xlim(model.par.grid_m[0],model.par.grid_m[-1])\n",
    "ax.set_ylim(0,1.7)\n",
    "\n",
    "ax.grid(visible=True, which = 'major', linestyle='-', linewidth=0.5, color='0.9')\n",
    "ax.tick_params(axis='both',bottom=True,top=True,left=True,right=True,direction='in',which='both')\n",
    "ax.legend(frameon = True, edgecolor = 'k', facecolor = 'white', framealpha=1, fancybox=False)\n",
    "\n",
    "plt.savefig('../../tex/figs/c_keep.pdf')"
   ]
  },
  {
   "cell_type": "code",
   "execution_count": 319,
   "id": "1f04c952-cf70-4d01-a8a5-b2a99e5f46f4",
   "metadata": {},
   "outputs": [
    {
     "data": {
      "image/png": "[encoded data removed]",
      "text/plain": [
       "<Figure size 288x216 with 1 Axes>"
      ]
     },
     "metadata": {
      "needs_background": "light"
     },
     "output_type": "display_data"
    }
   ],
   "source": [
    "# Initialize the figure\n",
    "fig = plt.figure(figsize=(4,3))\n",
    "ax = fig.add_subplot(1,1,1)\n",
    "\n",
    "# Plot the avalanche sizes\n",
    "ax.plot(model.par.grid_x, model.sol.c_adj[0,0,0,:], linestyle = '-', color = '0', linewidth = '1.5', label = r'$y=y_1$')\n",
    "ax.plot(model.par.grid_x, model.sol.c_adj[0,0,1,:], linestyle = '-', color = '0.2', linewidth = '1.5', label = r'$y=y_2$')\n",
    "ax.plot(model.par.grid_x, model.sol.c_adj[0,0,2,:], linestyle = '-', color = '0.4', linewidth = '1.5', label = r'$y=y_3$')\n",
    "ax.plot(model.par.grid_x, model.sol.c_adj[0,0,3,:], linestyle = '-', color = '0.6', linewidth = '1.5', label = r'$y=y_4$')\n",
    "ax.plot(model.par.grid_x, model.sol.c_adj[0,0,4,:], linestyle = '-', color = '0.8', linewidth = '1.5', label = r'$y=y_5$')\n",
    "\n",
    "# Plot setting\n",
    "ax.set_xlabel('Cash on Hand')\n",
    "ax.set_ylabel('Consumption')\n",
    "\n",
    "ax.set_xlim(0,15)\n",
    "# ax.set_ylim(0,1.35)\n",
    "\n",
    "ax.grid(visible=True, which = 'major', linestyle='-', linewidth=0.5, color='0.9')\n",
    "ax.tick_params(axis='both',bottom=True,top=True,left=True,right=True,direction='in',which='both')\n",
    "ax.legend(frameon = True, edgecolor = 'k', facecolor = 'white', framealpha=1, fancybox=False)\n",
    "\n",
    "plt.savefig('../../tex/figs/c_adj.pdf')"
   ]
  },
  {
   "cell_type": "markdown",
   "id": "27fb2771-6733-4d65-9b54-5d619913fd27",
   "metadata": {},
   "source": [
    "Housing demand"
   ]
  },
  {
   "cell_type": "code",
   "execution_count": 324,
   "id": "619611fd-a96d-4c9f-9b8d-865dfd8a8e0c",
   "metadata": {},
   "outputs": [
    {
     "data": {
      "image/png": "[encoded data removed]",
      "text/plain": [
       "<Figure size 288x216 with 1 Axes>"
      ]
     },
     "metadata": {
      "needs_background": "light"
     },
     "output_type": "display_data"
    }
   ],
   "source": [
    "# Initialize the figure\n",
    "fig = plt.figure(figsize=(4,3))\n",
    "ax = fig.add_subplot(1,1,1)\n",
    "\n",
    "# Plot the avalanche sizes\n",
    "ax.plot(model.par.grid_x, model.sol.d_adj[0,0,0,:], linestyle = '-', color = '0', linewidth = '1.5', label = r'$y=y_1$')\n",
    "ax.plot(model.par.grid_x, model.sol.d_adj[0,0,1,:], linestyle = '-', color = '0.2', linewidth = '1.5', label = r'$y=y_2$')\n",
    "ax.plot(model.par.grid_x, model.sol.d_adj[0,0,2,:], linestyle = '-', color = '0.4', linewidth = '1.5', label = r'$y=y_3$')\n",
    "ax.plot(model.par.grid_x, model.sol.d_adj[0,0,3,:], linestyle = '-', color = '0.6', linewidth = '1.5', label = r'$y=y_4$')\n",
    "ax.plot(model.par.grid_x, model.sol.d_adj[0,0,4,:], linestyle = '-', color = '0.8', linewidth = '1.5', label = r'$y=y_5$')\n",
    "\n",
    "# Plot setting\n",
    "ax.set_xlabel('Cash on Hand')\n",
    "ax.set_ylabel('Housing Demand')\n",
    "\n",
    "ax.set_xlim(0,20)\n",
    "ax.set_ylim(0,1.5)\n",
    "\n",
    "ax.grid(visible=True, which = 'major', linestyle='-', linewidth=0.5, color='0.9')\n",
    "ax.tick_params(axis='both',bottom=True,top=True,left=True,right=True,direction='in',which='both')\n",
    "ax.legend(frameon = True, edgecolor = 'k', facecolor = 'white', framealpha=1, fancybox=False)\n",
    "\n",
    "plt.savefig('../../tex/figs/h_adj.pdf')"
   ]
  },
  {
   "cell_type": "markdown",
   "id": "3e68b208-5dac-4aa4-a4a9-edef16f4420e",
   "metadata": {},
   "source": [
    "#### Convergence of dist"
   ]
  },
  {
   "cell_type": "code",
   "execution_count": 329,
   "id": "78016bcd-bb1c-4a09-b356-3141109c5eff",
   "metadata": {},
   "outputs": [
    {
     "data": {
      "image/png": "[encoded data removed]",
      "text/plain": [
       "<Figure size 432x288 with 1 Axes>"
      ]
     },
     "metadata": {
      "needs_background": "light"
     },
     "output_type": "display_data"
    }
   ],
   "source": [
    "# plt.plot(range(200,0,-1),model1.sol.dist)\n",
    "\n",
    "# Initialize the figure\n",
    "fig = plt.figure(figsize=(6,4))\n",
    "ax = fig.add_subplot(1,1,1)\n",
    "\n",
    "# Plot and scatter\n",
    "ax.plot(range(100,0,-1),model.sol.dist[100:], color = 'blue', linewidth = '1.5')\n",
    "\n",
    "# Plot setting\n",
    "ax.set_xlabel('Iteration Number')\n",
    "ax.set_ylabel('Distance')\n",
    "\n",
    "ax.set_xlim(0,100)\n",
    "# ax.set_ylim(0.25,2.0)\n",
    "\n",
    "ax.grid(visible=True, which = 'major', linestyle='-', linewidth=0.5, color='0.9')\n",
    "ax.tick_params(axis='both',bottom=True,top=True,left=True,right=True,direction='in',which='both')\n",
    "\n",
    "plt.savefig('../../tex/figs/dist.pdf')"
   ]
  },
  {
   "cell_type": "markdown",
   "id": "8314fff3-2461-46b3-b93b-cdcd7e13f0f8",
   "metadata": {},
   "source": [
    "## Plot Distributions"
   ]
  },
  {
   "cell_type": "markdown",
   "id": "33e887a6-ee5d-4e69-98a3-df0a9e82e8e0",
   "metadata": {},
   "source": [
    "#### Wealth distribution"
   ]
  },
  {
   "cell_type": "markdown",
   "id": "c1fd0930-a100-42db-927e-a33c7feee19d",
   "metadata": {},
   "source": [
    "First, plot the distribution in a normal plot"
   ]
  },
  {
   "cell_type": "code",
   "execution_count": 374,
   "id": "7e5c4b58-3d3d-452e-8628-7bc09b9c11a5",
   "metadata": {},
   "outputs": [
    {
     "data": {
      "image/png": "[encoded data removed]",
      "text/plain": [
       "<Figure size 288x216 with 1 Axes>"
      ]
     },
     "metadata": {
      "needs_background": "light"
     },
     "output_type": "display_data"
    }
   ],
   "source": [
    "# Define wealth\n",
    "w = (model.sim.m + model.par.ph*model.sim.n) / model.sim.y\n",
    "# w2 = model.sim.m \n",
    "\n",
    "# w = model.sim.a + model.sim.d\n",
    "\n",
    "# Initialize the figure\n",
    "fig = plt.figure(figsize=(4,3))\n",
    "ax = fig.add_subplot(1,1,1)\n",
    "\n",
    "# Plot the avalanche sizes\n",
    "# ax.hist(w[-1,:], bins = 100, density = True, edgecolor = 'k', linewidth=.5, zorder=2, color ='royalblue', alpha = 1)\n",
    "ax.hist(w[-1,:], bins = np.linspace(0,25,50), density = True, edgecolor = 'k', linewidth=.5, zorder=2, color ='royalblue', alpha = 1)\n",
    "\n",
    "# ax.hist(w2[-1,:], bins = 50, density = True, edgecolor = 'k', linewidth=.5, zorder=2, color ='royalblue', alpha = .5)\n",
    "\n",
    "# Plot setting\n",
    "ax.set_xlabel('Relative Wealth')\n",
    "ax.set_ylabel('Density')\n",
    "ax.set_xlim(0,25)\n",
    "\n",
    "ax.grid(visible=True, which = 'major', linestyle='-', linewidth=0.5, color='0.9')\n",
    "ax.tick_params(axis='both',bottom=True,top=True,left=True,right=True,direction='in',which='both')\n",
    "\n",
    "plt.savefig('../../tex/figs/w_distr.pdf')"
   ]
  },
  {
   "cell_type": "markdown",
   "id": "8071c7b2-2475-4dfe-983c-38371c0a8eb8",
   "metadata": {},
   "source": [
    "Use a log-log plot"
   ]
  },
  {
   "cell_type": "code",
   "execution_count": 377,
   "id": "9245b881-6599-47a5-8dd6-cc0fe8699c88",
   "metadata": {},
   "outputs": [
    {
     "data": {
      "image/png": "[encoded data removed]",
      "text/plain": [
       "<Figure size 288x216 with 1 Axes>"
      ]
     },
     "metadata": {
      "needs_background": "light"
     },
     "output_type": "display_data"
    }
   ],
   "source": [
    "## Define wealth\n",
    "w = (model.sim.m + model.par.ph*model.sim.n) / model.sim.y\n",
    "\n",
    "# Initialize the figure\n",
    "fig = plt.figure(figsize=(4,3))\n",
    "ax = fig.add_subplot(1,1,1)\n",
    "\n",
    "# Plot the avalanche sizes\n",
    "ax.hist(w[-1,:], np.logspace(.1,2,60), density = True, edgecolor = 'k', linewidth=.5, zorder=2, color ='royalblue')\n",
    "\n",
    "# Plot setting\n",
    "ax.set_xlabel('Relative Wealth')\n",
    "ax.set_ylabel('Density')\n",
    "\n",
    "ax.set_xscale('log')\n",
    "ax.set_yscale('log')\n",
    "ax.set_xlim(1,80)\n",
    "\n",
    "ax.grid(visible=True, which = 'major', linestyle='-', linewidth=0.5, color='0.9')\n",
    "ax.tick_params(axis='both',bottom=True,top=True,left=True,right=True,direction='in',which='both')\n",
    "\n",
    "plt.savefig('../../tex/figs/w_distr_log.pdf')"
   ]
  },
  {
   "cell_type": "markdown",
   "id": "142b6c77-61a3-4938-ae01-d718f443efb3",
   "metadata": {},
   "source": [
    "#### Aggregate housing demand"
   ]
  },
  {
   "cell_type": "code",
   "execution_count": 9,
   "id": "5a9af7ac-d73e-4a97-ad5b-79b984ea3899",
   "metadata": {},
   "outputs": [
    {
     "data": {
      "image/png": "[encoded data removed]",
      "text/plain": [
       "<Figure size 288x216 with 1 Axes>"
      ]
     },
     "metadata": {
      "needs_background": "light"
     },
     "output_type": "display_data"
    }
   ],
   "source": [
    "# Initialize the figure\n",
    "fig = plt.figure(figsize=(4,3))\n",
    "ax = fig.add_subplot(1,1,1)\n",
    "\n",
    "# Plot the avalanche sizes\n",
    "ax.hist(model.sim.d[-1,:], model.par.grid_n, density = False, facecolor='orangered', edgecolor = 'k', zorder=2)\n",
    "\n",
    "# Plot setting\n",
    "ax.set_xlabel('Housing')\n",
    "ax.set_ylabel('Nr. of Households')\n",
    "\n",
    "ax.set_xlim(0,1.5)\n",
    "\n",
    "ax.grid(visible=True, which = 'major', linestyle='-', linewidth=0.5, color='0.9')\n",
    "ax.tick_params(axis='both',bottom=True,top=True,left=True,right=True,direction='in',which='both')\n",
    "\n",
    "plt.savefig('../../tex/figs/h_distr.pdf')"
   ]
  },
  {
   "cell_type": "markdown",
   "id": "5a8c547e-a4e9-4295-8ac6-113f8c1430bd",
   "metadata": {},
   "source": [
    "### Plot Convergence of Simulation "
   ]
  },
  {
   "cell_type": "markdown",
   "id": "d175d1ae-b65f-4ca1-98be-068ddb30d00e",
   "metadata": {},
   "source": [
    "Simulate and check for convergence"
   ]
  },
  {
   "cell_type": "code",
   "execution_count": 246,
   "id": "c9ec9d63-5324-43a9-aaff-5d23802c06b6",
   "metadata": {},
   "outputs": [],
   "source": [
    "# Vector of aggregates\n",
    "h_agg = np.mean(model.sim.d, axis=1)\n",
    "n_agg = np.mean(model.sim.n, axis=1)\n",
    "c_agg = np.mean(model.sim.c, axis=1)\n",
    "a_agg = np.mean(model.sim.a, axis=1)\n",
    "m_agg = np.mean(model.sim.m, axis=1)\n",
    "y_agg = np.mean(model.sim.y, axis=1)"
   ]
  },
  {
   "cell_type": "markdown",
   "id": "8ec85dd0-62b7-442f-b7a5-63ae151ffafe",
   "metadata": {},
   "source": [
    "Divide time series with the last period value to illustrate convergence"
   ]
  },
  {
   "cell_type": "code",
   "execution_count": 247,
   "id": "a0b2c95f-37b9-4674-934c-facc5287a6cb",
   "metadata": {},
   "outputs": [],
   "source": [
    "h_conv = h_agg / h_agg[-1]\n",
    "c_conv = c_agg / c_agg[-1]\n",
    "a_conv = a_agg / a_agg[-1]"
   ]
  },
  {
   "cell_type": "code",
   "execution_count": 248,
   "id": "871fb665-d709-457c-beb4-c898d7d14b59",
   "metadata": {},
   "outputs": [
    {
     "data": {
      "image/png": "[encoded data removed]",
      "text/plain": [
       "<Figure size 432x288 with 1 Axes>"
      ]
     },
     "metadata": {
      "needs_background": "light"
     },
     "output_type": "display_data"
    }
   ],
   "source": [
    "# Initialize the figure\n",
    "fig = plt.figure(figsize=(6,4))\n",
    "ax = fig.add_subplot(1,1,1)\n",
    "\n",
    "# Plot the avalanche sizes\n",
    "ax.plot(range(model.par.sim_T),h_conv, linestyle = '-', color = 'purple', linewidth = '1.1', label= 'Housing')\n",
    "ax.plot(range(model.par.sim_T),c_conv, linestyle = '-', color = 'green', linewidth = '1.1', label='Non-durable')\n",
    "ax.plot(range(model.par.sim_T),a_conv, linestyle = '-', color = 'blue', linewidth = '1.1', label='End of period assets')\n",
    "\n",
    "ax.hlines(1,0,200, linestyle ='--', color = '0.2', linewidth = 1.3)\n",
    "\n",
    "# Plot setting\n",
    "ax.set_xlabel('Period Number')\n",
    "ax.set_ylabel('Deviation From Steady State')\n",
    "\n",
    "ax.set_xlim(0,200)\n",
    "ax.set_ylim(0.8,1.2)\n",
    "\n",
    "ax.grid(visible=True, which = 'major', linestyle='-', linewidth=0.5, color='0.9')\n",
    "ax.tick_params(axis='both',bottom=True,top=True,left=True,right=True,direction='in',which='both')\n",
    "ax.legend()\n",
    "\n",
    "plt.savefig('../../tex/figs/convergence.pdf')"
   ]
  },
  {
   "cell_type": "markdown",
   "id": "9ae39857-8d5e-460f-974f-1bc918e75f8e",
   "metadata": {},
   "source": [
    "## Descriptive Statistics from SS"
   ]
  },
  {
   "cell_type": "markdown",
   "id": "28974e97-a2bb-4997-8220-ec3bdc6ea6ac",
   "metadata": {},
   "source": [
    "Compute variables used"
   ]
  },
  {
   "cell_type": "code",
   "execution_count": 14,
   "id": "cd433476-ccfb-4164-9385-c981cdb903cd",
   "metadata": {},
   "outputs": [],
   "source": [
    "# Housing share of total consumption\n",
    "h_share = model.sim.n[-1,:] / ((model.sim.m[-1,:] + model.sim.n[-1,:]) / model.sim.y[-1,:])"
   ]
  },
  {
   "cell_type": "code",
   "execution_count": 15,
   "id": "7bf9537e-5f49-4e8f-9511-443591e9ce73",
   "metadata": {},
   "outputs": [],
   "source": [
    "# try binned scatterplot\n",
    "h_demand_means, bin_edges, binnumber = stats.binned_statistic(model.sim.m[-1,:],model.sim.d[-1,:], bins = np.logspace(0,2,30), statistic = 'mean')\n",
    "h_share_means = stats.binned_statistic(model.sim.m[-1,:],h_share, bins = np.logspace(0,2,30), statistic = 'mean').statistic\n",
    "\n",
    "# Compute bins\n",
    "bin_width = (bin_edges[1] - bin_edges[0])\n",
    "bin_centers = bin_edges[1:] - bin_width/2"
   ]
  },
  {
   "cell_type": "markdown",
   "id": "8865ad2d-018b-4dd3-9bce-4b70d4946ac4",
   "metadata": {},
   "source": [
    "Binscatter of housing demand as a function of beginning of period cash on hand"
   ]
  },
  {
   "cell_type": "code",
   "execution_count": 16,
   "id": "f9e57be3-b6ab-47a8-b2a3-c1e771b45e25",
   "metadata": {},
   "outputs": [
    {
     "data": {
      "image/png": "[encoded data removed]",
      "text/plain": [
       "<Figure size 432x288 with 1 Axes>"
      ]
     },
     "metadata": {
      "needs_background": "light"
     },
     "output_type": "display_data"
    }
   ],
   "source": [
    "# Initialize the figure\n",
    "fig = plt.figure(figsize=(6,4))\n",
    "ax = fig.add_subplot(1,1,1)\n",
    "\n",
    "# Plot the avalanche sizes\n",
    "ax.scatter(bin_centers, h_demand_means, s=50, c='orange', marker='o', edgecolors = '0.2', zorder=2) \n",
    "\n",
    "# Plot setting\n",
    "ax.set_xlabel('Cash-On-Hand')\n",
    "ax.set_ylabel('Demand')\n",
    "\n",
    "ax.set_xlim(0,17.5)\n",
    "# ax.set_ylim(0,1.4)\n",
    "\n",
    "ax.grid(visible=True, which = 'major', linestyle='-', linewidth=0.5, color='0.9')\n",
    "ax.tick_params(axis='both',bottom=True,top=True,left=True,right=True,direction='in',which='both')\n",
    "# ax.legend()\n",
    "\n",
    "plt.savefig('../../tex/figs/h_demand_bins.pdf')"
   ]
  },
  {
   "cell_type": "markdown",
   "id": "c6a5cb8e-8ed0-445f-9348-bf910a787fcf",
   "metadata": {},
   "source": [
    "Binscatter of the share of housing in total consumption as a function of beginning of period cash on hand"
   ]
  },
  {
   "cell_type": "code",
   "execution_count": 17,
   "id": "84040ff2-d717-4928-9771-ebb02b7eaf05",
   "metadata": {},
   "outputs": [
    {
     "data": {
      "image/png": "[encoded data removed]",
      "text/plain": [
       "<Figure size 432x288 with 1 Axes>"
      ]
     },
     "metadata": {
      "needs_background": "light"
     },
     "output_type": "display_data"
    }
   ],
   "source": [
    "# Initialize the figure\n",
    "fig = plt.figure(figsize=(6,4))\n",
    "ax = fig.add_subplot(1,1,1)\n",
    "\n",
    "# Plot the avalanche sizes\n",
    "ax.scatter(bin_centers, h_share_means, s=50, c='magenta', marker='o', edgecolors = '0.2', zorder=2) \n",
    "\n",
    "# Plot setting\n",
    "ax.set_xlabel('Cash-On-Hand')\n",
    "ax.set_ylabel('Share')\n",
    "\n",
    "ax.set_xlim(0,16.4)\n",
    "# ax.set_ylim(0.07,0.3)\n",
    "\n",
    "ax.grid(visible=True, which = 'major', linestyle='-', linewidth=0.5, color='0.9')\n",
    "ax.tick_params(axis='both',bottom=True,top=True,left=True,right=True,direction='in',which='both')\n",
    "# ax.legend()\n",
    "\n",
    "plt.savefig('../../tex/figs/h_share_bins.pdf')"
   ]
  },
  {
   "cell_type": "markdown",
   "id": "6930973c-1cec-4052-8a54-0ed48b0bba64",
   "metadata": {},
   "source": [
    "# Find SS for lower interest rate"
   ]
  },
  {
   "cell_type": "markdown",
   "id": "52f1e0c9-0118-4c7a-99e3-55d1c27acd77",
   "metadata": {},
   "source": [
    "Save some statistics needed"
   ]
  },
  {
   "cell_type": "code",
   "execution_count": 22,
   "id": "cf0c7ebf-af8b-4883-aa70-e41d59dbabf5",
   "metadata": {},
   "outputs": [],
   "source": [
    "h_init = model.sim.n\n",
    "w_init = (model.sim.m + model.par.ph*model.sim.n) / model.sim.y"
   ]
  },
  {
   "cell_type": "markdown",
   "id": "15cbc6a1-df72-44b6-8a00-25c8b2db5c26",
   "metadata": {},
   "source": [
    "Define model2 with lower interest rates"
   ]
  },
  {
   "cell_type": "code",
   "execution_count": 23,
   "id": "9952ac0e-ba12-4e02-a045-b3ad6842503a",
   "metadata": {},
   "outputs": [],
   "source": [
    "# Define the model\n",
    "R_low = 1.02\n",
    "model2 = HousingModelClass(name='example_negm',par={'solmethod':'negm', 'R':R_low, 'ph':p, 'do_print':False})\n",
    "\n",
    "# Solve and simulate\n",
    "model2.precompile_numba()\n",
    "model2.solve()\n",
    "model2.simulate()"
   ]
  },
  {
   "cell_type": "code",
   "execution_count": 13,
   "id": "b774adca-1c73-49b9-aad8-0b925b30d777",
   "metadata": {},
   "outputs": [
    {
     "name": "stdout",
     "output_type": "stream",
     "text": [
      "0.31576333475798035\n"
     ]
    }
   ],
   "source": [
    "print(Hs)"
   ]
  },
  {
   "cell_type": "code",
   "execution_count": 14,
   "id": "d907c448-33f4-4d30-bdde-669a9594e45a",
   "metadata": {},
   "outputs": [],
   "source": [
    "# Grid over house prices\n",
    "Nr = 15\n",
    "p_vec = np.linspace(.3,3.0,Nr)\n",
    "p_min = p_vec[0]\n",
    "p_max = p_vec[Nr-1]\n",
    "\n",
    "# Supply set to same value as the previous model\n",
    "\n",
    "# Initialize demand function\n",
    "Hd = np.zeros(shape=len(p_vec))\n",
    "\n",
    "# Loop\n",
    "t0 = time.time()\n",
    "for i_p,p in enumerate(p_vec):\n",
    "    \n",
    "    # Solve and simulate model\n",
    "    model2.par.ph = p\n",
    "    model2.solve()\n",
    "    model2.simulate()\n",
    "    \n",
    "    # Aggregate demand\n",
    "    Hd[i_p] = np.mean(model2.sim.d[-1,:])\n",
    "    \n",
    "    # Bound on p\n",
    "    diff = Hs - Hd[i_p]\n",
    "    if diff < 0: p_min = np.fmax(p_min, p_vec[i_p])\n",
    "    if diff > 0: p_max = np.fmin(p_max, p_vec[i_p])\n",
    "    \n",
    "    # print(i_p)\n",
    "    \n",
    "t1 = time.time()"
   ]
  },
  {
   "cell_type": "code",
   "execution_count": 21,
   "id": "7f34ccf7-1109-47b8-9e42-e722e21c1d1d",
   "metadata": {},
   "outputs": [
    {
     "name": "stdout",
     "output_type": "stream",
     "text": [
      "582.8202826976776\n"
     ]
    }
   ],
   "source": [
    "def obj(p,model2):\n",
    "    \n",
    "    model2.par.ph = p\n",
    "    model2.solve()\n",
    "    model2.simulate()\n",
    "    return np.mean(model2.sim.d[-1,:]) - Hs\n",
    "\n",
    "t0 = time.time()\n",
    "\n",
    "opt = optimize.root_scalar(obj,bracket=[p_min,p_max],method='bisect',args=(model2,),maxiter=100)\n",
    "model2.par.ph = opt.root\n",
    "assert opt.converged\n",
    "\n",
    "t1 = time.time()\n",
    "print(t1-t0)"
   ]
  },
  {
   "cell_type": "code",
   "execution_count": 22,
   "id": "c39f95b7-1bf8-40a7-bcd2-f997a2296709",
   "metadata": {},
   "outputs": [
    {
     "data": {
      "text/plain": [
       "0.8585266883781775"
      ]
     },
     "execution_count": 22,
     "metadata": {},
     "output_type": "execute_result"
    }
   ],
   "source": [
    "opt.root"
   ]
  },
  {
   "cell_type": "code",
   "execution_count": 47,
   "id": "6ba3cc72-1f53-47be-876c-74b164b5498f",
   "metadata": {},
   "outputs": [
    {
     "data": {
      "image/png": "[encoded data removed]",
      "text/plain": [
       "<Figure size 288x216 with 1 Axes>"
      ]
     },
     "metadata": {
      "needs_background": "light"
     },
     "output_type": "display_data"
    }
   ],
   "source": [
    "# Define wealth\n",
    "w = (model2.sim.m + model2.par.ph*model2.sim.n) / model2.sim.y\n",
    "\n",
    "# w = model.sim.a + model.sim.d\n",
    "\n",
    "# Initialize the figure\n",
    "fig = plt.figure(figsize=(4,3))\n",
    "ax = fig.add_subplot(1,1,1)\n",
    "\n",
    "# Plot the avalanche sizes\n",
    "ax.hist(w[-1,:], bins = np.linspace(0,25,50), density = True, edgecolor = 'k', linewidth=.5, zorder=2, color ='royalblue', alpha = .5, label = r'Low $R$')\n",
    "ax.hist(w_init[-1,:], bins = np.linspace(0,25,50), density = True, edgecolor = 'k', linewidth=.5, zorder=2, color ='green', alpha = .5, label = r'High $R$')\n",
    "\n",
    "# Plot setting\n",
    "ax.set_xlabel('Relative Wealth')\n",
    "ax.set_ylabel('Density')\n",
    "ax.set_xlim(0,25)\n",
    "\n",
    "ax.grid(visible=True, which = 'major', linestyle='-', linewidth=0.5, color='0.9')\n",
    "ax.tick_params(axis='both',bottom=True,top=True,left=True,right=True,direction='in',which='both')\n",
    "ax.legend(frameon = True, edgecolor = 'k', facecolor = 'white', framealpha=1, fancybox=False, prop={'size': 10})\n",
    "\n",
    "plt.savefig('../../tex/figs/w_distr_compare.pdf')"
   ]
  },
  {
   "cell_type": "code",
   "execution_count": 26,
   "id": "4a6a6bd9-6832-43dc-b05d-d4d9fffbd13d",
   "metadata": {},
   "outputs": [
    {
     "data": {
      "image/png": "[encoded data removed]",
      "text/plain": [
       "<Figure size 288x216 with 1 Axes>"
      ]
     },
     "metadata": {
      "needs_background": "light"
     },
     "output_type": "display_data"
    }
   ],
   "source": [
    "# Initialize the figure\n",
    "fig = plt.figure(figsize=(4,3))\n",
    "ax = fig.add_subplot(1,1,1)\n",
    "\n",
    "# Plot the avalanche sizes\n",
    "ax.hist(model2.sim.d[-1,:], model2.par.grid_n, density = False, facecolor='royalblue', edgecolor = 'k', zorder=2, alpha = .4, label = r'Low $R$')\n",
    "ax.hist(h_init[-1,:], model2.par.grid_n, density = False, facecolor='green', edgecolor = 'k', zorder=2, alpha = .4, label = r'High $R$')\n",
    "\n",
    "# Plot setting\n",
    "ax.set_xlabel('Housing')\n",
    "ax.set_ylabel('Probability')\n",
    "\n",
    "ax.set_xlim(0,1.5)\n",
    "\n",
    "ax.grid(visible=True, which = 'major', linestyle='-', linewidth=0.5, color='0.9')\n",
    "ax.tick_params(axis='both',bottom=True,top=True,left=True,right=True,direction='in',which='both')\n",
    "ax.legend(frameon = True, edgecolor = 'k', facecolor = 'white', framealpha=1, fancybox=False,  prop={'size': 10})\n",
    "\n",
    "plt.savefig('../../tex/figs/h_distr_compare.pdf')"
   ]
  },
  {
   "cell_type": "code",
   "execution_count": 51,
   "id": "e0e4ab41-dbec-4ab3-8acf-ede776408a9c",
   "metadata": {},
   "outputs": [],
   "source": [
    "# try binned scatterplot\n",
    "h_demand_means, bin_edges, binnumber = stats.binned_statistic(model2.sim.m[-1,:],model2.sim.d[-1,:], bins = np.logspace(0,2,30), statistic = 'mean')\n",
    "\n",
    "# Compute bins\n",
    "bin_width = (bin_edges[1] - bin_edges[0])\n",
    "bin_centers = bin_edges[1:] - bin_width/2"
   ]
  },
  {
   "cell_type": "code",
   "execution_count": 56,
   "id": "1254cdf9-2b46-4b59-a112-9147e45c9a17",
   "metadata": {},
   "outputs": [
    {
     "data": {
      "image/png": "[encoded data removed]",
      "text/plain": [
       "<Figure size 432x288 with 1 Axes>"
      ]
     },
     "metadata": {
      "needs_background": "light"
     },
     "output_type": "display_data"
    }
   ],
   "source": [
    "# Initialize the figure\n",
    "fig = plt.figure(figsize=(6,4))\n",
    "ax = fig.add_subplot(1,1,1)\n",
    "\n",
    "# Plot the avalanche sizes\n",
    "ax.scatter(bin_centers, h_demand_means, s=50, c='red', marker='o', edgecolors = '0.2', zorder=2) \n",
    "\n",
    "# Plot setting\n",
    "ax.set_xlabel('Cash-On-Hand')\n",
    "ax.set_ylabel('Demand')\n",
    "\n",
    "ax.set_xlim(0,17.5)\n",
    "ax.set_ylim(0,1.2)\n",
    "\n",
    "ax.grid(visible=True, which = 'major', linestyle='-', linewidth=0.5, color='0.9')\n",
    "ax.tick_params(axis='both',bottom=True,top=True,left=True,right=True,direction='in',which='both')\n",
    "# ax.legend()\n",
    "\n",
    "plt.savefig('../../tex/figs/h_demand_bins_low.pdf')"
   ]
  }
 ],
 "metadata": {
  "kernelspec": {
   "display_name": "Python 3 (ipykernel)",
   "language": "python",
   "name": "python3"
  },
  "language_info": {
   "codemirror_mode": {
    "name": "ipython",
    "version": 3
   },
   "file_extension": ".py",
   "mimetype": "text/x-python",
   "name": "python",
   "nbconvert_exporter": "python",
   "pygments_lexer": "ipython3",
   "version": "3.9.10"
  }
 },
 "nbformat": 4,
 "nbformat_minor": 5
}
