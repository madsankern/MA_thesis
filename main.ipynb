{
 "cells": [
  {
   "cell_type": "markdown",
   "id": "ee8dd7be-b765-49a0-bf86-57cd8909c871",
   "metadata": {},
   "source": [
    "Notebook to run tests on the model to see if everything works"
   ]
  },
  {
   "cell_type": "code",
   "execution_count": 1,
   "id": "dc04521b-cb48-45f0-9624-558dd5872511",
   "metadata": {},
   "outputs": [],
   "source": [
    "%load_ext autoreload\n",
    "%autoreload 2\n",
    "\n",
    "import time\n",
    "import numpy as np\n",
    "import numba as nb\n",
    "import matplotlib.pyplot as plt\n",
    "\n",
    "# load the DurableConsumptionModel module\n",
    "from DurableConsumptionModel import DurableConsumptionModelClass\n",
    "\n",
    "# Set the number of threads in numba\n",
    "nb.set_num_threads(4)"
   ]
  },
  {
   "cell_type": "code",
   "execution_count": 2,
   "id": "ce73899e-2410-4e63-b6ff-3490e36dcdcd",
   "metadata": {},
   "outputs": [],
   "source": [
    "# Set time horizon\n",
    "T = 5"
   ]
  },
  {
   "cell_type": "markdown",
   "id": "5ac9d372-ac93-442e-ab56-9b4553b07a30",
   "metadata": {},
   "source": [
    "Define the model"
   ]
  },
  {
   "cell_type": "code",
   "execution_count": 11,
   "id": "d8a6fffb-7a83-43fa-ab56-e5e3e9bb2468",
   "metadata": {
    "tags": []
   },
   "outputs": [],
   "source": [
    "model_negm = DurableConsumptionModelClass(name='example_negm',par={'solmethod':'negm','T':T,'do_print':True})"
   ]
  },
  {
   "cell_type": "markdown",
   "id": "572cae8a-5dbf-4b9f-bda6-6cea445c6d87",
   "metadata": {},
   "source": [
    "Precompile numba by solving the model on a coarse grid"
   ]
  },
  {
   "cell_type": "code",
   "execution_count": 12,
   "id": "01a85ebc-4c73-443d-9d6c-6770c298a3d3",
   "metadata": {},
   "outputs": [
    {
     "name": "stdout",
     "output_type": "stream",
     "text": [
      "numba precompiled in 20.4 secs\n"
     ]
    }
   ],
   "source": [
    "model_negm.precompile_numba()"
   ]
  },
  {
   "cell_type": "markdown",
   "id": "dd441122-9d30-49c5-9daa-bf9a18549b5e",
   "metadata": {},
   "source": [
    "Solve the full model"
   ]
  },
  {
   "cell_type": "code",
   "execution_count": 6,
   "id": "660fac2d-9a51-412c-b6e3-d53ef6762ee5",
   "metadata": {},
   "outputs": [
    {
     "name": "stdout",
     "output_type": "stream",
     "text": [
      " t = 4 solved in 0.0 secs\n",
      "  w computed in 0.0 secs\n",
      "  solved keeper problem in 0.0 secs\n",
      "  solved adjuster problem in 0.0 secs\n",
      " t = 3 solved in 0.0 secs\n",
      "  w computed in 0.0 secs\n",
      "  solved keeper problem in 0.0 secs\n",
      "  solved adjuster problem in 0.0 secs\n",
      " t = 2 solved in 0.1 secs\n",
      "  w computed in 0.0 secs\n",
      "  solved keeper problem in 0.0 secs\n",
      "  solved adjuster problem in 0.0 secs\n",
      " t = 1 solved in 0.1 secs\n",
      "  w computed in 0.0 secs\n",
      "  solved keeper problem in 0.0 secs\n",
      "  solved adjuster problem in 0.0 secs\n",
      " t = 0 solved in 0.1 secs\n"
     ]
    }
   ],
   "source": [
    "model_negm.solve()\n",
    "# model_negm.()\n",
    "# model_negm.save()"
   ]
  },
  {
   "cell_type": "code",
   "execution_count": 6,
   "id": "5ae9073d-a3a6-4232-b19c-c03007c448b4",
   "metadata": {},
   "outputs": [],
   "source": [
    "# model_negm.sol"
   ]
  },
  {
   "cell_type": "code",
   "execution_count": 7,
   "id": "45902019-1c7d-4f05-bc70-8ffa04a29963",
   "metadata": {},
   "outputs": [
    {
     "data": {
      "text/plain": [
       "(4, 2, 50, 100)"
      ]
     },
     "execution_count": 7,
     "metadata": {},
     "output_type": "execute_result"
    }
   ],
   "source": [
    "np.shape(model_negm.sol.q_m)"
   ]
  },
  {
   "cell_type": "code",
   "execution_count": 8,
   "id": "d68a3b81-5186-4ca0-810f-a2637ccfb5ae",
   "metadata": {},
   "outputs": [
    {
     "data": {
      "text/plain": [
       "[<matplotlib.lines.Line2D at 0x254370774c0>]"
      ]
     },
     "execution_count": 8,
     "metadata": {},
     "output_type": "execute_result"
    },
    {
     "data": {
      "image/png": "[encoded data removed]",
      "text/plain": [
       "<Figure size 432x288 with 1 Axes>"
      ]
     },
     "metadata": {},
     "output_type": "display_data"
    }
   ],
   "source": [
    "plt.plot(model_negm.sol.q_m[1,1,1,:], model_negm.sol.inv_v_keep[1,1,1,:])"
   ]
  },
  {
   "cell_type": "code",
   "execution_count": 9,
   "id": "7573d888-3e1f-48f1-a4ef-2eb1c2692b74",
   "metadata": {},
   "outputs": [
    {
     "data": {
      "image/png": "[encoded data removed]",
      "text/plain": [
       "<Figure size 432x288 with 1 Axes>"
      ]
     },
     "metadata": {},
     "output_type": "display_data"
    }
   ],
   "source": [
    "plt.plot(model_negm.sol.q_m[1,1,1,:], model_negm.sol.c_keep[1,1,1,:])\n",
    "plt.show()"
   ]
  }
 ],
 "metadata": {
  "kernelspec": {
   "display_name": "Python 3 (ipykernel)",
   "language": "python",
   "name": "python3"
  },
  "language_info": {
   "codemirror_mode": {
    "name": "ipython",
    "version": 3
   },
   "file_extension": ".py",
   "mimetype": "text/x-python",
   "name": "python",
   "nbconvert_exporter": "python",
   "pygments_lexer": "ipython3",
   "version": "3.9.10"
  }
 },
 "nbformat": 4,
 "nbformat_minor": 5
}
