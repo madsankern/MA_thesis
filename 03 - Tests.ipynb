{
 "cells": [
  {
   "cell_type": "code",
   "execution_count": 2,
   "id": "f35065ea-5028-47e9-be3c-4eaca9ed1ae6",
   "metadata": {},
   "outputs": [
    {
     "name": "stdout",
     "output_type": "stream",
     "text": [
      "The autoreload extension is already loaded. To reload it, use:\n",
      "  %reload_ext autoreload\n"
     ]
    }
   ],
   "source": [
    "%load_ext autoreload\n",
    "%autoreload 2\n",
    "\n",
    "import time\n",
    "import numpy as np\n",
    "import numba as nb\n",
    "import matplotlib.pyplot as plt\n",
    "from scipy import optimize\n",
    "from consav import linear_interp\n",
    "\n",
    "# load the DurableConsumptionModel module\n",
    "from HousingModel import HousingModelClass\n",
    "\n",
    "# Set the number of threads in numba\n",
    "nb.set_num_threads(4)"
   ]
  },
  {
   "cell_type": "code",
   "execution_count": 3,
   "id": "accdda44-43aa-4e2f-8f2e-dc817de84bd5",
   "metadata": {},
   "outputs": [],
   "source": [
    "# Define the model\n",
    "model = HousingModelClass(name='example_negm',par={'solmethod':'negm', 'do_print':False})\n",
    "\n",
    "# Solve and simulate\n",
    "model.precompile_numba()"
   ]
  },
  {
   "cell_type": "code",
   "execution_count": 4,
   "id": "af76d513-49f1-4e13-84b1-d3a0b030c731",
   "metadata": {},
   "outputs": [],
   "source": [
    "model.solve()"
   ]
  },
  {
   "cell_type": "code",
   "execution_count": 5,
   "id": "92087955-1ad6-454a-957e-342312279a92",
   "metadata": {},
   "outputs": [],
   "source": [
    "model.simulate()"
   ]
  },
  {
   "cell_type": "code",
   "execution_count": 6,
   "id": "5a0c7b16-7b23-4ca3-a854-0570acfaf54c",
   "metadata": {},
   "outputs": [],
   "source": [
    "model.solve_path()"
   ]
  },
  {
   "cell_type": "code",
   "execution_count": 7,
   "id": "f83e60d2-a56c-4db0-bc7e-9557d52b5ddb",
   "metadata": {},
   "outputs": [],
   "source": [
    "model.simulate_path()"
   ]
  },
  {
   "cell_type": "markdown",
   "id": "d13a24cd-7a79-4828-ae5f-db9d3a185bba",
   "metadata": {},
   "source": [
    "Test policy functions"
   ]
  },
  {
   "cell_type": "code",
   "execution_count": 11,
   "id": "3235b212-8702-4eac-8564-535780208a35",
   "metadata": {},
   "outputs": [
    {
     "data": {
      "text/plain": [
       "[<matplotlib.lines.Line2D at 0x272ca40d8b0>]"
      ]
     },
     "execution_count": 11,
     "metadata": {},
     "output_type": "execute_result"
    },
    {
     "data": {
      "image/png": "[encoded data removed]",
      "text/plain": [
       "<Figure size 432x288 with 1 Axes>"
      ]
     },
     "metadata": {
      "needs_background": "light"
     },
     "output_type": "display_data"
    }
   ],
   "source": [
    "plt.plot(model.par.grid_m, model.sol.d_adj[0,0,1,:], linestyle = '-', color = 'red', linewidth = '1.5')"
   ]
  },
  {
   "cell_type": "code",
   "execution_count": null,
   "id": "392b3380-c266-4f81-93ff-efe9e8581813",
   "metadata": {},
   "outputs": [],
   "source": []
  }
 ],
 "metadata": {
  "kernelspec": {
   "display_name": "Python 3 (ipykernel)",
   "language": "python",
   "name": "python3"
  },
  "language_info": {
   "codemirror_mode": {
    "name": "ipython",
    "version": 3
   },
   "file_extension": ".py",
   "mimetype": "text/x-python",
   "name": "python",
   "nbconvert_exporter": "python",
   "pygments_lexer": "ipython3",
   "version": "3.9.10"
  }
 },
 "nbformat": 4,
 "nbformat_minor": 5
}
