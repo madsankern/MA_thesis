{
 "cells": [
  {
   "cell_type": "markdown",
   "metadata": {},
   "source": [
    "# Linear Interpolation"
   ]
  },
  {
   "cell_type": "markdown",
   "metadata": {},
   "source": [
    "This notebook shows the interface of **consav.linear_interp**, and ensures that the results are exactly the same as for **scipy**.\n",
    "\n",
    "A number of different possibilities exists:\n",
    "\n",
    "1. **Single evaluation** (no preparation, with preparation)\n",
    "2. **Vectorized evaluation** (no preparation, preparation, preparation + monotonicity, preparation + monotonicity + repitition)"
   ]
  },
  {
   "cell_type": "markdown",
   "metadata": {},
   "source": [
    "# Setup"
   ]
  },
  {
   "cell_type": "code",
   "execution_count": 1,
   "metadata": {
    "ExecuteTime": {
     "end_time": "2018-11-06T22:04:18.877389Z",
     "start_time": "2018-11-06T22:04:13.656182Z"
    },
    "code_folding": [
     0
    ]
   },
   "outputs": [],
   "source": [
    "%load_ext autoreload\n",
    "%autoreload 2\n",
    "\n",
    "import time\n",
    "import numpy as np\n",
    "from scipy.interpolate import RegularGridInterpolator\n",
    "\n",
    "# load the module\n",
    "from consav import linear_interp"
   ]
  },
  {
   "cell_type": "markdown",
   "metadata": {},
   "source": [
    "# Example"
   ]
  },
  {
   "cell_type": "markdown",
   "metadata": {},
   "source": [
    "## Setup"
   ]
  },
  {
   "cell_type": "markdown",
   "metadata": {},
   "source": [
    "Function for creating **non-linear grids**:"
   ]
  },
  {
   "cell_type": "code",
   "execution_count": 2,
   "metadata": {},
   "outputs": [],
   "source": [
    "def nonlinspace(x_min, x_max, n, phi):\n",
    "    y = np.empty(n)\n",
    "    y[0] = x_min\n",
    "    for i in range(1, n):\n",
    "        y[i] = y[i-1] + (x_max-y[i-1]) / (n-i)**phi\n",
    "    return y"
   ]
  },
  {
   "cell_type": "markdown",
   "metadata": {},
   "source": [
    "**Function**, **grids** and **known values**:"
   ]
  },
  {
   "cell_type": "code",
   "execution_count": 3,
   "metadata": {},
   "outputs": [],
   "source": [
    "from numba import njit\n",
    "\n",
    "# a. functions\n",
    "@njit\n",
    "def f(x1,x2,x3):\n",
    "    return x1**2*x2+x3*x2**2+x3**2\n",
    "\n",
    "@njit\n",
    "def fill_value(grid1,grid2,grid3,value):\n",
    "    for i in range(grid1.size):\n",
    "        for j in range(grid2.size):\n",
    "            for k in range(grid3.size):\n",
    "                value[i,j,k] = f(grid1[i],grid2[j],grid3[k])    \n",
    "\n",
    "@njit\n",
    "def grids_points_and_value(Nx1,Nx2,Nx3):\n",
    "\n",
    "    grid1 = np.linspace(low_x1,high_x1,Nx1)\n",
    "    grid2 = np.linspace(low_x2,high_x2,Nx2)\n",
    "    grid3 = np.linspace(low_x3,high_x3,Nx3)\n",
    "\n",
    "    value = np.empty((Nx1,Nx2,Nx3))\n",
    "    fill_value(grid1,grid2,grid3,value)\n",
    "    \n",
    "    return grid1,grid2,grid3,value\n",
    "\n",
    "# b. grid points and value\n",
    "Nx1,Nx2,Nx3 = 100,200,300\n",
    "low_x1,low_x2,low_x3 = 1.0,1.0,1.0\n",
    "high_x1,high_x2,high_x3 = 10.0,15.0,12.0\n",
    "grid1,grid2,grid3,value = grids_points_and_value(Nx1,Nx2,Nx3)"
   ]
  },
  {
   "cell_type": "markdown",
   "metadata": {},
   "source": [
    "Draw **random points** to be evaluated:"
   ]
  },
  {
   "cell_type": "code",
   "execution_count": 4,
   "metadata": {},
   "outputs": [],
   "source": [
    "Nyi = 100\n",
    "xi = np.empty((Nyi,3))\n",
    "xi1 = np.random.uniform(low=0.9*low_x1,high=1.1*high_x1,size=Nyi) \n",
    "xi2 = np.random.uniform(low=0.9*low_x2,high=1.1*high_x2,size=Nyi) \n",
    "xi3 = np.random.uniform(low=0.9*low_x3,high=1.1*high_x3,size=Nyi)\n",
    "\n",
    "xi[:,0] = xi1\n",
    "xi[:,1] = xi2\n",
    "xi[:,2] = xi3"
   ]
  },
  {
   "cell_type": "markdown",
   "metadata": {},
   "source": [
    "We also consider a set of points where **the two first dimensions are constant** and **the last dimension is monotone**:"
   ]
  },
  {
   "cell_type": "code",
   "execution_count": 5,
   "metadata": {},
   "outputs": [],
   "source": [
    "xi_mon = np.empty((Nyi,3))\n",
    "xi_mon[:,0] = xi1[0]\n",
    "xi_mon[:,1] = xi2[0]\n",
    "xi_mon[:,2] = xi3_mon = np.sort(xi3)"
   ]
  },
  {
   "cell_type": "markdown",
   "metadata": {},
   "source": [
    "## Scipy"
   ]
  },
  {
   "cell_type": "markdown",
   "metadata": {},
   "source": [
    "For comparision we use scipy's **RegularGridInterpolator**."
   ]
  },
  {
   "cell_type": "code",
   "execution_count": 6,
   "metadata": {},
   "outputs": [],
   "source": [
    "yi_scipy_interp = RegularGridInterpolator([grid1,grid2,grid3], value, \n",
    "                                          method='linear',bounds_error=False,fill_value=None)\n",
    "yi_scipy = yi_scipy_interp(xi)\n",
    "yi_mon_scipy = yi_scipy_interp(xi_mon)"
   ]
  },
  {
   "cell_type": "markdown",
   "metadata": {},
   "source": [
    "## Single evaluation"
   ]
  },
  {
   "cell_type": "code",
   "execution_count": 7,
   "metadata": {},
   "outputs": [],
   "source": [
    "for i in range(Nyi):\n",
    "    yi = linear_interp.interp_3d(grid1,grid2,grid3,value,xi1[i],xi2[i],xi3[i])\n",
    "    assert np.allclose(yi_scipy[i],yi)"
   ]
  },
  {
   "cell_type": "markdown",
   "metadata": {},
   "source": [
    "## Vectorized evaluation"
   ]
  },
  {
   "cell_type": "code",
   "execution_count": 8,
   "metadata": {},
   "outputs": [],
   "source": [
    "yi = np.empty(Nyi)\n",
    "linear_interp.interp_3d_vec(grid1,grid2,grid3,value,xi1,xi2,xi3,yi)\n",
    "assert np.allclose(yi_scipy,yi)"
   ]
  },
  {
   "cell_type": "markdown",
   "metadata": {},
   "source": [
    "## Single evaluation with preparation"
   ]
  },
  {
   "cell_type": "code",
   "execution_count": 9,
   "metadata": {},
   "outputs": [],
   "source": [
    "prep = linear_interp.interp_3d_prep(grid1,grid2,xi1[0],xi2[0],0)\n",
    "for i in range(Nyi):\n",
    "    yi = linear_interp.interp_3d_only_last(prep,grid1,grid2,grid3,value,xi1[0],xi2[0],xi3_mon[i])\n",
    "    assert np.allclose(yi_mon_scipy[i],yi)"
   ]
  },
  {
   "cell_type": "markdown",
   "metadata": {},
   "source": [
    "## Vectorized evaluation with preparation"
   ]
  },
  {
   "cell_type": "code",
   "execution_count": 10,
   "metadata": {},
   "outputs": [],
   "source": [
    "yi = np.empty(Nyi)    \n",
    "prep = linear_interp.interp_3d_prep(grid1,grid2,xi1[0],xi2[0],Nyi)\n",
    "linear_interp.interp_3d_only_last_vec(prep,grid1,grid2,grid3,value,xi1[0],xi2[0],xi3_mon,yi)\n",
    "assert np.allclose(yi_mon_scipy,yi)"
   ]
  },
  {
   "cell_type": "markdown",
   "metadata": {},
   "source": [
    "## Vectorized evaluation with preparation and monotonicity"
   ]
  },
  {
   "cell_type": "code",
   "execution_count": 11,
   "metadata": {},
   "outputs": [],
   "source": [
    "yi = np.empty(Nyi)\n",
    "prep = linear_interp.interp_3d_prep(grid1,grid2,xi1[0],xi2[0],Nyi)\n",
    "linear_interp.interp_3d_only_last_vec_mon(prep,grid1,grid2,grid3,value,xi1[0],xi2[0],xi3_mon,yi)\n",
    "assert np.allclose(yi_mon_scipy,yi)"
   ]
  },
  {
   "cell_type": "markdown",
   "metadata": {},
   "source": [
    "After calling **interp_3d_only_last_vec_mon()** some additional information is saved in **prep**. \n",
    "\n",
    "Interpolating for a second time is therefore faster if using **interp_3d_only_last_vec_mon_rep()**. \n",
    "\n",
    "Note, in particular, that the value array can be changed between calls."
   ]
  },
  {
   "cell_type": "code",
   "execution_count": 12,
   "metadata": {},
   "outputs": [],
   "source": [
    "yi = np.empty(Nyi)    \n",
    "linear_interp.interp_3d_only_last_vec_mon_rep(prep,grid1,grid2,grid3,value,xi1[0],xi2[0],xi3_mon,yi)\n",
    "assert np.allclose(yi_mon_scipy,yi)"
   ]
  },
  {
   "cell_type": "markdown",
   "metadata": {},
   "source": [
    "# Timings "
   ]
  },
  {
   "cell_type": "markdown",
   "metadata": {},
   "source": [
    "**Note:** To run the code below install [interpolation](https://github.com/EconForge/interpolation.py) from EconForge with `pip install git+https://github.com/econforge/interpolation.py.git/`. Note, that their interpolation algorithm does not allow for extrapolation, so the results differ, but the timings should be illustrative. On the other hand, they have multiple interpolation algorithms and an interface very close to that of scipy."
   ]
  },
  {
   "cell_type": "code",
   "execution_count": 13,
   "metadata": {},
   "outputs": [
    {
     "name": "stdout",
     "output_type": "stream",
     "text": [
      "scipy: 11.1 secs\n",
      "interp_3d_vec: 1.5 secs\n",
      "interp_3d_only_last_vec: 0.8 secs\n",
      "interp_3d_only_last_vec_mon: 0.6 secs\n",
      "interp_3d_only_last_vec_mon_rep: 0.5 secs\n",
      "econforge: 3.2 secs\n",
      "\n",
      "scipy: 10.9 secs\n",
      "interp_3d_vec: 1.5 secs\n",
      "interp_3d_only_last_vec: 0.8 secs\n",
      "interp_3d_only_last_vec_mon: 0.6 secs\n",
      "interp_3d_only_last_vec_mon_rep: 0.5 secs\n",
      "econforge: 2.1 secs\n",
      "\n",
      "scipy: 10.8 secs\n",
      "interp_3d_vec: 1.4 secs\n",
      "interp_3d_only_last_vec: 0.8 secs\n",
      "interp_3d_only_last_vec_mon: 0.6 secs\n",
      "interp_3d_only_last_vec_mon_rep: 0.5 secs\n",
      "econforge: 2.1 secs\n",
      "\n",
      "scipy: 11.2 secs\n",
      "interp_3d_vec: 1.5 secs\n",
      "interp_3d_only_last_vec: 0.8 secs\n",
      "interp_3d_only_last_vec_mon: 0.6 secs\n",
      "interp_3d_only_last_vec_mon_rep: 0.5 secs\n",
      "econforge: 2.1 secs\n",
      "\n",
      "scipy: 11.0 secs\n",
      "interp_3d_vec: 1.4 secs\n",
      "interp_3d_only_last_vec: 0.8 secs\n",
      "interp_3d_only_last_vec_mon: 0.6 secs\n",
      "interp_3d_only_last_vec_mon_rep: 0.5 secs\n",
      "econforge: 2.2 secs\n",
      "\n"
     ]
    }
   ],
   "source": [
    "do_econforge = True\n",
    "if do_econforge: \n",
    "    from interpolation import interp as interp_econforge\n",
    "    \n",
    "for _ in range(5):\n",
    "\n",
    "    Nyi = 2*10**7\n",
    "    xi = np.empty((Nyi,3))\n",
    "    xi1 = np.empty(Nyi)\n",
    "    xi2 = np.empty(Nyi)\n",
    "    xi1[:] = np.random.uniform(low=0.9*low_x1,high=1.1*high_x1,size=1)[0]\n",
    "    xi2[:] = np.random.uniform(low=0.9*low_x2,high=1.1*high_x2,size=1)[0]\n",
    "    xi3 = np.random.uniform(low=0.9*low_x3,high=1.1*high_x3,size=Nyi)\n",
    "\n",
    "    xi_mon = np.empty((Nyi,3))\n",
    "    xi_mon[:,0] = xi1\n",
    "    xi_mon[:,1] = xi2\n",
    "    xi_mon[:,2] = xi3_mon = np.sort(xi3)\n",
    "    \n",
    "    tic = time.time()\n",
    "    yi_mon_scipy = yi_scipy_interp(xi_mon)\n",
    "    toc = time.time()\n",
    "    print(f'scipy: {toc-tic:.1f} secs')\n",
    "    \n",
    "    tic = time.time()\n",
    "    yi = np.empty(Nyi)\n",
    "    linear_interp.interp_3d_vec(grid1,grid2,grid3,value,xi1,xi2,xi3_mon,yi)\n",
    "    toc = time.time()\n",
    "    print(f'interp_3d_vec: {toc-tic:.1f} secs')\n",
    "    assert np.allclose(yi_mon_scipy,yi)\n",
    "    \n",
    "    tic = time.time()\n",
    "    yi = np.empty(Nyi)\n",
    "    prep = linear_interp.interp_3d_prep(grid1,grid2,xi1[0],xi2[0],Nyi)\n",
    "    linear_interp.interp_3d_only_last_vec(prep,grid1,grid2,grid3,value,xi1[0],xi2[0],xi3_mon,yi)\n",
    "    toc = time.time()\n",
    "    print(f'interp_3d_only_last_vec: {toc-tic:.1f} secs')    \n",
    "    assert np.allclose(yi_mon_scipy,yi)\n",
    "\n",
    "    tic = time.time()\n",
    "    yi = np.empty(Nyi)\n",
    "    prep = linear_interp.interp_3d_prep(grid1,grid2,xi1[0],xi2[0],Nyi)\n",
    "    linear_interp.interp_3d_only_last_vec_mon(prep,grid1,grid2,grid3,value,xi1[0],xi2[0],xi3_mon,yi)\n",
    "    toc = time.time()\n",
    "    print(f'interp_3d_only_last_vec_mon: {toc-tic:.1f} secs') \n",
    "    assert np.allclose(yi_mon_scipy,yi)\n",
    "    \n",
    "    tic = time.time()\n",
    "    yi = np.empty(Nyi)\n",
    "    linear_interp.interp_3d_only_last_vec_mon_rep(prep,grid1,grid2,grid3,value,xi1[0],xi2[0],xi3_mon,yi)\n",
    "    toc = time.time()\n",
    "    print(f'interp_3d_only_last_vec_mon_rep: {toc-tic:.1f} secs') \n",
    "    assert np.allclose(yi_mon_scipy,yi)\n",
    "    \n",
    "    if do_econforge:\n",
    "        tic = time.time()\n",
    "        yi_mon_econforge = interp_econforge(grid1,grid2,grid3,value,xi_mon)\n",
    "        toc = time.time()\n",
    "        print(f'econforge: {toc-tic:.1f} secs')\n",
    "        \n",
    "    print('')"
   ]
  },
  {
   "cell_type": "markdown",
   "metadata": {},
   "source": [
    "# Tests in other dimensions"
   ]
  },
  {
   "cell_type": "markdown",
   "metadata": {},
   "source": [
    "## 1D"
   ]
  },
  {
   "cell_type": "markdown",
   "metadata": {},
   "source": [
    "### Setup"
   ]
  },
  {
   "cell_type": "code",
   "execution_count": 14,
   "metadata": {},
   "outputs": [],
   "source": [
    "# a. functions\n",
    "@njit\n",
    "def f(x1):\n",
    "    return x1**2\n",
    "\n",
    "@njit\n",
    "def fill_value(grid1,value):\n",
    "    for i in range(grid1.size):\n",
    "        value[i] = f(grid1[i])    \n",
    "\n",
    "@njit\n",
    "def grids_points_and_value(Nx1):\n",
    "\n",
    "    grid1 = np.linspace(low_x1,high_x1,Nx1)\n",
    "\n",
    "    value = np.empty(Nx1)\n",
    "    fill_value(grid1,value)\n",
    "    \n",
    "    return grid1,value\n",
    "\n",
    "# b. grid points and value\n",
    "grid1,value = grids_points_and_value(Nx1)\n",
    "\n",
    "# c. scipy\n",
    "yi_scipy_interp = RegularGridInterpolator([grid1], value, \n",
    "                                          method='linear',bounds_error=False,fill_value=None)"
   ]
  },
  {
   "cell_type": "markdown",
   "metadata": {},
   "source": [
    "### Tests"
   ]
  },
  {
   "cell_type": "code",
   "execution_count": 15,
   "metadata": {},
   "outputs": [
    {
     "name": "stdout",
     "output_type": "stream",
     "text": [
      "all is good\n"
     ]
    }
   ],
   "source": [
    "for _ in range(5):\n",
    "    \n",
    "    Nyi = 100\n",
    "    xi1 = np.sort(np.random.uniform(low=0.9*low_x2,high=1.1*high_x2,size=Nyi))\n",
    "    \n",
    "    tic = time.time()\n",
    "    yi_mon_scipy = yi_scipy_interp(xi1)\n",
    "    toc = time.time()\n",
    "    \n",
    "    tic = time.time()\n",
    "    yi = np.empty(Nyi)\n",
    "    linear_interp.interp_1d_vec(grid1,value,xi1,yi)\n",
    "    toc = time.time()\n",
    "    assert np.allclose(yi_mon_scipy,yi)\n",
    "        \n",
    "    tic = time.time()\n",
    "    yi = np.empty(Nyi)\n",
    "    prep = linear_interp.interp_1d_prep(Nyi)\n",
    "    linear_interp.interp_1d_vec_mon(prep,grid1,value,xi1,yi)\n",
    "    toc = time.time()\n",
    "    assert np.allclose(yi_mon_scipy,yi)\n",
    "    \n",
    "    tic = time.time()\n",
    "    yi = np.empty(Nyi)\n",
    "    linear_interp.interp_1d_vec_mon_rep(prep,grid1,value,xi1,yi)\n",
    "    toc = time.time()\n",
    "    assert np.allclose(yi_mon_scipy,yi)\n",
    "    \n",
    "    tic = time.time()\n",
    "    yi = np.empty(Nyi)\n",
    "    linear_interp.interp_1d_vec_mon_noprep(grid1,value,xi1,yi)\n",
    "    toc = time.time()\n",
    "    assert np.allclose(yi_mon_scipy,yi)\n",
    "\n",
    "print('all is good')"
   ]
  },
  {
   "cell_type": "markdown",
   "metadata": {},
   "source": [
    "## 2D"
   ]
  },
  {
   "cell_type": "markdown",
   "metadata": {},
   "source": [
    "### Setup"
   ]
  },
  {
   "cell_type": "code",
   "execution_count": 16,
   "metadata": {},
   "outputs": [],
   "source": [
    "# a. functions\n",
    "@njit\n",
    "def f(x1,x2):\n",
    "    return x1**2*x2+x2**2\n",
    "\n",
    "@njit\n",
    "def fill_value(grid1,grid2,value):\n",
    "    for i in range(grid1.size):\n",
    "        for j in range(grid2.size):\n",
    "                value[i,j] = f(grid1[i],grid2[j])    \n",
    "\n",
    "@njit\n",
    "def grids_points_and_value(Nx1,Nx2):\n",
    "\n",
    "    grid1 = np.linspace(low_x1,high_x1,Nx1)\n",
    "    grid2 = np.linspace(low_x2,high_x2,Nx2)\n",
    "\n",
    "    value = np.empty((Nx1,Nx2))\n",
    "    fill_value(grid1,grid2,value)\n",
    "    \n",
    "    return grid1,grid2,value\n",
    "\n",
    "# b. grid points and value\n",
    "grid1,grid2,value = grids_points_and_value(Nx1,Nx2)\n",
    "\n",
    "# c. scipy\n",
    "yi_scipy_interp = RegularGridInterpolator([grid1,grid2], value, \n",
    "                                          method='linear',bounds_error=False,fill_value=None)"
   ]
  },
  {
   "cell_type": "markdown",
   "metadata": {},
   "source": [
    "### Tests"
   ]
  },
  {
   "cell_type": "code",
   "execution_count": 17,
   "metadata": {},
   "outputs": [
    {
     "name": "stdout",
     "output_type": "stream",
     "text": [
      "all is good\n"
     ]
    }
   ],
   "source": [
    "for _ in range(5):\n",
    "    \n",
    "    Nyi = 10000\n",
    "    xi = np.empty((Nyi,2))\n",
    "    xi1 = np.empty(Nyi)\n",
    "    xi1[:] = np.random.uniform(low=0.9*low_x1,high=1.1*high_x1,size=1)[0]\n",
    "    xi2 = np.random.uniform(low=0.9*low_x2,high=1.1*high_x2,size=Nyi)\n",
    "\n",
    "    xi_mon = np.empty((Nyi,2))\n",
    "    xi_mon[:,0] = xi1\n",
    "    xi_mon[:,1] = xi2_mon = np.sort(xi2)\n",
    "    \n",
    "    tic = time.time()\n",
    "    yi_mon_scipy = yi_scipy_interp(xi_mon)\n",
    "    toc = time.time()\n",
    "    \n",
    "    tic = time.time()\n",
    "    yi = np.empty(Nyi)\n",
    "    linear_interp.interp_2d_vec(grid1,grid2,value,xi1,xi2_mon,yi)\n",
    "    toc = time.time()\n",
    "    assert np.allclose(yi_mon_scipy,yi)\n",
    "    \n",
    "    tic = time.time()\n",
    "    yi = np.empty(Nyi)\n",
    "    prep = linear_interp.interp_2d_prep(grid1,xi1[0],Nyi)\n",
    "    linear_interp.interp_2d_only_last_vec(prep,grid1,grid2,value,xi1[0],xi2_mon,yi)\n",
    "    toc = time.time()\n",
    "    assert np.allclose(yi_mon_scipy,yi)\n",
    "\n",
    "    tic = time.time()\n",
    "    yi = np.empty(Nyi)\n",
    "    prep = linear_interp.interp_2d_prep(grid1,xi1[0],Nyi)\n",
    "    linear_interp.interp_2d_only_last_vec_mon(prep,grid1,grid2,value,xi1[0],xi2_mon,yi)\n",
    "    toc = time.time()\n",
    "    assert np.allclose(yi_mon_scipy,yi)\n",
    "    \n",
    "    tic = time.time()\n",
    "    yi = np.empty(Nyi)\n",
    "    linear_interp.interp_2d_only_last_vec_mon_rep(prep,grid1,grid2,value,xi1[0],xi2_mon,yi)\n",
    "    toc = time.time()\n",
    "    assert np.allclose(yi_mon_scipy,yi)\n",
    "    \n",
    "print('all is good')"
   ]
  }
 ],
 "metadata": {
  "kernelspec": {
   "display_name": "Python 3 (ipykernel)",
   "language": "python",
   "name": "python3"
  },
  "language_info": {
   "codemirror_mode": {
    "name": "ipython",
    "version": 3
   },
   "file_extension": ".py",
   "mimetype": "text/x-python",
   "name": "python",
   "nbconvert_exporter": "python",
   "pygments_lexer": "ipython3",
   "version": "3.9.10"
  },
  "latex_envs": {
   "LaTeX_envs_menu_present": true,
   "autocomplete": true,
   "bibliofile": "biblio.bib",
   "cite_by": "apalike",
   "current_citInitial": 1,
   "eqLabelWithNumbers": true,
   "eqNumInitial": 1,
   "hotkeys": {
    "equation": "Ctrl-E",
    "itemize": "Ctrl-I"
   },
   "labels_anchors": false,
   "latex_user_defs": false,
   "report_style_numbering": false,
   "user_envs_cfg": false
  },
  "toc": {
   "base_numbering": 1,
   "nav_menu": {},
   "number_sections": true,
   "sideBar": false,
   "skip_h1_title": false,
   "title_cell": "Table of Contents",
   "title_sidebar": "Contents",
   "toc_cell": true,
   "toc_position": {},
   "toc_section_display": true,
   "toc_window_display": false
  },
  "toc-autonumbering": true,
  "varInspector": {
   "cols": {
    "lenName": 16,
    "lenType": 16,
    "lenVar": 40
   },
   "kernels_config": {
    "python": {
     "delete_cmd_postfix": "",
     "delete_cmd_prefix": "del ",
     "library": "var_list.py",
     "varRefreshCmd": "print(var_dic_list())"
    },
    "r": {
     "delete_cmd_postfix": ") ",
     "delete_cmd_prefix": "rm(",
     "library": "var_list.r",
     "varRefreshCmd": "cat(var_dic_list()) "
    }
   },
   "oldHeight": 267,
   "position": {
    "height": "40px",
    "left": "1542.33px",
    "right": "20px",
    "top": "133px",
    "width": "328px"
   },
   "types_to_exclude": [
    "module",
    "function",
    "builtin_function_or_method",
    "instance",
    "_Feature"
   ],
   "varInspector_section_display": "none",
   "window_display": true
  }
 },
 "nbformat": 4,
 "nbformat_minor": 4
}
