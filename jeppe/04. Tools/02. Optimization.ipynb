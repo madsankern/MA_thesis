{
 "cells": [
  {
   "cell_type": "markdown",
   "metadata": {},
   "source": [
    "# Optimization"
   ]
  },
  {
   "cell_type": "markdown",
   "metadata": {},
   "source": [
    "This notebooks shows how to use the **numerical optimizers** in **consav**."
   ]
  },
  {
   "cell_type": "markdown",
   "metadata": {},
   "source": [
    "# Setup"
   ]
  },
  {
   "cell_type": "code",
   "execution_count": 1,
   "metadata": {},
   "outputs": [],
   "source": [
    "%load_ext autoreload\n",
    "%autoreload 2\n",
    "\n",
    "import time\n",
    "from numba import njit\n",
    "import numpy as np"
   ]
  },
  {
   "cell_type": "markdown",
   "metadata": {},
   "source": [
    "# Golden Section Search"
   ]
  },
  {
   "cell_type": "markdown",
   "metadata": {},
   "source": [
    "The **golden_section_search** module provides a **Numba JIT** compilled one-dimensional **optimizer function** for a user-defined Numba JIT compilled function with abirtrary number of fixed inputs."
   ]
  },
  {
   "cell_type": "code",
   "execution_count": 2,
   "metadata": {},
   "outputs": [
    {
     "name": "stdout",
     "output_type": "stream",
     "text": [
      "result = 1.34582467  with f = -5.7061033\n"
     ]
    }
   ],
   "source": [
    "from consav import golden_section_search\n",
    "\n",
    "# a. target function\n",
    "@njit\n",
    "def f(x,alpha,beta):\n",
    "    return (x-alpha)*x*(x+beta)**2\n",
    "\n",
    "# b. call optimizer\n",
    "low = 0.0\n",
    "high = 4.0\n",
    "tol = 1e-5\n",
    "alpha = 2.0\n",
    "beta = 1.2\n",
    "result = golden_section_search.optimizer(f,low,high,args=(alpha,beta),tol=tol)\n",
    "\n",
    "print(f'result = {result:.8f}  with f = {f(result,alpha,beta):.8}')"
   ]
  },
  {
   "cell_type": "markdown",
   "metadata": {},
   "source": [
    "# Newton-Raphson"
   ]
  },
  {
   "cell_type": "markdown",
   "metadata": {},
   "source": [
    "The **newton_raphson** module provides a **Numba JIT** compilled multi-dimensional **optimizer function** for a user-defined Numba JIT compilled function with abirtrary number of fixed inputs."
   ]
  },
  {
   "cell_type": "code",
   "execution_count": 3,
   "metadata": {},
   "outputs": [
    {
     "name": "stderr",
     "output_type": "stream",
     "text": [
      "c:\\users\\gmf123\\documents\\repositories\\consumptionsaving\\consav\\newton_raphson.py:50: NumbaExperimentalFeatureWarning: \u001b[1m\u001b[1mFirst-class function type feature is experimental\u001b[0m\u001b[0m\n",
      "  num_grad(obj,x_min,grad_step,f_min,grad,x_grad,*args)\n",
      "c:\\users\\gmf123\\documents\\repositories\\consumptionsaving\\consav\\newton_raphson.py:51: NumbaExperimentalFeatureWarning: \u001b[1m\u001b[1m\u001b[1mFirst-class function type feature is experimental\u001b[0m\u001b[0m\u001b[0m\n",
      "  num_hess(obj,x_min,grad_step,grad,hess,x_grad,x_hess,grad_hess,*args)\n",
      "c:\\users\\gmf123\\documents\\repositories\\consumptionsaving\\consav\\newton_raphson.py:51: NumbaExperimentalFeatureWarning: \u001b[1m\u001b[1mFirst-class function type feature is experimental\u001b[0m\u001b[0m\n",
      "  num_hess(obj,x_min,grad_step,grad,hess,x_grad,x_hess,grad_hess,*args)\n",
      "C:\\Users\\gmf123\\Anaconda3\\lib\\site-packages\\numba\\core\\utils.py:612: NumbaExperimentalFeatureWarning: \u001b[1mFirst-class function type feature is experimental\u001b[0m\n",
      "  warnings.warn(\"First-class function type feature is experimental\",\n"
     ]
    },
    {
     "name": "stdout",
     "output_type": "stream",
     "text": [
      "result = 1.34581691 with f = -5.7061033\n"
     ]
    }
   ],
   "source": [
    "from consav import newton_raphson\n",
    "\n",
    "# a. target function\n",
    "@njit\n",
    "def f(x,low,high,alpha,beta):        \n",
    "\n",
    "    penalty = 0.0\n",
    "    if x[0] < low:\n",
    "        penalty += 1000*(low-x[0])\n",
    "    elif x[0] > high:\n",
    "        penalty += 1000*(x[0]-high)\n",
    "        \n",
    "    return (x[0]-alpha)*x[0]*(x[0]+beta)**2 + penalty\n",
    "\n",
    "# c. call optimizer\n",
    "alpha = 2.0\n",
    "beta = 1.2\n",
    "low = 0.0\n",
    "high = 4.0\n",
    "guess = np.array([1.3])\n",
    "result = newton_raphson.optimizer(f,guess,args=(low,high,alpha,beta))\n",
    "\n",
    "print(f'result = {result[0]:.8f} with f = {f(result,low,high,alpha,beta):.8}')"
   ]
  },
  {
   "cell_type": "markdown",
   "metadata": {},
   "source": [
    "**Note:** It is unresolved why the matrix multiplication raises an performance warning in some versions of numba."
   ]
  },
  {
   "cell_type": "markdown",
   "metadata": {},
   "source": [
    "# QuantEcon: Nelder-Mead"
   ]
  },
  {
   "cell_type": "code",
   "execution_count": 4,
   "metadata": {},
   "outputs": [],
   "source": [
    "import quantecon as qe"
   ]
  },
  {
   "cell_type": "code",
   "execution_count": 5,
   "metadata": {},
   "outputs": [
    {
     "name": "stdout",
     "output_type": "stream",
     "text": [
      "results(x=array([1.34582214]), fun=5.706103284678152, success=True, nit=14, final_simplex=array([[1.34582214],\n",
      "       [1.34582611]]))\n"
     ]
    }
   ],
   "source": [
    "@njit\n",
    "def g(x,low,high,alpha,beta):\n",
    "    return -f(x,low,high,alpha,beta) # to maximize\n",
    "\n",
    "bounds[0,0] = low\n",
    "bounds[0,1] = high\n",
    "results = qe.optimize.nelder_mead(g,guess,bounds=bounds,args=(low,high,alpha,beta))\n",
    "print(results)"
   ]
  }
 ],
 "metadata": {
  "kernelspec": {
   "display_name": "Python 3 (ipykernel)",
   "language": "python",
   "name": "python3"
  },
  "language_info": {
   "codemirror_mode": {
    "name": "ipython",
    "version": 3
   },
   "file_extension": ".py",
   "mimetype": "text/x-python",
   "name": "python",
   "nbconvert_exporter": "python",
   "pygments_lexer": "ipython3",
   "version": "3.9.10"
  },
  "toc": {
   "base_numbering": 1,
   "nav_menu": {},
   "number_sections": true,
   "sideBar": true,
   "skip_h1_title": false,
   "title_cell": "Table of Contents",
   "title_sidebar": "Contents",
   "toc_cell": true,
   "toc_position": {},
   "toc_section_display": true,
   "toc_window_display": false
  },
  "toc-autonumbering": true
 },
 "nbformat": 4,
 "nbformat_minor": 4
}
