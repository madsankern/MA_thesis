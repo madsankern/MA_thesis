{
 "cells": [
  {
   "cell_type": "markdown",
   "metadata": {},
   "source": [
    "# Introduction to Dynamic Programming"
   ]
  },
  {
   "cell_type": "markdown",
   "metadata": {},
   "source": [
    "**Why learn dynamic programming?**\n",
    "\n",
    "1. **Policy recommendations** are central for all social sciences\n",
    "2. Need models for **counter-factual analysis**\n",
    "3. Realistic models $\\rightarrow$ **no analytical solution**\n",
    "  1. dynamic\n",
    "  2. multi-dimensional\n",
    "  3. uncertainty\n",
    "  4. heterogeneity\n",
    "  5. learning\n",
    "4. **Solving such models requires dynamic programming**\n",
    "5. Estimation gives you **laboratory economies**"
   ]
  },
  {
   "cell_type": "markdown",
   "metadata": {},
   "source": [
    "**This mini-course:**\n",
    "\n",
    "1. Go through this notebook, `01. Introduction.ipynb`\n",
    "2. Go through the notebook, `02. Your First Consumption-Saving Model`\n",
    "3. Read through the slides `ConsumptionSaving.pdf`\n",
    "4. Go through `03. A Full Blow Consumption Model.ipynb`\n",
    "5. Go through `04. Structural Estimation.ipynb`\n",
    "6. Go through `05. General equilibrium.ipynb`"
   ]
  },
  {
   "cell_type": "markdown",
   "metadata": {},
   "source": [
    "**Requirements:** You are assumed to know basic Python programming. Else see [Introduction to Programming and Numerical Analysis](https://numeconcopenhagen.netlify.com/)."
   ]
  },
  {
   "cell_type": "markdown",
   "metadata": {},
   "source": [
    "**Intended learning goal:** You are will be equipped to solve state-of-the-art consumption saving models, estimate them and embed them in general equilibrium models."
   ]
  },
  {
   "cell_type": "markdown",
   "metadata": {},
   "source": [
    "**Books:**\n",
    "\n",
    "1. Stockey and Lucas (1989), Recursive Methods in Economics\n",
    "2. Judd (1998): Numerical Methods\n",
    "3. Bertsekas (2005, 2012): Dynamic Programming and Optimal Control Vol. I-II\n",
    "4. Puterman (2008), Markov Decision Processes: Discrete-Stochastic Dynamic Programming\n",
    "5. Powell (2011), Approximate Dynamic Programming: Solving the Curses of Dimensionality"
   ]
  },
  {
   "cell_type": "markdown",
   "metadata": {},
   "source": [
    "**Online material:**\n",
    "\n",
    "1. [Quantitative Economics](https://lectures.quantecon.org/)\n",
    "2. [Scipy lecture notes](https://scipy-lectures.org/)\n",
    "3. [Econ-Ark](https://econ-ark.org/)\n",
    "4. [Lecture notes by Fernandez-Villaverde](https://www.sas.upenn.edu/~jesusfv/teaching.html)\n",
    "5. [Lecture notes by Fatih Guvenen](https://fatihguvenen.com/teaching/econ8185-phd-computation-empirics/)\n",
    "6. [Lecture notes by Gianluca Violante](https://sites.google.com/a/nyu.edu/glviolante/teaching/quantmacro15)\n",
    "7. [Lecture notes by Wouter J. den Haan](http://www.wouterdenhaan.com/notes.htm)"
   ]
  },
  {
   "cell_type": "markdown",
   "metadata": {},
   "source": [
    "# Setup"
   ]
  },
  {
   "cell_type": "code",
   "execution_count": 1,
   "metadata": {},
   "outputs": [],
   "source": [
    "%load_ext autoreload\n",
    "%autoreload 2\n",
    "\n",
    "from types import SimpleNamespace\n",
    "import time\n",
    "import itertools as it\n",
    "import numpy as np\n",
    "from scipy import optimize\n",
    "\n",
    "from consav.misc import elapsed"
   ]
  },
  {
   "cell_type": "markdown",
   "metadata": {},
   "source": [
    "# Bellmans Principle of Optimality"
   ]
  },
  {
   "cell_type": "markdown",
   "metadata": {},
   "source": [
    "Consider a consumer who:\n",
    "\n",
    "1. Live in $T$ periods.\n",
    "2. Have $M$ apples.\n",
    "3. Can only consumer a natural number of apples in each period, $C_t \\in \\mathbb{N}, \\, \\forall t \\in \\{1,2,\\dots,T\\}$\n",
    "4. Gets utility (payoff) $\\beta^{t-1}\\sqrt{C}$ of consuming $C$ apples in period $t$ "
   ]
  },
  {
   "cell_type": "markdown",
   "metadata": {},
   "source": [
    "She is solving the following problem:\n",
    "\n",
    "$$\n",
    "\\begin{aligned}\n",
    "V_T^{\\star}(M) &= \\max_{C_1,C_2,\\dots,C_T} \\{ \\sqrt{C_1} +\\beta \\sqrt{C_2}+\\beta^2\\sqrt{C_3}+\\cdots+\\beta^T\\sqrt{C_T} \\} \\\\\n",
    "    & \\text{s.t.} \\\\\n",
    "    M &= C_1 + C_2+\\cdots+C_T \\\\\n",
    "    C_t &\\in \\mathbb{N}, \\, \\forall t \\in \\{1,2,\\dots,T\\}\n",
    "\\end{aligned}\n",
    "$$\n",
    "\n",
    "where $V_T^{\\star}(M)$ is called the **value function**, $M$ is the **state variable**, $\\{C_t\\}_{t=1}^{T}$ are the **control variables**."
   ]
  },
  {
   "cell_type": "markdown",
   "metadata": {},
   "source": [
    "## Code"
   ]
  },
  {
   "cell_type": "markdown",
   "metadata": {},
   "source": [
    "We set up our model using `SimpleNamespace()`, which is simply a dictionary, where the value to a key is accessed with `model.key` instead of `model['key']`."
   ]
  },
  {
   "cell_type": "code",
   "execution_count": 2,
   "metadata": {},
   "outputs": [],
   "source": [
    "model = SimpleNamespace() # model\n",
    "model.par = SimpleNamespace() # parameters\n",
    "model.sol = SimpleNamespace() # solution\n",
    "model.sim = SimpleNamespace() # simulation"
   ]
  },
  {
   "cell_type": "markdown",
   "metadata": {},
   "source": [
    "Let the parameters of interest be:"
   ]
  },
  {
   "cell_type": "code",
   "execution_count": 3,
   "metadata": {},
   "outputs": [],
   "source": [
    "model.par.T = 4 # number of time periods\n",
    "model.par.M = 6 # number of apples\n",
    "model.par.beta = 0.90 # discount factor"
   ]
  },
  {
   "cell_type": "markdown",
   "metadata": {},
   "source": [
    "## Brute-force solution"
   ]
  },
  {
   "cell_type": "markdown",
   "metadata": {},
   "source": [
    "A brute-force solution is just to try out all posible choices:"
   ]
  },
  {
   "cell_type": "code",
   "execution_count": 4,
   "metadata": {},
   "outputs": [],
   "source": [
    "def solve_by_brute_force(model,utility):\n",
    "    \"\"\" solve the model using a brute force approach \"\"\"\n",
    "        \n",
    "    par = model.par\n",
    "    sol = model.sol\n",
    "    \n",
    "    # a. initilize\n",
    "    best_value = -np.inf\n",
    "    \n",
    "    # b. loop through all possible choices\n",
    "    for Cs in it.product(par.grid_C,repeat=par.T):\n",
    "        \n",
    "        # Cs is [C1,C2,...,CT] where all C1,C2,...,CT are in par.grid_C\n",
    "        \n",
    "        # a. feasibility\n",
    "        if np.sum(Cs) > par.M: continue # consumption larger than ressources\n",
    "            \n",
    "        # b. value-of-choice\n",
    "        discount_factors = model.par.beta**np.arange(0,par.T) \n",
    "        value = np.sum(discount_factors*utility(np.array(Cs)))\n",
    "        \n",
    "        # c. best?\n",
    "        if value > best_value:        \n",
    "            best_value = value\n",
    "            best_Cs = Cs\n",
    "            \n",
    "    # c. save\n",
    "    sol.Cs = np.array(best_Cs)\n",
    "    sol.V = best_value"
   ]
  },
  {
   "cell_type": "markdown",
   "metadata": {},
   "source": [
    "**Grid of possible choices in each period:**"
   ]
  },
  {
   "cell_type": "code",
   "execution_count": 5,
   "metadata": {},
   "outputs": [
    {
     "name": "stdout",
     "output_type": "stream",
     "text": [
      "[0 1 2 3 4 5 6]\n"
     ]
    }
   ],
   "source": [
    "model.par.grid_C = np.arange(model.par.M+1) # 0,1,...,M\n",
    "print(model.par.grid_C)"
   ]
  },
  {
   "cell_type": "markdown",
   "metadata": {},
   "source": [
    "**Results:**"
   ]
  },
  {
   "cell_type": "code",
   "execution_count": 6,
   "metadata": {},
   "outputs": [
    {
     "name": "stdout",
     "output_type": "stream",
     "text": [
      "best value = 4.226 with Cs = [2 2 1 1]\n"
     ]
    }
   ],
   "source": [
    "solve_by_brute_force(model,utility=np.sqrt)\n",
    "print(f'best value = {model.sol.V:.3f} with Cs = {model.sol.Cs}')"
   ]
  },
  {
   "cell_type": "markdown",
   "metadata": {},
   "source": [
    "## Backwards inducation"
   ]
  },
  {
   "cell_type": "markdown",
   "metadata": {},
   "source": [
    ">**Bellman's principle of Optimality:** *An optimal policy has the property that whatever the initial state and initial decision are, the remaining decisions must constitute an optimal policy with regard to the state resulting from the first decision.* "
   ]
  },
  {
   "cell_type": "markdown",
   "metadata": {},
   "source": [
    "Mathematically we obviously have the recursion:\n",
    "\n",
    "$$\n",
    "\\begin{aligned}\n",
    "V_{T}^{\\star}(M) &= \\sqrt{M} \\\\\n",
    "V_{T-1}^{\\star}(M) &= \\max_{C_{T-1}}\\left\\{ \\sqrt{C_{T-1}}+\\beta V_{T}^{\\star}(M-C_{T-1})\\right\\} \\\\\n",
    "V_{T-2}^{\\star}(M) &= \\max_{C_{T-2}}\\left\\{ \\sqrt{C_{T-2}}+\\beta V_{T-1}^{\\star}(M-C_{T-2})\\right\\} \\\\\n",
    "V_{T-3}^{\\star}(M) &= \\max_{C_{T-3}}\\left\\{ \\sqrt{C_{T-3}}+\\beta V_{T-2}^{\\star}(M-C_{T-3})\\right\\} \\\\\n",
    "& \\dots \\\\\n",
    "V_{t}^{\\star}(M) &= \\max_{C_{t}}\\left\\{ \\sqrt{C_{t}}+\\beta V_{t+1}^{\\star}(M-C_{t})\\right\\}  \\\\\n",
    "\\end{aligned}\n",
    "$$\n",
    "\n",
    "where $\\beta V_{t+1}^{\\star}(M-C_{t})$ is called the **continuation value**. \n",
    "\n",
    "The final equation is called the **Bellman equation**. The consumption function in each period, $C_t^{\\star}(M_t)$ is called the **policy function**."
   ]
  },
  {
   "cell_type": "markdown",
   "metadata": {},
   "source": [
    "Using **backwards induction** we can now solve for the value and policy functions $\\{V_t^{\\star}(M_t)\\}_{t=1}^T$ and $\\{C_t^{\\star}(M_t)\\}_{t=1}^T$ by for each $t \\in \\{T,T-1,\\dots,1\\}$ solving the problem\n",
    "\n",
    "$$\n",
    "\\begin{aligned}\n",
    "V_{t}^{\\star}(M_t) &= \\max_{C_{t}} \\sqrt{C_{t}}+\\beta V_{t+1}^{\\star}(M_{t+1})  \\\\\n",
    "    & \\text{s.t.} \\\\\n",
    "    M_{t+1} &= M_t-C_t \\\\\n",
    "    C_t &\\in \\{0,1\\dots,M_t\\}\n",
    "\\end{aligned}\n",
    "$$\n",
    "\n",
    "where the state variable $M_t$ is restricted to lie in the grid $\\{0,1,2,\\dots,M\\}$, and $M_{t+1} = \\Gamma(M_t,C_t) = M_t-C_t$ is called the **transition rule** (or transition function)."
   ]
  },
  {
   "cell_type": "code",
   "execution_count": 7,
   "metadata": {},
   "outputs": [],
   "source": [
    "def solve_time_step(t,model,utility):\n",
    "    \"\"\" solve problem in time step t \"\"\"\n",
    "    \n",
    "    par = model.par\n",
    "    sol = model.sol\n",
    "    \n",
    "    # loop over grid\n",
    "    for i_M,M in enumerate(model.par.grid_M):\n",
    "        \n",
    "        best_value = -np.inf\n",
    "        best_C = np.nan\n",
    "        for C in par.grid_C:\n",
    "            \n",
    "            # a. feasibility\n",
    "            if C > M: continue # consumption larger than ressources\n",
    "            \n",
    "            # b. value-of-choice\n",
    "            M_plus = M-C\n",
    "            value = utility(C) + par.beta*sol.V[t+1,np.int_(M_plus)]\n",
    "            \n",
    "            # c. best?\n",
    "            if value > best_value:\n",
    "                best_value = value\n",
    "                best_C = C\n",
    "        \n",
    "        # save best\n",
    "        sol.V[t,i_M] = best_value\n",
    "        sol.C[t,i_M] = best_C\n",
    "    \n",
    "def solve_by_backwards_induction(model,utility):\n",
    "    \"\"\" solve the model by backwards induction \"\"\"\n",
    "    \n",
    "    par = model.par\n",
    "    sol = model.sol    \n",
    "    \n",
    "    # a. allocate\n",
    "    sol.C = np.zeros((par.T,par.grid_M.size))\n",
    "    sol.V = np.zeros((par.T,par.grid_M.size))\n",
    "    \n",
    "    # b. time loop\n",
    "    for t in reversed(range(par.T)):\n",
    "        \n",
    "        if t == par.T-1: # last period\n",
    "            sol.C[t,:] = par.grid_M\n",
    "            sol.V[t,:] = utility(par.grid_M)\n",
    "        else: # before last period\n",
    "            solve_time_step(t,model,utility)"
   ]
  },
  {
   "cell_type": "markdown",
   "metadata": {},
   "source": [
    "**Solve problem:**"
   ]
  },
  {
   "cell_type": "code",
   "execution_count": 8,
   "metadata": {},
   "outputs": [],
   "source": [
    "model.par.grid_M = np.arange(model.par.M+1)\n",
    "solve_by_backwards_induction(model,utility=np.sqrt)"
   ]
  },
  {
   "cell_type": "markdown",
   "metadata": {},
   "source": [
    "**Simulate model for specific M:**"
   ]
  },
  {
   "cell_type": "code",
   "execution_count": 9,
   "metadata": {},
   "outputs": [],
   "source": [
    "def simulate(model):\n",
    "    \"\"\" simulate the model \"\"\"\n",
    "    \n",
    "    par = model.par\n",
    "    sol = model.sol\n",
    "    sim = model.sim\n",
    "    \n",
    "    # a. allocate\n",
    "    sim.M = np.zeros(par.T,np.int_)\n",
    "    sim.C = np.zeros(par.T,np.int_)\n",
    "    \n",
    "    # b. simulate\n",
    "    sim.M[0] = par.M\n",
    "    for t in range(par.T):\n",
    "        sim.C[t] = sol.C[t,sim.M[t]]\n",
    "        if t < par.T-1:\n",
    "            sim.M[t+1] = sim.M[t]-sim.C[t]"
   ]
  },
  {
   "cell_type": "code",
   "execution_count": 10,
   "metadata": {},
   "outputs": [
    {
     "name": "stdout",
     "output_type": "stream",
     "text": [
      "best value 4.226, Cs = [2 2 1 1]\n"
     ]
    }
   ],
   "source": [
    "simulate(model)\n",
    "print(f'best value {model.sol.V[0,model.par.M]:.3f}, Cs = {model.sim.C}')    "
   ]
  },
  {
   "cell_type": "markdown",
   "metadata": {},
   "source": [
    "## Continous choices"
   ]
  },
  {
   "cell_type": "markdown",
   "metadata": {},
   "source": [
    "**Question:** What if $C_t \\in \\mathbb{R}_+$ is allowed? (i.e. not just natural numbers)\n",
    "\n",
    "**Answer with brute-force:** Same brute-force solution method can be used, but it now depends on the density of the grid for $C_t$. And becomes very costly for dense grids."
   ]
  },
  {
   "cell_type": "code",
   "execution_count": 11,
   "metadata": {},
   "outputs": [
    {
     "name": "stdout",
     "output_type": "stream",
     "text": [
      "best value = 4.231 with Cs = [2.         1.33333333 1.33333333 1.33333333]\n",
      "found in 0.1 secs\n",
      "\n",
      "best value = 4.238 with Cs = [2.21052632 1.57894737 1.26315789 0.94736842]\n",
      "found in 1.0 secs\n",
      "\n",
      "best value = 4.240 with Cs = [2.06896552 1.65517241 1.24137931 1.03448276]\n",
      "found in 4.8 secs\n",
      "\n"
     ]
    }
   ],
   "source": [
    "for NC in [10,20,30]:\n",
    "    \n",
    "    t0 = time.time()\n",
    "    \n",
    "    model.par.grid_C = np.linspace(0,model.par.M,NC)\n",
    "    solve_by_brute_force(model,utility=np.sqrt)\n",
    "    \n",
    "    print(f'best value = {model.sol.V:.3f} with Cs = {model.sol.Cs}')\n",
    "    print(f'found in {elapsed(t0)}\\n')"
   ]
  },
  {
   "cell_type": "markdown",
   "metadata": {},
   "source": [
    "**Answer with backwards interation:**\n",
    "\n",
    "Here the best solution involes a combination of:\n",
    "\n",
    "1. **Linear interpolation:** See [here](https://numeconcopenhagen.netlify.com/lectures/Numerical_optimization#Interpolation).\n",
    "2. **Numerical optimization:** See [here](https://numeconcopenhagen.netlify.com/lectures/Optimize_print_and_plot#Algorithm-3:-Call-a-solver).\n",
    "\n",
    "The extended code is:"
   ]
  },
  {
   "cell_type": "code",
   "execution_count": 12,
   "metadata": {},
   "outputs": [],
   "source": [
    "def solve_time_step_cont(t,model,utility):\n",
    "    \"\"\" solve problem in time step t \"\"\"\n",
    "    \n",
    "    par = model.par\n",
    "    sol = model.sol\n",
    "    \n",
    "    # loop over grid\n",
    "    for i_M,M in enumerate(model.par.grid_M):\n",
    "        \n",
    "        # i. objective to minimize\n",
    "        obj = lambda C: -(utility(C) + par.beta*np.interp(M-C,par.grid_M,sol.V[t+1]))\n",
    "        \n",
    "        # ii. minimizer\n",
    "        result = optimize.minimize_scalar(obj,method='bounded',bounds=(0,M))\n",
    "\n",
    "        # iii. save best\n",
    "        sol.V[t,i_M] = -result.fun\n",
    "        sol.C[t,i_M] = -result.x\n",
    "    \n",
    "def solve_by_backwards_induction_cont(model,utility):\n",
    "    \"\"\" solve the model by backwards induction \"\"\"\n",
    "    \n",
    "    par = model.par\n",
    "    sol = model.sol    \n",
    "    \n",
    "    # a. allocate\n",
    "    sol.C = np.zeros((par.T,par.grid_M.size))\n",
    "    sol.V = np.zeros((par.T,par.grid_M.size))\n",
    "    \n",
    "    # b. time loop\n",
    "    for t in reversed(range(par.T)):\n",
    "        \n",
    "        if t == par.T-1: # last period\n",
    "            sol.C[t,:] = par.grid_M\n",
    "            sol.V[t,:] = utility(par.grid_M)\n",
    "        else: # else\n",
    "            solve_time_step_cont(t,model,utility)"
   ]
  },
  {
   "cell_type": "code",
   "execution_count": 13,
   "metadata": {},
   "outputs": [
    {
     "name": "stdout",
     "output_type": "stream",
     "text": [
      "best value = 4.232\n",
      "found in 0.0 secs\n",
      "\n",
      "best value = 4.239\n",
      "found in 0.0 secs\n",
      "\n",
      "best value = 4.240\n",
      "found in 0.0 secs\n",
      "\n"
     ]
    }
   ],
   "source": [
    "for NM in [10,20,30]:\n",
    "    \n",
    "    t0 = time.time()\n",
    "    \n",
    "    model.par.grid_M = np.linspace(0,model.par.M,NM)\n",
    "    solve_by_backwards_induction_cont(model,utility=np.sqrt)\n",
    "    \n",
    "    print(f'best value = {np.interp(model.par.M,model.par.grid_M,model.sol.V[0,:]):.3f}')\n",
    "    print(f'found in {elapsed(t0)}\\n')"
   ]
  },
  {
   "cell_type": "markdown",
   "metadata": {},
   "source": [
    "## Uncertainty"
   ]
  },
  {
   "cell_type": "markdown",
   "metadata": {},
   "source": [
    "**Question:** What if there consumer a $\\pi$-percent chance that an apple rot each period? I.e. the transition function then becomes: \n",
    "\n",
    "$$\n",
    "M_{t+1} = \\Gamma(M_t,C_t) \\sim\n",
    "\\begin{cases}\n",
    "\\max\\{M_{t}-C_{t}-1,0\\} & \\text{with prob. }\\pi\\\\\n",
    "M_{t}-C_{t} & \\text{with prob. }1-\\pi\n",
    "\\end{cases}\n",
    "$$\n",
    "\n",
    "and this is **stochastic**.\n",
    "\n",
    "**No annswer with brute-force exists:** Information is revealed over time, so a once-and-for-all solution does not exist.\n",
    "\n",
    "**Answer with backwards inducation:** Straigtforward extension with the Bellman equation\n",
    "\n",
    "$$\n",
    "V_{t}^{\\star}(M_t) = \\max_{C_{t}} \\sqrt{C_{t}} + \\mathbb{E}_t[\\beta V_{t+1}^{\\star}(M_{t+1})]\n",
    "$$\n",
    "\n",
    "where we the **expected continous value** now needs to be computed using some form of **numerical integration**."
   ]
  },
  {
   "cell_type": "code",
   "execution_count": 14,
   "metadata": {},
   "outputs": [],
   "source": [
    "def solve_time_step_cont_stoch(t,model,utility):\n",
    "    \"\"\" solve problem in time step t \"\"\"\n",
    "    \n",
    "    par = model.par\n",
    "    sol = model.sol\n",
    "    \n",
    "    # loop over grid\n",
    "    for i_M,M in enumerate(model.par.grid_M):\n",
    "        \n",
    "        # i. objective to minimize\n",
    "        def obj(C):\n",
    "            \n",
    "            obj = utility(C)\n",
    "            obj += par.pi*par.beta*np.interp(np.fmax(M-C-1,0),par.grid_M,sol.V[t+1])\n",
    "            obj += (1-par.pi)*par.beta*np.interp(np.fmax(M-C,0),par.grid_M,sol.V[t+1])\n",
    "            \n",
    "            return -obj\n",
    "        \n",
    "        # ii. minimizer\n",
    "        result = optimize.minimize_scalar(obj,method='bounded',bounds=(0,M))\n",
    "\n",
    "        # iii. save best\n",
    "        sol.V[t,i_M] = -result.fun\n",
    "        sol.C[t,i_M] = result.x\n",
    "    \n",
    "def solve_by_backwards_induction_cont_stoch(model,utility):\n",
    "    \"\"\" solve the model by backwards induction \"\"\"\n",
    "    \n",
    "    par = model.par\n",
    "    sol = model.sol    \n",
    "    \n",
    "    # a. allocate\n",
    "    sol.C = np.zeros((par.T,par.grid_M.size))\n",
    "    sol.V = np.zeros((par.T,par.grid_M.size))\n",
    "    \n",
    "    # b. time loop\n",
    "    for t in reversed(range(par.T)):\n",
    "        \n",
    "        if t == par.T-1: # last period\n",
    "            sol.C[t,:] = par.grid_M\n",
    "            sol.V[t,:] = utility(par.grid_M)\n",
    "        else: # else\n",
    "            solve_time_step_cont_stoch(t,model,utility)"
   ]
  },
  {
   "cell_type": "markdown",
   "metadata": {},
   "source": [
    "**Results:**"
   ]
  },
  {
   "cell_type": "code",
   "execution_count": 15,
   "metadata": {},
   "outputs": [
    {
     "name": "stdout",
     "output_type": "stream",
     "text": [
      "best value = 3.596\n",
      "found in 0.0 secs\n",
      "\n",
      "best value = 3.628\n",
      "found in 0.0 secs\n",
      "\n",
      "best value = 3.631\n",
      "found in 0.0 secs\n",
      "\n"
     ]
    }
   ],
   "source": [
    "model.par.pi = 0.50 # parameter chioce\n",
    "for NM in [10,20,30]:\n",
    "    \n",
    "    t0 = time.time()\n",
    "    \n",
    "    model.par.grid_M = np.linspace(0,model.par.M,NM)\n",
    "    solve_by_backwards_induction_cont_stoch(model,utility=np.sqrt)\n",
    "    \n",
    "    print(f'best value = {np.interp(model.par.M,model.par.grid_M,model.sol.V[0,:]):.3f}')\n",
    "    print(f'found in {elapsed(t0)}\\n')"
   ]
  },
  {
   "cell_type": "markdown",
   "metadata": {},
   "source": [
    "**Simulate:**"
   ]
  },
  {
   "cell_type": "code",
   "execution_count": 16,
   "metadata": {},
   "outputs": [],
   "source": [
    "def simulate_stoch(model):\n",
    "    \"\"\" simulate the model \"\"\"\n",
    "    \n",
    "    par = model.par\n",
    "    sol = model.sol\n",
    "    sim = model.sim\n",
    "    \n",
    "    # a. allocate\n",
    "    sim.M = np.zeros(par.T)\n",
    "    sim.C = np.zeros(par.T)\n",
    "    \n",
    "    # b. simulate\n",
    "    sim.M[0] = par.M\n",
    "    for t in range(par.T):\n",
    "        sim.C[t] = np.interp(sim.M[t],par.grid_M,sol.C[t])\n",
    "        if t < par.T-1:\n",
    "            if np.random.uniform(0,1) < par.pi:\n",
    "                sim.M[t+1] = np.fmax(sim.M[t]-sim.C[t]-1,0)\n",
    "            else:\n",
    "                sim.M[t+1] = sim.M[t]-sim.C[t]"
   ]
  },
  {
   "cell_type": "markdown",
   "metadata": {},
   "source": [
    "**Run simulation:**"
   ]
  },
  {
   "cell_type": "code",
   "execution_count": 17,
   "metadata": {},
   "outputs": [
    {
     "name": "stdout",
     "output_type": "stream",
     "text": [
      "[1.483 1.241 1.069 0.000 ]\n",
      "[1.483 1.241 0.862 1.414 ]\n",
      "[1.483 1.241 1.069 0.000 ]\n",
      "[1.483 1.269 1.434 0.814 ]\n",
      "[1.483 1.241 1.069 0.207 ]\n",
      "[1.483 1.269 0.838 0.410 ]\n",
      "[1.483 1.241 1.069 0.000 ]\n",
      "[1.483 1.269 1.434 0.814 ]\n",
      "[1.483 1.241 0.862 1.414 ]\n",
      "[1.483 1.269 1.434 1.814 ]\n"
     ]
    }
   ],
   "source": [
    "np.random.seed(1917)\n",
    "for _ in range(10):\n",
    "    simulate_stoch(model)\n",
    "    print('[',end='')\n",
    "    for t in range(model.par.T):\n",
    "        print(f'{model.sim.C[t]:.3f} ',end='')\n",
    "    print(']')    "
   ]
  },
  {
   "cell_type": "markdown",
   "metadata": {},
   "source": [
    "# Further issues"
   ]
  },
  {
   "cell_type": "markdown",
   "metadata": {},
   "source": [
    "Solving a dynamic optimization problem with backwards induction is also called **value function iteration**.\n",
    "\n",
    "1. The same method works if there are **multiple states and choices**\n",
    "2. The states and choices can be **mixed discrete and continuous variables**\n",
    "3. **Infinite horizon** problems for $T \\rightarrow \\infty$ is of special interest (the Bellman operator can be a **contraction mapping**)\n",
    "4. There are many different **interpolation** approaches (splines, regression, etc.) (see [scipy.interpolate](https://docs.scipy.org/doc/scipy/reference/interpolate.html))\n",
    "5. There are many different **numerical integration** approaches (Monte Carlo, equiprobable, Gauss-Hermite, Tauchen etc.) (see [wikipedia](https://en.wikipedia.org/wiki/Numerical_integration))\n",
    "6. Solution methods using information from **first order conditions** are typically more computationally efficient.\n",
    "7. Methods for limiting the number of grid points (e.g. using **sparse grids**) is another avenue for speed-up"
   ]
  }
 ],
 "metadata": {
  "kernelspec": {
   "display_name": "Python 3 (ipykernel)",
   "language": "python",
   "name": "python3"
  },
  "language_info": {
   "codemirror_mode": {
    "name": "ipython",
    "version": 3
   },
   "file_extension": ".py",
   "mimetype": "text/x-python",
   "name": "python",
   "nbconvert_exporter": "python",
   "pygments_lexer": "ipython3",
   "version": "3.9.10"
  },
  "toc-autonumbering": true
 },
 "nbformat": 4,
 "nbformat_minor": 4
}
