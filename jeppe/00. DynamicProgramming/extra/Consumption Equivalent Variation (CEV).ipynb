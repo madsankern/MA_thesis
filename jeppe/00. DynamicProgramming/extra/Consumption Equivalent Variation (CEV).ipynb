{
 "cells": [
  {
   "cell_type": "markdown",
   "metadata": {},
   "source": [
    "# Consumption Equivalent Variation (CEV)"
   ]
  },
  {
   "cell_type": "markdown",
   "metadata": {},
   "source": [
    "1. Use the model in the **ConsumptionSaving.pdf** slides and solve it using **egm**\n",
    "2. This notebooks estimates the *cost of income risk* through the Consumption Equivalent Variation (CEV) \n",
    "\n",
    "We will here focus on the cost of income risk, but the CEV can be used to estimate the value of many different aspects of an economy. For eaxample, [Oswald (2019)](http://qeconomics.org/ojs/index.php/qe/article/view/701 \"The option value of homeownership\") estimated the option value of homeownership using a similar strategy as described below.\n",
    "\n",
    "**Goal:** To estimate the CEV by comparing the *value of life* under the baseline economy and an alternative economy with higher permanent income shock variance along with a consumption compensation.\n",
    "\n",
    "**Value of Life:** \n",
    "1. Let the *utility function* be a generalized version of the CRRA utility function with $\\delta$ included as a potential consumption compensation. \n",
    "\\begin{equation}\n",
    "{u}(c,\\delta) = \\frac{(c\\cdot(1+\\delta))^{1-\\rho}}{1-\\rho}\n",
    "\\end{equation}\n",
    "2. Let the *value of life* of a synthetic consumer $s$ for a given level of permanent income shock varaince, $\\sigma_{\\psi}$, and $\\delta$, be\n",
    "\\begin{equation}\n",
    "{V}_{s}({\\sigma}_{\\psi},\\delta)=\\sum_{t=1}^T \\beta ^{t-1}{u}({c}^{\\star}_{s,t}({\\sigma}_{\\psi},\\delta),\\delta)\n",
    "\\end{equation}\n",
    "where ${c}^{\\star}_{s,t}({\\sigma}_{\\psi},\\delta)$ is optimal consumption found using the **egm**. The value of life is calcualted in the function `value_of_life(.)` defined below.\n",
    "\n",
    "**Consumption Equivalent Variation:** \n",
    "1. Let $V=\\frac{1}{S}\\sum_{s=1}^SV(\\sigma_{\\psi},0)$ be the average value of life under the *baseline* economy with the baseline value of $\\sigma_{\\psi}$ and $\\delta=0$.\n",
    "2. Let $\\tilde{V}(\\delta)=\\frac{1}{S}\\sum_{s=1}^SV(\\tilde{\\sigma}_{\\psi},\\delta)$ be the average value of life under the *alternative* economy with $\\tilde{\\sigma}_{\\psi} > \\sigma_{\\psi}$.\n",
    "\n",
    "The CEV is the value of $\\delta$ that sets $V=\\tilde{V}(\\delta)$ and can be estimated as \n",
    "\\begin{equation}\n",
    "\\hat{\\delta} = \\arg\\min_\\delta (V-\\tilde{V}(\\delta))^2\n",
    "\\end{equation}\n",
    "where the objective function is calculated in `obj_func_cev(.)` defined below."
   ]
  },
  {
   "cell_type": "markdown",
   "metadata": {},
   "source": [
    "# Setup"
   ]
  },
  {
   "cell_type": "code",
   "execution_count": 1,
   "metadata": {},
   "outputs": [],
   "source": [
    "%load_ext autoreload\n",
    "%autoreload 2\n",
    "\n",
    "import time\n",
    "import numpy as np\n",
    "import scipy.optimize as optimize\n",
    "\n",
    "import matplotlib.pyplot as plt\n",
    "plt.style.use('seaborn-whitegrid')\n",
    "prop_cycle = plt.rcParams['axes.prop_cycle']\n",
    "colors = prop_cycle.by_key()['color']\n",
    "\n",
    "import sys\n",
    "sys.path.append('../')\n",
    "\n",
    "from consav import jit\n",
    "import ConsumptionSavingModel as csm\n",
    "from ConsumptionSavingModel import ConsumptionSavingModelClass"
   ]
  },
  {
   "cell_type": "markdown",
   "metadata": {},
   "source": [
    "# Setup the baseline model and the alternative model"
   ]
  },
  {
   "cell_type": "code",
   "execution_count": 2,
   "metadata": {},
   "outputs": [],
   "source": [
    "par = {'simT':40}\n",
    "model = ConsumptionSavingModelClass(name='baseline',par=par)\n",
    "\n",
    "# increase the permanent income with 100 percent and allow for consumption compensation\n",
    "par_cev = {'sigma_psi':0.2,'do_cev':1,'simT':40}\n",
    "model_cev = ConsumptionSavingModelClass(name='cev',par=par_cev)"
   ]
  },
  {
   "cell_type": "code",
   "execution_count": 3,
   "metadata": {},
   "outputs": [
    {
     "name": "stdout",
     "output_type": "stream",
     "text": [
      "model solved in 3.1 secs\n",
      "model simulated in 3.4 secs\n"
     ]
    }
   ],
   "source": [
    "model.solve()\n",
    "model.simulate()"
   ]
  },
  {
   "cell_type": "markdown",
   "metadata": {},
   "source": [
    "# Average value of life "
   ]
  },
  {
   "cell_type": "markdown",
   "metadata": {},
   "source": [
    "**Define Functions:** value of life and objective function used to estimate \"cev\""
   ]
  },
  {
   "cell_type": "code",
   "execution_count": 4,
   "metadata": {},
   "outputs": [],
   "source": [
    "def value_of_life(model):\n",
    "    \n",
    "    # utility associated with consumption for all N and T\n",
    "    with jit(model) as model_jit: \n",
    "        util = csm.utility(model_jit.sim.c,model_jit.par)\n",
    "    \n",
    "    # discounted sum of utility\n",
    "    disc = np.ones(model.par.simT)\n",
    "    disc[1:] = np.cumprod(np.ones(model.par.simT-1)*model.par.beta)\n",
    "    \n",
    "    disc_util = np.sum(disc*util,axis=1)\n",
    "    \n",
    "    # return average of discounted sum of utility\n",
    "    return np.mean(disc_util)    \n",
    "\n",
    "def obj_func_cev(theta,model_cev,value_of_life_baseline):\n",
    "    \n",
    "    # update cev-parameter\n",
    "    setattr(model_cev.par,'cev',theta)\n",
    "    \n",
    "    # re-solve and simulate alternative model\n",
    "    model_cev.solve(do_print=False)\n",
    "    model_cev.simulate(do_print=False)\n",
    "    \n",
    "    # calculate value of life\n",
    "    value_of_life_cev = value_of_life(model_cev)\n",
    "    \n",
    "    # return squared difference to baseline\n",
    "    return (value_of_life_cev - value_of_life_baseline)*(value_of_life_cev - value_of_life_baseline)\n"
   ]
  },
  {
   "cell_type": "markdown",
   "metadata": {},
   "source": [
    "**Baseline value of life and objective function at cev=0**"
   ]
  },
  {
   "cell_type": "code",
   "execution_count": 5,
   "metadata": {},
   "outputs": [
    {
     "data": {
      "text/plain": [
       "3.46846115430638"
      ]
     },
     "execution_count": 5,
     "metadata": {},
     "output_type": "execute_result"
    }
   ],
   "source": [
    "value_of_life_baseline = value_of_life(model)\n",
    "obj_func_cev(0.0,model_cev,value_of_life_baseline)"
   ]
  },
  {
   "cell_type": "code",
   "execution_count": 6,
   "metadata": {},
   "outputs": [
    {
     "data": {
      "image/png": "[encoded data removed]",
      "text/plain": [
       "<Figure size 432x288 with 1 Axes>"
      ]
     },
     "metadata": {},
     "output_type": "display_data"
    }
   ],
   "source": [
    "# plot the objective function\n",
    "grid_cev = np.linspace(0.0,0.2,20)\n",
    "grid_obj = np.empty(grid_cev.size)\n",
    "\n",
    "for j,cev in enumerate(grid_cev):\n",
    "    grid_obj[j] = obj_func_cev(cev,model_cev,value_of_life_baseline)\n",
    "    \n",
    "plt.plot(grid_cev,grid_obj);   "
   ]
  },
  {
   "cell_type": "markdown",
   "metadata": {},
   "source": [
    "# Estimate the Consumption Equivalent Variation (CEV)"
   ]
  },
  {
   "cell_type": "code",
   "execution_count": 7,
   "metadata": {},
   "outputs": [
    {
     "data": {
      "text/plain": [
       "     fun: 9.21421081920921e-18\n",
       "    nfev: 48\n",
       "     nit: 43\n",
       " success: True\n",
       "       x: 0.0975865281411968"
      ]
     },
     "execution_count": 7,
     "metadata": {},
     "output_type": "execute_result"
    }
   ],
   "source": [
    "res = optimize.minimize_scalar(obj_func_cev, bounds=[-0.01,0.5], \n",
    "                               args=(model_cev,value_of_life_baseline),method='golden')\n",
    "res"
   ]
  },
  {
   "cell_type": "markdown",
   "metadata": {},
   "source": [
    "The estimated CEV suggests that consumers would be indifferent between the baseline economy and a 100% increase in the permanent income shock variance along with a 10% increase in consumption in all periods."
   ]
  }
 ],
 "metadata": {
  "kernelspec": {
   "display_name": "Python 3",
   "language": "python",
   "name": "python3"
  },
  "language_info": {
   "codemirror_mode": {
    "name": "ipython",
    "version": 3
   },
   "file_extension": ".py",
   "mimetype": "text/x-python",
   "name": "python",
   "nbconvert_exporter": "python",
   "pygments_lexer": "ipython3",
   "version": "3.8.6"
  },
  "toc-autonumbering": true
 },
 "nbformat": 4,
 "nbformat_minor": 4
}
