{
 "cells": [
  {
   "cell_type": "markdown",
   "metadata": {},
   "source": [
    "# Efficient Estimation using 1 simulation"
   ]
  },
  {
   "cell_type": "markdown",
   "metadata": {},
   "source": [
    "1. This notebook shows how to **estimate** a simple model using Simulated Minimum Distance (SMD)\n",
    "2. It illustrates how an **efficient** estimator can be constructed using only 1 simulatoin, following the idea proposed by [Kirill Evdokimov](https://www.mit.edu/~kevdokim/ESMSM_sep16.pdf \"Efficient Estimation with a Finite Number of Simulation Draws per Observation\")"
   ]
  },
  {
   "cell_type": "markdown",
   "metadata": {},
   "source": [
    "## Recap: Simulated Minimum Distance"
   ]
  },
  {
   "cell_type": "markdown",
   "metadata": {},
   "source": [
    "**Data:** We assume that we have data available for $N$ households over $T$ periods, collected in $\\{w_i\\}_i^N$.\n",
    "\n",
    "**Goal:** We wish to estimate the true, unknown, parameter vector $\\theta_0$. We assume our model is correctly specified in the sense that the observed data stems from the model."
   ]
  },
  {
   "cell_type": "markdown",
   "metadata": {},
   "source": [
    "The **Simulated Minimum Distance (SMD)** estimator is\n",
    "\n",
    "$$\n",
    "\\hat{\\theta} = \\arg\\min_{\\theta} g(\\theta)'Wg(\\theta)\n",
    "$$\n",
    "\n",
    "where $W$ is a $J\\times J$ positive semidefinite **weighting matrix** and\n",
    "\n",
    "$$\n",
    "g(\\theta)=\\Lambda_{data}-\\Lambda_{sim}(\\theta)\n",
    "$$\n",
    "\n",
    "is the distance between $J\\times1$ vectors of moments calculated in the data and the simulated data, respectively. Concretely,\n",
    "\n",
    "$$\n",
    "\\Lambda_{data} = \\frac{1}{N}\\sum_{i=1}^N m(\\theta_0|w_i) \\\\\n",
    "\\Lambda_{sim}(\\theta) = \\frac{1}{N_{sim}}\\sum_{s=1}^{N_{sim}} m(\\theta|w_s) \n",
    "$$\n",
    "\n",
    "are $J\\times1$ vectors of moments calculated in the data and the simulated data, respectively. "
   ]
  },
  {
   "cell_type": "markdown",
   "metadata": {},
   "source": [
    "**Variance of the estimator:** Recall that  the variance of the estimator was \n",
    "$$\n",
    "\\begin{align}\n",
    "\\text{Var}(\\hat{\\theta})&=(1+S^{-1})\\Gamma\\Omega\\Gamma'/N \\\\\n",
    "\\Gamma &= -(G'WG)^{-1}G'W \\\\\n",
    "\\Omega & = \\text{Var}(m(\\theta_0|w_i))\n",
    "\\end{align}\n",
    "$$\n",
    "where we implicitly used that $Var(m(\\theta_0|w_i))=Var(m(\\theta|w_s))$ and $Cov(m(\\theta_0|w_i),m(\\theta|w_s))=0$\n",
    "\n",
    "**Efficient Estimator:** Using the \"optimal\" weighting matrix, $W=\\Omega^{-1}$, gives the *lowest variance* for a given number of simulations, $S$, as\n",
    "$$\n",
    "\\begin{align}\n",
    "\\text{Var}(\\hat{\\theta})&=(1+S^{-1})(G'\\Omega^{-1}G)^{-1}/N \n",
    "\\end{align}\n",
    "$$\n",
    "\n",
    "> **Observation:** Only as $S\\rightarrow\\infty$ does the minimum variance of the SMD estimator approach the minimum variance of the GMM estimator.\n",
    "\n",
    "> **Solution:** [Kirill Evdokimov](https://www.mit.edu/~kevdokim/ESMSM_sep16.pdf \"Efficient Estimation with a Finite Number of Simulation Draws per Observation\") shows how we can use an augmented set of moments related to the assumptions related to simulation to basically remove the factor $(1+S^{-1})$ on the asymptotic variance of the SMD estimator using only one(!) simulation, $S=1$!"
   ]
  },
  {
   "cell_type": "markdown",
   "metadata": {},
   "source": [
    "# Model and Estimators\n",
    "We use the same example as Kirill Evdokimov. Imagine the simple setup where we have the data-generating process (DGP):\n",
    "$$\n",
    "\\begin{align}\n",
    "Y_i &= \\theta_0 + \\varepsilon_i \\\\\n",
    "\\varepsilon_i &\\sim N(0,1) \n",
    "\\end{align}\n",
    "$$\n",
    "**SMD:** We can use the moment function with only $S=1$ simulatin of $\\varepsilon$ per individual\n",
    "$$\n",
    "g_i(\\theta|w_i) = Y_i - \\theta -\\varepsilon_i\n",
    "$$\n",
    "to estimate $\\theta$. We will call that $\\hat{\\theta}_{SMD}$. The moment vector would be\n",
    "$$\n",
    "g(\\theta) = \n",
    "\\bigg( \\begin{array}{c}\n",
    "\\overline{Y} - \\theta -\\overline{\\varepsilon} \\\\\n",
    "\\end{array} \\bigg)\n",
    "$$\n",
    "where $\\overline{Y} = \\frac{1}{N}\\sum_{i=1}^{N} Y_i$ and $\\overline{\\varepsilon} = \\frac{1}{N}\\sum_{i=1}^{N} \\varepsilon_i$.  \n",
    "\n",
    "**ES-SMD:** We can use the efficient SMD to augment the moment conditions with the fact that the simulated $\\varepsilon$'s should have mean-zero and get the vector of moments in this augmented situation as\n",
    "$$\n",
    "g_{aug}(\\theta) = \n",
    "\\bigg( \\begin{array}{c}\n",
    "\\overline{Y} - \\theta -\\overline{\\varepsilon} \\\\\n",
    "0-\\overline{\\varepsilon} \\\\\n",
    "\\end{array} \\bigg)\n",
    "$$\n",
    "where we use the optimal weighting matrix $W=\\Omega^{-1}$ where\n",
    "$$\n",
    "\\Omega = Var(g_{i,aug}(\\theta|w_i)) =\n",
    "\\bigg( \\begin{array}{cc}\n",
    "2 & 1\\\\\n",
    "1 & 1 \\\\\n",
    "\\end{array} \\bigg)\n",
    "$$\n",
    "and\n",
    "$$\n",
    "\\Omega^{-1} = \\bigg( \\begin{array}{cc}\n",
    "1 & -1\\\\\n",
    "-1 & 2 \\\\\n",
    "\\end{array} \\bigg)\n",
    "$$\n",
    "\n",
    "We will call this estimator $\\hat{\\theta}_{ES-SMD}$.\n",
    "\n",
    "**Asymptotic Variances:** \n",
    "1. In the standard SMD estimator, the weighting matrix does not matter and we have \n",
    "$$\n",
    "\\begin{align}\n",
    "AVar(\\hat{\\theta}_{SMD}) &= Var(g_i(\\theta|w_i)) \\\\\n",
    " &= Var(Y_i - \\theta -\\varepsilon_i)\\\\\n",
    " &= Var(Y_i) +Var(\\varepsilon_i) \\\\\n",
    " &= 2\n",
    "\\end{align}\n",
    "$$\n",
    "2. In the augmented ES-SMD estmator, we have \n",
    "$$\n",
    "\\begin{align}\n",
    "AVar(\\hat{\\theta}_{ES-SMD}) &= Var((G'WG)^{-1}G'Wg_{i,aug}(\\theta|w_i)) \\\\\n",
    " &= Var(-Y_i + \\theta)\\\\\n",
    " &= 1\n",
    "\\end{align}\n",
    "$$\n",
    "bacause\n",
    "$$\n",
    "(G'WG)^{-1}G'Wg_{i,aug}(\\theta|w_i) =  - (Y_i - \\theta -\\varepsilon) - \\varepsilon.\n",
    "$$\n",
    "3. We thus have that the asymptotic variance of the ES-SMD estimator is lower that the SMD estimator!\n",
    "\n",
    "We will now illustrate this result through a **Monte Carlo experiment** too!"
   ]
  },
  {
   "cell_type": "markdown",
   "metadata": {},
   "source": [
    "# Setup"
   ]
  },
  {
   "cell_type": "code",
   "execution_count": 1,
   "metadata": {},
   "outputs": [],
   "source": [
    "%load_ext autoreload\n",
    "%autoreload 2\n",
    "\n",
    "import numpy as np\n",
    "from types import SimpleNamespace\n",
    "\n",
    "import sys\n",
    "sys.path.append('../')\n",
    "\n",
    "from SimulatedMinimumDistance import SimulatedMinimumDistanceClass"
   ]
  },
  {
   "cell_type": "markdown",
   "metadata": {},
   "source": [
    "# Model construction"
   ]
  },
  {
   "cell_type": "code",
   "execution_count": 2,
   "metadata": {},
   "outputs": [],
   "source": [
    "class ModelClass():\n",
    "    \n",
    "    def __init__(self,**kwargs):\n",
    "        \n",
    "        self.par = SimpleNamespace()\n",
    "        self.sim = SimpleNamespace()\n",
    "        \n",
    "        self.par.theta = 0.5\n",
    "        \n",
    "        self.par.simN = 5000\n",
    "        \n",
    "        for key,val in kwargs.items():\n",
    "            setattr(self.par,key,val)\n",
    "\n",
    "    def solve(self,do_print=False): pass\n",
    "    \n",
    "    def simulate(self,seed=None,do_print=False):\n",
    "        \n",
    "        if seed is not None:\n",
    "            np.random.seed(seed)\n",
    "        self.sim.e = np.random.normal(size=self.par.simN)\n",
    "        \n",
    "        self.sim.Y = self.par.theta + self.sim.e"
   ]
  },
  {
   "cell_type": "markdown",
   "metadata": {},
   "source": [
    "# Estimation choices"
   ]
  },
  {
   "cell_type": "code",
   "execution_count": 3,
   "metadata": {},
   "outputs": [],
   "source": [
    "# a. model settings\n",
    "N = 100_000\n",
    "N_sim = N\n",
    "        \n",
    "par = {'theta':0.2,'simN':N_sim}\n",
    "\n",
    "par_true = par.copy()\n",
    "par_true['simN'] = N\n",
    "\n",
    "# b. parameters to estimate\n",
    "est_par = {\n",
    "    'theta': {'guess':0.5,'lower':0.0,'upper':1.0,},\n",
    "}\n",
    "\n",
    "\n",
    "# c. moment function used in estimation. \n",
    "def mom_func(data,ids=None):\n",
    "    \"\"\" returns the average Y \"\"\"\n",
    "    \n",
    "    if ids is None:\n",
    "        mean_Y = np.mean(data.Y)\n",
    "    else:\n",
    "        mean_Y = np.mean(data.Y[ids])\n",
    "\n",
    "    return np.array([mean_Y]) # alwaus give a zero\n",
    "\n",
    "# d. augmented moment function used in efficient estimation. \n",
    "def mom_func_aug(data,ids=None):\n",
    "    \"\"\" returns the average Y and the average of the simulations\"\"\"\n",
    "    \n",
    "    if ids is None:\n",
    "        mean_Y_e = np.mean([data.Y,data.e],axis=1)\n",
    "    else:\n",
    "        mean_Y_e = np.mean([data.Y[ids],data[ids].e],axis=1)\n",
    "\n",
    "    return mean_Y_e"
   ]
  },
  {
   "cell_type": "markdown",
   "metadata": {},
   "source": [
    "# Monte Carlo Estimation results"
   ]
  },
  {
   "cell_type": "code",
   "execution_count": 4,
   "metadata": {},
   "outputs": [],
   "source": [
    "num_boot = 1_000\n",
    "\n",
    "theta_est = np.empty(num_boot)\n",
    "theta_est_aug = theta_est.copy()\n",
    "\n",
    "model = ModelClass(**par)\n",
    "\n",
    "for b in range(num_boot):\n",
    "    \n",
    "    # a. setup model to simulate data\n",
    "    true = ModelClass(**par_true)\n",
    "    true.simulate(seed=2050+b) # this seed is different from the default\n",
    "\n",
    "    # b. data moments\n",
    "    datamoms = mom_func(true.sim)\n",
    "    datamoms_aug = np.array([datamoms[0],0.0])\n",
    "    \n",
    "    # c. setup estimators\n",
    "    smd = SimulatedMinimumDistanceClass(est_par,mom_func,datamoms=datamoms)\n",
    "    smd_aug = SimulatedMinimumDistanceClass(est_par,mom_func_aug,datamoms=datamoms_aug)\n",
    "    \n",
    "    # d. weighting matrix\n",
    "    W = np.ones((datamoms.size,datamoms.size)) # does not matter here\n",
    "    Omega = np.array([[2.0,1.0],[1.0,1.0]]) # covariance matrix of augmentet moments. \n",
    "    W_aug = np.linalg.inv(Omega)\n",
    "    \n",
    "    # e. estimate the model (can take several minutes)\n",
    "    est = smd.estimate(model,W,do_print_initial=False)\n",
    "    est_aug = smd_aug.estimate(model,W_aug,do_print_initial=False)\n",
    "    \n",
    "    # f. store the estimates \n",
    "    theta_est[b] = est['theta']\n",
    "    theta_est_aug[b] = est_aug['theta']\n"
   ]
  },
  {
   "cell_type": "code",
   "execution_count": 5,
   "metadata": {},
   "outputs": [
    {
     "name": "stdout",
     "output_type": "stream",
     "text": [
      "Variance, SMD:    2.036992\n",
      "Variance, ES-SMD: 1.096781\n"
     ]
    }
   ],
   "source": [
    "print(f'Variance, SMD:    {np.var(theta_est-par_true[\"theta\"])*N:2.6f}')\n",
    "print(f'Variance, ES-SMD: {np.var(theta_est_aug-par_true[\"theta\"])*N:2.6f}')"
   ]
  }
 ],
 "metadata": {
  "kernelspec": {
   "display_name": "Python 3",
   "language": "python",
   "name": "python3"
  },
  "language_info": {
   "codemirror_mode": {
    "name": "ipython",
    "version": 3
   },
   "file_extension": ".py",
   "mimetype": "text/x-python",
   "name": "python",
   "nbconvert_exporter": "python",
   "pygments_lexer": "ipython3",
   "version": "3.8.6"
  },
  "toc-autonumbering": true
 },
 "nbformat": 4,
 "nbformat_minor": 4
}
