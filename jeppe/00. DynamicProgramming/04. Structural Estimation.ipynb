{
 "cells": [
  {
   "cell_type": "markdown",
   "metadata": {},
   "source": [
    "# Structural Estimation"
   ]
  },
  {
   "cell_type": "markdown",
   "metadata": {},
   "source": [
    "1. This notebook shows how to **estimate** the consumption model in **ConsumptionSaving.pdf** using **Simulated Minimum Distance (SMD)**\n",
    "2. It also shows how to calculate **standard errors** and **sensitivity measures**"
   ]
  },
  {
   "cell_type": "markdown",
   "metadata": {},
   "source": [
    "## Simulated Minimum Distance"
   ]
  },
  {
   "cell_type": "markdown",
   "metadata": {},
   "source": [
    "**Data:** We assume that we have data available for $N$ households over $T$ periods, collected in $\\{w_i\\}_i^N$.\n",
    "\n",
    "**Goal:** We wish to estimate the true, unknown, parameter vector $\\theta_0$. We assume our model is correctly specified in the sense that the observed data stems from the model."
   ]
  },
  {
   "cell_type": "markdown",
   "metadata": {},
   "source": [
    "**Overview:**\n",
    "\n",
    "1. We focus on matching certain (well-chosen) **empirical moments** in the data to **simulated moments** from the model.\n",
    "\n",
    "2. We calculate a $J\\times1$ vector of moments in the data, $\\Lambda_{data} = \\frac{1}{N}\\sum_{i=1}^N m(\\theta_0|w_i)$. This could e.g. be average consumption over the life-cycle, the income variance or regressions coefficients from some statistical model.\n",
    "\n",
    "3. To estimate $\\theta$ we chose $\\theta$ as to **minimize the (squared) distance** between the moments in the data and the same moments calculated from simulated data. Let $\\Lambda_{sim}(\\theta) = \\frac{1}{N_{sim}}\\sum_{s=1}^{N_{sim}} m(\\theta|w_s)$ be the same moments calculated on simulated data for $N_{sim}=S\\times N$ observations for $T_{sim}$ periods from the model for a given value of $\\theta$. As we change $\\theta$, the simulated outomes will change and the moments will too."
   ]
  },
  {
   "cell_type": "markdown",
   "metadata": {},
   "source": [
    "The **Simulated Minimum Distance (SMD)** estimator then is\n",
    "\n",
    "$$\n",
    "\\hat{\\theta} = \\arg\\min_{\\theta} g(\\theta)'Wg(\\theta)\n",
    "$$\n",
    "\n",
    "where $W$ is a $J\\times J$ positive semidefinite **weighting matrix** and\n",
    "\n",
    "$$\n",
    "g(\\theta)=\\Lambda_{data}-\\Lambda_{sim}(\\theta)\n",
    "$$\n",
    "\n",
    "is the distance between $J\\times1$ vectors of moments calculated in the data and the simulated data, respectively. Concretely,\n",
    "\n",
    "$$\n",
    "\\Lambda_{data} = \\frac{1}{N}\\sum_{i=1}^N m(\\theta_0|w_i) \\\\\n",
    "\\Lambda_{sim}(\\theta) = \\frac{1}{N_{sim}}\\sum_{s=1}^{N_{sim}} m(\\theta|w_s) \n",
    "$$\n",
    "\n",
    "are $J\\times1$ vectors of moments calculated in the data and the simulated data, respectively. "
   ]
  },
  {
   "cell_type": "markdown",
   "metadata": {},
   "source": [
    "**Settings:** In our baseline setup, we will have $N=5,000$ observations for $T=40$ periods, and simulate $N_{sim}=100,000$ synthetic consumers for $T_{sim} = 40$ periods when estimating the model. \n",
    "\n",
    "**Solution of consumption-saving model:** This estimator requires the solution (and simulation) of the model each trial guess of $\\theta$ as we search for the one that minimizes the objective function. Therefore, structural estimation can in general be quite time-consuming. We will use the EGM to solve the consumption model quite fast and thus be able to estimate parameters within a couple of minutes. Estimation of more complex models might take significantly longer."
   ]
  },
  {
   "cell_type": "markdown",
   "metadata": {},
   "source": [
    "> **Note I:** When regressions coefficients are used as moments, they are sometimes referred to as **auxiliary parameters** (APs) and the estimator using these APs as an **Indirect Inference (II)** estimator ([Gouriéroux, Monfort and Renault, 1993](https://doi.org/10.1002/jae.3950080507)).\n",
    "\n",
    "> **Note II:** The estimator used is also called a **simulated method of momoments (SMM)** estimator. I.e. a simulated General Method of Moments (GMM) estimator."
   ]
  },
  {
   "cell_type": "markdown",
   "metadata": {},
   "source": [
    "# Setup"
   ]
  },
  {
   "cell_type": "code",
   "execution_count": 1,
   "metadata": {},
   "outputs": [],
   "source": [
    "%load_ext autoreload\n",
    "%autoreload 2\n",
    "\n",
    "import time\n",
    "import numpy as np\n",
    "import scipy.optimize as optimize\n",
    "\n",
    "import matplotlib.pyplot as plt\n",
    "plt.style.use('seaborn-whitegrid')\n",
    "prop_cycle = plt.rcParams['axes.prop_cycle']\n",
    "colors = prop_cycle.by_key()['color']"
   ]
  },
  {
   "cell_type": "code",
   "execution_count": 2,
   "metadata": {},
   "outputs": [
    {
     "name": "stderr",
     "output_type": "stream",
     "text": [
      "C:\\Users\\gmf123\\Anaconda3\\lib\\site-packages\\statsmodels\\compat\\pandas.py:65: FutureWarning: pandas.Int64Index is deprecated and will be removed from pandas in a future version. Use pandas.Index with the appropriate dtype instead.\n",
      "  from pandas import Int64Index as NumericIndex\n"
     ]
    }
   ],
   "source": [
    "import figs\n",
    "from ConsumptionSavingModel import ConsumptionSavingModelClass\n",
    "from SimulatedMinimumDistance import SimulatedMinimumDistanceClass"
   ]
  },
  {
   "cell_type": "markdown",
   "metadata": {},
   "source": [
    "# Estimation choices"
   ]
  },
  {
   "cell_type": "code",
   "execution_count": 3,
   "metadata": {},
   "outputs": [],
   "source": [
    "# a. model settings\n",
    "N = 5_000\n",
    "N_sim = 100_000\n",
    "        \n",
    "par = {'simlifecycle':True,\n",
    "       'sim_mini':1.0 ,\n",
    "       'simT':40,\n",
    "       'simN':N_sim,\n",
    "       'Nxi':4,\n",
    "       'Npsi':4,\n",
    "       'Na':100}\n",
    "\n",
    "par_true = par.copy()\n",
    "par_true['simN'] = N\n",
    "\n",
    "# b. parameters to estimate\n",
    "est_par = {\n",
    "    'rho': {'guess':2.0,'lower':0.5,'upper':5.0,},\n",
    "    'beta': {'guess':0.97,'lower':0.90,'upper':0.999},\n",
    "}\n",
    "\n",
    "est_par_names = [key for key in est_par.keys()]\n",
    "\n",
    "# c. moment function used in estimation. \n",
    "def mom_func(data,ids=None):\n",
    "    \"\"\" returns the age profile of wealth \"\"\"\n",
    "    \n",
    "    if ids is None:\n",
    "        mean_A = np.mean(data.A[:,1:],axis=0)\n",
    "    else:\n",
    "        mean_A = np.mean(data.A[ids,1:],axis=0)\n",
    "\n",
    "    return mean_A\n",
    "\n",
    "# d. choose weighting matrix\n",
    "weighting_matrix = 0\n",
    "\n",
    "# 0: identity (equal weight),\n",
    "# 1: inverse of variance on the diagonal (removes scale), \n",
    "# 2: inverse of covaraince matrix between estimation moments (optimal weighting matrix)"
   ]
  },
  {
   "cell_type": "markdown",
   "metadata": {},
   "source": [
    "# Data and estimator"
   ]
  },
  {
   "cell_type": "markdown",
   "metadata": {},
   "source": [
    "Construct **data**."
   ]
  },
  {
   "cell_type": "code",
   "execution_count": 4,
   "metadata": {},
   "outputs": [
    {
     "name": "stdout",
     "output_type": "stream",
     "text": [
      "model solved in 2.8 secs\n",
      "model simulated in 2.3 secs\n"
     ]
    }
   ],
   "source": [
    "# a. setup model to simulate data\n",
    "true = ConsumptionSavingModelClass(name='true',par=par_true)\n",
    "true.solve()\n",
    "true.simulate(seed=2019) # this seed is different from the default\n",
    "\n",
    "# b. data moments\n",
    "datamoms = mom_func(true.sim)\n",
    "moment_names = [i for i in range(true.par.age_min+1,true.par.age_min+true.par.simT)]"
   ]
  },
  {
   "cell_type": "markdown",
   "metadata": {},
   "source": [
    "**Bootstrap** variance of estimation moments used when later calculting standard errors below (and potentially for weighting matrix)."
   ]
  },
  {
   "cell_type": "code",
   "execution_count": 5,
   "metadata": {},
   "outputs": [],
   "source": [
    "num_boot = 200\n",
    "num_moms = datamoms.size\n",
    "smd = SimulatedMinimumDistanceClass(est_par,mom_func,datamoms=datamoms)\n",
    "smd.Omega = smd.bootstrap_mom_var(true.sim,N,num_boot,num_moms)"
   ]
  },
  {
   "cell_type": "markdown",
   "metadata": {},
   "source": [
    "**Setup estimator**."
   ]
  },
  {
   "cell_type": "code",
   "execution_count": 6,
   "metadata": {},
   "outputs": [
    {
     "data": {
      "image/png": "[encoded data removed]",
      "text/plain": [
       "<Figure size 432x288 with 1 Axes>"
      ]
     },
     "metadata": {},
     "output_type": "display_data"
    }
   ],
   "source": [
    "smd.plot({'data':moment_names},{'data':datamoms},xlabel='age',ylabel='wealth',hide_legend=True)"
   ]
  },
  {
   "cell_type": "markdown",
   "metadata": {},
   "source": [
    "# Estimate the model"
   ]
  },
  {
   "cell_type": "code",
   "execution_count": 7,
   "metadata": {},
   "outputs": [],
   "source": [
    "model = ConsumptionSavingModelClass(name='estimated',par=par)"
   ]
  },
  {
   "cell_type": "markdown",
   "metadata": {},
   "source": [
    "Choose **weighting matrix**:"
   ]
  },
  {
   "cell_type": "code",
   "execution_count": 8,
   "metadata": {},
   "outputs": [],
   "source": [
    "if weighting_matrix == 0:\n",
    "    W = np.eye(smd.datamoms.size) # identity\n",
    "elif weighting_matrix == 1:\n",
    "    W = np.diag(1.0/np.diag(smd.Omega)) # inverse of variance on the diagonal\n",
    "else:\n",
    "    W = np.linalg.inv(smd.Omega) # optimal weighting matrix"
   ]
  },
  {
   "cell_type": "markdown",
   "metadata": {},
   "source": [
    "## Estimation results"
   ]
  },
  {
   "cell_type": "code",
   "execution_count": 9,
   "metadata": {},
   "outputs": [
    {
     "name": "stdout",
     "output_type": "stream",
     "text": [
      "objective function at starting values: 5.9610038934631495\n",
      "Wall time: 59.4 s\n",
      "\n",
      "       True  Est. \n",
      "rho   2.000 2.018\n",
      "beta  0.960 0.960\n"
     ]
    }
   ],
   "source": [
    "# a. estimate the model (can take several minutes)\n",
    "%time est = smd.estimate(model,W)\n",
    "\n",
    "# b. print estimation results\n",
    "print(f'\\n       True  Est. ')\n",
    "for key in est_par.keys():\n",
    "    print(f'{key:5s} {getattr(true.par,key):2.3f} {est[key]:2.3f}')"
   ]
  },
  {
   "cell_type": "markdown",
   "metadata": {},
   "source": [
    "Show **model-fit**:"
   ]
  },
  {
   "cell_type": "code",
   "execution_count": 10,
   "metadata": {},
   "outputs": [
    {
     "data": {
      "image/png": "[encoded data removed]",
      "text/plain": [
       "<Figure size 432x288 with 1 Axes>"
      ]
     },
     "metadata": {},
     "output_type": "display_data"
    }
   ],
   "source": [
    "plot_data_x = {'data':moment_names,'simulated':moment_names}\n",
    "plot_data_y = {'data':datamoms,'simulated':mom_func(model.sim)}\n",
    "smd.plot(plot_data_x,plot_data_y,xlabel='age',ylabel='wealth')"
   ]
  },
  {
   "cell_type": "markdown",
   "metadata": {},
   "source": [
    "## Standard errors"
   ]
  },
  {
   "cell_type": "markdown",
   "metadata": {},
   "source": [
    "The SMD estimator is **asymptotic Normal** and standard errors have the same form as standard GMM estimators scaled with the adjustment factor $(1+S^{-1})$ due to the fact that we use $S$ simulations of the model.\n",
    "\n",
    "The **standard errors** are thus \n",
    "\n",
    "$$\n",
    "\\begin{align}\n",
    "\\text{Var}(\\hat{\\theta})&=(1+S^{-1})\\Gamma\\Omega\\Gamma'/N \\\\\n",
    "\\Gamma &= -(G'WG)^{-1}G'W \\\\\n",
    "\\Omega & = \\text{Var}(m(\\theta_0|w_i))\n",
    "\\end{align}\n",
    "$$\n",
    "\n",
    "where $G=\\frac{\\partial g(\\theta)}{\\partial \\theta}$ is the $J\\times K$ **Jacobian** with respect to $\\theta$. $\\Gamma$ is related to what is sometimes called the \"influence function\".\n",
    "\n",
    "**Calculating $\\Omega$**:\n",
    "\n",
    "1. Can sometimes be done **analytically**\n",
    "2. Can always be done using a **bootstrap** as done above\n",
    "\n",
    "**Calculating the Jacobian, $G$:** This is done using numerical finite differences."
   ]
  },
  {
   "cell_type": "code",
   "execution_count": 11,
   "metadata": {},
   "outputs": [
    {
     "name": "stdout",
     "output_type": "stream",
     "text": [
      "       True  Est.  (se)\n",
      "rho   2.000 2.018 (0.043)\n",
      "beta  0.960 0.960 (0.001)\n"
     ]
    }
   ],
   "source": [
    "# a. number of datasets simulated per individual in original data\n",
    "S = model.par.simN/N \n",
    "\n",
    "# b. find standard errors\n",
    "Gamma, grad_theta = smd.calc_influence_function(est['theta'],model,W)\n",
    "Var_theta = (1.0+1.0/S) * Gamma @ smd.Omega @ Gamma.T /N\n",
    "se = np.sqrt(np.diag(Var_theta))\n",
    "\n",
    "# b. print estimation results\n",
    "print(f'       True  Est.  (se)')\n",
    "for i,(key,val) in enumerate(est_par.items()):\n",
    "    print(f'{key:5s} {getattr(true.par,key):2.3f} {est[key]:2.3f} ({se[i]:2.3f})')"
   ]
  },
  {
   "cell_type": "markdown",
   "metadata": {},
   "source": [
    "# Sensitivity Analysis"
   ]
  },
  {
   "cell_type": "markdown",
   "metadata": {},
   "source": [
    "We now look into a **sensitivity analysis** of our estimation. Concretely, we implement the **informativeness measure** from [Honoré, Jørgensen and de Paula (2019)](https://doi.org/10.1002/jae.2779) and the **sensitivity to calibrated parameters** in [Jørgensen (2020)](https://www.ifs.org.uk/uploads/CWP1620-Sensitivity-to-Calibrated-Parameters.pdf). Further details can be found in these papers."
   ]
  },
  {
   "cell_type": "markdown",
   "metadata": {},
   "source": [
    "## The informativeness of estimation moments"
   ]
  },
  {
   "cell_type": "markdown",
   "metadata": {},
   "source": [
    "The measures are motivated by those proposed in [Honoré, Jørgensen and de Paula (2019)](https://doi.org/10.1002/jae.2779). All the measures proposed in that paper is calculated, but we will focus on their measure 4 that asks **\"what is the change in the asymptotic variance from completely excluding the k'th moment?\"**. If the *k*th is very informative about a parameter, the asymptotic varaince of that parameter should increase significantly, if we leave out the *k*th moment."
   ]
  },
  {
   "cell_type": "code",
   "execution_count": 12,
   "metadata": {},
   "outputs": [
    {
     "data": {
      "image/png": "[encoded data removed]",
      "text/plain": [
       "<Figure size 432x288 with 2 Axes>"
      ]
     },
     "metadata": {},
     "output_type": "display_data"
    }
   ],
   "source": [
    "info = smd.informativeness_moments(grad_theta,smd.Omega,W)\n",
    "smd.plot_heat(info['M4e'],est_par_names,moment_names,annot=False)"
   ]
  },
  {
   "cell_type": "markdown",
   "metadata": {},
   "source": [
    "**Conclusion:** We can see that especially the wealth level for younger households are very informative regarding both $\\rho$ and $\\beta$. This is likely due to the fact that for low level of resources (which is the case at younger ages), the value of both these parameters affect consumption and saving decisions a lot. Thus, the level of saving especially in young ages are very informative and help to identify the two parameters."
   ]
  },
  {
   "cell_type": "markdown",
   "metadata": {},
   "source": [
    "## Sensitivity to calibrated parameters"
   ]
  },
  {
   "cell_type": "markdown",
   "metadata": {},
   "source": [
    "The mesure is motivated by the one proposed in [Jørgensen (2020)](https://www.ifs.org.uk/uploads/CWP1620-Sensitivity-to-Calibrated-Parameters.pdf). Note that the estimation moments are all functions of the $L$ calibrated parameters, which we will denote $\\gamma$, $g(\\theta|\\gamma)$. \n",
    "\n",
    "The **sensitivity measure** is defined as\n",
    "\n",
    "$$\n",
    "\\begin{align}\n",
    "S &= \\Gamma D\n",
    "\\end{align}\n",
    "$$\n",
    "\n",
    "where $D=\\frac{\\partial g(\\theta|\\gamma)}{\\partial \\gamma}$ is the $J\\times L$ **Jacobian** with respect to $\\gamma$. \n",
    "\n",
    "*We only need to calculate $D$* since we have already calculated $\\Gamma$ when we calculated standard errors above. We use numerical finite differences to calcualte this object."
   ]
  },
  {
   "cell_type": "markdown",
   "metadata": {},
   "source": [
    "**Chosen calibrated paramters:** $R$, $G$, $\\sigma_{\\psi}$, $\\sigma_{\\xi}$."
   ]
  },
  {
   "cell_type": "code",
   "execution_count": 13,
   "metadata": {},
   "outputs": [],
   "source": [
    "cali_par_names = ('R','G','sigma_psi','sigma_xi')\n",
    "cali_par = np.array([getattr(model.par,name) for name in cali_par_names])"
   ]
  },
  {
   "cell_type": "markdown",
   "metadata": {},
   "source": [
    "**Calculate the sensitivty measure:**"
   ]
  },
  {
   "cell_type": "code",
   "execution_count": 14,
   "metadata": {},
   "outputs": [],
   "source": [
    "grad_gamma = smd.num_grad(cali_par,model,cali_par_names)\n",
    "sens_cali = Gamma @ grad_gamma"
   ]
  },
  {
   "cell_type": "markdown",
   "metadata": {},
   "source": [
    "**Plot sensitivity measure**"
   ]
  },
  {
   "cell_type": "code",
   "execution_count": 15,
   "metadata": {},
   "outputs": [
    {
     "data": {
      "image/png": "[encoded data removed]",
      "text/plain": [
       "<Figure size 432x288 with 2 Axes>"
      ]
     },
     "metadata": {},
     "output_type": "display_data"
    }
   ],
   "source": [
    "smd.plot_heat(sens_cali,est_par_names,cali_par_names)"
   ]
  },
  {
   "cell_type": "markdown",
   "metadata": {},
   "source": [
    "**Check:** We can compare this to a brute-force approach in which we re-estimate the model for marginal changes in the calibrated parameters. This takes considerable time, however. The results are almost identical."
   ]
  },
  {
   "cell_type": "code",
   "execution_count": 16,
   "metadata": {},
   "outputs": [
    {
     "name": "stdout",
     "output_type": "stream",
     "text": [
      "now re-estimating with R = 1.040010 (original 1.040000)\n",
      "objective function at starting values: 5.981825671736679\n",
      "now re-estimating with G = 1.020010 (original 1.020000)\n",
      "objective function at starting values: 5.92908075177794\n",
      "now re-estimating with sigma_psi = 0.100010 (original 0.100000)\n",
      "objective function at starting values: 5.972617982764567\n",
      "now re-estimating with sigma_xi = 0.100010 (original 0.100000)\n",
      "objective function at starting values: 5.961766998287398\n"
     ]
    },
    {
     "data": {
      "image/png": "[encoded data removed]",
      "text/plain": [
       "<Figure size 432x288 with 2 Axes>"
      ]
     },
     "metadata": {},
     "output_type": "display_data"
    }
   ],
   "source": [
    "sens_cali_brute = smd.sens_cali_brute_force(model,est['theta'],W,cali_par_names)\n",
    "smd.plot_heat(sens_cali_brute,est_par_names,cali_par_names)"
   ]
  },
  {
   "cell_type": "markdown",
   "metadata": {},
   "source": [
    "**Arbitrary changes in $\\gamma$**: We can also investigate larger simultaneous changes in $\\gamma$."
   ]
  },
  {
   "cell_type": "code",
   "execution_count": 17,
   "metadata": {},
   "outputs": [
    {
     "name": "stdout",
     "output_type": "stream",
     "text": [
      "[ 0.17300506 -0.02961878]\n"
     ]
    }
   ],
   "source": [
    "# a. set new calibrated parameters\n",
    "cali_par_new = {'G':1.05}\n",
    "\n",
    "# b. update calibrated parameters in new version of the model\n",
    "model_new = model.copy()\n",
    "for key,val in cali_par_new.items():\n",
    "    setattr(model_new.par,key,val)\n",
    "\n",
    "# c. calculate new objective function\n",
    "obj_vec = smd.diff_vec_func(est['theta'],model,est_par_names)\n",
    "obj_vec_new = smd.diff_vec_func(est['theta'],model_new,est_par_names)\n",
    "\n",
    "# d. approximate change in theta\n",
    "Gamma_new,_ = smd.calc_influence_function(est['theta'],model_new,W)\n",
    "theta_delta =  Gamma_new @ obj_vec_new - Gamma @ obj_vec\n",
    "\n",
    "# e. extrapolate the gradient\n",
    "theta_delta_extrap = np.zeros(theta_delta.size)\n",
    "for j,key in enumerate(cali_par_new):\n",
    "    theta_delta_extrap += sens_cali[:,j]*(cali_par_new[key]-getattr(model.par,key))\n",
    "\n",
    "print(theta_delta_extrap)"
   ]
  },
  {
   "cell_type": "markdown",
   "metadata": {},
   "source": [
    "**Check:** Again, we can compare this approximation to a brute-force re-estimation of the model for the changed $\\gamma$."
   ]
  },
  {
   "cell_type": "code",
   "execution_count": 18,
   "metadata": {},
   "outputs": [
    {
     "name": "stdout",
     "output_type": "stream",
     "text": [
      "objective function at starting values: 5.46354064394105\n",
      "[ 0.11275468 -0.05969197]\n"
     ]
    }
   ],
   "source": [
    "est_new = smd.estimate(model_new,W)\n",
    "theta_delta_brute = est_new['theta'] - est['theta']\n",
    "print(theta_delta_brute)"
   ]
  }
 ],
 "metadata": {
  "kernelspec": {
   "display_name": "Python 3 (ipykernel)",
   "language": "python",
   "name": "python3"
  },
  "language_info": {
   "codemirror_mode": {
    "name": "ipython",
    "version": 3
   },
   "file_extension": ".py",
   "mimetype": "text/x-python",
   "name": "python",
   "nbconvert_exporter": "python",
   "pygments_lexer": "ipython3",
   "version": "3.9.10"
  },
  "toc-autonumbering": true
 },
 "nbformat": 4,
 "nbformat_minor": 4
}
