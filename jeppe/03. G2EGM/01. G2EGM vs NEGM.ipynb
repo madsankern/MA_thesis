{
 "cells": [
  {
   "cell_type": "markdown",
   "metadata": {},
   "source": [
    "# G2EGM vs. NEGM"
   ]
  },
  {
   "cell_type": "markdown",
   "metadata": {},
   "source": [
    "This notebook produces the timing and accuracy results for the comparison of **NEGM** and **G$^2$EGM** in [A Guide to Solve Non-Convex Consumption-Saving Models](https://doi.org/10.1007/s10614-020-10045-x)."
   ]
  },
  {
   "cell_type": "markdown",
   "metadata": {},
   "source": [
    "# Setup"
   ]
  },
  {
   "cell_type": "code",
   "execution_count": 1,
   "metadata": {},
   "outputs": [],
   "source": [
    "%load_ext autoreload\n",
    "%autoreload 2\n",
    "\n",
    "import time\n",
    "import numpy as np\n",
    "np.seterr(all='ignore') # ignoring all warnings\n",
    "\n",
    "# load the G2EGMModel module\n",
    "from G2EGMModel import G2EGMModelClass\n",
    "import figs\n",
    "import simulate"
   ]
  },
  {
   "cell_type": "markdown",
   "metadata": {},
   "source": [
    "## Choose number of threads in numba"
   ]
  },
  {
   "cell_type": "code",
   "execution_count": 2,
   "metadata": {},
   "outputs": [],
   "source": [
    "import numba as nb\n",
    "nb.set_num_threads(1)"
   ]
  },
  {
   "cell_type": "markdown",
   "metadata": {},
   "source": [
    "# Settings"
   ]
  },
  {
   "cell_type": "code",
   "execution_count": 3,
   "metadata": {},
   "outputs": [],
   "source": [
    "T = 20\n",
    "Neta = 16\n",
    "var_eta = 0.1**2\n",
    "do_print = False"
   ]
  },
  {
   "cell_type": "markdown",
   "metadata": {},
   "source": [
    "# Timing function"
   ]
  },
  {
   "cell_type": "code",
   "execution_count": 4,
   "metadata": {},
   "outputs": [],
   "source": [
    "def timing(model,\n",
    "           rep=1, # set to 5 in the paper\n",
    "           do_print=True):\n",
    "    \n",
    "    name = model.name\n",
    "    par = model.par\n",
    "    \n",
    "    time_best = np.inf\n",
    "    for i in range(rep):\n",
    "        \n",
    "        model.solve()\n",
    "        model.calculate_euler()\n",
    "            \n",
    "        tot_time = np.sum(model.par.time_work)\n",
    "        if do_print:\n",
    "            print(f'{i}: {tot_time:.2f} secs, euler: {np.nanmean(model.sim.euler):.3f}')\n",
    "            \n",
    "        if tot_time < time_best:\n",
    "            time_best = tot_time\n",
    "            model_best = model.copy('best')\n",
    "            \n",
    "    model_best.name = name\n",
    "    return model_best            "
   ]
  },
  {
   "cell_type": "markdown",
   "metadata": {},
   "source": [
    "# NEGM"
   ]
  },
  {
   "cell_type": "code",
   "execution_count": 5,
   "metadata": {},
   "outputs": [
    {
     "name": "stdout",
     "output_type": "stream",
     "text": [
      "0: 146.28 secs, euler: -5.367\n"
     ]
    }
   ],
   "source": [
    "model_NEGM = G2EGMModelClass(name='NEGM',par={'solmethod':'NEGM','T':T,'do_print':do_print})\n",
    "model_NEGM.precompile_numba()\n",
    "model_NEGM = timing(model_NEGM)"
   ]
  },
  {
   "cell_type": "code",
   "execution_count": 6,
   "metadata": {},
   "outputs": [
    {
     "name": "stdout",
     "output_type": "stream",
     "text": [
      "0: 167.11 secs, euler: -5.201\n"
     ]
    }
   ],
   "source": [
    "model_NEGM_shocks = G2EGMModelClass(name='NEGM_shocks',par={'solmethod':'NEGM','T':T,'do_print':do_print,'Neta':Neta,'var_eta':var_eta})\n",
    "model_NEGM_shocks.precompile_numba()\n",
    "model_NEGM_shocks = timing(model_NEGM_shocks)"
   ]
  },
  {
   "cell_type": "markdown",
   "metadata": {},
   "source": [
    "# G2EGM"
   ]
  },
  {
   "cell_type": "code",
   "execution_count": 7,
   "metadata": {},
   "outputs": [
    {
     "name": "stdout",
     "output_type": "stream",
     "text": [
      "0: 76.58 secs, euler: -6.233\n"
     ]
    }
   ],
   "source": [
    "model_G2EGM = G2EGMModelClass(name='G2EGM',par={'solmethod':'G2EGM','T':T,'do_print':do_print})\n",
    "model_G2EGM.precompile_numba()\n",
    "model_G2EGM = timing(model_G2EGM)       "
   ]
  },
  {
   "cell_type": "code",
   "execution_count": 8,
   "metadata": {},
   "outputs": [
    {
     "name": "stdout",
     "output_type": "stream",
     "text": [
      "0: 110.63 secs, euler: -5.758\n"
     ]
    }
   ],
   "source": [
    "model_G2EGM_shocks = G2EGMModelClass(name='G2EGM_shocks',par={'solmethod':'G2EGM','T':T,'do_print':do_print,'Neta':Neta,'var_eta':var_eta})\n",
    "model_G2EGM_shocks.precompile_numba()\n",
    "model_G2EGM_shocks = timing(model_G2EGM_shocks)"
   ]
  },
  {
   "cell_type": "markdown",
   "metadata": {},
   "source": [
    "# Table"
   ]
  },
  {
   "cell_type": "code",
   "execution_count": 9,
   "metadata": {},
   "outputs": [],
   "source": [
    "# a. models\n",
    "models = [model_G2EGM,model_NEGM,model_G2EGM_shocks,model_NEGM_shocks]\n",
    "postfix = '_G2EGM_vs_NEGM'\n",
    "\n",
    "# b. euler erros\n",
    "lines = []\n",
    "txt = 'All (average)'\n",
    "for i,model in enumerate(models):\n",
    "    txt += f' & {np.nanmean(model.sim.euler):.3f}'\n",
    "txt += '\\\\\\\\ \\n'\n",
    "lines.append(txt)\n",
    "\n",
    "txt = '\\\\,\\\\,5th percentile'\n",
    "for i,model in enumerate(models):\n",
    "    txt += f' & {np.nanpercentile(model.sim.euler,5):.3f}'\n",
    "txt += '\\\\\\\\ \\n'    \n",
    "lines.append(txt)\n",
    "\n",
    "txt = '\\\\,\\\\,95th percentile'\n",
    "for i,model in enumerate(models):\n",
    "    txt += f' & {np.nanpercentile(model.sim.euler,95):.3f}'\n",
    "txt += '\\\\\\\\ \\n'   \n",
    "lines.append(txt)\n",
    "\n",
    "with open(f'tabs_euler_errors{postfix}.tex', 'w') as txtfile:\n",
    "    txtfile.writelines(lines)\n",
    "    \n",
    "# c. timings\n",
    "lines = []\n",
    "txt = 'Total'\n",
    "for model in models:\n",
    "    txt += f' & {np.sum(model.par.time_work)/60:.2f}'\n",
    "txt += '\\\\\\\\ \\n'\n",
    "lines.append(txt)\n",
    "\n",
    "txt = 'Post-decision functions'\n",
    "for model in models:\n",
    "    txt += f' & {np.sum(model.par.time_w)/60:.2f}'\n",
    "txt += '\\\\\\\\ \\n'    \n",
    "lines.append(txt)\n",
    "\n",
    "txt = 'EGM-step'\n",
    "for model in models:\n",
    "    txt += f' & {np.sum(model.par.time_egm)/60:.2f}'\n",
    "txt += '\\\\\\\\ \\n' \n",
    "lines.append(txt)\n",
    "\n",
    "txt = 'VFI-step'\n",
    "for model in models:\n",
    "    tot_time = np.sum(model.par.time_vfi)\n",
    "    if tot_time == 0:\n",
    "        txt += f' & '\n",
    "    else:\n",
    "        txt += f' & {tot_time/60:.2f}'\n",
    "txt += '\\\\\\\\ \\n' \n",
    "lines.append(txt)\n",
    "\n",
    "with open(f'tabs_timings{postfix}.tex', 'w') as txtfile:\n",
    "    txtfile.writelines(lines)"
   ]
  }
 ],
 "metadata": {
  "kernelspec": {
   "display_name": "Python 3 (ipykernel)",
   "language": "python",
   "name": "python3"
  },
  "language_info": {
   "codemirror_mode": {
    "name": "ipython",
    "version": 3
   },
   "file_extension": ".py",
   "mimetype": "text/x-python",
   "name": "python",
   "nbconvert_exporter": "python",
   "pygments_lexer": "ipython3",
   "version": "3.9.10"
  },
  "latex_envs": {
   "LaTeX_envs_menu_present": true,
   "autocomplete": true,
   "bibliofile": "biblio.bib",
   "cite_by": "apalike",
   "current_citInitial": 1,
   "eqLabelWithNumbers": true,
   "eqNumInitial": 1,
   "hotkeys": {
    "equation": "Ctrl-E",
    "itemize": "Ctrl-I"
   },
   "labels_anchors": false,
   "latex_user_defs": false,
   "report_style_numbering": false,
   "user_envs_cfg": false
  },
  "toc": {
   "base_numbering": 1,
   "nav_menu": {},
   "number_sections": true,
   "sideBar": false,
   "skip_h1_title": false,
   "title_cell": "Table of Contents",
   "title_sidebar": "Contents",
   "toc_cell": true,
   "toc_position": {},
   "toc_section_display": true,
   "toc_window_display": false
  },
  "toc-autonumbering": true,
  "varInspector": {
   "cols": {
    "lenName": 16,
    "lenType": 16,
    "lenVar": 40
   },
   "kernels_config": {
    "python": {
     "delete_cmd_postfix": "",
     "delete_cmd_prefix": "del ",
     "library": "var_list.py",
     "varRefreshCmd": "print(var_dic_list())"
    },
    "r": {
     "delete_cmd_postfix": ") ",
     "delete_cmd_prefix": "rm(",
     "library": "var_list.r",
     "varRefreshCmd": "cat(var_dic_list()) "
    }
   },
   "oldHeight": 267,
   "position": {
    "height": "40px",
    "left": "1542.33px",
    "right": "20px",
    "top": "133px",
    "width": "328px"
   },
   "types_to_exclude": [
    "module",
    "function",
    "builtin_function_or_method",
    "instance",
    "_Feature"
   ],
   "varInspector_section_display": "none",
   "window_display": true
  }
 },
 "nbformat": 4,
 "nbformat_minor": 4
}
