{
 "cells": [
  {
   "cell_type": "markdown",
   "metadata": {},
   "source": [
    "# Buffer Stock Model"
   ]
  },
  {
   "cell_type": "markdown",
   "metadata": {
    "cell_style": "split"
   },
   "source": [
    "This notebooks shows you how to use the tools of the **consav** package to solve the canonical **buffer-stock consumption model** with either\n",
    "\n",
    "1. **vfi**: standard value function iteration\n",
    "2. **nvfi**: nested value function iteration\n",
    "3. **egm**: endogenous grid point method\n",
    "\n",
    "In all cases, each time step is solved using fully [Numba](http://numba.pydata.org/) just-in-time compilled code. Numba automatically convert Python and NumPy code into fast machine code. Specifically, this is done for all functions preceded (decorated) with ``@njit`` or ``@njit(parallel=True)`` when parallization is used.\n",
    "\n",
    "**Extra:** See `02. Calling C++.ipynb` for solving the model using C++."
   ]
  },
  {
   "cell_type": "markdown",
   "metadata": {},
   "source": [
    "## Model equations"
   ]
  },
  {
   "cell_type": "markdown",
   "metadata": {
    "cell_style": "split"
   },
   "source": [
    "The model's **bellman equation** is given by\n",
    "\n",
    "$$ \n",
    "\\begin{aligned}\n",
    "v_{t}(p_{t},m_{t}) &= \\max_{c_t}\\frac{c^{1-\\rho}}{1-\\rho} + \\beta v_{t+1}(p_{t+1},m_{t+1}) \\\\\n",
    "& \\text{s.t.} \\\\ \n",
    "a_{t} &=m_{t}-c_{t} \\\\\n",
    "p_{t+1} &=\\psi_{t+1} p_{t} \\\\\n",
    "\\tilde{\\xi}_{t+1} &= \\begin{cases}\n",
    "\\mu & \\text{with prob.}\\pi\\\\\n",
    "\\frac{\\xi_{t+1}-\\pi\\mu}{1-\\pi} & \\text{else}\n",
    "\\end{cases} \\\\\n",
    "m_{t+1} &= R a_{t} + \\tilde{\\xi}_{t+1}p_{t+1}\\\\\n",
    "a_t&\\geq 0\\\\\n",
    "\\end{aligned}\n",
    "$$\n",
    "\n",
    "where\n",
    "\n",
    "$$ \\begin{aligned}\n",
    "\\log\\psi_{t+1} &\\sim \\mathcal{N}(-0.5\\sigma_{\\psi}^{2},\\sigma_{\\psi}^{2}) \\\\\n",
    "\\log\\xi_{t+1} &\\sim \\mathcal{N}(-0.5\\sigma_{\\xi}^{2},\\sigma_{\\xi}^{2})\n",
    "\\end{aligned}\n",
    "$$\n",
    "\n",
    "In the **last period** there is no continuation value\n",
    "\n",
    "$$ \n",
    "\\begin{aligned}\n",
    "v_{T+1}(m_{T+1},p_{t+1}) &= 0\n",
    "\\end{aligned}\n",
    "$$\n",
    "\n",
    "The **post-decision** value function is\n",
    "\n",
    "$$\n",
    "\\begin{aligned}\n",
    "w_t(p_t,a_t) &= \\beta v_{t+1}(m_{t+1},p_{t+1})\n",
    "\\end{aligned} \n",
    "$$\n",
    "\n",
    "The **Euler-equation** (required when solving with EGM) is \n",
    "\n",
    "$$ \n",
    "\\begin{aligned}\n",
    "C_{t}^{-\\rho} &= q_t(p_t,a_t) \\\\\n",
    " &= \\beta R \\mathbb{E}_t[C_{t+1}(p_{t+1},m_{t+1})^{-\\rho}] \n",
    "\\end{aligned}\n",
    "$$\n",
    "\n",
    "where $q_t(p_t,a_t)$ is the post-decision marginal value of cash."
   ]
  },
  {
   "cell_type": "markdown",
   "metadata": {},
   "source": [
    "## Overview"
   ]
  },
  {
   "cell_type": "markdown",
   "metadata": {},
   "source": [
    "The model solved in this notebook is written in **BufferStockModel.py**. \n",
    "\n",
    "It provides a class called **BufferStockModelClass** inheriting its basic interface from the **ModelClass** (from **consav**). "
   ]
  },
  {
   "cell_type": "markdown",
   "metadata": {},
   "source": [
    "A short **overview** of the interface is:\n",
    "\n",
    "1. The class must have a **name** and must contain **three central methods**: \n",
    "\n",
    "    1. `settings()` Choose fundamental settings (called *first* when initializing).<br/><br/>\n",
    "    \n",
    "        1. `namespaces (list of str)`: In addition to `.par`, `.sol`, `.sim`, each element will be available as an attribute (can be used in numba jitted functions).\n",
    "        2. `other_attrs (list of str)`: Other attributes to be saved (can *not* be used in numba jitted functions).\n",
    "        3. `savefolder (str)`: Folder to save the model in.\n",
    "        4. `not_float list of str)`: List of non-float elements in the namespaces (ensures safe type inference).<br><br>\n",
    "    \n",
    "    2. `setup()`: Set baseline parameters (called *second* when initializing).\n",
    "    3. `allocate()`: Create grids and allocate solution and simulation memory (called *third* when initializing).<br/><br/>\n",
    "2. **Type-inference:** When initializing the model the `settings()`, `setup()` and `allocate()` methods are called, and the types of all variables in the namespaces are inferred. Results can be seen by `print(model)`. *Types and number of dimensions in arrays must not change afterwards.* \n",
    "3. The **solve()** method solves the model\n",
    "4. The **simulate()** method simulates the model\n",
    "5. The **save()** method saves the model naming it **savefolder/name**\n",
    "6. The **copy()** makes a deep copy of the model"
   ]
  },
  {
   "cell_type": "markdown",
   "metadata": {},
   "source": [
    "In addition to **BufferStockModel.py**, this folder contains the following files:\n",
    "\n",
    "1. **last_period.py**: calculate consumption and value function in last period\n",
    "2. **utility.py**: utility function and marginal utility function\n",
    "3. **post_decision.py**: calcualte $w$ and $q$\n",
    "4. **vfi.py**: solve with value function iteration\n",
    "5. **nvfi.py**: solve with nested value function iteration\n",
    "6. **egm.py**: solve with the endogenous grid method\n",
    "7. **simulate.py**: simulate for all solution methods\n",
    "8. **figs.py**: plot figures\n",
    "\n",
    "The functions in these modules are loaded in **BufferStockModel.py**.\n",
    "\n",
    "The folder **cppfuncs** contains C++ functions not used in this notebook."
   ]
  },
  {
   "cell_type": "markdown",
   "metadata": {},
   "source": [
    "# Setup"
   ]
  },
  {
   "cell_type": "code",
   "execution_count": 1,
   "metadata": {},
   "outputs": [],
   "source": [
    "%load_ext autoreload\n",
    "%autoreload 2\n",
    "\n",
    "import time\n",
    "import numpy as np\n",
    "import numba as nb\n",
    "\n",
    "# load the BufferStockModel module\n",
    "from BufferStockModel import BufferStockModelClass\n",
    "\n",
    "# for timing\n",
    "from consav.misc import elapsed"
   ]
  },
  {
   "cell_type": "code",
   "execution_count": 2,
   "metadata": {},
   "outputs": [],
   "source": [
    "nb.set_num_threads(1) # use a single thread for clarity"
   ]
  },
  {
   "cell_type": "markdown",
   "metadata": {},
   "source": [
    "# First Example"
   ]
  },
  {
   "cell_type": "markdown",
   "metadata": {},
   "source": [
    "The code is easiest to understand for **nvfi** and **do_simple_w = True**. The cell below solves the model using these settings. Go through the code this  cell is calling to understand the interface."
   ]
  },
  {
   "cell_type": "code",
   "execution_count": 3,
   "metadata": {},
   "outputs": [
    {
     "name": "stdout",
     "output_type": "stream",
     "text": [
      "### print the model ###\n",
      "\n",
      "Modelclass: BufferStockModelClass\n",
      "Name: baseline\n",
      "\n",
      "namespaces: ['sol', 'par', 'sim']\n",
      "other_attrs: []\n",
      "savefolder: saved\n",
      "not_floats: ['T', 'Npsi', 'Nxi', 'Nm', 'Np', 'Na', 'do_print', 'do_simple_w', 'simT', 'simN', 'sim_seed', 'cppthreads', 'Nshocks']\n",
      "\n",
      "sol:\n",
      " c = ndarray with shape = (5, 400, 600) [dtype: float64]\n",
      " v = ndarray with shape = (5, 400, 600) [dtype: float64]\n",
      " w = ndarray with shape = (400, 800) [dtype: float64]\n",
      " q = ndarray with shape = (400, 800) [dtype: float64]\n",
      " memory, gb: 0.0\n",
      "\n",
      "par:\n",
      " solmethod = nvfi [str]\n",
      " T = 5 [int]\n",
      " beta = 0.96 [float]\n",
      " rho = 2.0 [float]\n",
      " R = 1.03 [float]\n",
      " sigma_psi = 0.1 [float]\n",
      " Npsi = 6 [int]\n",
      " sigma_xi = 0.1 [float]\n",
      " Nxi = 6 [int]\n",
      " pi = 0.1 [float]\n",
      " mu = 0.5 [float]\n",
      " Nm = 600 [int]\n",
      " Np = 400 [int]\n",
      " Na = 800 [int]\n",
      " tol = 1e-08 [float]\n",
      " do_print = True\n",
      " do_simple_w = True\n",
      " cppthreads = 1 [int]\n",
      " simT = 5 [int]\n",
      " simN = 1000 [int]\n",
      " sim_seed = 1998 [int]\n",
      " grid_m = ndarray with shape = (600,) [dtype: float64]\n",
      " grid_p = ndarray with shape = (400,) [dtype: float64]\n",
      " grid_a = ndarray with shape = (800,) [dtype: float64]\n",
      " psi = ndarray with shape = (42,) [dtype: float64]\n",
      " psi_w = ndarray with shape = (42,) [dtype: float64]\n",
      " xi = ndarray with shape = (42,) [dtype: float64]\n",
      " xi_w = ndarray with shape = (42,) [dtype: float64]\n",
      " Nshocks = 42 [int]\n",
      " memory, gb: 0.0\n",
      "\n",
      "sim:\n",
      " p = ndarray with shape = (5, 1000) [dtype: float64]\n",
      " m = ndarray with shape = (5, 1000) [dtype: float64]\n",
      " c = ndarray with shape = (5, 1000) [dtype: float64]\n",
      " a = ndarray with shape = (5, 1000) [dtype: float64]\n",
      " psi = ndarray with shape = (5, 1000) [dtype: float64]\n",
      " xi = ndarray with shape = (5, 1000) [dtype: float64]\n",
      " memory, gb: 0.0\n",
      "\n",
      "### solve and simulate the model ###\n",
      "\n",
      " t = 4 solved in 0.8 secs\n",
      " t = 3 solved in 6.0 secs (w: 2.5 secs)\n",
      " t = 2 solved in 3.0 secs (w: 1.2 secs)\n",
      " t = 1 solved in 2.9 secs (w: 1.2 secs)\n",
      " t = 0 solved in 3.0 secs (w: 1.2 secs)\n",
      "\n",
      "model simulated in 1.2 secs\n"
     ]
    }
   ],
   "source": [
    "# a. setup \n",
    "model = BufferStockModelClass(name='baseline',par={'solmethod':'nvfi','do_simple_w':True})\n",
    "\n",
    "# name: required\n",
    "# **kwargs: par={}, update parameters in .par AFTER calling .setup\n",
    "\n",
    "# b. print\n",
    "print('### print the model ###')\n",
    "print('')\n",
    "print(model)\n",
    "\n",
    "# c. solve\n",
    "print('### solve and simulate the model ###')\n",
    "print('')\n",
    "model.solve()\n",
    "\n",
    "# d. simulate\n",
    "print('')\n",
    "model.simulate()\n",
    "\n",
    "# e. save\n",
    "model.save()       "
   ]
  },
  {
   "cell_type": "markdown",
   "metadata": {
    "ExecuteTime": {
     "end_time": "2018-11-05T09:05:53.378650Z",
     "start_time": "2018-11-05T09:05:48.725337Z"
    }
   },
   "source": [
    "## Load/save"
   ]
  },
  {
   "cell_type": "markdown",
   "metadata": {},
   "source": [
    "**Delete** the model:"
   ]
  },
  {
   "cell_type": "code",
   "execution_count": 4,
   "metadata": {},
   "outputs": [],
   "source": [
    "del model"
   ]
  },
  {
   "cell_type": "markdown",
   "metadata": {},
   "source": [
    "**Load** the model again:"
   ]
  },
  {
   "cell_type": "code",
   "execution_count": 5,
   "metadata": {},
   "outputs": [],
   "source": [
    "model_loaded = BufferStockModelClass(name='baseline',load=True)"
   ]
  },
  {
   "cell_type": "markdown",
   "metadata": {},
   "source": [
    "**Plot** the consumption function in period $t=0$:"
   ]
  },
  {
   "cell_type": "code",
   "execution_count": 6,
   "metadata": {},
   "outputs": [
    {
     "data": {
      "image/png": "[encoded data removed]",
      "text/plain": [
       "<Figure size 432x288 with 1 Axes>"
      ]
     },
     "metadata": {},
     "output_type": "display_data"
    }
   ],
   "source": [
    "model_loaded.consumption_function(t=0)"
   ]
  },
  {
   "cell_type": "markdown",
   "metadata": {},
   "source": [
    "**Copy** the model:"
   ]
  },
  {
   "cell_type": "code",
   "execution_count": 7,
   "metadata": {},
   "outputs": [
    {
     "name": "stdout",
     "output_type": "stream",
     "text": [
      "baseline_copy\n"
     ]
    }
   ],
   "source": [
    "model_copy = model_loaded.copy() # name can be specified\n",
    "print(model_copy.name)"
   ]
  },
  {
   "cell_type": "markdown",
   "metadata": {},
   "source": [
    "**Plot** the life-cycle profiles:"
   ]
  },
  {
   "cell_type": "code",
   "execution_count": 8,
   "metadata": {},
   "outputs": [
    {
     "data": {
      "image/png": "[encoded data removed]",
      "text/plain": [
       "<Figure size 432x288 with 1 Axes>"
      ]
     },
     "metadata": {},
     "output_type": "display_data"
    }
   ],
   "source": [
    "model_copy.lifecycle()"
   ]
  },
  {
   "cell_type": "markdown",
   "metadata": {},
   "source": [
    "**Plot** an interactive version of the consumption function:"
   ]
  },
  {
   "cell_type": "code",
   "execution_count": 9,
   "metadata": {},
   "outputs": [
    {
     "data": {
      "application/vnd.jupyter.widget-view+json": {
       "model_id": "f2da7d967c034bef82c99197690405dc",
       "version_major": 2,
       "version_minor": 0
      },
      "text/plain": [
       "interactive(children=(Dropdown(description='t', options=(0, 1, 2, 3, 4), value=0), Output()), _dom_classes=('w…"
      ]
     },
     "metadata": {},
     "output_type": "display_data"
    }
   ],
   "source": [
    "model_loaded.consumption_function_interact()"
   ]
  },
  {
   "cell_type": "markdown",
   "metadata": {},
   "source": [
    "# Timings"
   ]
  },
  {
   "cell_type": "markdown",
   "metadata": {},
   "source": [
    "**Time** the various solution methods and show the importance of the optimized computation of $q_t(p_t,a_t)$ in EGM (i.e. setting `do_simple_w = False`)."
   ]
  },
  {
   "cell_type": "code",
   "execution_count": 10,
   "metadata": {},
   "outputs": [
    {
     "name": "stdout",
     "output_type": "stream",
     "text": [
      "time to setup: 0.0 secs\n"
     ]
    }
   ],
   "source": [
    "t0 = time.time()\n",
    "model = BufferStockModelClass(name='')\n",
    "print(f'time to setup: {elapsed(t0)}')"
   ]
  },
  {
   "cell_type": "code",
   "execution_count": 11,
   "metadata": {},
   "outputs": [
    {
     "name": "stdout",
     "output_type": "stream",
     "text": [
      "nvfi (do_simple_w = True)\n",
      "time in test run: 16.1 secs\n",
      " t = 4 solved in 0.0 secs\n",
      " t = 3 solved in 2.9 secs (w: 1.2 secs)\n",
      " t = 2 solved in 2.9 secs (w: 1.2 secs)\n",
      " t = 1 solved in 2.9 secs (w: 1.2 secs)\n",
      " t = 0 solved in 2.9 secs (w: 1.2 secs)\n",
      "time in final run: 11.6 secs [checksum: 3.66707468]\n",
      "\n",
      "nvfi (do_simple_w = False)\n",
      "time in test run: 8.7 secs\n",
      " t = 4 solved in 0.0 secs\n",
      " t = 3 solved in 1.9 secs (w: 0.2 secs)\n",
      " t = 2 solved in 1.9 secs (w: 0.2 secs)\n",
      " t = 1 solved in 2.0 secs (w: 0.2 secs)\n",
      " t = 0 solved in 1.9 secs (w: 0.2 secs)\n",
      "time in final run: 7.8 secs [checksum: 3.66707468]\n",
      "\n",
      "egm (do_simple_w = True)\n",
      "time in test run: 8.3 secs\n",
      " t = 4 solved in 0.0 secs\n",
      " t = 3 solved in 1.6 secs (w: 1.6 secs)\n",
      " t = 2 solved in 1.6 secs (w: 1.6 secs)\n",
      " t = 1 solved in 1.6 secs (w: 1.6 secs)\n",
      " t = 0 solved in 1.7 secs (w: 1.7 secs)\n",
      "time in final run: 6.6 secs [checksum: 3.66696324]\n",
      "\n",
      "egm (do_simple_w = False)\n",
      "time in test run: 2.6 secs\n",
      " t = 4 solved in 0.0 secs\n",
      " t = 3 solved in 0.7 secs (w: 0.7 secs)\n",
      " t = 2 solved in 0.6 secs (w: 0.6 secs)\n",
      " t = 1 solved in 0.6 secs (w: 0.6 secs)\n",
      " t = 0 solved in 0.7 secs (w: 0.7 secs)\n",
      "time in final run: 2.6 secs [checksum: 3.66696324]\n",
      "\n",
      "vfi\n",
      "time in test run: 2.0 mins 2 secs\n",
      " t = 4 solved in 0.0 secs\n",
      " t = 3 solved in 30.6 secs (w: 0.0 secs)\n",
      " t = 2 solved in 30.1 secs (w: 0.0 secs)\n",
      " t = 1 solved in 29.9 secs (w: 0.0 secs)\n",
      " t = 0 solved in 29.1 secs (w: 0.0 secs)\n",
      "time in final run: 1.0 mins 60 secs [checksum: 3.66707892]\n",
      "\n"
     ]
    }
   ],
   "source": [
    "for solmethod in ['nvfi','egm','vfi']:    \n",
    "    for do_simple_w in [True,False]:\n",
    "        \n",
    "        if solmethod == 'vfi' and do_simple_w: continue # skip this\n",
    "    \n",
    "        print(f'{solmethod}',end='')        \n",
    "        \n",
    "        if not solmethod == 'vfi':\n",
    "            print(f' (do_simple_w = {do_simple_w})')\n",
    "        else:\n",
    "            print('')\n",
    "        \n",
    "        # a. change solution method\n",
    "        model.par.solmethod = solmethod\n",
    "        model.par.do_simple_w = do_simple_w\n",
    "        model.par.do_print = False\n",
    "    \n",
    "        # b. test run \n",
    "        t0 = time.time()\n",
    "        model.solve()\n",
    "        model.par.do_print = True\n",
    "        print(f'time in test run: {elapsed(t0)}')\n",
    "\n",
    "        # c. final run\n",
    "        t0 = time.time()\n",
    "        model.solve()\n",
    "        print(f'time in final run: {elapsed(t0)} [checksum: {model.checksum():.8f}]')\n",
    "        print('')\n",
    "        "
   ]
  },
  {
   "cell_type": "markdown",
   "metadata": {},
   "source": [
    "## Test Parallelization"
   ]
  },
  {
   "cell_type": "code",
   "execution_count": 12,
   "metadata": {},
   "outputs": [],
   "source": [
    "threads_list = [x for x in np.arange(1,nb.config.NUMBA_NUM_THREADS+1) if x in [1,4,8] or x%8 == 0]"
   ]
  },
  {
   "cell_type": "code",
   "execution_count": 13,
   "metadata": {},
   "outputs": [
    {
     "name": "stdout",
     "output_type": "stream",
     "text": [
      "egm (do_simple_w = False) \n",
      " time to solve with  1 threads: 2.5 secs [checksum: 3.66696324]\n",
      " time to solve with  4 threads: 2.6 secs [checksum: 3.66696324]\n",
      " time to solve with  8 threads: 2.6 secs [checksum: 3.66696324]\n",
      " time to solve with 16 threads: 2.5 secs [checksum: 3.66696324]\n",
      " time to solve with 24 threads: 2.6 secs [checksum: 3.66696324]\n",
      " time to solve with 32 threads: 2.6 secs [checksum: 3.66696324]\n",
      " time to solve with 40 threads: 2.6 secs [checksum: 3.66696324]\n",
      " time to solve with 48 threads: 2.6 secs [checksum: 3.66696324]\n",
      " time to solve with 56 threads: 2.7 secs [checksum: 3.66696324]\n",
      " time to solve with 64 threads: 2.7 secs [checksum: 3.66696324]\n",
      " time to solve with 72 threads: 2.9 secs [checksum: 3.66696324]\n",
      "\n",
      "egm (do_simple_w = True) \n",
      " time to solve with  1 threads: 6.6 secs [checksum: 3.66696324]\n",
      " time to solve with  4 threads: 1.8 secs [checksum: 3.66696324]\n",
      " time to solve with  8 threads: 0.9 secs [checksum: 3.66696324]\n",
      " time to solve with 16 threads: 0.5 secs [checksum: 3.66696324]\n",
      " time to solve with 24 threads: 0.3 secs [checksum: 3.66696324]\n",
      " time to solve with 32 threads: 0.4 secs [checksum: 3.66696324]\n",
      " time to solve with 40 threads: 0.3 secs [checksum: 3.66696324]\n",
      " time to solve with 48 threads: 0.3 secs [checksum: 3.66696324]\n",
      " time to solve with 56 threads: 0.2 secs [checksum: 3.66696324]\n",
      " time to solve with 64 threads: 0.2 secs [checksum: 3.66696324]\n",
      " time to solve with 72 threads: 0.2 secs [checksum: 3.66696324]\n",
      "\n"
     ]
    }
   ],
   "source": [
    "solmethod = 'egm'\n",
    "for do_simple_w in [False,True]:\n",
    "    \n",
    "    print(f'{solmethod} (do_simple_w = {do_simple_w}) ')\n",
    "    \n",
    "    for threads in threads_list:\n",
    "\n",
    "        nb.set_num_threads(threads)\n",
    "        \n",
    "        # a. change solution method\n",
    "        model.par.solmethod = solmethod\n",
    "        model.par.do_simple_w = do_simple_w\n",
    "        model.par.do_print = False\n",
    "\n",
    "        # b. run\n",
    "        t0 = time.time()\n",
    "        model.solve()\n",
    "        print(f' time to solve with {threads:2d} threads: {elapsed(t0)} [checksum: {model.checksum():.8f}]')\n",
    "    \n",
    "    print('')\n"
   ]
  },
  {
   "cell_type": "markdown",
   "metadata": {},
   "source": [
    "**Conclusion:** Numba is not always parallizing that well. And using too many threads can even be harmful."
   ]
  }
 ],
 "metadata": {
  "kernelspec": {
   "display_name": "Python 3 (ipykernel)",
   "language": "python",
   "name": "python3"
  },
  "language_info": {
   "codemirror_mode": {
    "name": "ipython",
    "version": 3
   },
   "file_extension": ".py",
   "mimetype": "text/x-python",
   "name": "python",
   "nbconvert_exporter": "python",
   "pygments_lexer": "ipython3",
   "version": "3.9.10"
  },
  "latex_envs": {
   "LaTeX_envs_menu_present": true,
   "autocomplete": true,
   "bibliofile": "biblio.bib",
   "cite_by": "apalike",
   "current_citInitial": 1,
   "eqLabelWithNumbers": true,
   "eqNumInitial": 1,
   "hotkeys": {
    "equation": "Ctrl-E",
    "itemize": "Ctrl-I"
   },
   "labels_anchors": false,
   "latex_user_defs": false,
   "report_style_numbering": false,
   "user_envs_cfg": false
  },
  "toc": {
   "base_numbering": 1,
   "nav_menu": {},
   "number_sections": true,
   "sideBar": false,
   "skip_h1_title": false,
   "title_cell": "Table of Contents",
   "title_sidebar": "Contents",
   "toc_cell": true,
   "toc_position": {},
   "toc_section_display": true,
   "toc_window_display": false
  },
  "toc-autonumbering": true,
  "varInspector": {
   "cols": {
    "lenName": 16,
    "lenType": 16,
    "lenVar": 40
   },
   "kernels_config": {
    "python": {
     "delete_cmd_postfix": "",
     "delete_cmd_prefix": "del ",
     "library": "var_list.py",
     "varRefreshCmd": "print(var_dic_list())"
    },
    "r": {
     "delete_cmd_postfix": ") ",
     "delete_cmd_prefix": "rm(",
     "library": "var_list.r",
     "varRefreshCmd": "cat(var_dic_list()) "
    }
   },
   "oldHeight": 267,
   "position": {
    "height": "40px",
    "left": "1542.33px",
    "right": "20px",
    "top": "133px",
    "width": "328px"
   },
   "types_to_exclude": [
    "module",
    "function",
    "builtin_function_or_method",
    "instance",
    "_Feature"
   ],
   "varInspector_section_display": "none",
   "window_display": true
  }
 },
 "nbformat": 4,
 "nbformat_minor": 4
}
