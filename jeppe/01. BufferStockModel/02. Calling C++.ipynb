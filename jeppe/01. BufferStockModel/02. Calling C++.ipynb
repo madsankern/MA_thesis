{
 "cells": [
  {
   "cell_type": "markdown",
   "metadata": {},
   "source": [
    "# Example with C++"
   ]
  },
  {
   "cell_type": "markdown",
   "metadata": {},
   "source": [
    "This notebooks shows how to **call C++ functions** using the interface from **consav**.\n",
    "\n",
    "**Platforms:** It only works on **Windows** computers. \n",
    "\n",
    "**Compilers:** One of these compilers must be installed\n",
    "\n",
    "* **vs**: Free *Microsoft Visual Studio 2022 Community Edition* ([link](https://visualstudio.microsoft.com/downloads/))\n",
    "* **intel:** Free *Intel one API* ([link](https://www.intel.com/content/www/us/en/developer/tools/oneapi/base-toolkit-download.html))\n",
    "\n",
    "**Computer used for timings:** Windows 10 computer with 2x Intel(R) Xeon(R) Gold 6254 3.10 GHz CPUs (18 cores, 36 logical processes each) and 768 GB of RAM."
   ]
  },
  {
   "cell_type": "markdown",
   "metadata": {},
   "source": [
    "# Setup"
   ]
  },
  {
   "cell_type": "code",
   "execution_count": 1,
   "metadata": {},
   "outputs": [],
   "source": [
    "%load_ext autoreload\n",
    "%autoreload 2\n",
    "\n",
    "import numpy as np\n",
    "import numba as nb\n",
    "\n",
    "# load the BufferStockModel module\n",
    "from BufferStockModel import BufferStockModelClass"
   ]
  },
  {
   "cell_type": "code",
   "execution_count": 2,
   "metadata": {},
   "outputs": [],
   "source": [
    "DO_INTEL = True"
   ]
  },
  {
   "cell_type": "code",
   "execution_count": 3,
   "metadata": {},
   "outputs": [],
   "source": [
    "threads_list = [x for x in np.arange(1,nb.config.NUMBA_NUM_THREADS+1) if x in [1,4,8] or x%8 == 0]\n",
    "compilers = ['vs','intel'] if DO_INTEL else ['vs']"
   ]
  },
  {
   "cell_type": "markdown",
   "metadata": {},
   "source": [
    "# Calling C++"
   ]
  },
  {
   "cell_type": "code",
   "execution_count": 4,
   "metadata": {},
   "outputs": [],
   "source": [
    "model = BufferStockModelClass(name='',par={'solmethod':'egm'})"
   ]
  },
  {
   "cell_type": "markdown",
   "metadata": {},
   "source": [
    "**Extra requirement:** `.settings()` should define `.cpp_filename` and `.cpp_options`.\n",
    "\n",
    "1. All elements in `namespaces` are availible as C++ structs with `_struct` appended (default, else specify `.cpp_structsmap` in `.settings()`).\n",
    "2. The C++ file is linked with `.link_to_cpp()`, and is then available in `.cpp`\n",
    "3. `.cpp.delink()`: Delink C++ file (release the .dll file, so that it can be overwritten when e.g. re-compiling).\n",
    "4. `.cpp.recompile()`: Delink, re-compile and re-link to C++ file.\n",
    "5. `.cpp.clean_up()`: Delink, remove .dll file, and remove any struct files."
   ]
  },
  {
   "cell_type": "code",
   "execution_count": 5,
   "metadata": {},
   "outputs": [
    {
     "name": "stdout",
     "output_type": "stream",
     "text": [
      "Linking to: cppfuncs/egm.cpp\n",
      "\n",
      "### finding all included files ###\n",
      "\n",
      "logs.cpp\n",
      "par_struct.cpp\n",
      "sol_struct.cpp\n",
      "sim_struct.cpp\n",
      "\n",
      "### writing structs ###\n",
      "\n",
      "cppfuncs/sol_struct.cpp\n",
      " double* c;\n",
      " double* v;\n",
      " double* w;\n",
      " double* q;\n",
      "\n",
      "cppfuncs/par_struct.cpp\n",
      " char* solmethod;\n",
      " int T;\n",
      " double beta;\n",
      " double rho;\n",
      " double R;\n",
      " double sigma_psi;\n",
      " int Npsi;\n",
      " double sigma_xi;\n",
      " int Nxi;\n",
      " double pi;\n",
      " double mu;\n",
      " int Nm;\n",
      " int Np;\n",
      " int Na;\n",
      " double tol;\n",
      " bool do_print;\n",
      " bool do_simple_w;\n",
      " int cppthreads;\n",
      " int simT;\n",
      " int simN;\n",
      " int sim_seed;\n",
      " double* grid_m;\n",
      " double* grid_p;\n",
      " double* grid_a;\n",
      " double* psi;\n",
      " double* psi_w;\n",
      " double* xi;\n",
      " double* xi_w;\n",
      " int Nshocks;\n",
      "\n",
      "cppfuncs/sim_struct.cpp\n",
      " double* p;\n",
      " double* m;\n",
      " double* c;\n",
      " double* a;\n",
      " double* psi;\n",
      " double* xi;\n",
      "\n",
      "### analyzing cppfuncs/egm.cpp ###\n",
      "\n",
      "function: solve\n",
      "return type: void\n",
      "argument types: ['par_struct*', 'sol_struct*']\n",
      "\n",
      "### analyzing cppfuncs/logs.cpp ###\n",
      "\n",
      "### analyzing cppfuncs/par_struct.cpp ###\n",
      "\n",
      "### analyzing cppfuncs/sol_struct.cpp ###\n",
      "\n",
      "### analyzing cppfuncs/sim_struct.cpp ###\n",
      "\n",
      "### compiling and linking ###\n",
      "\n",
      "compile.bat:\n",
      "cd /d \"C:/Program Files/Microsoft Visual Studio/2022/Community/VC/Auxiliary/Build/\"\n",
      "call vcvarsall.bat x64\n",
      "cd /d \"C:\\Users\\gmf123\\Documents\\repositories\\ConsumptionSavingNotebooks\\01. BufferStockModel\"\n",
      "cl /LD /EHsc /Ox /openmp cppfuncs/egm.cpp setup_omp.cpp \n",
      "\n",
      "C++ files compiled\n",
      "C++ files loaded\n",
      "\n",
      "DONE!\n",
      "\n",
      "### compiler = vs ###\n",
      "\n",
      " time to solve with  1 threads 4.35 secs [checksum: 3.66696324]\n",
      " time to solve with  4 threads 1.16 secs [checksum: 3.66696324]\n",
      " time to solve with  8 threads 0.58 secs [checksum: 3.66696324]\n",
      " time to solve with 16 threads 0.29 secs [checksum: 3.66696324]\n",
      " time to solve with 24 threads 0.25 secs [checksum: 3.66696324]\n",
      " time to solve with 32 threads 0.21 secs [checksum: 3.66696324]\n",
      " time to solve with 40 threads 0.24 secs [checksum: 3.66696324]\n",
      " time to solve with 48 threads 0.20 secs [checksum: 3.66696324]\n",
      " time to solve with 56 threads 0.20 secs [checksum: 3.66696324]\n",
      " time to solve with 64 threads 0.19 secs [checksum: 3.66696324]\n",
      " time to solve with 72 threads 0.16 secs [checksum: 3.66696324]\n",
      "\n",
      "### compiler = intel ###\n",
      "\n",
      " time to solve with  1 threads 4.26 secs [checksum: 3.66696324]\n",
      " time to solve with  4 threads 1.17 secs [checksum: 3.66696324]\n",
      " time to solve with  8 threads 0.60 secs [checksum: 3.66696324]\n",
      " time to solve with 16 threads 0.30 secs [checksum: 3.66696324]\n",
      " time to solve with 24 threads 0.28 secs [checksum: 3.66696324]\n",
      " time to solve with 32 threads 0.24 secs [checksum: 3.66696324]\n",
      " time to solve with 40 threads 0.18 secs [checksum: 3.66696324]\n",
      " time to solve with 48 threads 0.15 secs [checksum: 3.66696324]\n",
      " time to solve with 56 threads 0.14 secs [checksum: 3.66696324]\n",
      " time to solve with 64 threads 0.13 secs [checksum: 3.66696324]\n",
      " time to solve with 72 threads 0.11 secs [checksum: 3.66696324]\n",
      "\n"
     ]
    }
   ],
   "source": [
    "for compiler in compilers:\n",
    "    \n",
    "    # a. compile\n",
    "    model.cpp_options['compiler'] = compiler # change compiler\n",
    "    model.link_to_cpp(do_print=(compiler=='vs'))\n",
    "    \n",
    "    print(f'### compiler = {compiler} ###')\n",
    "    print('')\n",
    "        \n",
    "    # b. run with different number of threads\n",
    "    for threads in threads_list:\n",
    "        \n",
    "        model.par.cppthreads = threads\n",
    "        tic,toc = model.solve_cpp()\n",
    "        \n",
    "        print(f' time to solve with {threads:2d} threads {toc-tic:.2f} secs [checksum: {model.checksum():.8f}]')    \n",
    "    \n",
    "    print('')\n",
    "        \n",
    "    # c. unlink\n",
    "    model.cpp.delink() # else it is not possible to compile again"
   ]
  },
  {
   "cell_type": "markdown",
   "metadata": {},
   "source": [
    "# Clean-up"
   ]
  },
  {
   "cell_type": "code",
   "execution_count": 6,
   "metadata": {},
   "outputs": [],
   "source": [
    "model.cpp.clean_up()"
   ]
  }
 ],
 "metadata": {
  "kernelspec": {
   "display_name": "Python 3 (ipykernel)",
   "language": "python",
   "name": "python3"
  },
  "language_info": {
   "codemirror_mode": {
    "name": "ipython",
    "version": 3
   },
   "file_extension": ".py",
   "mimetype": "text/x-python",
   "name": "python",
   "nbconvert_exporter": "python",
   "pygments_lexer": "ipython3",
   "version": "3.9.10"
  }
 },
 "nbformat": 4,
 "nbformat_minor": 4
}
