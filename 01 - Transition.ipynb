{
 "cells": [
  {
   "cell_type": "markdown",
   "id": "3cb73a7a-682f-4f58-b9af-0201b9cdf547",
   "metadata": {},
   "source": [
    "# Transition Path"
   ]
  },
  {
   "cell_type": "markdown",
   "id": "173566da-5ac9-488d-9bbd-0bca5bfe2178",
   "metadata": {},
   "source": [
    "In this notebook, I solve and simulate the housing model along a **transition path** stemming from an interest rate shock"
   ]
  },
  {
   "cell_type": "code",
   "execution_count": 1,
   "id": "f047c835-55b1-4819-8d0b-62d765ccfc91",
   "metadata": {
    "tags": []
   },
   "outputs": [],
   "source": [
    "%load_ext autoreload\n",
    "%autoreload 2\n",
    "\n",
    "import time\n",
    "import numpy as np\n",
    "import numba as nb\n",
    "import matplotlib.pyplot as plt\n",
    "from scipy import optimize\n",
    "from consav import linear_interp\n",
    "\n",
    "# load the DurableConsumptionModel module\n",
    "from DurableConsumptionModel import DurableConsumptionModelClass\n",
    "\n",
    "# Set the number of threads in numba\n",
    "nb.set_num_threads(4)"
   ]
  },
  {
   "cell_type": "markdown",
   "id": "7f3710b6-347c-48e9-ae81-9dfa14cb35a9",
   "metadata": {},
   "source": [
    "**Solved the Initial Steady State**"
   ]
  },
  {
   "cell_type": "code",
   "execution_count": 31,
   "id": "d19eec9f-f039-4b3b-b23f-691e6cf474c7",
   "metadata": {},
   "outputs": [],
   "source": [
    "model = DurableConsumptionModelClass(name='example_negm',par={'solmethod':'negm', 'do_print':False})"
   ]
  },
  {
   "cell_type": "code",
   "execution_count": 32,
   "id": "3571b3d8-ad40-4823-af88-710cffd0b36a",
   "metadata": {},
   "outputs": [],
   "source": [
    "model.precompile_numba()\n",
    "model.solve()"
   ]
  },
  {
   "cell_type": "markdown",
   "id": "e87c7b3d-ac41-4952-ab1f-bf37a8690577",
   "metadata": {},
   "source": [
    "**Solve and Simulate Along a Transition Path**"
   ]
  },
  {
   "cell_type": "code",
   "execution_count": 33,
   "id": "db39ce05-e9c0-4f57-abf3-7c24e007f401",
   "metadata": {},
   "outputs": [],
   "source": [
    "model.solve_path()"
   ]
  },
  {
   "cell_type": "code",
   "execution_count": 34,
   "id": "e87230de-f78c-48e6-93ef-7a6d2554e908",
   "metadata": {},
   "outputs": [],
   "source": [
    "model.simulate_path()"
   ]
  },
  {
   "cell_type": "markdown",
   "id": "71ead6fe-d79f-4e8a-8803-3ea6a6062798",
   "metadata": {},
   "source": [
    "Check the policy functions"
   ]
  },
  {
   "cell_type": "code",
   "execution_count": 35,
   "id": "bad192e5-cf80-4e4c-948a-a3d3661274e6",
   "metadata": {},
   "outputs": [
    {
     "data": {
      "image/png": "[encoded data removed]",
      "text/plain": [
       "<Figure size 432x288 with 1 Axes>"
      ]
     },
     "metadata": {
      "needs_background": "light"
     },
     "output_type": "display_data"
    }
   ],
   "source": [
    "plt.plot(model.par.grid_m, model.sol_path.d_adj[199,0,1,:], color = 'red', linewidth = '1.5', label = r'High $R$')\n",
    "plt.plot(model.par.grid_m, model.sol_path.d_adj[210,0,1,:], color = 'blue', linewidth = '1.5', label = r'Low $R$')\n",
    "\n",
    "plt.legend()\n",
    "plt.show()"
   ]
  },
  {
   "cell_type": "code",
   "execution_count": 36,
   "id": "1ed41edd-04ac-43ea-b61a-afb5e960999f",
   "metadata": {},
   "outputs": [
    {
     "data": {
      "text/plain": [
       "(150.0, 400.0)"
      ]
     },
     "execution_count": 36,
     "metadata": {},
     "output_type": "execute_result"
    },
    {
     "data": {
      "image/png": "[encoded data removed]",
      "text/plain": [
       "<Figure size 432x288 with 1 Axes>"
      ]
     },
     "metadata": {
      "needs_background": "light"
     },
     "output_type": "display_data"
    }
   ],
   "source": [
    "mom1_h = np.mean(model.sim_path.n, axis=1)\n",
    "mom1_m = np.mean(model.sim_path.m, axis=1)\n",
    "mom1_c = np.mean(model.sim_path.c, axis=1)\n",
    "adj = np.mean(model.sim_path.discrete, axis=1)\n",
    "\n",
    "plt.plot(mom1_h)\n",
    "plt.xlim(150,400)"
   ]
  }
 ],
 "metadata": {
  "kernelspec": {
   "display_name": "Python 3 (ipykernel)",
   "language": "python",
   "name": "python3"
  },
  "language_info": {
   "codemirror_mode": {
    "name": "ipython",
    "version": 3
   },
   "file_extension": ".py",
   "mimetype": "text/x-python",
   "name": "python",
   "nbconvert_exporter": "python",
   "pygments_lexer": "ipython3",
   "version": "3.9.10"
  }
 },
 "nbformat": 4,
 "nbformat_minor": 5
}
