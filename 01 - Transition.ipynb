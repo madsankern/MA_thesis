{
 "cells": [
  {
   "cell_type": "markdown",
   "id": "3cb73a7a-682f-4f58-b9af-0201b9cdf547",
   "metadata": {},
   "source": [
    "# Transition Path"
   ]
  },
  {
   "cell_type": "markdown",
   "id": "173566da-5ac9-488d-9bbd-0bca5bfe2178",
   "metadata": {},
   "source": [
    "In this notebook, I solve and simulate the housing model along a **transition path** stemming from an interest rate shock"
   ]
  },
  {
   "cell_type": "code",
   "execution_count": 1,
   "id": "f047c835-55b1-4819-8d0b-62d765ccfc91",
   "metadata": {
    "tags": []
   },
   "outputs": [],
   "source": [
    "%load_ext autoreload\n",
    "%autoreload 2\n",
    "\n",
    "import time\n",
    "import numpy as np\n",
    "import numba as nb\n",
    "import matplotlib.pyplot as plt\n",
    "from scipy import optimize\n",
    "from consav import linear_interp\n",
    "\n",
    "# load the DurableConsumptionModel module\n",
    "from DurableConsumptionModel import DurableConsumptionModelClass\n",
    "\n",
    "# Set the number of threads in numba\n",
    "nb.set_num_threads(4)"
   ]
  },
  {
   "cell_type": "markdown",
   "id": "b769137e-ee51-4da6-beee-874a282369f0",
   "metadata": {
    "tags": []
   },
   "source": [
    "## Test how PE path looks"
   ]
  },
  {
   "cell_type": "markdown",
   "id": "7f3710b6-347c-48e9-ae81-9dfa14cb35a9",
   "metadata": {},
   "source": [
    "Solve the Initial Steady State"
   ]
  },
  {
   "cell_type": "code",
   "execution_count": 448,
   "id": "4d1e2220-2966-4987-ab39-e568fbe7a7e5",
   "metadata": {},
   "outputs": [
    {
     "data": {
      "text/plain": [
       "<matplotlib.legend.Legend at 0x24213167ac0>"
      ]
     },
     "execution_count": 448,
     "metadata": {},
     "output_type": "execute_result"
    },
    {
     "data": {
      "image/png": "[encoded data removed]",
      "text/plain": [
       "<Figure size 432x288 with 1 Axes>"
      ]
     },
     "metadata": {
      "needs_background": "light"
     },
     "output_type": "display_data"
    }
   ],
   "source": [
    "plt.plot(model.par.grid_m, model.sol_path.d_adj[199,0,1,:], color = 'blue', linewidth = '1.5', label = r'High $R$')\n",
    "plt.plot(model.par.grid_m, model.sol_path.d_adj[200,0,1,:], color = 'red', linewidth = '1.5', label = r'Low $R$')\n",
    "plt.legend()"
   ]
  },
  {
   "cell_type": "code",
   "execution_count": 481,
   "id": "d19eec9f-f039-4b3b-b23f-691e6cf474c7",
   "metadata": {},
   "outputs": [],
   "source": [
    "model = DurableConsumptionModelClass(name='example_negm',par={'solmethod':'negm', 'do_print':False})\n",
    "model.precompile_numba()\n",
    "model.solve()"
   ]
  },
  {
   "cell_type": "markdown",
   "id": "e87c7b3d-ac41-4952-ab1f-bf37a8690577",
   "metadata": {},
   "source": [
    "Solve and Simulate Along a Transition Path"
   ]
  },
  {
   "cell_type": "code",
   "execution_count": 484,
   "id": "348e158b-5220-4ec2-ade4-c388f8bbcc04",
   "metadata": {},
   "outputs": [],
   "source": [
    "# model.par.path_ph[199] = model.par.ph\n",
    "model.par.path_ph[200] =  7.0"
   ]
  },
  {
   "cell_type": "code",
   "execution_count": 485,
   "id": "886f722d-0bf5-40b7-9ec2-db0d7f2d5e0a",
   "metadata": {},
   "outputs": [],
   "source": [
    "model.solve_path()\n",
    "model.simulate_path()"
   ]
  },
  {
   "cell_type": "markdown",
   "id": "70e8c520-042a-4ea3-9194-10cefe7def7c",
   "metadata": {
    "tags": []
   },
   "source": [
    "Plot the results"
   ]
  },
  {
   "cell_type": "code",
   "execution_count": 489,
   "id": "d8f1c7ba-618f-466a-a8ec-1f0fe4fb5e9b",
   "metadata": {},
   "outputs": [
    {
     "data": {
      "text/plain": [
       "0.055696669950235984"
      ]
     },
     "execution_count": 489,
     "metadata": {},
     "output_type": "execute_result"
    }
   ],
   "source": [
    "h_path[201]"
   ]
  },
  {
   "cell_type": "code",
   "execution_count": 563,
   "id": "1ed41edd-04ac-43ea-b61a-afb5e960999f",
   "metadata": {},
   "outputs": [
    {
     "data": {
      "image/png": "[encoded data removed]",
      "text/plain": [
       "<Figure size 432x288 with 1 Axes>"
      ]
     },
     "metadata": {
      "needs_background": "light"
     },
     "output_type": "display_data"
    }
   ],
   "source": [
    "# define\n",
    "h_path = np.mean(model.sim_path.d, axis=1)\n",
    "\n",
    "# plot\n",
    "plt.plot(range(len(h_path)),h_path)\n",
    "plt.xlim(150,249)\n",
    "# plt.ylim(0.045,0.065)\n",
    "plt.show()"
   ]
  },
  {
   "cell_type": "markdown",
   "id": "0d4a8bba-5eb2-4903-be0d-7172b978c500",
   "metadata": {},
   "source": [
    "## Test Relaxation Algorithm"
   ]
  },
  {
   "cell_type": "markdown",
   "id": "7eb16138-d948-446c-bdbb-b5983b040f44",
   "metadata": {},
   "source": [
    "Supply function"
   ]
  },
  {
   "cell_type": "code",
   "execution_count": 490,
   "id": "aed9714a-5fdd-4889-9fdc-ac05eb761f85",
   "metadata": {},
   "outputs": [],
   "source": [
    "# Write test function\n",
    "def Hs_prime(x):\n",
    "    \n",
    "    # Parameters\n",
    "    a = 9000\n",
    "    b = 6.4593010477953685 - a*0.05\n",
    "    \n",
    "    # Set negatives to zero\n",
    "    y = a*x + b\n",
    "    \n",
    "    return max(y,0)"
   ]
  },
  {
   "cell_type": "markdown",
   "id": "11c2dfc4-7f78-406b-ad31-438f8dd2829b",
   "metadata": {},
   "source": [
    "Setup"
   ]
  },
  {
   "cell_type": "code",
   "execution_count": 491,
   "id": "963219cd-de2c-4328-9994-3c74d09fca73",
   "metadata": {},
   "outputs": [],
   "source": [
    "# a. allocate\n",
    "path_ph_ = np.zeros(50)\n",
    "path_ph = np.zeros(50)\n",
    "\n",
    "# b. setting\n",
    "nu = 0.999 # relaxation parameter\n",
    "max_iter = 500 # maximum number of iterations\n",
    "\n",
    "# Set path of prices\n",
    "path_ph[:] = model.par.ph\n",
    "model.par.path_ph[model.par.sim_T:model.par.sim_T+50] = path_ph"
   ]
  },
  {
   "cell_type": "markdown",
   "id": "c16c312f-9bfc-416e-9bbd-846517aa99fd",
   "metadata": {},
   "source": [
    "Solve and simulate along path - **start here again**"
   ]
  },
  {
   "cell_type": "code",
   "execution_count": 556,
   "id": "b3bdd281-cc94-4d7f-979a-59647aff79e1",
   "metadata": {},
   "outputs": [],
   "source": [
    "model.solve_path()\n",
    "model.simulate_path()"
   ]
  },
  {
   "cell_type": "markdown",
   "id": "2c7eb610-71a7-400a-91fc-78a3232ba38b",
   "metadata": {},
   "source": [
    "Find implied house price"
   ]
  },
  {
   "cell_type": "code",
   "execution_count": 557,
   "id": "3e84aa2a-e0c5-455f-8d0d-a5e9af1c9a37",
   "metadata": {},
   "outputs": [],
   "source": [
    "for t in range(50):\n",
    "    path_ph_[t] = Hs_prime(np.mean(model.sim_path.d, axis=1)[model.par.sim_T+t])"
   ]
  },
  {
   "cell_type": "markdown",
   "id": "d0c280c1-6323-485a-b106-520a726104b2",
   "metadata": {},
   "source": [
    "Compute difference between implied and actual prices"
   ]
  },
  {
   "cell_type": "code",
   "execution_count": 558,
   "id": "8cb6c1bc-3d1e-43a3-b49e-fc8539d4f762",
   "metadata": {},
   "outputs": [
    {
     "name": "stdout",
     "output_type": "stream",
     "text": [
      "14.862353835967182\n"
     ]
    }
   ],
   "source": [
    "max_abs_diff = np.max(np.abs(path_ph-path_ph_))\n",
    "print(max_abs_diff)"
   ]
  },
  {
   "cell_type": "markdown",
   "id": "51f4f5fd-056d-435c-b791-0aba6399caae",
   "metadata": {},
   "source": [
    "Check"
   ]
  },
  {
   "cell_type": "code",
   "execution_count": 559,
   "id": "e06d9a46-d3d8-46c9-aaf5-5446ace7a4a7",
   "metadata": {},
   "outputs": [
    {
     "data": {
      "text/plain": [
       "[<matplotlib.lines.Line2D at 0x241de8f9f10>]"
      ]
     },
     "execution_count": 559,
     "metadata": {},
     "output_type": "execute_result"
    },
    {
     "data": {
      "image/png": "[encoded data removed]",
      "text/plain": [
       "<Figure size 432x288 with 1 Axes>"
      ]
     },
     "metadata": {
      "needs_background": "light"
     },
     "output_type": "display_data"
    }
   ],
   "source": [
    "y = path_ph_ - path_ph\n",
    "plt.plot(y)"
   ]
  },
  {
   "cell_type": "markdown",
   "id": "f28094bf-9640-4afa-9767-f1307f121c92",
   "metadata": {},
   "source": [
    "Update price sequence"
   ]
  },
  {
   "cell_type": "code",
   "execution_count": 560,
   "id": "700177d9-d3f6-4cbc-9977-332428cb279b",
   "metadata": {
    "tags": []
   },
   "outputs": [
    {
     "data": {
      "text/plain": [
       "[<matplotlib.lines.Line2D at 0x241b7348a30>]"
      ]
     },
     "execution_count": 560,
     "metadata": {},
     "output_type": "execute_result"
    },
    {
     "data": {
      "image/png": "[encoded data removed]",
      "text/plain": [
       "<Figure size 432x288 with 1 Axes>"
      ]
     },
     "metadata": {
      "needs_background": "light"
     },
     "output_type": "display_data"
    }
   ],
   "source": [
    "path_ph = nu*path_ph + (1-nu)*path_ph_\n",
    "plt.plot(path_ph)"
   ]
  },
  {
   "cell_type": "markdown",
   "id": "a9289448-2698-4647-97c8-32b0d0742d61",
   "metadata": {},
   "source": [
    "Run again with updated price sequence"
   ]
  },
  {
   "cell_type": "code",
   "execution_count": 561,
   "id": "2d0ee5c3-96c8-49ab-aa8f-77d476d05d02",
   "metadata": {},
   "outputs": [],
   "source": [
    "model.par.path_ph[model.par.sim_T:model.par.sim_T+50] = path_ph"
   ]
  },
  {
   "cell_type": "code",
   "execution_count": 527,
   "id": "a4fad42a-8c7d-4447-a6bc-fb6548fade2c",
   "metadata": {
    "tags": []
   },
   "outputs": [
    {
     "data": {
      "text/plain": [
       "[<matplotlib.lines.Line2D at 0x2421a6e16d0>]"
      ]
     },
     "execution_count": 527,
     "metadata": {},
     "output_type": "execute_result"
    },
    {
     "data": {
      "image/png": "[encoded data removed]",
      "text/plain": [
       "<Figure size 432x288 with 1 Axes>"
      ]
     },
     "metadata": {
      "needs_background": "light"
     },
     "output_type": "display_data"
    }
   ],
   "source": [
    "plt.plot(model.par.path_ph)"
   ]
  },
  {
   "cell_type": "code",
   "execution_count": 566,
   "id": "ad8c54e6-3756-4813-bea1-548910e603ee",
   "metadata": {},
   "outputs": [
    {
     "data": {
      "image/png": "[encoded data removed]",
      "text/plain": [
       "<Figure size 432x288 with 1 Axes>"
      ]
     },
     "metadata": {
      "needs_background": "light"
     },
     "output_type": "display_data"
    }
   ],
   "source": [
    "fig = plt.figure(figsize=(6,4))\n",
    "ax = fig.add_subplot(1,1,1)\n",
    "\n",
    "ax.plot(range(0,50),path_ph, color = 'red', label = 'Demand',zorder=2)\n",
    "\n",
    "# ax.set_xlim(0.0,0.14)\n",
    "# ax.set_ylim(2.5,9.4)\n",
    "ax.set_xlabel('Time')\n",
    "ax.set_ylabel(r'$p_t$')\n",
    "\n",
    "ax.grid(visible=True, which = 'major', linestyle='-', linewidth=0.5, color='0.9')\n",
    "ax.tick_params(axis='both',bottom=True,top=True,left=True,right=True,direction='in',which='both')\n",
    "# ax.legend(frameon = True, edgecolor = 'k', facecolor = 'white', framealpha=1, fancybox=False)\n",
    "\n",
    "plt.savefig('../../tex/figs/IRF_ph.pdf')"
   ]
  },
  {
   "cell_type": "markdown",
   "id": "c958f835-096e-4d8b-b08f-26a446aa1207",
   "metadata": {
    "tags": []
   },
   "source": [
    "## Find Equilibrium Along a Transition Path"
   ]
  },
  {
   "cell_type": "code",
   "execution_count": 2,
   "id": "5a00715f-4277-473b-8b99-d4a296db7431",
   "metadata": {},
   "outputs": [],
   "source": [
    "# Write test function\n",
    "def Hs_prime(x):\n",
    "    \n",
    "    # Parameters\n",
    "    a = 9000\n",
    "    b = 6.4593010477953685 - a*0.05\n",
    "    \n",
    "    # Set negatives to zero\n",
    "    y = a*x + b\n",
    "    \n",
    "    return max(y,0)"
   ]
  },
  {
   "cell_type": "markdown",
   "id": "8abaa94d-a1b9-4a6c-b831-99ea2dbe910f",
   "metadata": {},
   "source": [
    "## Apply relaxation algorithm "
   ]
  },
  {
   "cell_type": "code",
   "execution_count": 3,
   "id": "2b0a5dbe-eb0c-4d56-b590-e48abc5505b3",
   "metadata": {},
   "outputs": [],
   "source": [
    "# Initialize model and solve initial steady state\n",
    "model_path = DurableConsumptionModelClass(name='example_negm',par={'solmethod':'negm', 'do_print':False})\n",
    "model_path.precompile_numba()\n",
    "model_path.solve()"
   ]
  },
  {
   "cell_type": "code",
   "execution_count": 5,
   "id": "5654160e-0265-414b-9af6-f63c18aca921",
   "metadata": {},
   "outputs": [
    {
     "name": "stdout",
     "output_type": "stream",
     "text": [
      "1th iteration: dif = 60.57326282119359\n",
      "2th iteration: dif = 64.85530906626866\n",
      "3th iteration: dif = 42.48419865794614\n",
      "4th iteration: dif = 35.21787992173073\n",
      "5th iteration: dif = 30.539942531814447\n",
      "6th iteration: dif = 25.907749154670253\n",
      "7th iteration: dif = 22.31804933364343\n",
      "8th iteration: dif = 19.23460920159094\n",
      "9th iteration: dif = 15.790051997980637\n",
      "10th iteration: dif = 13.67665753293667\n",
      "11th iteration: dif = 12.033837673401148\n",
      "12th iteration: dif = 10.489682112289824\n",
      "13th iteration: dif = 8.321633116076391\n",
      "14th iteration: dif = 7.579360493339318\n",
      "15th iteration: dif = 6.361831724271177\n",
      "16th iteration: dif = 6.114672839163849\n",
      "17th iteration: dif = 5.353585054175081\n"
     ]
    }
   ],
   "source": [
    "# a. allocate\n",
    "path_ph_ = np.zeros(50)\n",
    "path_ph = np.zeros(50)\n",
    "\n",
    "# b. setting\n",
    "nu = 0.999 # relaxation parameter\n",
    "max_iter = 500 # maximum number of iterations\n",
    "\n",
    "# c. Set path of prices\n",
    "path_ph[:] = model_path.par.ph\n",
    "model_path.par.path_ph[model_path.par.sim_T:model_path.par.sim_T+50] = path_ph\n",
    "\n",
    "# d. iterate\n",
    "it = 0\n",
    "for _ in range(max_iter):\n",
    "\n",
    "    # ii. solve and simulate\n",
    "    model_path.solve_path()\n",
    "    model_path.simulate_path()\n",
    "\n",
    "    # iii. implied housing price\n",
    "    for t in range(50):\n",
    "        path_ph_[t] = Hs_prime(np.mean(model_path.sim_path.d, axis=1)[model_path.par.sim_T+t])\n",
    "\n",
    "    # iv. difference\n",
    "    max_abs_diff = np.max(np.abs(path_ph-path_ph_))\n",
    "    # if it%10 == 0: print(f'{it:4d}: {max_abs_diff:.8f}')\n",
    "    if max_abs_diff < 5.0: break # test different values of this threshold\n",
    "\n",
    "    # v. update\n",
    "    path_ph = nu*path_ph + (1-nu)*path_ph_\n",
    "    model_path.par.path_ph[model_path.par.sim_T:model_path.par.sim_T+50] = path_ph    \n",
    "    \n",
    "    # vi.  increment\n",
    "    it += 1\n",
    "    if it > max_iter: raise Exception('too many iterations')    \n",
    "    \n",
    "    print(str(it)+'th iteration: dif = '+str(max_abs_diff))"
   ]
  },
  {
   "cell_type": "code",
   "execution_count": 9,
   "id": "7905e7fc-b996-43ef-9479-07b291996d8a",
   "metadata": {},
   "outputs": [
    {
     "data": {
      "image/png": "[encoded data removed]",
      "text/plain": [
       "<Figure size 432x288 with 1 Axes>"
      ]
     },
     "metadata": {
      "needs_background": "light"
     },
     "output_type": "display_data"
    }
   ],
   "source": [
    "fig = plt.figure(figsize=(6,4))\n",
    "ax = fig.add_subplot(1,1,1)\n",
    "\n",
    "ax.plot(range(0,50),path_ph, color = 'red', label = 'Demand',zorder=2)\n",
    "\n",
    "# ax.set_xlim(0.0,0.14)\n",
    "# ax.set_ylim(2.5,9.4)\n",
    "ax.set_xlabel('Time')\n",
    "ax.set_ylabel(r'$p_t$')\n",
    "\n",
    "ax.grid(visible=True, which = 'major', linestyle='-', linewidth=0.5, color='0.9')\n",
    "ax.tick_params(axis='both',bottom=True,top=True,left=True,right=True,direction='in',which='both')\n",
    "# ax.legend(frameon = True, edgecolor = 'k', facecolor = 'white', framealpha=1, fancybox=False)\n",
    "\n",
    "plt.savefig('../../tex/figs/IRF_ph.pdf')"
   ]
  },
  {
   "cell_type": "code",
   "execution_count": 8,
   "id": "16666552-43ed-4c93-89a0-e9518b8c3adc",
   "metadata": {},
   "outputs": [
    {
     "data": {
      "image/png": "[encoded data removed]",
      "text/plain": [
       "<Figure size 432x288 with 1 Axes>"
      ]
     },
     "metadata": {
      "needs_background": "light"
     },
     "output_type": "display_data"
    }
   ],
   "source": [
    "# define\n",
    "h_path = np.mean(model_path.sim_path.d, axis=1)\n",
    "\n",
    "# plot\n",
    "plt.plot(range(len(h_path)),h_path)\n",
    "plt.xlim(150,249)\n",
    "# plt.ylim(0.045,0.065)\n",
    "plt.show()"
   ]
  }
 ],
 "metadata": {
  "kernelspec": {
   "display_name": "Python 3 (ipykernel)",
   "language": "python",
   "name": "python3"
  },
  "language_info": {
   "codemirror_mode": {
    "name": "ipython",
    "version": 3
   },
   "file_extension": ".py",
   "mimetype": "text/x-python",
   "name": "python",
   "nbconvert_exporter": "python",
   "pygments_lexer": "ipython3",
   "version": "3.9.10"
  }
 },
 "nbformat": 4,
 "nbformat_minor": 5
}
