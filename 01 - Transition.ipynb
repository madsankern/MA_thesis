{
 "cells": [
  {
   "cell_type": "markdown",
   "id": "3cb73a7a-682f-4f58-b9af-0201b9cdf547",
   "metadata": {},
   "source": [
    "# Transition Path"
   ]
  },
  {
   "cell_type": "markdown",
   "id": "173566da-5ac9-488d-9bbd-0bca5bfe2178",
   "metadata": {},
   "source": [
    "In this notebook, I solve and simulate the housing model along a **transition path** stemming from an interest rate shock"
   ]
  },
  {
   "cell_type": "code",
   "execution_count": 129,
   "id": "f047c835-55b1-4819-8d0b-62d765ccfc91",
   "metadata": {
    "tags": []
   },
   "outputs": [
    {
     "name": "stdout",
     "output_type": "stream",
     "text": [
      "The autoreload extension is already loaded. To reload it, use:\n",
      "  %reload_ext autoreload\n"
     ]
    }
   ],
   "source": [
    "%load_ext autoreload\n",
    "%autoreload 2\n",
    "\n",
    "import time\n",
    "import numpy as np\n",
    "import numba as nb\n",
    "import matplotlib.pyplot as plt\n",
    "from scipy import optimize\n",
    "from consav import linear_interp\n",
    "\n",
    "# load the DurableConsumptionModel module\n",
    "from DurableConsumptionModel import DurableConsumptionModelClass\n",
    "\n",
    "# Set the number of threads in numba\n",
    "nb.set_num_threads(4)\n",
    "\n",
    "# Smoother\n",
    "from scipy.signal import savgol_filter"
   ]
  },
  {
   "cell_type": "markdown",
   "id": "b769137e-ee51-4da6-beee-874a282369f0",
   "metadata": {
    "tags": []
   },
   "source": [
    "## Test how PE path looks"
   ]
  },
  {
   "cell_type": "markdown",
   "id": "7f3710b6-347c-48e9-ae81-9dfa14cb35a9",
   "metadata": {},
   "source": [
    "Solve the Initial Steady State"
   ]
  },
  {
   "cell_type": "code",
   "execution_count": 448,
   "id": "4d1e2220-2966-4987-ab39-e568fbe7a7e5",
   "metadata": {},
   "outputs": [
    {
     "data": {
      "text/plain": [
       "<matplotlib.legend.Legend at 0x24213167ac0>"
      ]
     },
     "execution_count": 448,
     "metadata": {},
     "output_type": "execute_result"
    },
    {
     "data": {
      "image/png": "[encoded data removed]",
      "text/plain": [
       "<Figure size 432x288 with 1 Axes>"
      ]
     },
     "metadata": {
      "needs_background": "light"
     },
     "output_type": "display_data"
    }
   ],
   "source": [
    "plt.plot(model.par.grid_m, model.sol_path.d_adj[199,0,1,:], color = 'blue', linewidth = '1.5', label = r'High $R$')\n",
    "plt.plot(model.par.grid_m, model.sol_path.d_adj[200,0,1,:], color = 'red', linewidth = '1.5', label = r'Low $R$')\n",
    "plt.legend()"
   ]
  },
  {
   "cell_type": "code",
   "execution_count": 3,
   "id": "d19eec9f-f039-4b3b-b23f-691e6cf474c7",
   "metadata": {},
   "outputs": [],
   "source": [
    "model = DurableConsumptionModelClass(name='example_negm',par={'solmethod':'negm', 'do_print':False})\n",
    "model.precompile_numba()\n",
    "model.solve()"
   ]
  },
  {
   "cell_type": "markdown",
   "id": "e87c7b3d-ac41-4952-ab1f-bf37a8690577",
   "metadata": {},
   "source": [
    "Solve and Simulate Along a Transition Path"
   ]
  },
  {
   "cell_type": "code",
   "execution_count": 484,
   "id": "348e158b-5220-4ec2-ade4-c388f8bbcc04",
   "metadata": {},
   "outputs": [],
   "source": [
    "# model.par.path_ph[199] = model.par.ph\n",
    "model.par.path_ph[200] =  7.0"
   ]
  },
  {
   "cell_type": "code",
   "execution_count": 6,
   "id": "886f722d-0bf5-40b7-9ec2-db0d7f2d5e0a",
   "metadata": {},
   "outputs": [],
   "source": [
    "model.solve_path()\n",
    "model.simulate_path()"
   ]
  },
  {
   "cell_type": "markdown",
   "id": "70e8c520-042a-4ea3-9194-10cefe7def7c",
   "metadata": {
    "tags": []
   },
   "source": [
    "Plot the results"
   ]
  },
  {
   "cell_type": "code",
   "execution_count": 4,
   "id": "d8f1c7ba-618f-466a-a8ec-1f0fe4fb5e9b",
   "metadata": {},
   "outputs": [
    {
     "data": {
      "text/plain": [
       "(350,)"
      ]
     },
     "execution_count": 4,
     "metadata": {},
     "output_type": "execute_result"
    }
   ],
   "source": [
    "np.shape(model.par.path_R)"
   ]
  },
  {
   "cell_type": "code",
   "execution_count": 9,
   "id": "1ed41edd-04ac-43ea-b61a-afb5e960999f",
   "metadata": {},
   "outputs": [
    {
     "data": {
      "image/png": "[encoded data removed]",
      "text/plain": [
       "<Figure size 432x288 with 1 Axes>"
      ]
     },
     "metadata": {
      "needs_background": "light"
     },
     "output_type": "display_data"
    }
   ],
   "source": [
    "# define\n",
    "h_path = np.mean(model.sim_path.d, axis=1)\n",
    "\n",
    "# plot\n",
    "plt.plot(range(len(h_path)),h_path)\n",
    "plt.xlim(150,300)\n",
    "plt.ylim(0.045,0.065)\n",
    "plt.show()"
   ]
  },
  {
   "cell_type": "markdown",
   "id": "0d4a8bba-5eb2-4903-be0d-7172b978c500",
   "metadata": {},
   "source": [
    "## Test Relaxation Algorithm"
   ]
  },
  {
   "cell_type": "markdown",
   "id": "be9f531b-8b38-4eaf-829c-49c32c196b7d",
   "metadata": {},
   "source": [
    "This is to individually test each step in the relaxation algorithm for any troubleshooting"
   ]
  },
  {
   "cell_type": "markdown",
   "id": "7eb16138-d948-446c-bdbb-b5983b040f44",
   "metadata": {},
   "source": [
    "1. Define Reduced Form Supply function"
   ]
  },
  {
   "cell_type": "code",
   "execution_count": 13,
   "id": "aed9714a-5fdd-4889-9fdc-ac05eb761f85",
   "metadata": {},
   "outputs": [],
   "source": [
    "# Write test function\n",
    "def Hs_prime(x):\n",
    "    \n",
    "    # Parameters\n",
    "    a = 9000\n",
    "    b = 6.4593010477953685 - a*0.05\n",
    "    \n",
    "    # Set negatives to zero\n",
    "    y = a*x + b\n",
    "    \n",
    "    return max(y,0)"
   ]
  },
  {
   "cell_type": "markdown",
   "id": "11c2dfc4-7f78-406b-ad31-438f8dd2829b",
   "metadata": {},
   "source": [
    "2. Setup"
   ]
  },
  {
   "cell_type": "code",
   "execution_count": 66,
   "id": "963219cd-de2c-4328-9994-3c74d09fca73",
   "metadata": {},
   "outputs": [],
   "source": [
    "# a. allocate\n",
    "path_ph_ = np.zeros(model.par.path_T)\n",
    "path_ph = np.zeros(model.par.path_T)\n",
    "\n",
    "# b. setting\n",
    "nu = 0.9995 # relaxation parameter\n",
    "max_iter = 500 # maximum number of iterations\n",
    "\n",
    "# Set path of prices\n",
    "path_ph[:] = model.par.ph\n",
    "model.par.path_ph[model.par.sim_T:model.par.sim_T+model.par.path_T] = path_ph"
   ]
  },
  {
   "cell_type": "markdown",
   "id": "c16c312f-9bfc-416e-9bbd-846517aa99fd",
   "metadata": {},
   "source": [
    "3. Solve and simulate along path - **start here again**"
   ]
  },
  {
   "cell_type": "code",
   "execution_count": 108,
   "id": "b3bdd281-cc94-4d7f-979a-59647aff79e1",
   "metadata": {},
   "outputs": [],
   "source": [
    "model.solve_path()\n",
    "model.simulate_path()"
   ]
  },
  {
   "cell_type": "markdown",
   "id": "2c7eb610-71a7-400a-91fc-78a3232ba38b",
   "metadata": {},
   "source": [
    "4. Find implied house price"
   ]
  },
  {
   "cell_type": "code",
   "execution_count": 109,
   "id": "3e84aa2a-e0c5-455f-8d0d-a5e9af1c9a37",
   "metadata": {},
   "outputs": [],
   "source": [
    "for t in range(model.par.path_T):\n",
    "    path_ph_[t] = Hs_prime(np.mean(model.sim_path.d, axis=1)[model.par.sim_T+t])"
   ]
  },
  {
   "cell_type": "markdown",
   "id": "d0c280c1-6323-485a-b106-520a726104b2",
   "metadata": {},
   "source": [
    "5. Compute difference between implied and actual prices"
   ]
  },
  {
   "cell_type": "code",
   "execution_count": 110,
   "id": "8cb6c1bc-3d1e-43a3-b49e-fc8539d4f762",
   "metadata": {},
   "outputs": [
    {
     "name": "stdout",
     "output_type": "stream",
     "text": [
      "49.0993239408949\n"
     ]
    }
   ],
   "source": [
    "max_abs_diff = np.max(np.abs(path_ph-path_ph_))\n",
    "print(max_abs_diff)"
   ]
  },
  {
   "cell_type": "markdown",
   "id": "51f4f5fd-056d-435c-b791-0aba6399caae",
   "metadata": {},
   "source": [
    "Check results"
   ]
  },
  {
   "cell_type": "code",
   "execution_count": 111,
   "id": "e06d9a46-d3d8-46c9-aaf5-5446ace7a4a7",
   "metadata": {},
   "outputs": [
    {
     "data": {
      "text/plain": [
       "[<matplotlib.lines.Line2D at 0x19de8589a00>]"
      ]
     },
     "execution_count": 111,
     "metadata": {},
     "output_type": "execute_result"
    },
    {
     "data": {
      "image/png": "[encoded data removed]",
      "text/plain": [
       "<Figure size 432x288 with 1 Axes>"
      ]
     },
     "metadata": {
      "needs_background": "light"
     },
     "output_type": "display_data"
    }
   ],
   "source": [
    "y = path_ph_ - path_ph\n",
    "plt.plot(y)"
   ]
  },
  {
   "cell_type": "markdown",
   "id": "f28094bf-9640-4afa-9767-f1307f121c92",
   "metadata": {},
   "source": [
    "6. Update price sequence"
   ]
  },
  {
   "cell_type": "code",
   "execution_count": 112,
   "id": "700177d9-d3f6-4cbc-9977-332428cb279b",
   "metadata": {
    "tags": []
   },
   "outputs": [
    {
     "data": {
      "text/plain": [
       "[<matplotlib.lines.Line2D at 0x19d848a90d0>]"
      ]
     },
     "execution_count": 112,
     "metadata": {},
     "output_type": "execute_result"
    },
    {
     "data": {
      "image/png": "[encoded data removed]",
      "text/plain": [
       "<Figure size 432x288 with 1 Axes>"
      ]
     },
     "metadata": {
      "needs_background": "light"
     },
     "output_type": "display_data"
    }
   ],
   "source": [
    "path_ph = nu*path_ph + (1-nu)*path_ph_\n",
    "plt.plot(path_ph)"
   ]
  },
  {
   "cell_type": "markdown",
   "id": "a9289448-2698-4647-97c8-32b0d0742d61",
   "metadata": {},
   "source": [
    "7. Add updated price sequence to model. **Then return to step 3**"
   ]
  },
  {
   "cell_type": "code",
   "execution_count": 113,
   "id": "2d0ee5c3-96c8-49ab-aa8f-77d476d05d02",
   "metadata": {},
   "outputs": [],
   "source": [
    "model.par.path_ph[model.par.sim_T:model.par.sim_T+model.par.path_T] = path_ph"
   ]
  },
  {
   "cell_type": "markdown",
   "id": "6fee7ccb-8fda-4e3d-9fd7-ea47ee2f5d6f",
   "metadata": {},
   "source": [
    "Test plot"
   ]
  },
  {
   "cell_type": "code",
   "execution_count": 114,
   "id": "a4fad42a-8c7d-4447-a6bc-fb6548fade2c",
   "metadata": {
    "tags": []
   },
   "outputs": [
    {
     "data": {
      "text/plain": [
       "[<matplotlib.lines.Line2D at 0x19d837ff0a0>]"
      ]
     },
     "execution_count": 114,
     "metadata": {},
     "output_type": "execute_result"
    },
    {
     "data": {
      "image/png": "[encoded data removed]",
      "text/plain": [
       "<Figure size 432x288 with 1 Axes>"
      ]
     },
     "metadata": {
      "needs_background": "light"
     },
     "output_type": "display_data"
    }
   ],
   "source": [
    "plt.plot(model.par.path_ph)"
   ]
  },
  {
   "cell_type": "code",
   "execution_count": 115,
   "id": "294e699a-f2e3-46c7-af5a-88c0cf43482e",
   "metadata": {},
   "outputs": [
    {
     "data": {
      "image/png": "[encoded data removed]",
      "text/plain": [
       "<Figure size 432x288 with 1 Axes>"
      ]
     },
     "metadata": {
      "needs_background": "light"
     },
     "output_type": "display_data"
    }
   ],
   "source": [
    "# define\n",
    "h_path = np.mean(model.sim_path.d, axis=1)\n",
    "\n",
    "# plot\n",
    "plt.plot(range(len(h_path)),h_path)\n",
    "plt.xlim(150,300)\n",
    "plt.ylim(0.045,0.065)\n",
    "plt.show()"
   ]
  },
  {
   "cell_type": "code",
   "execution_count": 566,
   "id": "ad8c54e6-3756-4813-bea1-548910e603ee",
   "metadata": {},
   "outputs": [
    {
     "data": {
      "image/png": "[encoded data removed]",
      "text/plain": [
       "<Figure size 432x288 with 1 Axes>"
      ]
     },
     "metadata": {
      "needs_background": "light"
     },
     "output_type": "display_data"
    }
   ],
   "source": [
    "fig = plt.figure(figsize=(6,4))\n",
    "ax = fig.add_subplot(1,1,1)\n",
    "\n",
    "ax.plot(range(0,50),path_ph, color = 'red', label = 'Demand',zorder=2)\n",
    "\n",
    "# ax.set_xlim(0.0,0.14)\n",
    "# ax.set_ylim(2.5,9.4)\n",
    "ax.set_xlabel('Time')\n",
    "ax.set_ylabel(r'$p_t$')\n",
    "\n",
    "ax.grid(visible=True, which = 'major', linestyle='-', linewidth=0.5, color='0.9')\n",
    "ax.tick_params(axis='both',bottom=True,top=True,left=True,right=True,direction='in',which='both')\n",
    "# ax.legend(frameon = True, edgecolor = 'k', facecolor = 'white', framealpha=1, fancybox=False)\n",
    "\n",
    "# plt.savefig('../../tex/figs/IRF_ph.pdf')"
   ]
  },
  {
   "cell_type": "markdown",
   "id": "c958f835-096e-4d8b-b08f-26a446aa1207",
   "metadata": {
    "tags": []
   },
   "source": [
    "## Find Equilibrium Along a Transition Path"
   ]
  },
  {
   "cell_type": "code",
   "execution_count": 116,
   "id": "5a00715f-4277-473b-8b99-d4a296db7431",
   "metadata": {},
   "outputs": [],
   "source": [
    "# Write test function\n",
    "def Hs_prime(x):\n",
    "    \n",
    "    # Parameters\n",
    "    a = 9000\n",
    "    b = 6.4593010477953685 - a*0.05\n",
    "    \n",
    "    # Set negatives to zero\n",
    "    y = a*x + b\n",
    "    \n",
    "    return max(y,0)"
   ]
  },
  {
   "cell_type": "markdown",
   "id": "8abaa94d-a1b9-4a6c-b831-99ea2dbe910f",
   "metadata": {},
   "source": [
    "## Apply relaxation algorithm "
   ]
  },
  {
   "cell_type": "code",
   "execution_count": 117,
   "id": "2b0a5dbe-eb0c-4d56-b590-e48abc5505b3",
   "metadata": {},
   "outputs": [],
   "source": [
    "# Initialize model and solve initial steady state\n",
    "model_path = DurableConsumptionModelClass(name='example_negm',par={'solmethod':'negm', 'do_print':False})\n",
    "model_path.precompile_numba()\n",
    "model_path.solve()"
   ]
  },
  {
   "cell_type": "code",
   "execution_count": 122,
   "id": "5654160e-0265-414b-9af6-f63c18aca921",
   "metadata": {},
   "outputs": [
    {
     "name": "stdout",
     "output_type": "stream",
     "text": [
      "1th iteration: dif = 54.75761647095796\n",
      "2th iteration: dif = 54.146932010804946\n",
      "3th iteration: dif = 53.61396518224092\n",
      "4th iteration: dif = 53.23532579051428\n",
      "5th iteration: dif = 52.50540574389568\n",
      "6th iteration: dif = 51.80475455666191\n",
      "7th iteration: dif = 51.08216155868651\n",
      "8th iteration: dif = 50.22815446868908\n",
      "9th iteration: dif = 49.35653964039262\n",
      "10th iteration: dif = 48.73847176835107\n",
      "11th iteration: dif = 48.07978150942279\n",
      "12th iteration: dif = 47.15319876181076\n",
      "13th iteration: dif = 46.65495066654303\n",
      "14th iteration: dif = 46.221177581833125\n",
      "15th iteration: dif = 45.164385878453345\n",
      "16th iteration: dif = 44.267506701265205\n",
      "17th iteration: dif = 43.75899330424888\n",
      "18th iteration: dif = 43.434476995827765\n",
      "19th iteration: dif = 43.18725478538907\n",
      "20th iteration: dif = 42.91700651477336\n",
      "21th iteration: dif = 41.341779512223226\n",
      "22th iteration: dif = 40.88082550492704\n",
      "23th iteration: dif = 40.392162038170056\n",
      "24th iteration: dif = 40.01471068258512\n",
      "25th iteration: dif = 39.68792361613291\n",
      "26th iteration: dif = 39.211436099083954\n",
      "27th iteration: dif = 38.184057387135574\n",
      "28th iteration: dif = 37.68379192435183\n",
      "29th iteration: dif = 37.21916159725839\n",
      "30th iteration: dif = 36.81521655822288\n",
      "31th iteration: dif = 36.30559026386092\n",
      "32th iteration: dif = 35.64112051052752\n",
      "33th iteration: dif = 34.814193560190795\n",
      "34th iteration: dif = 34.51023647703438\n",
      "35th iteration: dif = 33.375288859112125\n",
      "36th iteration: dif = 33.10405400284927\n",
      "37th iteration: dif = 32.9886804709051\n",
      "38th iteration: dif = 32.420967471599454\n",
      "39th iteration: dif = 32.02366546783099\n",
      "40th iteration: dif = 31.61700745366406\n",
      "41th iteration: dif = 31.031025313440537\n",
      "42th iteration: dif = 30.535251731928835\n",
      "43th iteration: dif = 30.26824894744124\n",
      "44th iteration: dif = 29.621193021367326\n",
      "45th iteration: dif = 29.369999847717505\n",
      "46th iteration: dif = 29.050716936327227\n",
      "47th iteration: dif = 28.475665920336986\n",
      "48th iteration: dif = 28.358831363149122\n",
      "49th iteration: dif = 27.943079616279956\n",
      "50th iteration: dif = 27.581403083112953\n",
      "51th iteration: dif = 27.04637191461641\n",
      "52th iteration: dif = 26.68326084498414\n",
      "53th iteration: dif = 26.3330834315886\n",
      "54th iteration: dif = 25.985253998750352\n",
      "55th iteration: dif = 25.77817862857775\n",
      "56th iteration: dif = 25.400646343197323\n",
      "57th iteration: dif = 25.173902709487066\n",
      "58th iteration: dif = 24.607204338662058\n",
      "59th iteration: dif = 24.19727927955445\n",
      "60th iteration: dif = 23.73092506180808\n",
      "61th iteration: dif = 23.534987464881432\n",
      "62th iteration: dif = 23.25621300255319\n",
      "63th iteration: dif = 22.980664703849822\n",
      "64th iteration: dif = 22.51078390295776\n",
      "65th iteration: dif = 22.158522628206022\n",
      "66th iteration: dif = 21.913474977940023\n",
      "67th iteration: dif = 21.7162696028623\n",
      "68th iteration: dif = 21.26913766499023\n",
      "69th iteration: dif = 21.02056753420497\n",
      "70th iteration: dif = 20.742003688917332\n",
      "71th iteration: dif = 20.477847241290746\n",
      "72th iteration: dif = 20.170919494775656\n",
      "73th iteration: dif = 20.025155359245336\n",
      "74th iteration: dif = 19.767370614456368\n",
      "75th iteration: dif = 19.48990645184326\n",
      "76th iteration: dif = 19.122857478922725\n",
      "77th iteration: dif = 18.91557953811011\n",
      "78th iteration: dif = 17.996715325717062\n",
      "79th iteration: dif = 17.773044078374333\n",
      "80th iteration: dif = 17.555564744644993\n",
      "81th iteration: dif = 17.22432343601741\n",
      "82th iteration: dif = 16.988763986323555\n",
      "83th iteration: dif = 16.721311260978503\n",
      "84th iteration: dif = 16.544950971446248\n",
      "85th iteration: dif = 16.37140455637422\n",
      "86th iteration: dif = 15.92471780009732\n",
      "87th iteration: dif = 15.67150701741431\n",
      "88th iteration: dif = 15.507921046296008\n",
      "89th iteration: dif = 15.436452393869953\n",
      "90th iteration: dif = 15.388030043599887\n",
      "91th iteration: dif = 15.121101779575195\n",
      "92th iteration: dif = 14.899488966679337\n",
      "93th iteration: dif = 14.698514337070069\n",
      "94th iteration: dif = 14.444202242505533\n",
      "95th iteration: dif = 14.198959214868115\n",
      "96th iteration: dif = 13.956890881239834\n",
      "97th iteration: dif = 13.806000292918265\n",
      "98th iteration: dif = 13.483117426669644\n",
      "99th iteration: dif = 13.218234886388416\n",
      "100th iteration: dif = 13.030527005395463\n",
      "101th iteration: dif = 12.840927623983038\n",
      "102th iteration: dif = 12.719010873086628\n",
      "103th iteration: dif = 12.52841374434302\n",
      "104th iteration: dif = 12.303108365405347\n",
      "105th iteration: dif = 11.941379343078257\n",
      "106th iteration: dif = 11.585476691860809\n",
      "107th iteration: dif = 11.504567563409916\n",
      "108th iteration: dif = 11.364489903355338\n",
      "109th iteration: dif = 11.155613117608615\n",
      "110th iteration: dif = 11.018353990401687\n",
      "111th iteration: dif = 10.909330473797677\n",
      "112th iteration: dif = 10.80281165250808\n",
      "113th iteration: dif = 10.661731270508813\n",
      "114th iteration: dif = 10.523092462079557\n",
      "115th iteration: dif = 10.365521864921483\n",
      "116th iteration: dif = 10.303754550822767\n",
      "117th iteration: dif = 10.201767202660886\n",
      "118th iteration: dif = 10.077735920256634\n",
      "119th iteration: dif = 9.975780450676782\n",
      "120th iteration: dif = 9.885278015307073\n",
      "121th iteration: dif = 9.818515692391076\n",
      "122th iteration: dif = 9.77486933759546\n",
      "123th iteration: dif = 9.673345363068528\n",
      "124th iteration: dif = 9.628212984934946\n",
      "125th iteration: dif = 9.658789751127152\n",
      "126th iteration: dif = 9.535981682408465\n",
      "127th iteration: dif = 9.420953018298547\n",
      "128th iteration: dif = 9.266213174502695\n",
      "129th iteration: dif = 9.259297285065411\n",
      "130th iteration: dif = 9.102651085349564\n",
      "131th iteration: dif = 9.063605337986967\n",
      "132th iteration: dif = 8.917215403894648\n",
      "133th iteration: dif = 8.83504527756602\n",
      "134th iteration: dif = 8.579498177168265\n",
      "135th iteration: dif = 8.498006152828852\n",
      "136th iteration: dif = 8.226726875006836\n",
      "137th iteration: dif = 8.163537471017424\n",
      "138th iteration: dif = 7.989240486588305\n",
      "139th iteration: dif = 7.8788622340982055\n",
      "140th iteration: dif = 7.774726051024973\n",
      "141th iteration: dif = 7.679283261547787\n",
      "142th iteration: dif = 7.527154062209824\n",
      "143th iteration: dif = 7.242909220416617\n",
      "144th iteration: dif = 7.073263315962627\n",
      "145th iteration: dif = 7.018480885219322\n",
      "146th iteration: dif = 6.912171474475862\n",
      "147th iteration: dif = 6.807017479595836\n",
      "148th iteration: dif = 6.792845252201504\n",
      "149th iteration: dif = 6.63986027254089\n",
      "150th iteration: dif = 6.5976751685187605\n",
      "151th iteration: dif = 6.516067185094312\n",
      "152th iteration: dif = 6.481477779607894\n",
      "153th iteration: dif = 6.41042335801633\n",
      "154th iteration: dif = 6.348246726602977\n",
      "155th iteration: dif = 6.266687463169684\n",
      "156th iteration: dif = 6.182225376909457\n",
      "157th iteration: dif = 6.049289506771008\n",
      "158th iteration: dif = 5.967394612683569\n",
      "159th iteration: dif = 5.864329450390553\n",
      "160th iteration: dif = 5.828768987721084\n",
      "161th iteration: dif = 5.734320457149102\n",
      "162th iteration: dif = 5.652141695129818\n",
      "163th iteration: dif = 5.582158442479809\n",
      "164th iteration: dif = 5.556178558499114\n",
      "165th iteration: dif = 5.450892547306797\n",
      "166th iteration: dif = 5.4119572599986885\n",
      "167th iteration: dif = 5.38084010361913\n",
      "168th iteration: dif = 5.238297103392062\n",
      "169th iteration: dif = 5.119532025250618\n",
      "170th iteration: dif = 5.057307997006823\n",
      "171th iteration: dif = 5.029733458166853\n"
     ]
    }
   ],
   "source": [
    "# a. allocate\n",
    "path_ph_ = np.zeros(model_path.par.path_T)\n",
    "path_ph = np.zeros(model_path.par.path_T)\n",
    "\n",
    "# b. setting\n",
    "nu = 0.9999 # relaxation parameter\n",
    "max_iter = 500 # maximum number of iterations\n",
    "\n",
    "# c. Set path of prices\n",
    "path_ph[:] = model_path.par.ph\n",
    "model_path.par.path_ph[model_path.par.sim_T:model_path.par.sim_T+model_path.par.path_T] = path_ph\n",
    "\n",
    "# d. iterate\n",
    "it = 0\n",
    "for _ in range(max_iter):\n",
    "\n",
    "    # ii. solve and simulate\n",
    "    model_path.solve_path()\n",
    "    model_path.simulate_path()\n",
    "\n",
    "    # iii. implied housing price\n",
    "    for t in range(model_path.par.path_T):\n",
    "        path_ph_[t] = Hs_prime(np.mean(model_path.sim_path.d, axis=1)[model_path.par.sim_T+t])\n",
    "\n",
    "    # iv. difference\n",
    "    max_abs_diff = np.max(np.abs(path_ph-path_ph_))\n",
    "    # if it%10 == 0: print(f'{it:4d}: {max_abs_diff:.8f}')\n",
    "    if max_abs_diff < 5.0: break # test different values of this threshold\n",
    "\n",
    "    # v. update\n",
    "    path_ph = nu*path_ph + (1-nu)*path_ph_\n",
    "    model_path.par.path_ph[model_path.par.sim_T:model_path.par.sim_T+model_path.par.path_T] = path_ph    \n",
    "    \n",
    "    # vi.  increment\n",
    "    it += 1\n",
    "    if it > max_iter: raise Exception('too many iterations')    \n",
    "    \n",
    "    print(str(it)+'th iteration: dif = '+str(max_abs_diff))"
   ]
  },
  {
   "cell_type": "code",
   "execution_count": 175,
   "id": "7905e7fc-b996-43ef-9479-07b291996d8a",
   "metadata": {},
   "outputs": [
    {
     "data": {
      "image/png": "[encoded data removed]",
      "text/plain": [
       "<Figure size 432x288 with 1 Axes>"
      ]
     },
     "metadata": {
      "needs_background": "light"
     },
     "output_type": "display_data"
    }
   ],
   "source": [
    "yhat = savgol_filter(path_ph, 30, 3)\n",
    "\n",
    "fig = plt.figure(figsize=(6,4))\n",
    "ax = fig.add_subplot(1,1,1)\n",
    "\n",
    "ax.plot(range(model_path.par.path_T),path_ph, color = '0.3', linestyle='-', linewidth=.5,  label = 'Demand',zorder=2)\n",
    "ax.plot(range(model_path.par.path_T),yhat, color = 'red', linestyle='--', label = 'price', zorder=2)\n",
    "\n",
    "ax.set_xlim(0,80)\n",
    "\n",
    "ax.set_xlabel('Time')\n",
    "ax.set_ylabel(r'$p_t$')\n",
    "\n",
    "ax.grid(visible=True, which = 'major', linestyle='-', linewidth=0.5, color='0.9')\n",
    "ax.tick_params(axis='both',bottom=True,top=True,left=True,right=True,direction='in',which='both')\n",
    "# ax.legend(frameon = True, edgecolor = 'k', facecolor = 'white', framealpha=1, fancybox=False)\n",
    "\n",
    "plt.savefig('../../tex/figs/IRF_ph.pdf')"
   ]
  },
  {
   "cell_type": "code",
   "execution_count": 125,
   "id": "16666552-43ed-4c93-89a0-e9518b8c3adc",
   "metadata": {},
   "outputs": [
    {
     "data": {
      "image/png": "[encoded data removed]",
      "text/plain": [
       "<Figure size 432x288 with 1 Axes>"
      ]
     },
     "metadata": {
      "needs_background": "light"
     },
     "output_type": "display_data"
    }
   ],
   "source": [
    "# define\n",
    "h_path = np.mean(model_path.sim_path.d, axis=1)\n",
    "\n",
    "# plot\n",
    "plt.plot(range(len(h_path)),h_path)\n",
    "plt.xlim(150,249)\n",
    "# plt.ylim(0.045,0.065)\n",
    "plt.show()"
   ]
  },
  {
   "cell_type": "code",
   "execution_count": 11,
   "id": "30be461a-fc1f-4a0b-acbd-349f96d1f218",
   "metadata": {},
   "outputs": [
    {
     "data": {
      "text/plain": [
       "(500, 2, 2, 10, 100)"
      ]
     },
     "execution_count": 11,
     "metadata": {},
     "output_type": "execute_result"
    }
   ],
   "source": [
    "np.shape(model_path.sol_path.c_keep)"
   ]
  }
 ],
 "metadata": {
  "kernelspec": {
   "display_name": "Python 3 (ipykernel)",
   "language": "python",
   "name": "python3"
  },
  "language_info": {
   "codemirror_mode": {
    "name": "ipython",
    "version": 3
   },
   "file_extension": ".py",
   "mimetype": "text/x-python",
   "name": "python",
   "nbconvert_exporter": "python",
   "pygments_lexer": "ipython3",
   "version": "3.9.10"
  }
 },
 "nbformat": 4,
 "nbformat_minor": 5
}
