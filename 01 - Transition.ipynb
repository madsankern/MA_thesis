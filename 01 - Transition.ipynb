{
 "cells": [
  {
   "cell_type": "markdown",
   "id": "3cb73a7a-682f-4f58-b9af-0201b9cdf547",
   "metadata": {},
   "source": [
    "# Transition Path"
   ]
  },
  {
   "cell_type": "markdown",
   "id": "173566da-5ac9-488d-9bbd-0bca5bfe2178",
   "metadata": {},
   "source": [
    "In this notebook, I solve and simulate the housing model along a **transition path** stemming from an interest rate shock"
   ]
  },
  {
   "cell_type": "code",
   "execution_count": 1,
   "id": "f047c835-55b1-4819-8d0b-62d765ccfc91",
   "metadata": {
    "tags": []
   },
   "outputs": [],
   "source": [
    "%load_ext autoreload\n",
    "%autoreload 2\n",
    "\n",
    "import time\n",
    "import numpy as np\n",
    "import numba as nb\n",
    "import matplotlib.pyplot as plt\n",
    "from scipy import optimize\n",
    "from consav import linear_interp\n",
    "\n",
    "# load the DurableConsumptionModel module\n",
    "from DurableConsumptionModel import DurableConsumptionModelClass\n",
    "\n",
    "# Set the number of threads in numba\n",
    "nb.set_num_threads(4)\n",
    "\n",
    "# Smoother\n",
    "from scipy.signal import savgol_filter"
   ]
  },
  {
   "cell_type": "markdown",
   "id": "b769137e-ee51-4da6-beee-874a282369f0",
   "metadata": {
    "tags": []
   },
   "source": [
    "## Test how PE path looks"
   ]
  },
  {
   "cell_type": "markdown",
   "id": "7f3710b6-347c-48e9-ae81-9dfa14cb35a9",
   "metadata": {},
   "source": [
    "Solve the Initial Steady State"
   ]
  },
  {
   "cell_type": "code",
   "execution_count": 5,
   "id": "4d1e2220-2966-4987-ab39-e568fbe7a7e5",
   "metadata": {},
   "outputs": [
    {
     "data": {
      "text/plain": [
       "<matplotlib.legend.Legend at 0x2c559b7b610>"
      ]
     },
     "execution_count": 5,
     "metadata": {},
     "output_type": "execute_result"
    },
    {
     "data": {
      "image/png": "[encoded data removed]",
      "text/plain": [
       "<Figure size 432x288 with 1 Axes>"
      ]
     },
     "metadata": {
      "needs_background": "light"
     },
     "output_type": "display_data"
    }
   ],
   "source": [
    "plt.plot(model.par.grid_m, model.sol_path.d_adj[199,0,1,:], color = 'blue', linewidth = '1.5', label = r'High $R$')\n",
    "plt.plot(model.par.grid_m, model.sol_path.d_adj[200,0,1,:], color = 'red', linewidth = '1.5', label = r'Low $R$')\n",
    "plt.legend()"
   ]
  },
  {
   "cell_type": "code",
   "execution_count": 3,
   "id": "d19eec9f-f039-4b3b-b23f-691e6cf474c7",
   "metadata": {},
   "outputs": [],
   "source": [
    "model = DurableConsumptionModelClass(name='example_negm',par={'solmethod':'negm', 'do_print':False})\n",
    "model.precompile_numba()\n",
    "model.solve()"
   ]
  },
  {
   "cell_type": "markdown",
   "id": "e87c7b3d-ac41-4952-ab1f-bf37a8690577",
   "metadata": {},
   "source": [
    "Solve and Simulate Along a Transition Path"
   ]
  },
  {
   "cell_type": "code",
   "execution_count": 484,
   "id": "348e158b-5220-4ec2-ade4-c388f8bbcc04",
   "metadata": {},
   "outputs": [],
   "source": [
    "# model.par.path_ph[199] = model.par.ph\n",
    "model.par.path_ph[200] =  7.0"
   ]
  },
  {
   "cell_type": "code",
   "execution_count": 4,
   "id": "886f722d-0bf5-40b7-9ec2-db0d7f2d5e0a",
   "metadata": {},
   "outputs": [],
   "source": [
    "model.solve_path()\n",
    "model.simulate_path()"
   ]
  },
  {
   "cell_type": "markdown",
   "id": "70e8c520-042a-4ea3-9194-10cefe7def7c",
   "metadata": {
    "tags": []
   },
   "source": [
    "Plot the results"
   ]
  },
  {
   "cell_type": "code",
   "execution_count": 4,
   "id": "d8f1c7ba-618f-466a-a8ec-1f0fe4fb5e9b",
   "metadata": {},
   "outputs": [
    {
     "data": {
      "text/plain": [
       "(350,)"
      ]
     },
     "execution_count": 4,
     "metadata": {},
     "output_type": "execute_result"
    }
   ],
   "source": [
    "np.shape(model.par.path_R)"
   ]
  },
  {
   "cell_type": "code",
   "execution_count": 6,
   "id": "1ed41edd-04ac-43ea-b61a-afb5e960999f",
   "metadata": {},
   "outputs": [
    {
     "data": {
      "image/png": "[encoded data removed]",
      "text/plain": [
       "<Figure size 432x288 with 1 Axes>"
      ]
     },
     "metadata": {
      "needs_background": "light"
     },
     "output_type": "display_data"
    }
   ],
   "source": [
    "# define\n",
    "h_path = np.mean(model.sim_path.d, axis=1)\n",
    "\n",
    "# plot\n",
    "plt.plot(range(len(h_path)),h_path)\n",
    "plt.xlim(150,300)\n",
    "plt.ylim(0.045,0.065)\n",
    "plt.show()"
   ]
  },
  {
   "cell_type": "markdown",
   "id": "0d4a8bba-5eb2-4903-be0d-7172b978c500",
   "metadata": {},
   "source": [
    "## Test Relaxation Algorithm"
   ]
  },
  {
   "cell_type": "markdown",
   "id": "be9f531b-8b38-4eaf-829c-49c32c196b7d",
   "metadata": {},
   "source": [
    "This is to individually test each step in the relaxation algorithm for any troubleshooting"
   ]
  },
  {
   "cell_type": "markdown",
   "id": "7eb16138-d948-446c-bdbb-b5983b040f44",
   "metadata": {},
   "source": [
    "1. Define Reduced Form Supply function"
   ]
  },
  {
   "cell_type": "code",
   "execution_count": 13,
   "id": "aed9714a-5fdd-4889-9fdc-ac05eb761f85",
   "metadata": {},
   "outputs": [],
   "source": [
    "# Write test function\n",
    "def Hs_prime(x):\n",
    "    \n",
    "    # Parameters\n",
    "    a = 9000\n",
    "    b = 6.4593010477953685 - a*0.05\n",
    "    \n",
    "    # Set negatives to zero\n",
    "    y = a*x + b\n",
    "    \n",
    "    return max(y,0)"
   ]
  },
  {
   "cell_type": "markdown",
   "id": "11c2dfc4-7f78-406b-ad31-438f8dd2829b",
   "metadata": {},
   "source": [
    "2. Setup"
   ]
  },
  {
   "cell_type": "code",
   "execution_count": 66,
   "id": "963219cd-de2c-4328-9994-3c74d09fca73",
   "metadata": {},
   "outputs": [],
   "source": [
    "# a. allocate\n",
    "path_ph_ = np.zeros(model.par.path_T)\n",
    "path_ph = np.zeros(model.par.path_T)\n",
    "\n",
    "# b. setting\n",
    "nu = 0.9995 # relaxation parameter\n",
    "max_iter = 500 # maximum number of iterations\n",
    "\n",
    "# Set path of prices\n",
    "path_ph[:] = model.par.ph\n",
    "model.par.path_ph[model.par.sim_T:model.par.sim_T+model.par.path_T] = path_ph"
   ]
  },
  {
   "cell_type": "markdown",
   "id": "c16c312f-9bfc-416e-9bbd-846517aa99fd",
   "metadata": {},
   "source": [
    "3. Solve and simulate along path - **start here again**"
   ]
  },
  {
   "cell_type": "code",
   "execution_count": 108,
   "id": "b3bdd281-cc94-4d7f-979a-59647aff79e1",
   "metadata": {},
   "outputs": [],
   "source": [
    "model.solve_path()\n",
    "model.simulate_path()"
   ]
  },
  {
   "cell_type": "markdown",
   "id": "2c7eb610-71a7-400a-91fc-78a3232ba38b",
   "metadata": {},
   "source": [
    "4. Find implied house price"
   ]
  },
  {
   "cell_type": "code",
   "execution_count": 109,
   "id": "3e84aa2a-e0c5-455f-8d0d-a5e9af1c9a37",
   "metadata": {},
   "outputs": [],
   "source": [
    "for t in range(model.par.path_T):\n",
    "    path_ph_[t] = Hs_prime(np.mean(model.sim_path.d, axis=1)[model.par.sim_T+t])"
   ]
  },
  {
   "cell_type": "markdown",
   "id": "d0c280c1-6323-485a-b106-520a726104b2",
   "metadata": {},
   "source": [
    "5. Compute difference between implied and actual prices"
   ]
  },
  {
   "cell_type": "code",
   "execution_count": 110,
   "id": "8cb6c1bc-3d1e-43a3-b49e-fc8539d4f762",
   "metadata": {},
   "outputs": [
    {
     "name": "stdout",
     "output_type": "stream",
     "text": [
      "49.0993239408949\n"
     ]
    }
   ],
   "source": [
    "max_abs_diff = np.max(np.abs(path_ph-path_ph_))\n",
    "print(max_abs_diff)"
   ]
  },
  {
   "cell_type": "markdown",
   "id": "51f4f5fd-056d-435c-b791-0aba6399caae",
   "metadata": {},
   "source": [
    "Check results"
   ]
  },
  {
   "cell_type": "code",
   "execution_count": 111,
   "id": "e06d9a46-d3d8-46c9-aaf5-5446ace7a4a7",
   "metadata": {},
   "outputs": [
    {
     "data": {
      "text/plain": [
       "[<matplotlib.lines.Line2D at 0x19de8589a00>]"
      ]
     },
     "execution_count": 111,
     "metadata": {},
     "output_type": "execute_result"
    },
    {
     "data": {
      "image/png": "[encoded data removed]",
      "text/plain": [
       "<Figure size 432x288 with 1 Axes>"
      ]
     },
     "metadata": {
      "needs_background": "light"
     },
     "output_type": "display_data"
    }
   ],
   "source": [
    "y = path_ph_ - path_ph\n",
    "plt.plot(y)"
   ]
  },
  {
   "cell_type": "markdown",
   "id": "f28094bf-9640-4afa-9767-f1307f121c92",
   "metadata": {},
   "source": [
    "6. Update price sequence"
   ]
  },
  {
   "cell_type": "code",
   "execution_count": 112,
   "id": "700177d9-d3f6-4cbc-9977-332428cb279b",
   "metadata": {
    "tags": []
   },
   "outputs": [
    {
     "data": {
      "text/plain": [
       "[<matplotlib.lines.Line2D at 0x19d848a90d0>]"
      ]
     },
     "execution_count": 112,
     "metadata": {},
     "output_type": "execute_result"
    },
    {
     "data": {
      "image/png": "[encoded data removed]",
      "text/plain": [
       "<Figure size 432x288 with 1 Axes>"
      ]
     },
     "metadata": {
      "needs_background": "light"
     },
     "output_type": "display_data"
    }
   ],
   "source": [
    "path_ph = nu*path_ph + (1-nu)*path_ph_\n",
    "plt.plot(path_ph)"
   ]
  },
  {
   "cell_type": "markdown",
   "id": "a9289448-2698-4647-97c8-32b0d0742d61",
   "metadata": {},
   "source": [
    "7. Add updated price sequence to model. **Then return to step 3**"
   ]
  },
  {
   "cell_type": "code",
   "execution_count": 113,
   "id": "2d0ee5c3-96c8-49ab-aa8f-77d476d05d02",
   "metadata": {},
   "outputs": [],
   "source": [
    "model.par.path_ph[model.par.sim_T:model.par.sim_T+model.par.path_T] = path_ph"
   ]
  },
  {
   "cell_type": "markdown",
   "id": "6fee7ccb-8fda-4e3d-9fd7-ea47ee2f5d6f",
   "metadata": {},
   "source": [
    "Test plot"
   ]
  },
  {
   "cell_type": "code",
   "execution_count": 114,
   "id": "a4fad42a-8c7d-4447-a6bc-fb6548fade2c",
   "metadata": {
    "tags": []
   },
   "outputs": [
    {
     "data": {
      "text/plain": [
       "[<matplotlib.lines.Line2D at 0x19d837ff0a0>]"
      ]
     },
     "execution_count": 114,
     "metadata": {},
     "output_type": "execute_result"
    },
    {
     "data": {
      "image/png": "[encoded data removed]",
      "text/plain": [
       "<Figure size 432x288 with 1 Axes>"
      ]
     },
     "metadata": {
      "needs_background": "light"
     },
     "output_type": "display_data"
    }
   ],
   "source": [
    "plt.plot(model.par.path_ph)"
   ]
  },
  {
   "cell_type": "code",
   "execution_count": 115,
   "id": "294e699a-f2e3-46c7-af5a-88c0cf43482e",
   "metadata": {},
   "outputs": [
    {
     "data": {
      "image/png": "[encoded data removed]",
      "text/plain": [
       "<Figure size 432x288 with 1 Axes>"
      ]
     },
     "metadata": {
      "needs_background": "light"
     },
     "output_type": "display_data"
    }
   ],
   "source": [
    "# define\n",
    "h_path = np.mean(model.sim_path.d, axis=1)\n",
    "\n",
    "# plot\n",
    "plt.plot(range(len(h_path)),h_path)\n",
    "plt.xlim(150,300)\n",
    "plt.ylim(0.045,0.065)\n",
    "plt.show()"
   ]
  },
  {
   "cell_type": "code",
   "execution_count": 566,
   "id": "ad8c54e6-3756-4813-bea1-548910e603ee",
   "metadata": {},
   "outputs": [
    {
     "data": {
      "image/png": "[encoded data removed]",
      "text/plain": [
       "<Figure size 432x288 with 1 Axes>"
      ]
     },
     "metadata": {
      "needs_background": "light"
     },
     "output_type": "display_data"
    }
   ],
   "source": [
    "fig = plt.figure(figsize=(6,4))\n",
    "ax = fig.add_subplot(1,1,1)\n",
    "\n",
    "ax.plot(range(0,50),path_ph, color = 'red', label = 'Demand',zorder=2)\n",
    "\n",
    "# ax.set_xlim(0.0,0.14)\n",
    "# ax.set_ylim(2.5,9.4)\n",
    "ax.set_xlabel('Time')\n",
    "ax.set_ylabel(r'$p_t$')\n",
    "\n",
    "ax.grid(visible=True, which = 'major', linestyle='-', linewidth=0.5, color='0.9')\n",
    "ax.tick_params(axis='both',bottom=True,top=True,left=True,right=True,direction='in',which='both')\n",
    "# ax.legend(frameon = True, edgecolor = 'k', facecolor = 'white', framealpha=1, fancybox=False)\n",
    "\n",
    "# plt.savefig('../../tex/figs/IRF_ph.pdf')"
   ]
  },
  {
   "cell_type": "markdown",
   "id": "c958f835-096e-4d8b-b08f-26a446aa1207",
   "metadata": {
    "tags": []
   },
   "source": [
    "## Find Equilibrium Along a Transition Path"
   ]
  },
  {
   "cell_type": "code",
   "execution_count": 2,
   "id": "5a00715f-4277-473b-8b99-d4a296db7431",
   "metadata": {},
   "outputs": [],
   "source": [
    "# Write test function\n",
    "def Hs_prime(x):\n",
    "    \n",
    "    # Parameters\n",
    "    a = 10000\n",
    "    b = 6.4593010477953685 - a*0.05\n",
    "    \n",
    "    # Set negatives to zero\n",
    "    y = a*x + b\n",
    "    \n",
    "    return max(y,0)"
   ]
  },
  {
   "cell_type": "markdown",
   "id": "8abaa94d-a1b9-4a6c-b831-99ea2dbe910f",
   "metadata": {},
   "source": [
    "## Apply relaxation algorithm "
   ]
  },
  {
   "cell_type": "code",
   "execution_count": 86,
   "id": "2b0a5dbe-eb0c-4d56-b590-e48abc5505b3",
   "metadata": {},
   "outputs": [],
   "source": [
    "# Initialize model and solve initial steady state\n",
    "model_path = DurableConsumptionModelClass(name='example_negm',par={'solmethod':'negm', 'do_print':False})\n",
    "model_path.precompile_numba()\n",
    "model_path.solve()"
   ]
  },
  {
   "cell_type": "code",
   "execution_count": 89,
   "id": "5654160e-0265-414b-9af6-f63c18aca921",
   "metadata": {},
   "outputs": [
    {
     "name": "stdout",
     "output_type": "stream",
     "text": [
      "1th iteration: dif = 0.00020705539667773692\n",
      "2th iteration: dif = 0.00023164212059532258\n",
      "3th iteration: dif = 0.0002761996847463616\n",
      "4th iteration: dif = 0.0002057908974340758\n",
      "5th iteration: dif = 0.0002706375145214712\n",
      "6th iteration: dif = 0.000252639627437469\n",
      "7th iteration: dif = 0.00023065088099116088\n",
      "8th iteration: dif = 0.0001672453416086267\n",
      "9th iteration: dif = 0.00017695082885166996\n",
      "10th iteration: dif = 0.00016774339354240497\n",
      "11th iteration: dif = 0.0001819115758848744\n",
      "12th iteration: dif = 0.0002137160579770911\n",
      "13th iteration: dif = 0.00021949255843308618\n",
      "14th iteration: dif = 0.00022475554111218293\n",
      "15th iteration: dif = 0.00025690313745320437\n",
      "16th iteration: dif = 0.00025567889608784505\n",
      "17th iteration: dif = 0.00025655639219770293\n",
      "18th iteration: dif = 0.0002752256144331125\n",
      "19th iteration: dif = 0.00031163527138972774\n",
      "20th iteration: dif = 0.00028189585080145435\n",
      "21th iteration: dif = 0.0002831141990010805\n",
      "22th iteration: dif = 0.00028416211461545354\n",
      "23th iteration: dif = 0.0002686102213950714\n",
      "24th iteration: dif = 0.0002677591227188761\n",
      "25th iteration: dif = 0.00023886274195390744\n",
      "26th iteration: dif = 0.0002131062764676242\n",
      "27th iteration: dif = 0.00018142534309089492\n",
      "28th iteration: dif = 0.0001908070531332559\n",
      "29th iteration: dif = 0.00021836674433743652\n",
      "30th iteration: dif = 0.0001830102237452766\n",
      "31th iteration: dif = 0.0002117309544099541\n",
      "32th iteration: dif = 0.00020103204347598352\n",
      "33th iteration: dif = 0.00018675976447973808\n",
      "34th iteration: dif = 0.00021430294661477917\n",
      "35th iteration: dif = 0.0001745113794525896\n",
      "36th iteration: dif = 0.00021910582074452511\n",
      "37th iteration: dif = 0.00017853038466557336\n",
      "38th iteration: dif = 0.00020766538092904102\n",
      "39th iteration: dif = 0.0002363589666761895\n",
      "40th iteration: dif = 0.00018559540577606226\n",
      "41th iteration: dif = 0.00020035735615654\n",
      "42th iteration: dif = 0.0002274413684651838\n",
      "43th iteration: dif = 0.00022848194691069829\n",
      "44th iteration: dif = 0.0002323581481315784\n",
      "45th iteration: dif = 0.00019160774538166947\n",
      "46th iteration: dif = 0.00018798552102494703\n",
      "47th iteration: dif = 0.0001338955528586705\n",
      "48th iteration: dif = 0.00012738450683235508\n",
      "49th iteration: dif = 0.00013588309115190184\n",
      "50th iteration: dif = 0.0001437018691662767\n",
      "51th iteration: dif = 0.0001677813396157926\n",
      "52th iteration: dif = 0.00019023370904601433\n",
      "53th iteration: dif = 0.00016489645257640462\n",
      "54th iteration: dif = 0.00019437650211527602\n",
      "55th iteration: dif = 0.00015125269043912704\n",
      "56th iteration: dif = 0.00022543129736447148\n",
      "57th iteration: dif = 0.00017604560893643567\n",
      "58th iteration: dif = 0.00019556118068476264\n",
      "59th iteration: dif = 0.00022959509221018304\n",
      "60th iteration: dif = 0.00019581880272486613\n",
      "61th iteration: dif = 0.0001845687506789595\n",
      "62th iteration: dif = 0.00015931643755261182\n",
      "63th iteration: dif = 0.00022894854182378688\n",
      "64th iteration: dif = 0.00017822119159829203\n",
      "65th iteration: dif = 0.00017134991079165857\n",
      "66th iteration: dif = 0.0001651744117819945\n",
      "67th iteration: dif = 0.0001478195703120272\n",
      "68th iteration: dif = 0.00014919516838484553\n",
      "69th iteration: dif = 0.00013820755020868547\n",
      "70th iteration: dif = 0.0001614534862296388\n",
      "71th iteration: dif = 0.0001845979220561414\n",
      "72th iteration: dif = 0.00017363734876304354\n",
      "73th iteration: dif = 0.0001875963286347912\n",
      "74th iteration: dif = 0.00019144289313471896\n",
      "75th iteration: dif = 0.00020536369486550549\n",
      "76th iteration: dif = 0.00014165677070967359\n",
      "77th iteration: dif = 0.00019306722598070453\n",
      "78th iteration: dif = 0.00021949370402103707\n",
      "79th iteration: dif = 0.0002618482574118161\n",
      "80th iteration: dif = 0.00023848347792729263\n",
      "81th iteration: dif = 0.00024620550061779656\n",
      "82th iteration: dif = 0.00019448093782682002\n",
      "83th iteration: dif = 0.00019372546009805564\n",
      "84th iteration: dif = 0.00016421377944993154\n",
      "85th iteration: dif = 0.00016990048013307973\n",
      "86th iteration: dif = 0.0001862135863108308\n",
      "87th iteration: dif = 0.00021812359534564146\n",
      "88th iteration: dif = 0.00024012763585577052\n",
      "89th iteration: dif = 0.00014273598985741626\n",
      "90th iteration: dif = 0.00016533619594309018\n",
      "91th iteration: dif = 0.00018182666897642585\n",
      "92th iteration: dif = 0.00016521951092327708\n",
      "93th iteration: dif = 0.0001808620557838883\n",
      "94th iteration: dif = 0.0001472526509459643\n",
      "95th iteration: dif = 0.0001451015773296649\n",
      "96th iteration: dif = 0.00017813858376333064\n",
      "97th iteration: dif = 0.00011359052601622038\n",
      "98th iteration: dif = 0.00012664737930521974\n",
      "99th iteration: dif = 0.00014144819641057071\n",
      "100th iteration: dif = 0.000184805468232907\n",
      "101th iteration: dif = 0.00021362566332570887\n",
      "102th iteration: dif = 0.00018970409177629377\n",
      "103th iteration: dif = 0.0002127238924493624\n",
      "104th iteration: dif = 0.00027435699684868337\n",
      "105th iteration: dif = 0.0002781337927194663\n",
      "106th iteration: dif = 0.00025240341720301346\n",
      "107th iteration: dif = 0.00025220527735356907\n",
      "108th iteration: dif = 0.00026201383930569977\n",
      "109th iteration: dif = 0.00018870768811218852\n",
      "110th iteration: dif = 0.00018263782549090418\n",
      "111th iteration: dif = 0.00013698643753113499\n",
      "112th iteration: dif = 0.00015515624731285427\n",
      "113th iteration: dif = 0.00021744925743897442\n",
      "114th iteration: dif = 0.00014513523751994578\n",
      "115th iteration: dif = 0.00017967733785965306\n",
      "116th iteration: dif = 0.00021895096645627166\n",
      "117th iteration: dif = 0.00019455313899338633\n",
      "118th iteration: dif = 0.00017389142110342537\n",
      "119th iteration: dif = 0.00013063738297381527\n",
      "120th iteration: dif = 0.00020060825696865958\n",
      "121th iteration: dif = 0.00017702315841852667\n",
      "122th iteration: dif = 0.00024145123251320677\n",
      "123th iteration: dif = 0.00023207681788992018\n",
      "124th iteration: dif = 0.00020696578741231236\n",
      "125th iteration: dif = 0.00015028759090404686\n",
      "126th iteration: dif = 0.00019708913702583264\n",
      "127th iteration: dif = 0.00019953095773386775\n",
      "128th iteration: dif = 0.00020043326521659854\n",
      "129th iteration: dif = 0.00021803742508097468\n",
      "130th iteration: dif = 0.00023144984079637165\n",
      "131th iteration: dif = 0.00018710322840429644\n",
      "132th iteration: dif = 0.00019550221893817332\n",
      "133th iteration: dif = 0.00021243884880667308\n",
      "134th iteration: dif = 0.00020134075734130896\n",
      "135th iteration: dif = 0.00017229502622918141\n",
      "136th iteration: dif = 0.00023555521108129668\n",
      "137th iteration: dif = 0.00018789411082573149\n",
      "138th iteration: dif = 0.00016950476728827546\n",
      "139th iteration: dif = 0.00021103674715231002\n",
      "140th iteration: dif = 0.00015669507502714952\n",
      "141th iteration: dif = 0.00019935959936603909\n",
      "142th iteration: dif = 0.0002090237919697216\n",
      "143th iteration: dif = 0.0002061468859359053\n",
      "144th iteration: dif = 0.0001802784716547351\n",
      "145th iteration: dif = 0.00017815097611557917\n",
      "146th iteration: dif = 0.0001879818488982471\n",
      "147th iteration: dif = 0.00020993195068533255\n",
      "148th iteration: dif = 0.00015227300118803022\n",
      "149th iteration: dif = 0.00017749078076310237\n",
      "150th iteration: dif = 0.00013806900639626307\n",
      "151th iteration: dif = 0.00012410168732352594\n",
      "152th iteration: dif = 0.00014100386875275095\n",
      "153th iteration: dif = 0.0002078565588415765\n",
      "154th iteration: dif = 0.00018629639665231762\n",
      "155th iteration: dif = 0.00022652825922013509\n",
      "156th iteration: dif = 0.00018601466476928646\n",
      "157th iteration: dif = 0.00020078920916513643\n",
      "158th iteration: dif = 0.0002565988357706578\n",
      "159th iteration: dif = 0.0002375825758336378\n",
      "160th iteration: dif = 0.0002295373572756762\n",
      "161th iteration: dif = 0.00023624684034468518\n",
      "162th iteration: dif = 0.0002448507081500226\n",
      "163th iteration: dif = 0.00012822080820284326\n",
      "164th iteration: dif = 0.0001847434116165267\n",
      "165th iteration: dif = 0.00023947467720097926\n",
      "166th iteration: dif = 0.00015196086686749405\n",
      "167th iteration: dif = 0.00018774916171827166\n",
      "168th iteration: dif = 0.00020706203013688002\n",
      "169th iteration: dif = 0.0001510074881911072\n",
      "170th iteration: dif = 0.0001809743437372474\n",
      "171th iteration: dif = 0.0001754978307934238\n",
      "172th iteration: dif = 0.0001736414976582848\n",
      "173th iteration: dif = 0.000163360232810994\n",
      "174th iteration: dif = 0.0001725534865435474\n",
      "175th iteration: dif = 0.00018499173171715455\n",
      "176th iteration: dif = 0.0002042242960240484\n",
      "177th iteration: dif = 0.00017232552941118945\n",
      "178th iteration: dif = 0.00021686813286272283\n",
      "179th iteration: dif = 0.00018722746985847666\n",
      "180th iteration: dif = 0.0001891661381965698\n",
      "181th iteration: dif = 0.00017278839507554877\n",
      "182th iteration: dif = 0.0001848314786750821\n",
      "183th iteration: dif = 0.00024614778796466785\n",
      "184th iteration: dif = 0.00025018627745927724\n",
      "185th iteration: dif = 0.0002358585814135894\n",
      "186th iteration: dif = 0.00018888098175146723\n",
      "187th iteration: dif = 0.0002353806682099599\n",
      "188th iteration: dif = 0.00018897658505794696\n",
      "189th iteration: dif = 0.00019592929633460016\n",
      "190th iteration: dif = 0.00022273365638326298\n",
      "191th iteration: dif = 0.0002434140104448576\n",
      "192th iteration: dif = 0.0001836513242722132\n",
      "193th iteration: dif = 0.0002213527837930107\n",
      "194th iteration: dif = 0.0001897619209300372\n",
      "195th iteration: dif = 0.00020314720476352632\n",
      "196th iteration: dif = 0.00024099683385714332\n",
      "197th iteration: dif = 0.0001779105976110265\n",
      "198th iteration: dif = 0.0001849297655248175\n",
      "199th iteration: dif = 0.00021536662623489883\n",
      "200th iteration: dif = 0.0002409508610495409\n",
      "201th iteration: dif = 0.0002234269923395843\n",
      "202th iteration: dif = 0.00022705120388633038\n",
      "203th iteration: dif = 0.00026207968868114523\n",
      "204th iteration: dif = 0.00027530715930793037\n",
      "205th iteration: dif = 0.0002378101427210691\n",
      "206th iteration: dif = 0.00019579355528104303\n",
      "207th iteration: dif = 0.00020711264347397784\n",
      "208th iteration: dif = 0.00015303501110092849\n",
      "209th iteration: dif = 0.00016818193126205694\n",
      "210th iteration: dif = 0.00014512415335038442\n",
      "211th iteration: dif = 0.00022110397585451552\n",
      "212th iteration: dif = 0.00019070769406177857\n",
      "213th iteration: dif = 0.00022885372762085354\n",
      "214th iteration: dif = 0.00019062961879071083\n",
      "215th iteration: dif = 0.00013776182142195142\n",
      "216th iteration: dif = 0.00014417483953069882\n",
      "217th iteration: dif = 0.00012868114728516872\n",
      "218th iteration: dif = 0.0001508549303073925\n",
      "219th iteration: dif = 0.00020310172405395288\n",
      "220th iteration: dif = 0.0001732693461207191\n",
      "221th iteration: dif = 0.00018080525341086784\n",
      "222th iteration: dif = 0.00022708222974602427\n",
      "223th iteration: dif = 0.0001902165073338416\n",
      "224th iteration: dif = 0.00019506000188938138\n",
      "225th iteration: dif = 0.00021663500761120308\n",
      "226th iteration: dif = 0.00022908237235951673\n",
      "227th iteration: dif = 0.0002505960303560706\n",
      "228th iteration: dif = 0.00023684891433786714\n",
      "229th iteration: dif = 0.0002526382083400461\n",
      "230th iteration: dif = 0.0002056056795926714\n",
      "231th iteration: dif = 0.00024372047699074834\n",
      "232th iteration: dif = 0.00014884604378900823\n",
      "233th iteration: dif = 0.00016196651207034396\n",
      "234th iteration: dif = 0.00016375458749896127\n",
      "235th iteration: dif = 0.00015605345044580193\n",
      "236th iteration: dif = 0.00018856606895282374\n",
      "237th iteration: dif = 0.00017261464392413772\n",
      "238th iteration: dif = 0.0002163063522611572\n",
      "239th iteration: dif = 0.00013623292983779012\n",
      "240th iteration: dif = 0.00017696900476630445\n",
      "241th iteration: dif = 0.0002024579405980123\n",
      "242th iteration: dif = 0.0001706912317337439\n",
      "243th iteration: dif = 0.00017440363713498025\n",
      "244th iteration: dif = 0.00022573497440013524\n",
      "245th iteration: dif = 0.00023019736000042673\n",
      "246th iteration: dif = 0.0001980316657441139\n",
      "247th iteration: dif = 0.00020936858781277906\n",
      "248th iteration: dif = 0.00023804959342322435\n",
      "249th iteration: dif = 0.000250299712748564\n",
      "250th iteration: dif = 0.00023370719909996535\n",
      "251th iteration: dif = 0.00024637447443539434\n",
      "252th iteration: dif = 0.00021448146192473705\n",
      "253th iteration: dif = 0.0001803541406958445\n",
      "254th iteration: dif = 0.00015664207609201314\n",
      "255th iteration: dif = 0.00015977189208992576\n",
      "256th iteration: dif = 0.00021002095785930402\n",
      "257th iteration: dif = 0.000216144639713943\n",
      "258th iteration: dif = 0.00023451627249397589\n",
      "259th iteration: dif = 0.00020297119388877627\n",
      "260th iteration: dif = 0.00018422569666870503\n",
      "261th iteration: dif = 0.00024204849857741018\n",
      "262th iteration: dif = 0.00022440045958273952\n",
      "263th iteration: dif = 0.00018224741731434624\n",
      "264th iteration: dif = 0.00019098409305529085\n",
      "265th iteration: dif = 0.00022947656141147216\n",
      "266th iteration: dif = 0.0002144478710633113\n",
      "267th iteration: dif = 0.0001311343256548414\n",
      "268th iteration: dif = 0.00019900492277234727\n",
      "269th iteration: dif = 0.0002210666760648558\n",
      "270th iteration: dif = 0.0001896551487024084\n",
      "271th iteration: dif = 0.00018133967729493106\n",
      "272th iteration: dif = 0.0002094107095607159\n",
      "273th iteration: dif = 0.00021981523283932936\n",
      "274th iteration: dif = 0.00023152350179258402\n",
      "275th iteration: dif = 0.00021566734282187083\n",
      "276th iteration: dif = 0.00022595196144253177\n",
      "277th iteration: dif = 0.00017352012229129854\n",
      "278th iteration: dif = 0.0002347839478111513\n",
      "279th iteration: dif = 0.00021688527914792005\n",
      "280th iteration: dif = 0.0001858410657125109\n",
      "281th iteration: dif = 0.00020010171157638923\n",
      "282th iteration: dif = 0.0002439831210960669\n",
      "283th iteration: dif = 0.00020231414207914217\n",
      "284th iteration: dif = 0.00021106507267113633\n",
      "285th iteration: dif = 0.00024328185680270314\n",
      "286th iteration: dif = 0.0002778130023260092\n",
      "287th iteration: dif = 0.00023151604737225995\n",
      "288th iteration: dif = 0.00023244601953296973\n",
      "289th iteration: dif = 0.00024017955827761173\n",
      "290th iteration: dif = 0.0002065899968156787\n",
      "291th iteration: dif = 0.00015418156735248767\n",
      "292th iteration: dif = 0.00019181159588370356\n",
      "293th iteration: dif = 0.00020712834076699188\n",
      "294th iteration: dif = 0.00019403620986157416\n",
      "295th iteration: dif = 0.00016354351919516813\n",
      "296th iteration: dif = 0.00023698316194483565\n",
      "297th iteration: dif = 0.00019265696488699607\n",
      "298th iteration: dif = 0.00020861068398176502\n",
      "299th iteration: dif = 0.00024283504079983947\n",
      "300th iteration: dif = 0.00023462335453372507\n",
      "301th iteration: dif = 0.00023527285440247403\n",
      "302th iteration: dif = 0.00019528117055189753\n",
      "303th iteration: dif = 0.00024316424863275732\n",
      "304th iteration: dif = 0.00019838112233384886\n",
      "305th iteration: dif = 0.00017951491158389732\n",
      "306th iteration: dif = 0.00019516818697741523\n",
      "307th iteration: dif = 0.00019530738828147515\n",
      "308th iteration: dif = 0.00023660539355094268\n",
      "309th iteration: dif = 0.00015621737785855017\n",
      "310th iteration: dif = 0.00017363074869752165\n",
      "311th iteration: dif = 0.00019452512763680485\n",
      "312th iteration: dif = 0.00016654971423980813\n",
      "313th iteration: dif = 0.0002449623834870768\n",
      "314th iteration: dif = 0.00016846146618136604\n",
      "315th iteration: dif = 0.00019771120860578167\n",
      "316th iteration: dif = 0.0001827165935619074\n",
      "317th iteration: dif = 0.0002042411110637979\n",
      "318th iteration: dif = 0.0002731540888845155\n",
      "319th iteration: dif = 0.00023690080506645617\n",
      "320th iteration: dif = 0.0002165027203436809\n",
      "321th iteration: dif = 0.00023269833156919217\n",
      "322th iteration: dif = 0.000240601064060611\n",
      "323th iteration: dif = 0.00024351403716207226\n",
      "324th iteration: dif = 0.00020539419566949213\n",
      "325th iteration: dif = 0.00015817019048909586\n",
      "326th iteration: dif = 0.00018655712428811144\n",
      "327th iteration: dif = 0.00018168082205134717\n",
      "328th iteration: dif = 0.00016038470147380912\n",
      "329th iteration: dif = 0.00020284637223532548\n",
      "330th iteration: dif = 0.00014943497839896291\n",
      "331th iteration: dif = 9.167660364822056e-05\n",
      "332th iteration: dif = 0.0001633334260995531\n",
      "333th iteration: dif = 0.0002469007609086568\n",
      "334th iteration: dif = 0.00013951469167206715\n",
      "335th iteration: dif = 0.00013863370452037865\n",
      "336th iteration: dif = 0.0002074669126396686\n",
      "337th iteration: dif = 0.00017764528949206632\n",
      "338th iteration: dif = 0.00019770951977995943\n",
      "339th iteration: dif = 0.00021250382019102204\n",
      "340th iteration: dif = 0.00023550612419642042\n",
      "341th iteration: dif = 0.00018429106590480554\n",
      "342th iteration: dif = 0.00023622455163977568\n",
      "343th iteration: dif = 0.00022251686509722202\n",
      "344th iteration: dif = 0.00016422664419287608\n",
      "345th iteration: dif = 0.00015612320283683173\n",
      "346th iteration: dif = 0.00015359904655300877\n",
      "347th iteration: dif = 0.00013508247102846788\n",
      "348th iteration: dif = 0.00014603034109351293\n",
      "349th iteration: dif = 0.00013465131750171888\n",
      "350th iteration: dif = 0.00021785603524449026\n",
      "351th iteration: dif = 0.00020526205572184847\n",
      "352th iteration: dif = 0.00017889211780173359\n",
      "353th iteration: dif = 0.0001972102294774125\n",
      "354th iteration: dif = 0.00023384126643631598\n",
      "355th iteration: dif = 0.00024002855461552342\n",
      "356th iteration: dif = 0.00022494620288533024\n",
      "357th iteration: dif = 0.00020350113623217314\n",
      "358th iteration: dif = 0.00023176761853208744\n",
      "359th iteration: dif = 0.0002729457666389365\n",
      "360th iteration: dif = 0.00022376122959212597\n",
      "361th iteration: dif = 0.00024550048374666344\n",
      "362th iteration: dif = 0.0002002062546003977\n",
      "363th iteration: dif = 0.00016954949256253737\n",
      "364th iteration: dif = 0.00011775221921878076\n",
      "365th iteration: dif = 0.00016125998203662256\n",
      "366th iteration: dif = 0.0001759002688742281\n",
      "367th iteration: dif = 0.00016007034253694152\n",
      "368th iteration: dif = 0.00018777060374930432\n",
      "369th iteration: dif = 0.0001245412748021868\n",
      "370th iteration: dif = 0.00015048525992684275\n",
      "371th iteration: dif = 0.00016821861441405211\n",
      "372th iteration: dif = 0.00012114441626412398\n",
      "373th iteration: dif = 0.00016413585548431808\n",
      "374th iteration: dif = 0.0002500305427342517\n",
      "375th iteration: dif = 0.00011843999158472895\n",
      "376th iteration: dif = 0.00013966132794234615\n",
      "377th iteration: dif = 0.00014060837271882842\n",
      "378th iteration: dif = 0.0001880675273309429\n",
      "379th iteration: dif = 0.000160503816896633\n",
      "380th iteration: dif = 0.00016816851870790628\n",
      "381th iteration: dif = 0.0001803705196618821\n",
      "382th iteration: dif = 0.00017137152293844604\n",
      "383th iteration: dif = 0.00015971232747943875\n",
      "384th iteration: dif = 0.0002341413807590842\n",
      "385th iteration: dif = 0.00018912378108832534\n",
      "386th iteration: dif = 0.00021991191809205696\n",
      "387th iteration: dif = 0.00016742408219752591\n",
      "388th iteration: dif = 0.00015234707687662025\n",
      "389th iteration: dif = 0.00010337672305364004\n",
      "390th iteration: dif = 0.00020456927190747043\n",
      "391th iteration: dif = 0.00012869456536248464\n",
      "392th iteration: dif = 0.00017881985656151983\n",
      "393th iteration: dif = 0.00020400940219571229\n",
      "394th iteration: dif = 0.00020694840176653517\n",
      "395th iteration: dif = 0.00020833931645274084\n",
      "396th iteration: dif = 0.00022940729358201378\n",
      "397th iteration: dif = 0.00016007684276193868\n",
      "398th iteration: dif = 0.00016335218147591618\n",
      "399th iteration: dif = 0.00019899767280200098\n",
      "400th iteration: dif = 0.00016668520856469304\n",
      "401th iteration: dif = 0.00018244239447390287\n",
      "402th iteration: dif = 0.000182894523735877\n",
      "403th iteration: dif = 0.00017111086592796337\n",
      "404th iteration: dif = 0.00017938816082711112\n",
      "405th iteration: dif = 0.00015494002734451479\n",
      "406th iteration: dif = 0.00015996697105138263\n",
      "407th iteration: dif = 0.0001878142384414902\n",
      "408th iteration: dif = 0.0002461913265278809\n",
      "409th iteration: dif = 0.00021657005670523005\n",
      "410th iteration: dif = 0.00020444197501890554\n",
      "411th iteration: dif = 0.00017355984598059482\n",
      "412th iteration: dif = 0.00018541178296999777\n",
      "413th iteration: dif = 0.00015190894264234533\n",
      "414th iteration: dif = 0.00014352201119709196\n",
      "415th iteration: dif = 0.0001211278483401676\n",
      "416th iteration: dif = 0.00013613188670801718\n",
      "417th iteration: dif = 0.00018102782399641998\n",
      "418th iteration: dif = 0.00016299577376626545\n",
      "419th iteration: dif = 0.00013241061262188325\n",
      "420th iteration: dif = 0.00018487220372435248\n",
      "421th iteration: dif = 0.00016821824330245233\n",
      "422th iteration: dif = 0.00024160087682165848\n",
      "423th iteration: dif = 0.0002025347536137173\n",
      "424th iteration: dif = 0.00017386201302151127\n",
      "425th iteration: dif = 0.00017764912409993366\n",
      "426th iteration: dif = 0.0001293720105728577\n",
      "427th iteration: dif = 0.00014065437962038768\n",
      "428th iteration: dif = 0.00016194745816452277\n",
      "429th iteration: dif = 0.0001513564902636197\n",
      "430th iteration: dif = 0.00016511433409908266\n",
      "431th iteration: dif = 0.00016954944067709005\n",
      "432th iteration: dif = 0.00011449178276623506\n",
      "433th iteration: dif = 0.00011086066388601296\n",
      "434th iteration: dif = 0.00014486749776817381\n",
      "435th iteration: dif = 0.00016965752875279516\n",
      "436th iteration: dif = 0.00021891800900359498\n",
      "437th iteration: dif = 0.00016865824787688083\n",
      "438th iteration: dif = 0.0001822827748335365\n",
      "439th iteration: dif = 0.00014409427877207226\n",
      "440th iteration: dif = 0.0001221665250039916\n",
      "441th iteration: dif = 0.0001682822111270313\n",
      "442th iteration: dif = 0.00023186093640070737\n",
      "443th iteration: dif = 0.00011607293166560756\n",
      "444th iteration: dif = 0.00013392253034692075\n",
      "445th iteration: dif = 0.00016577594482618252\n",
      "446th iteration: dif = 0.00017430355154980648\n",
      "447th iteration: dif = 0.0001559236739265557\n",
      "448th iteration: dif = 0.00016192803999010713\n",
      "449th iteration: dif = 0.00023974397689504462\n",
      "450th iteration: dif = 0.00016464360546336598\n",
      "451th iteration: dif = 0.00019581593244819007\n",
      "452th iteration: dif = 0.00019800289488779849\n",
      "453th iteration: dif = 0.0001763679751953795\n",
      "454th iteration: dif = 0.00021435459887197972\n",
      "455th iteration: dif = 0.00014666551421210067\n",
      "456th iteration: dif = 0.00019719979677663285\n",
      "457th iteration: dif = 0.00019208578736037984\n",
      "458th iteration: dif = 0.00018275088100640907\n",
      "459th iteration: dif = 0.00015934312478478596\n",
      "460th iteration: dif = 0.0001615519110182706\n",
      "461th iteration: dif = 0.00010831572200350331\n",
      "462th iteration: dif = 0.00014675280402354912\n",
      "463th iteration: dif = 0.00013395582918115934\n",
      "464th iteration: dif = 0.00015911056422836245\n",
      "465th iteration: dif = 0.00016057040638289832\n",
      "466th iteration: dif = 0.00021227552891748408\n",
      "467th iteration: dif = 0.00018383211246672526\n",
      "468th iteration: dif = 0.00021191529397942416\n",
      "469th iteration: dif = 0.00018916935397585155\n",
      "470th iteration: dif = 0.00018514254575709155\n",
      "471th iteration: dif = 0.00016326126085013104\n",
      "472th iteration: dif = 0.00016351999507747267\n",
      "473th iteration: dif = 0.0001683304781993772\n",
      "474th iteration: dif = 0.00013851537991864393\n",
      "475th iteration: dif = 0.0001609201192263529\n",
      "476th iteration: dif = 0.00017845532306107886\n",
      "477th iteration: dif = 0.00020824644403353437\n",
      "478th iteration: dif = 0.0001579713662544363\n",
      "479th iteration: dif = 0.00015284898130580454\n",
      "480th iteration: dif = 0.0001237093027517261\n",
      "481th iteration: dif = 0.0001578622690686926\n",
      "482th iteration: dif = 0.00018852698217552977\n",
      "483th iteration: dif = 0.0001757327949975726\n",
      "484th iteration: dif = 0.0002427848924769216\n",
      "485th iteration: dif = 0.00018652740169084608\n",
      "486th iteration: dif = 0.00022347306775354764\n",
      "487th iteration: dif = 0.00021199594780949016\n",
      "488th iteration: dif = 0.00022444792178000217\n",
      "489th iteration: dif = 0.00024435117343035023\n",
      "490th iteration: dif = 0.00021689080407619882\n",
      "491th iteration: dif = 0.00013682283400430484\n",
      "492th iteration: dif = 0.0001665360363645868\n",
      "493th iteration: dif = 0.00020817863289111782\n",
      "494th iteration: dif = 0.00021733101654095033\n",
      "495th iteration: dif = 0.00025960664616156426\n",
      "496th iteration: dif = 0.00022399272256648506\n",
      "497th iteration: dif = 0.00020226147892522806\n",
      "498th iteration: dif = 0.00022865329358710135\n",
      "499th iteration: dif = 0.00024261614138453708\n",
      "500th iteration: dif = 0.0001694852002696104\n",
      "501th iteration: dif = 0.000150719025932472\n",
      "502th iteration: dif = 0.00014285225828196413\n",
      "503th iteration: dif = 0.00014669354998255585\n",
      "504th iteration: dif = 0.00016803850557431388\n",
      "505th iteration: dif = 0.0001933584824872006\n",
      "506th iteration: dif = 0.0001955353345768976\n",
      "507th iteration: dif = 0.00023427192593017399\n",
      "508th iteration: dif = 0.00021799606076992883\n",
      "509th iteration: dif = 0.00024572472692406533\n",
      "510th iteration: dif = 0.0002485376265977529\n",
      "511th iteration: dif = 0.00019252476861470608\n",
      "512th iteration: dif = 0.0002431411504329739\n",
      "513th iteration: dif = 0.00019300532913917728\n",
      "514th iteration: dif = 0.00020394891024924644\n",
      "515th iteration: dif = 0.00024224125610776415\n",
      "516th iteration: dif = 0.0002488687982537957\n",
      "517th iteration: dif = 0.0002520108952374159\n",
      "518th iteration: dif = 0.0002252753844428218\n",
      "519th iteration: dif = 0.00025054208693354313\n",
      "520th iteration: dif = 0.00025298401821985395\n",
      "521th iteration: dif = 0.00015181439333868119\n",
      "522th iteration: dif = 0.00015631241328644546\n",
      "523th iteration: dif = 0.0001641920597568458\n",
      "524th iteration: dif = 0.00018676170246444135\n",
      "525th iteration: dif = 0.00018107859399564552\n",
      "526th iteration: dif = 0.00019924972179073686\n",
      "527th iteration: dif = 0.00022529108989145785\n",
      "528th iteration: dif = 0.00017466309735333918\n",
      "529th iteration: dif = 0.00019448877630655337\n",
      "530th iteration: dif = 0.00020601354401895283\n",
      "531th iteration: dif = 0.00022298299850367215\n",
      "532th iteration: dif = 0.00025248239549306023\n",
      "533th iteration: dif = 0.00023157701309882428\n",
      "534th iteration: dif = 0.0002326186610432865\n",
      "535th iteration: dif = 0.00018143032475406023\n",
      "536th iteration: dif = 0.00018630745926408177\n",
      "537th iteration: dif = 0.00019166748671801265\n",
      "538th iteration: dif = 0.0002412286622267626\n",
      "539th iteration: dif = 0.0001588238527747629\n",
      "540th iteration: dif = 0.00019572908819167484\n",
      "541th iteration: dif = 0.00022755635956468734\n",
      "542th iteration: dif = 0.00017830949518262557\n",
      "543th iteration: dif = 0.0002084467101265003\n",
      "544th iteration: dif = 0.00026361077187030124\n",
      "545th iteration: dif = 0.0002736439112124428\n",
      "546th iteration: dif = 0.00023143802111007944\n",
      "547th iteration: dif = 0.00025349739824640644\n",
      "548th iteration: dif = 0.00020639188584113677\n",
      "549th iteration: dif = 0.00013330291903262959\n",
      "550th iteration: dif = 0.00016494509838971966\n",
      "551th iteration: dif = 0.00019955357000602664\n",
      "552th iteration: dif = 0.00024405823749815841\n",
      "553th iteration: dif = 0.00019397532876448687\n",
      "554th iteration: dif = 0.00021853297118722137\n",
      "555th iteration: dif = 0.00022734630628200997\n",
      "556th iteration: dif = 0.00020012178275007758\n",
      "557th iteration: dif = 0.0002540014574601568\n",
      "558th iteration: dif = 0.000268581570401584\n",
      "559th iteration: dif = 0.00023509074003535274\n",
      "560th iteration: dif = 0.00024430600275748143\n",
      "561th iteration: dif = 0.00024370059993965298\n",
      "562th iteration: dif = 0.00020424763505132865\n",
      "563th iteration: dif = 0.00011939137071471234\n",
      "564th iteration: dif = 0.00011191505363765397\n",
      "565th iteration: dif = 0.00013496168753502485\n",
      "566th iteration: dif = 0.00017219971310376836\n",
      "567th iteration: dif = 0.00021779199887630302\n",
      "568th iteration: dif = 0.00018796498026284192\n",
      "569th iteration: dif = 0.0002372397807369961\n",
      "570th iteration: dif = 0.00020798114282741254\n",
      "571th iteration: dif = 0.0002042909844704524\n",
      "572th iteration: dif = 0.00019483999565361038\n",
      "573th iteration: dif = 0.0001560254759284188\n",
      "574th iteration: dif = 0.0001670487276285576\n",
      "575th iteration: dif = 0.00023685873732456897\n",
      "576th iteration: dif = 0.0002098144555417042\n",
      "577th iteration: dif = 0.000157188728525888\n"
     ]
    },
    {
     "name": "stderr",
     "output_type": "stream",
     "text": [
      "Traceback (most recent call last):\n",
      "  File \"C:\\Users\\madsh\\OneDrive - University of Copenhagen\\Desktop\\Thesis\\code\\MA_thesis\\DurableConsumptionModel.py\", line 510, in solve_path\n",
      "    nvfi.solve_adj(t,sol_path,par,ph)\n",
      "KeyboardInterrupt\n"
     ]
    },
    {
     "ename": "KeyboardInterrupt",
     "evalue": "",
     "output_type": "error",
     "traceback": [
      "\u001b[1;31m---------------------------------------------------------------------------\u001b[0m",
      "\u001b[1;31mKeyboardInterrupt\u001b[0m                         Traceback (most recent call last)",
      "\u001b[1;32m~\\AppData\\Local\\Temp\\ipykernel_6040\\3258502342.py\u001b[0m in \u001b[0;36m<cell line: 15>\u001b[1;34m()\u001b[0m\n\u001b[0;32m     16\u001b[0m \u001b[1;33m\u001b[0m\u001b[0m\n\u001b[0;32m     17\u001b[0m     \u001b[1;31m# ii. solve and simulate\u001b[0m\u001b[1;33m\u001b[0m\u001b[1;33m\u001b[0m\u001b[0m\n\u001b[1;32m---> 18\u001b[1;33m     \u001b[0mmodel_path\u001b[0m\u001b[1;33m.\u001b[0m\u001b[0msolve_path\u001b[0m\u001b[1;33m(\u001b[0m\u001b[1;33m)\u001b[0m\u001b[1;33m\u001b[0m\u001b[1;33m\u001b[0m\u001b[0m\n\u001b[0m\u001b[0;32m     19\u001b[0m     \u001b[0mmodel_path\u001b[0m\u001b[1;33m.\u001b[0m\u001b[0msimulate_path\u001b[0m\u001b[1;33m(\u001b[0m\u001b[1;33m)\u001b[0m\u001b[1;33m\u001b[0m\u001b[1;33m\u001b[0m\u001b[0m\n\u001b[0;32m     20\u001b[0m \u001b[1;33m\u001b[0m\u001b[0m\n",
      "\u001b[1;32m~\\OneDrive - University of Copenhagen\\Desktop\\Thesis\\code\\MA_thesis\\DurableConsumptionModel.py\u001b[0m in \u001b[0;36msolve_path\u001b[1;34m(self)\u001b[0m\n\u001b[0;32m    508\u001b[0m \u001b[1;33m\u001b[0m\u001b[0m\n\u001b[0;32m    509\u001b[0m                     \u001b[1;31m# ooo. Solve adjuster\u001b[0m\u001b[1;33m\u001b[0m\u001b[1;33m\u001b[0m\u001b[0m\n\u001b[1;32m--> 510\u001b[1;33m                     \u001b[0mnvfi\u001b[0m\u001b[1;33m.\u001b[0m\u001b[0msolve_adj\u001b[0m\u001b[1;33m(\u001b[0m\u001b[0mt\u001b[0m\u001b[1;33m,\u001b[0m\u001b[0msol_path\u001b[0m\u001b[1;33m,\u001b[0m\u001b[0mpar\u001b[0m\u001b[1;33m,\u001b[0m\u001b[0mph\u001b[0m\u001b[1;33m)\u001b[0m\u001b[1;33m\u001b[0m\u001b[1;33m\u001b[0m\u001b[0m\n\u001b[0m\u001b[0;32m    511\u001b[0m \u001b[1;33m\u001b[0m\u001b[0m\n\u001b[0;32m    512\u001b[0m         \u001b[1;31m# b. Append the solution to the initial steady state\u001b[0m\u001b[1;33m\u001b[0m\u001b[1;33m\u001b[0m\u001b[0m\n",
      "\u001b[1;31mKeyboardInterrupt\u001b[0m: "
     ]
    }
   ],
   "source": [
    "# # a. allocate\n",
    "# path_ph_ = np.zeros(model_path.par.path_T)\n",
    "# path_ph = np.zeros(model_path.par.path_T)\n",
    "\n",
    "# b. setting - 0.9999\n",
    "nu = 2.0 # relaxation parameter\n",
    "max_iter = 1000 # maximum number of iterations\n",
    "\n",
    "# # c. Set path of prices\n",
    "# path_ph[:] = model_path.par.ph\n",
    "model_path.par.path_ph[model_path.par.sim_T:model_path.par.sim_T+model_path.par.path_T] = path_ph\n",
    "\n",
    "# d. iterate\n",
    "it = 0\n",
    "for _ in range(max_iter):\n",
    "\n",
    "    # ii. solve and simulate\n",
    "    model_path.solve_path()\n",
    "    model_path.simulate_path()\n",
    "\n",
    "    # # iii. implied housing price\n",
    "    # for t in range(model_path.par.path_T):\n",
    "    #     path_ph_[t] = Hs_prime(np.mean(model_path.sim_path.d, axis=1)[model_path.par.sim_T+t])\n",
    "\n",
    "    # iii. Implied aggregate housing demand\n",
    "    H = np.mean(model_path.sim_path.d, axis=1)[model_path.par.sim_T:]\n",
    "    \n",
    "    # iv. difference\n",
    "    max_abs_diff = np.max(np.abs(H[:-2] - h_ghost[:-2]))\n",
    "    # if it%10 == 0: print(f'{it:4d}: {max_abs_diff:.8f}')\n",
    "    if max_abs_diff < 1e-8: break # test different values of this threshold\n",
    "\n",
    "    # v. update\n",
    "    path_ph = path_ph + nu*(H - h_ghost)\n",
    "    \n",
    "    # path_ph = nu*path_ph + (1-nu)*path_ph_\n",
    "    model_path.par.path_ph[model_path.par.sim_T:model_path.par.sim_T+model_path.par.path_T] = path_ph    \n",
    "    \n",
    "    # vi.  increment\n",
    "    it += 1\n",
    "    if it > max_iter: raise Exception('too many iterations')    \n",
    "    \n",
    "    print(str(it)+'th iteration: dif = '+str(max_abs_diff))"
   ]
  },
  {
   "cell_type": "code",
   "execution_count": 90,
   "id": "dde8cbfa-c080-4dcb-87e3-81004d0f02a0",
   "metadata": {},
   "outputs": [
    {
     "data": {
      "text/plain": [
       "[<matplotlib.lines.Line2D at 0x241bc66c3a0>]"
      ]
     },
     "execution_count": 90,
     "metadata": {},
     "output_type": "execute_result"
    },
    {
     "data": {
      "image/png": "[encoded data removed]",
      "text/plain": [
       "<Figure size 432x288 with 1 Axes>"
      ]
     },
     "metadata": {
      "needs_background": "light"
     },
     "output_type": "display_data"
    }
   ],
   "source": [
    "plt.plot(path_ph)"
   ]
  },
  {
   "cell_type": "code",
   "execution_count": 12,
   "id": "7905e7fc-b996-43ef-9479-07b291996d8a",
   "metadata": {},
   "outputs": [
    {
     "data": {
      "image/png": "[encoded data removed]",
      "text/plain": [
       "<Figure size 432x288 with 1 Axes>"
      ]
     },
     "metadata": {
      "needs_background": "light"
     },
     "output_type": "display_data"
    }
   ],
   "source": [
    "yhat = savgol_filter(path_ph, 30, 3)\n",
    "\n",
    "fig = plt.figure(figsize=(6,4))\n",
    "ax = fig.add_subplot(1,1,1)\n",
    "\n",
    "ax.plot(range(model_path.par.path_T),path_ph, color = '0.3', linestyle='-', linewidth=.5,  label = 'Demand',zorder=2)\n",
    "# ax.plot(range(model_path.par.path_T),yhat, color = 'red', linestyle='--', label = 'price', zorder=2)\n",
    "\n",
    "# ax.set_xlim(0,80)\n",
    "\n",
    "ax.set_xlabel('Time')\n",
    "ax.set_ylabel(r'$p_t$')\n",
    "\n",
    "ax.grid(visible=True, which = 'major', linestyle='-', linewidth=0.5, color='0.9')\n",
    "ax.tick_params(axis='both',bottom=True,top=True,left=True,right=True,direction='in',which='both')\n",
    "# ax.legend(frameon = True, edgecolor = 'k', facecolor = 'white', framealpha=1, fancybox=False)\n",
    "\n",
    "# plt.savefig('../../tex/figs/IRF_ph.pdf')"
   ]
  },
  {
   "cell_type": "code",
   "execution_count": 110,
   "id": "16666552-43ed-4c93-89a0-e9518b8c3adc",
   "metadata": {},
   "outputs": [
    {
     "data": {
      "image/png": "[encoded data removed]",
      "text/plain": [
       "<Figure size 432x288 with 1 Axes>"
      ]
     },
     "metadata": {
      "needs_background": "light"
     },
     "output_type": "display_data"
    }
   ],
   "source": [
    "# define\n",
    "h_path = np.mean(model_path.sim_path.c, axis=1)\n",
    "# h_path = np.mean(model_path.sim_path.m, axis=1)\n",
    "\n",
    "# plot\n",
    "plt.plot(range(len(h_path)),h_path)\n",
    "# plt.xlim(150,300)\n",
    "# plt.ylim(0.045,0.065)\n",
    "plt.show()"
   ]
  },
  {
   "cell_type": "code",
   "execution_count": 76,
   "id": "30be461a-fc1f-4a0b-acbd-349f96d1f218",
   "metadata": {},
   "outputs": [],
   "source": [
    "sim_T = 300\n",
    "\n",
    "model_path = DurableConsumptionModelClass(name='example_negm',par={'solmethod':'negm', 'sim_T':sim_T, 'do_print':False})\n",
    "model_path.precompile_numba()\n",
    "model_path.solve()\n",
    "model_path.simulate()"
   ]
  },
  {
   "cell_type": "code",
   "execution_count": 24,
   "id": "18853f26-05eb-42ad-9383-119a529df870",
   "metadata": {
    "jupyter": {
     "source_hidden": true
    },
    "tags": []
   },
   "outputs": [
    {
     "data": {
      "text/plain": [
       "(300, 100000)"
      ]
     },
     "execution_count": 24,
     "metadata": {},
     "output_type": "execute_result"
    }
   ],
   "source": [
    "np.shape(model_path.sim.c)"
   ]
  },
  {
   "cell_type": "code",
   "execution_count": 82,
   "id": "f7d73eb8-6118-4948-8a1e-d20771366dac",
   "metadata": {},
   "outputs": [
    {
     "data": {
      "text/plain": [
       "[<matplotlib.lines.Line2D at 0x242a5a3ce50>]"
      ]
     },
     "execution_count": 82,
     "metadata": {},
     "output_type": "execute_result"
    },
    {
     "data": {
      "image/png": "[encoded data removed]",
      "text/plain": [
       "<Figure size 432x288 with 1 Axes>"
      ]
     },
     "metadata": {
      "needs_background": "light"
     },
     "output_type": "display_data"
    }
   ],
   "source": [
    "h_ghost = np.mean(model_path.sim.d, axis=1)\n",
    "\n",
    "plt.plot(h_ghost)"
   ]
  },
  {
   "cell_type": "code",
   "execution_count": 83,
   "id": "d0c4074b-d4bc-462a-92c1-f66c8287c5e2",
   "metadata": {},
   "outputs": [],
   "source": [
    "h_ghost = h_ghost[200:]"
   ]
  },
  {
   "cell_type": "code",
   "execution_count": 33,
   "id": "8a740ce6-e89f-4510-86e3-e9007c4cbeb8",
   "metadata": {},
   "outputs": [
    {
     "data": {
      "text/plain": [
       "100"
      ]
     },
     "execution_count": 33,
     "metadata": {},
     "output_type": "execute_result"
    }
   ],
   "source": [
    "model_path.par.path_T"
   ]
  },
  {
   "cell_type": "code",
   "execution_count": 88,
   "id": "841ec7aa-77c0-4691-aed0-c8e1e3077967",
   "metadata": {},
   "outputs": [
    {
     "data": {
      "text/plain": [
       "[<matplotlib.lines.Line2D at 0x241e40b5310>]"
      ]
     },
     "execution_count": 88,
     "metadata": {},
     "output_type": "execute_result"
    },
    {
     "data": {
      "image/png": "[encoded data removed]",
      "text/plain": [
       "<Figure size 432x288 with 1 Axes>"
      ]
     },
     "metadata": {
      "needs_background": "light"
     },
     "output_type": "display_data"
    }
   ],
   "source": [
    "plt.plot(h_ghost)"
   ]
  },
  {
   "cell_type": "code",
   "execution_count": 1,
   "id": "82ea5197-800b-40e2-966d-35a1e6cc9dde",
   "metadata": {},
   "outputs": [
    {
     "ename": "NameError",
     "evalue": "name 'np' is not defined",
     "output_type": "error",
     "traceback": [
      "\u001b[1;31m---------------------------------------------------------------------------\u001b[0m",
      "\u001b[1;31mNameError\u001b[0m                                 Traceback (most recent call last)",
      "\u001b[1;32m~\\AppData\\Local\\Temp\\ipykernel_9624\\3888390907.py\u001b[0m in \u001b[0;36m<cell line: 1>\u001b[1;34m()\u001b[0m\n\u001b[1;32m----> 1\u001b[1;33m \u001b[0mnp\u001b[0m\u001b[1;33m.\u001b[0m\u001b[0mshape\u001b[0m\u001b[1;33m(\u001b[0m\u001b[0mH\u001b[0m\u001b[1;33m)\u001b[0m\u001b[1;33m\u001b[0m\u001b[1;33m\u001b[0m\u001b[0m\n\u001b[0m",
      "\u001b[1;31mNameError\u001b[0m: name 'np' is not defined"
     ]
    }
   ],
   "source": [
    "np.shape(H)"
   ]
  }
 ],
 "metadata": {
  "kernelspec": {
   "display_name": "Python 3 (ipykernel)",
   "language": "python",
   "name": "python3"
  },
  "language_info": {
   "codemirror_mode": {
    "name": "ipython",
    "version": 3
   },
   "file_extension": ".py",
   "mimetype": "text/x-python",
   "name": "python",
   "nbconvert_exporter": "python",
   "pygments_lexer": "ipython3",
   "version": "3.9.10"
  }
 },
 "nbformat": 4,
 "nbformat_minor": 5
}
