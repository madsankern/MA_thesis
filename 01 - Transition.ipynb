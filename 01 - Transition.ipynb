{
 "cells": [
  {
   "cell_type": "markdown",
   "id": "3cb73a7a-682f-4f58-b9af-0201b9cdf547",
   "metadata": {},
   "source": [
    "# Transition Path"
   ]
  },
  {
   "cell_type": "markdown",
   "id": "173566da-5ac9-488d-9bbd-0bca5bfe2178",
   "metadata": {},
   "source": [
    "In this notebook, I solve and simulate the housing model along a **transition path** stemming from an interest rate shock"
   ]
  },
  {
   "cell_type": "code",
   "execution_count": 1,
   "id": "f047c835-55b1-4819-8d0b-62d765ccfc91",
   "metadata": {
    "tags": []
   },
   "outputs": [],
   "source": [
    "%load_ext autoreload\n",
    "%autoreload 2\n",
    "\n",
    "import time\n",
    "import numpy as np\n",
    "import numba as nb\n",
    "import matplotlib.pyplot as plt\n",
    "from scipy import optimize\n",
    "from consav import linear_interp\n",
    "\n",
    "# load the DurableConsumptionModel module\n",
    "from DurableConsumptionModel import DurableConsumptionModelClass\n",
    "\n",
    "# Set the number of threads in numba\n",
    "nb.set_num_threads(4)"
   ]
  },
  {
   "cell_type": "markdown",
   "id": "b769137e-ee51-4da6-beee-874a282369f0",
   "metadata": {},
   "source": [
    "## Test how PE path looks"
   ]
  },
  {
   "cell_type": "markdown",
   "id": "7f3710b6-347c-48e9-ae81-9dfa14cb35a9",
   "metadata": {},
   "source": [
    "Solve the Initial Steady State"
   ]
  },
  {
   "cell_type": "code",
   "execution_count": 192,
   "id": "4d1e2220-2966-4987-ab39-e568fbe7a7e5",
   "metadata": {},
   "outputs": [
    {
     "data": {
      "text/plain": [
       "[<matplotlib.lines.Line2D at 0x241ef421610>]"
      ]
     },
     "execution_count": 192,
     "metadata": {},
     "output_type": "execute_result"
    },
    {
     "data": {
      "image/png": "[encoded data removed]",
      "text/plain": [
       "<Figure size 432x288 with 1 Axes>"
      ]
     },
     "metadata": {
      "needs_background": "light"
     },
     "output_type": "display_data"
    }
   ],
   "source": [
    "plt.plot(model.par.grid_m, model.sol_path.d_adj[201,0,1,:], color = 'blue', linewidth = '1.5', label = r'Low $R$')\n",
    "plt.plot(model.par.grid_m, model.sol_path.d_adj[199,0,1,:], color = 'red', linewidth = '1.5', label = r'High $R$')"
   ]
  },
  {
   "cell_type": "code",
   "execution_count": 195,
   "id": "d19eec9f-f039-4b3b-b23f-691e6cf474c7",
   "metadata": {},
   "outputs": [],
   "source": [
    "model = DurableConsumptionModelClass(name='example_negm',par={'solmethod':'negm', 'do_print':False})\n",
    "model.precompile_numba()\n",
    "model.solve()"
   ]
  },
  {
   "cell_type": "markdown",
   "id": "e87c7b3d-ac41-4952-ab1f-bf37a8690577",
   "metadata": {},
   "source": [
    "Solve and Simulate Along a Transition Path"
   ]
  },
  {
   "cell_type": "code",
   "execution_count": 196,
   "id": "886f722d-0bf5-40b7-9ec2-db0d7f2d5e0a",
   "metadata": {},
   "outputs": [],
   "source": [
    "model.solve_path()\n",
    "model.simulate_path()"
   ]
  },
  {
   "cell_type": "markdown",
   "id": "70e8c520-042a-4ea3-9194-10cefe7def7c",
   "metadata": {},
   "source": [
    "Plot the results"
   ]
  },
  {
   "cell_type": "code",
   "execution_count": 173,
   "id": "d8f1c7ba-618f-466a-a8ec-1f0fe4fb5e9b",
   "metadata": {},
   "outputs": [
    {
     "data": {
      "text/plain": [
       "0.07864522329353499"
      ]
     },
     "execution_count": 173,
     "metadata": {},
     "output_type": "execute_result"
    }
   ],
   "source": [
    "h_path[201]"
   ]
  },
  {
   "cell_type": "code",
   "execution_count": 197,
   "id": "1ed41edd-04ac-43ea-b61a-afb5e960999f",
   "metadata": {},
   "outputs": [
    {
     "data": {
      "image/png": "[encoded data removed]",
      "text/plain": [
       "<Figure size 432x288 with 1 Axes>"
      ]
     },
     "metadata": {
      "needs_background": "light"
     },
     "output_type": "display_data"
    }
   ],
   "source": [
    "# define\n",
    "h_path = np.mean(model.sim_path.n, axis=1)\n",
    "\n",
    "# plot\n",
    "plt.plot(range(len(h_path)),h_path)\n",
    "plt.xlim(150,249)\n",
    "# plt.ylim(0.045,0.065)\n",
    "plt.show()"
   ]
  },
  {
   "cell_type": "code",
   "execution_count": 207,
   "id": "046dcb79-b7df-44d0-bf6e-6bdfedac9ed8",
   "metadata": {},
   "outputs": [
    {
     "name": "stdout",
     "output_type": "stream",
     "text": [
      "0.050051953862999696\n"
     ]
    }
   ],
   "source": [
    "print(h_path[200])"
   ]
  },
  {
   "cell_type": "code",
   "execution_count": 206,
   "id": "bc6646f1-766c-4078-bdc1-72debb4e1208",
   "metadata": {},
   "outputs": [
    {
     "data": {
      "text/plain": [
       "(150.0, 249.0)"
      ]
     },
     "execution_count": 206,
     "metadata": {},
     "output_type": "execute_result"
    },
    {
     "data": {
      "image/png": "[encoded data removed]",
      "text/plain": [
       "<Figure size 432x288 with 1 Axes>"
      ]
     },
     "metadata": {
      "needs_background": "light"
     },
     "output_type": "display_data"
    }
   ],
   "source": [
    "# plot\n",
    "plt.plot(model.par.path_ph)\n",
    "plt.xlim(150,249)"
   ]
  },
  {
   "cell_type": "markdown",
   "id": "0d4a8bba-5eb2-4903-be0d-7172b978c500",
   "metadata": {},
   "source": [
    "## Test Relaxation Algorithm"
   ]
  },
  {
   "cell_type": "markdown",
   "id": "7eb16138-d948-446c-bdbb-b5983b040f44",
   "metadata": {},
   "source": [
    "Supply function"
   ]
  },
  {
   "cell_type": "code",
   "execution_count": 140,
   "id": "aed9714a-5fdd-4889-9fdc-ac05eb761f85",
   "metadata": {},
   "outputs": [],
   "source": [
    "# Write test function\n",
    "def Hs_prime(x):\n",
    "    \n",
    "    # Parameters\n",
    "    a = 9000\n",
    "    b = 6.4593010477953685 - a*0.05\n",
    "    \n",
    "    # Set negatives to zero\n",
    "    y = a*x + b\n",
    "    \n",
    "    return max(y,0)"
   ]
  },
  {
   "cell_type": "markdown",
   "id": "11c2dfc4-7f78-406b-ad31-438f8dd2829b",
   "metadata": {},
   "source": [
    "Setup"
   ]
  },
  {
   "cell_type": "code",
   "execution_count": 141,
   "id": "963219cd-de2c-4328-9994-3c74d09fca73",
   "metadata": {},
   "outputs": [],
   "source": [
    "# a. allocate\n",
    "path_ph_ = np.zeros(50)\n",
    "path_ph = np.zeros(50)\n",
    "\n",
    "# b. setting\n",
    "nu = 0.999 # relaxation parameter\n",
    "max_iter = 500 # maximum number of iterations\n",
    "\n",
    "# Set path of prices\n",
    "path_ph[:] = model.par.ph\n",
    "model.par.path_ph[model.par.sim_T:model.par.sim_T+50] = path_ph"
   ]
  },
  {
   "cell_type": "markdown",
   "id": "c16c312f-9bfc-416e-9bbd-846517aa99fd",
   "metadata": {},
   "source": [
    "Solve and simulate along path - **start here again**"
   ]
  },
  {
   "cell_type": "code",
   "execution_count": 164,
   "id": "b3bdd281-cc94-4d7f-979a-59647aff79e1",
   "metadata": {},
   "outputs": [],
   "source": [
    "model.solve_path()\n",
    "model.simulate_path()"
   ]
  },
  {
   "cell_type": "markdown",
   "id": "2c7eb610-71a7-400a-91fc-78a3232ba38b",
   "metadata": {},
   "source": [
    "Find implied house price"
   ]
  },
  {
   "cell_type": "code",
   "execution_count": 174,
   "id": "3e84aa2a-e0c5-455f-8d0d-a5e9af1c9a37",
   "metadata": {},
   "outputs": [],
   "source": [
    "for t in range(50):\n",
    "    path_ph_[t] = Hs_prime(np.mean(model.sim_path.n, axis=1)[model.par.sim_T+t])"
   ]
  },
  {
   "cell_type": "markdown",
   "id": "d0c280c1-6323-485a-b106-520a726104b2",
   "metadata": {},
   "source": [
    "Compute difference between implied and actual prices"
   ]
  },
  {
   "cell_type": "code",
   "execution_count": 175,
   "id": "8cb6c1bc-3d1e-43a3-b49e-fc8539d4f762",
   "metadata": {},
   "outputs": [
    {
     "name": "stdout",
     "output_type": "stream",
     "text": [
      "257.9573566003396\n"
     ]
    }
   ],
   "source": [
    "max_abs_diff = np.max(np.abs(path_ph-path_ph_))\n",
    "print(max_abs_diff)"
   ]
  },
  {
   "cell_type": "markdown",
   "id": "51f4f5fd-056d-435c-b791-0aba6399caae",
   "metadata": {},
   "source": [
    "Check"
   ]
  },
  {
   "cell_type": "code",
   "execution_count": 176,
   "id": "5020a0b6-85b1-4007-9d51-31f2c8a7d0fd",
   "metadata": {},
   "outputs": [
    {
     "data": {
      "text/plain": [
       "0.67975828934029"
      ]
     },
     "execution_count": 176,
     "metadata": {},
     "output_type": "execute_result"
    }
   ],
   "source": [
    "y[0]"
   ]
  },
  {
   "cell_type": "code",
   "execution_count": 177,
   "id": "e06d9a46-d3d8-46c9-aaf5-5446ace7a4a7",
   "metadata": {},
   "outputs": [
    {
     "data": {
      "text/plain": [
       "[<matplotlib.lines.Line2D at 0x241ed47de80>]"
      ]
     },
     "execution_count": 177,
     "metadata": {},
     "output_type": "execute_result"
    },
    {
     "data": {
      "image/png": "[encoded data removed]",
      "text/plain": [
       "<Figure size 432x288 with 1 Axes>"
      ]
     },
     "metadata": {
      "needs_background": "light"
     },
     "output_type": "display_data"
    }
   ],
   "source": [
    "y = path_ph_ - path_ph\n",
    "plt.plot(y)"
   ]
  },
  {
   "cell_type": "markdown",
   "id": "f28094bf-9640-4afa-9767-f1307f121c92",
   "metadata": {},
   "source": [
    "Update price sequence"
   ]
  },
  {
   "cell_type": "code",
   "execution_count": 150,
   "id": "b49bce62-ee0c-4766-8338-6748c210cdbc",
   "metadata": {},
   "outputs": [
    {
     "data": {
      "text/plain": [
       "6.247807283741677"
      ]
     },
     "execution_count": 150,
     "metadata": {},
     "output_type": "execute_result"
    }
   ],
   "source": [
    "path_ph[0]"
   ]
  },
  {
   "cell_type": "code",
   "execution_count": 149,
   "id": "700177d9-d3f6-4cbc-9977-332428cb279b",
   "metadata": {
    "tags": []
   },
   "outputs": [
    {
     "data": {
      "text/plain": [
       "[<matplotlib.lines.Line2D at 0x2427489c3a0>]"
      ]
     },
     "execution_count": 149,
     "metadata": {},
     "output_type": "execute_result"
    },
    {
     "data": {
      "image/png": "[encoded data removed]",
      "text/plain": [
       "<Figure size 432x288 with 1 Axes>"
      ]
     },
     "metadata": {
      "needs_background": "light"
     },
     "output_type": "display_data"
    }
   ],
   "source": [
    "path_ph = nu*path_ph + (1-nu)*path_ph_\n",
    "plt.plot(path_ph)"
   ]
  },
  {
   "cell_type": "markdown",
   "id": "a9289448-2698-4647-97c8-32b0d0742d61",
   "metadata": {},
   "source": [
    "Run again with updated price sequence"
   ]
  },
  {
   "cell_type": "code",
   "execution_count": 155,
   "id": "2d0ee5c3-96c8-49ab-aa8f-77d476d05d02",
   "metadata": {},
   "outputs": [],
   "source": [
    "model.par.path_ph[model.par.sim_T:model.par.sim_T+50] = path_ph"
   ]
  },
  {
   "cell_type": "code",
   "execution_count": 193,
   "id": "a4fad42a-8c7d-4447-a6bc-fb6548fade2c",
   "metadata": {
    "tags": []
   },
   "outputs": [
    {
     "data": {
      "text/plain": [
       "[<matplotlib.lines.Line2D at 0x241ef617970>]"
      ]
     },
     "execution_count": 193,
     "metadata": {},
     "output_type": "execute_result"
    },
    {
     "data": {
      "image/png": "[encoded data removed]",
      "text/plain": [
       "<Figure size 432x288 with 1 Axes>"
      ]
     },
     "metadata": {
      "needs_background": "light"
     },
     "output_type": "display_data"
    }
   ],
   "source": [
    "plt.plot(model.par.path_ph)"
   ]
  },
  {
   "cell_type": "markdown",
   "id": "c958f835-096e-4d8b-b08f-26a446aa1207",
   "metadata": {
    "tags": []
   },
   "source": [
    "## Find Equilibrium Along a Transition Path"
   ]
  },
  {
   "cell_type": "code",
   "execution_count": 26,
   "id": "5a00715f-4277-473b-8b99-d4a296db7431",
   "metadata": {},
   "outputs": [],
   "source": [
    "# Write test function\n",
    "def Hs_prime(x):\n",
    "    \n",
    "    # Parameters\n",
    "    a = 9000\n",
    "    b = 6.4593010477953685 - a*0.05\n",
    "    \n",
    "    # Set negatives to zero\n",
    "    y = a*x + b\n",
    "    \n",
    "    return max(y,0)"
   ]
  },
  {
   "cell_type": "markdown",
   "id": "57685ea8-34f1-47ea-8050-8d173965e2f9",
   "metadata": {},
   "source": [
    "Test code"
   ]
  },
  {
   "cell_type": "code",
   "execution_count": 96,
   "id": "d4b2a7e4-e599-4e5f-97d1-589e057b777a",
   "metadata": {},
   "outputs": [],
   "source": [
    "# a. allocate\n",
    "path_ph_ = np.zeros(model_path.par.path_T)\n",
    "path_ph = model_path.par.path_ph\n",
    "\n",
    "# b. setting\n",
    "nu = 0.99 # relaxation parameter\n",
    "max_iter = 500 # maximum number of iterations\n",
    "\n",
    "# ii. solve and simulate\n",
    "model_path.par.path_ph[:] = model_path.par.ph\n",
    "model_path.solve_path()"
   ]
  },
  {
   "cell_type": "markdown",
   "id": "8abaa94d-a1b9-4a6c-b831-99ea2dbe910f",
   "metadata": {},
   "source": [
    "## Apply relaxation algorithm "
   ]
  },
  {
   "cell_type": "code",
   "execution_count": 97,
   "id": "2b0a5dbe-eb0c-4d56-b590-e48abc5505b3",
   "metadata": {},
   "outputs": [],
   "source": [
    "# Initialize model and solve initial steady state\n",
    "model_path = DurableConsumptionModelClass(name='example_negm',par={'solmethod':'negm', 'do_print':False})\n",
    "model_path.precompile_numba()\n",
    "model_path.solve()"
   ]
  },
  {
   "cell_type": "code",
   "execution_count": 107,
   "id": "5654160e-0265-414b-9af6-f63c18aca921",
   "metadata": {},
   "outputs": [
    {
     "name": "stdout",
     "output_type": "stream",
     "text": [
      "0\n",
      "1\n",
      "2\n",
      "3\n",
      "4\n",
      "5\n",
      "6\n",
      "7\n",
      "8\n",
      "9\n",
      "10\n",
      "11\n",
      "12\n",
      "13\n",
      "14\n",
      "15\n",
      "16\n",
      "17\n",
      "18\n",
      "19\n",
      "20\n",
      "21\n",
      "22\n",
      "23\n",
      "24\n",
      "25\n",
      "26\n",
      "27\n",
      "28\n",
      "29\n",
      "30\n",
      "31\n",
      "32\n",
      "33\n",
      "34\n",
      "35\n",
      "36\n",
      "37\n",
      "38\n",
      "39\n",
      "40\n",
      "41\n",
      "42\n",
      "43\n",
      "44\n",
      "45\n",
      "46\n",
      "47\n",
      "48\n",
      "49\n",
      "   0: 63.34659638\n",
      "[ 6.24712753  6.24712753  6.24712753  6.24712753  6.24712753  6.24712753\n",
      "  6.24712753  6.24712753  6.24712753  6.24712753  6.24712753  6.24712753\n",
      "  6.24712753  6.24712753  6.24712753  6.24712753  6.24712753  6.24712753\n",
      "  6.24712753  6.24712753  6.24712753  6.24712753  6.24712753  6.24712753\n",
      "  6.24712753  6.24712753  6.24712753  6.24712753  6.24712753  6.24712753\n",
      "  6.24712753  6.24712753  6.24712753  6.24712753  6.24712753  6.24712753\n",
      "  6.24712753  6.24712753  6.24712753  6.24712753  6.24712753  6.24712753\n",
      "  6.24712753  6.24712753  6.24712753  6.24712753  6.24712753  6.24712753\n",
      "  6.24712753  6.24712753  6.24712753  6.24712753  6.24712753  6.24712753\n",
      "  6.24712753  6.24712753  6.24712753  6.24712753  6.24712753  6.24712753\n",
      "  6.24712753  6.24712753  6.24712753  6.24712753  6.24712753  6.24712753\n",
      "  6.24712753  6.24712753  6.24712753  6.24712753  6.24712753  6.24712753\n",
      "  6.24712753  6.24712753  6.24712753  6.24712753  6.24712753  6.24712753\n",
      "  6.24712753  6.24712753  6.24712753  6.24712753  6.24712753  6.24712753\n",
      "  6.24712753  6.24712753  6.24712753  6.24712753  6.24712753  6.24712753\n",
      "  6.24712753  6.24712753  6.24712753  6.24712753  6.24712753  6.24712753\n",
      "  6.24712753  6.24712753  6.24712753  6.24712753  6.24712753  6.24712753\n",
      "  6.24712753  6.24712753  6.24712753  6.24712753  6.24712753  6.24712753\n",
      "  6.24712753  6.24712753  6.24712753  6.24712753  6.24712753  6.24712753\n",
      "  6.24712753  6.24712753  6.24712753  6.24712753  6.24712753  6.24712753\n",
      "  6.24712753  6.24712753  6.24712753  6.24712753  6.24712753  6.24712753\n",
      "  6.24712753  6.24712753  6.24712753  6.24712753  6.24712753  6.24712753\n",
      "  6.24712753  6.24712753  6.24712753  6.24712753  6.24712753  6.24712753\n",
      "  6.24712753  6.24712753  6.24712753  6.24712753  6.24712753  6.24712753\n",
      "  6.24712753  6.24712753  6.24712753  6.24712753  6.24712753  6.24712753\n",
      "  6.24712753  6.24712753  6.24712753  6.24712753  6.24712753  6.24712753\n",
      "  6.24712753  6.24712753  6.24712753  6.24712753  6.24712753  6.24712753\n",
      "  6.24712753  6.24712753  6.24712753  6.24712753  6.24712753  6.24712753\n",
      "  6.24712753  6.24712753  6.24712753  6.24712753  6.24712753  6.24712753\n",
      "  6.24712753  6.24712753  6.24712753  6.24712753  6.24712753  6.24712753\n",
      "  6.24712753  6.24712753  6.24712753  6.24712753  6.24712753  6.24712753\n",
      "  6.24712753  6.24712753  6.24712753  6.24712753  6.24712753  6.24712753\n",
      "  6.24712753  6.24712753  6.24712753  6.24712753  6.24712753  6.24712753\n",
      "  6.24712753  6.24712753  6.31215873 12.43292845 12.58178716 12.55117297\n",
      " 12.45880564 12.41553287 12.36788874 12.33972571 12.29663757 12.16256841\n",
      " 12.19874402 12.12427271 12.05337673 12.01107566 11.92532494 11.89290909\n",
      " 11.84887701 11.86216552 11.86868611 11.84451708 11.79528848 11.78961445\n",
      " 11.78000767 11.73411768 11.66021676 11.64932919 11.68458368 11.63410997\n",
      " 11.56576233 11.54130682 11.53616462 11.51446805 11.42309168 11.46297856\n",
      " 11.38615109 11.43043391 11.49631651 11.46482121 11.45105527 11.49605973\n",
      " 11.45979816 11.46211579 11.39882065 11.40066609 11.3490653  11.32663676\n",
      " 11.34608183 11.33767628 11.38663615 11.3748907   5.62241477  5.62241477\n",
      "  5.62241477  5.62241477  5.62241477  5.62241477  5.62241477  5.62241477\n",
      "  5.62241477  5.62241477  5.62241477  5.62241477  5.62241477  5.62241477\n",
      "  5.62241477  5.62241477  5.62241477  5.62241477  5.62241477  5.62241477\n",
      "  5.62241477  5.62241477  5.62241477  5.62241477  5.62241477  5.62241477\n",
      "  5.62241477  5.62241477  5.62241477  5.62241477  5.62241477  5.62241477\n",
      "  5.62241477  5.62241477  5.62241477  5.62241477  5.62241477  5.62241477\n",
      "  5.62241477  5.62241477  5.62241477  5.62241477  5.62241477  5.62241477\n",
      "  5.62241477  5.62241477  5.62241477  5.62241477  5.62241477  5.62241477\n",
      "  5.62241477  5.62241477  5.62241477  5.62241477  5.62241477  5.62241477\n",
      "  5.62241477  5.62241477  5.62241477  5.62241477  5.62241477  5.62241477\n",
      "  5.62241477  5.62241477  5.62241477  5.62241477  5.62241477  5.62241477\n",
      "  5.62241477  5.62241477  5.62241477  5.62241477  5.62241477  5.62241477\n",
      "  5.62241477  5.62241477  5.62241477  5.62241477  5.62241477  5.62241477\n",
      "  5.62241477  5.62241477  5.62241477  5.62241477  5.62241477  5.62241477\n",
      "  5.62241477  5.62241477  5.62241477  5.62241477  5.62241477  5.62241477\n",
      "  5.62241477  5.62241477  5.62241477  5.62241477  5.62241477  5.62241477\n",
      "  5.62241477  5.62241477  5.62241477  5.62241477  5.62241477  5.62241477\n",
      "  5.62241477  5.62241477  5.62241477  5.62241477  5.62241477  5.62241477\n",
      "  5.62241477  5.62241477  5.62241477  5.62241477  5.62241477  5.62241477\n",
      "  5.62241477  5.62241477  5.62241477  5.62241477  5.62241477  5.62241477\n",
      "  5.62241477  5.62241477  5.62241477  5.62241477  5.62241477  5.62241477\n",
      "  5.62241477  5.62241477  5.62241477  5.62241477  5.62241477  5.62241477\n",
      "  5.62241477  5.62241477  5.62241477  5.62241477  5.62241477  5.62241477\n",
      "  5.62241477  5.62241477  5.62241477  5.62241477  5.62241477  5.62241477\n",
      "  5.62241477  5.62241477  5.62241477  5.62241477  5.62241477  5.62241477\n",
      "  5.62241477  5.62241477  5.62241477  5.62241477  5.62241477  5.62241477\n",
      "  5.62241477  5.62241477  5.62241477  5.62241477  5.62241477  5.62241477\n",
      "  5.62241477  5.62241477  5.62241477  5.62241477  5.62241477  5.62241477\n",
      "  5.62241477  5.62241477  5.62241477  5.62241477  5.62241477  5.62241477\n",
      "  5.62241477  5.62241477  5.62241477  5.62241477  5.62241477  5.62241477\n",
      "  5.62241477  5.62241477  5.62241477  5.62241477  5.62241477  5.62241477\n",
      "  5.62241477  5.62241477  5.62241477  5.62241477  5.62241477  5.62241477\n",
      "  5.62241477  5.62241477  5.62241477  5.62241477  5.62241477  5.62241477\n",
      "  5.62241477  5.62241477  5.62241477  5.62241477  5.62241477  5.62241477\n",
      "  5.62241477  5.62241477  5.62241477  5.62241477  5.62241477  5.62241477\n",
      "  5.62241477  5.62241477  5.62241477  5.62241477  5.62241477  5.62241477\n",
      "  5.62241477  5.62241477  5.62241477  5.62241477  5.62241477  5.62241477\n",
      "  5.62241477  5.62241477  5.62241477  5.62241477  5.62241477  5.62241477\n",
      "  5.62241477  5.62241477  5.62241477  5.62241477  5.62241477  5.62241477\n",
      "  5.62241477  5.62241477  5.62241477  5.62241477  5.62241477  5.62241477\n",
      "  5.62241477  5.62241477  5.62241477  5.62241477  5.62241477  5.62241477\n",
      "  5.62241477  5.62241477]\n",
      "1\n",
      "0\n",
      "1\n",
      "2\n",
      "3\n",
      "4\n",
      "5\n",
      "6\n",
      "7\n",
      "8\n",
      "9\n",
      "10\n",
      "11\n",
      "12\n",
      "13\n",
      "14\n",
      "15\n",
      "16\n",
      "17\n",
      "18\n",
      "19\n",
      "20\n",
      "21\n",
      "22\n",
      "23\n",
      "24\n",
      "25\n",
      "26\n",
      "27\n",
      "28\n",
      "29\n",
      "30\n",
      "31\n",
      "32\n",
      "33\n",
      "34\n",
      "35\n",
      "36\n",
      "37\n",
      "38\n",
      "39\n",
      "40\n",
      "41\n",
      "42\n",
      "43\n",
      "44\n",
      "45\n",
      "46\n",
      "47\n",
      "48\n",
      "49\n",
      "[ 6.24712753  6.24712753  6.24712753  6.24712753  6.24712753  6.24712753\n",
      "  6.24712753  6.24712753  6.24712753  6.24712753  6.24712753  6.24712753\n",
      "  6.24712753  6.24712753  6.24712753  6.24712753  6.24712753  6.24712753\n",
      "  6.24712753  6.24712753  6.24712753  6.24712753  6.24712753  6.24712753\n",
      "  6.24712753  6.24712753  6.24712753  6.24712753  6.24712753  6.24712753\n",
      "  6.24712753  6.24712753  6.24712753  6.24712753  6.24712753  6.24712753\n",
      "  6.24712753  6.24712753  6.24712753  6.24712753  6.24712753  6.24712753\n",
      "  6.24712753  6.24712753  6.24712753  6.24712753  6.24712753  6.24712753\n",
      "  6.24712753  6.24712753  6.24712753  6.24712753  6.24712753  6.24712753\n",
      "  6.24712753  6.24712753  6.24712753  6.24712753  6.24712753  6.24712753\n",
      "  6.24712753  6.24712753  6.24712753  6.24712753  6.24712753  6.24712753\n",
      "  6.24712753  6.24712753  6.24712753  6.24712753  6.24712753  6.24712753\n",
      "  6.24712753  6.24712753  6.24712753  6.24712753  6.24712753  6.24712753\n",
      "  6.24712753  6.24712753  6.24712753  6.24712753  6.24712753  6.24712753\n",
      "  6.24712753  6.24712753  6.24712753  6.24712753  6.24712753  6.24712753\n",
      "  6.24712753  6.24712753  6.24712753  6.24712753  6.24712753  6.24712753\n",
      "  6.24712753  6.24712753  6.24712753  6.24712753  6.24712753  6.24712753\n",
      "  6.24712753  6.24712753  6.24712753  6.24712753  6.24712753  6.24712753\n",
      "  6.24712753  6.24712753  6.24712753  6.24712753  6.24712753  6.24712753\n",
      "  6.24712753  6.24712753  6.24712753  6.24712753  6.24712753  6.24712753\n",
      "  6.24712753  6.24712753  6.24712753  6.24712753  6.24712753  6.24712753\n",
      "  6.24712753  6.24712753  6.24712753  6.24712753  6.24712753  6.24712753\n",
      "  6.24712753  6.24712753  6.24712753  6.24712753  6.24712753  6.24712753\n",
      "  6.24712753  6.24712753  6.24712753  6.24712753  6.24712753  6.24712753\n",
      "  6.24712753  6.24712753  6.24712753  6.24712753  6.24712753  6.24712753\n",
      "  6.24712753  6.24712753  6.24712753  6.24712753  6.24712753  6.24712753\n",
      "  6.24712753  6.24712753  6.24712753  6.24712753  6.24712753  6.24712753\n",
      "  6.24712753  6.24712753  6.24712753  6.24712753  6.24712753  6.24712753\n",
      "  6.24712753  6.24712753  6.24712753  6.24712753  6.24712753  6.24712753\n",
      "  6.24712753  6.24712753  6.24712753  6.24712753  6.24712753  6.24712753\n",
      "  6.24712753  6.24712753  6.24712753  6.24712753  6.24712753  6.24712753\n",
      "  6.24712753  6.24712753  6.24712753  6.24712753  6.24712753  6.24712753\n",
      "  6.24712753  6.24712753  6.24712753  6.24712753  6.24712753  6.24712753\n",
      "  6.24712753  6.24712753  6.3773514  95.88328748 11.32360845 11.29605567\n",
      " 11.21292508 11.17397958 11.13109987 11.10575314 11.06697381 10.94631157\n",
      " 10.97886962 10.91184544 10.84803906 10.8099681  10.73279245 10.70361818\n",
      " 10.66398931 10.67594897 10.6818175  10.66006537 10.61575963 10.610653\n",
      " 10.6020069  10.56070591 10.49419508 10.48439627 10.51612531 10.47069897\n",
      " 10.4091861  10.38717613 10.38254816 10.36302124 10.28078251 10.3166807\n",
      " 10.24753598 10.28739052 10.34668486 10.31833909 10.30594974 10.34645376\n",
      " 10.31381834 10.31590421 10.25893859 10.26059948 10.21415877 10.19397309\n",
      " 10.21147365 10.20390865 10.24797253 10.23740163  5.0601733   5.0601733\n",
      "  5.0601733   5.0601733   5.0601733   5.0601733   5.0601733   5.0601733\n",
      "  5.0601733   5.0601733   5.0601733   5.0601733   5.0601733   5.0601733\n",
      "  5.0601733   5.0601733   5.0601733   5.0601733   5.0601733   5.0601733\n",
      "  5.0601733   5.0601733   5.0601733   5.0601733   5.0601733   5.0601733\n",
      "  5.0601733   5.0601733   5.0601733   5.0601733   5.0601733   5.0601733\n",
      "  5.0601733   5.0601733   5.0601733   5.0601733   5.0601733   5.0601733\n",
      "  5.0601733   5.0601733   5.0601733   5.0601733   5.0601733   5.0601733\n",
      "  5.0601733   5.0601733   5.0601733   5.0601733   5.0601733   5.0601733\n",
      "  5.0601733   5.0601733   5.0601733   5.0601733   5.0601733   5.0601733\n",
      "  5.0601733   5.0601733   5.0601733   5.0601733   5.0601733   5.0601733\n",
      "  5.0601733   5.0601733   5.0601733   5.0601733   5.0601733   5.0601733\n",
      "  5.0601733   5.0601733   5.0601733   5.0601733   5.0601733   5.0601733\n",
      "  5.0601733   5.0601733   5.0601733   5.0601733   5.0601733   5.0601733\n",
      "  5.0601733   5.0601733   5.0601733   5.0601733   5.0601733   5.0601733\n",
      "  5.0601733   5.0601733   5.0601733   5.0601733   5.0601733   5.0601733\n",
      "  5.0601733   5.0601733   5.0601733   5.0601733   5.0601733   5.0601733\n",
      "  5.0601733   5.0601733   5.0601733   5.0601733   5.0601733   5.0601733\n",
      "  5.0601733   5.0601733   5.0601733   5.0601733   5.0601733   5.0601733\n",
      "  5.0601733   5.0601733   5.0601733   5.0601733   5.0601733   5.0601733\n",
      "  5.0601733   5.0601733   5.0601733   5.0601733   5.0601733   5.0601733\n",
      "  5.0601733   5.0601733   5.0601733   5.0601733   5.0601733   5.0601733\n",
      "  5.0601733   5.0601733   5.0601733   5.0601733   5.0601733   5.0601733\n",
      "  5.0601733   5.0601733   5.0601733   5.0601733   5.0601733   5.0601733\n",
      "  5.0601733   5.0601733   5.0601733   5.0601733   5.0601733   5.0601733\n",
      "  5.0601733   5.0601733   5.0601733   5.0601733   5.0601733   5.0601733\n",
      "  5.0601733   5.0601733   5.0601733   5.0601733   5.0601733   5.0601733\n",
      "  5.0601733   5.0601733   5.0601733   5.0601733   5.0601733   5.0601733\n",
      "  5.0601733   5.0601733   5.0601733   5.0601733   5.0601733   5.0601733\n",
      "  5.0601733   5.0601733   5.0601733   5.0601733   5.0601733   5.0601733\n",
      "  5.0601733   5.0601733   5.0601733   5.0601733   5.0601733   5.0601733\n",
      "  5.0601733   5.0601733   5.0601733   5.0601733   5.0601733   5.0601733\n",
      "  5.0601733   5.0601733   5.0601733   5.0601733   5.0601733   5.0601733\n",
      "  5.0601733   5.0601733   5.0601733   5.0601733   5.0601733   5.0601733\n",
      "  5.0601733   5.0601733   5.0601733   5.0601733   5.0601733   5.0601733\n",
      "  5.0601733   5.0601733   5.0601733   5.0601733   5.0601733   5.0601733\n",
      "  5.0601733   5.0601733   5.0601733   5.0601733   5.0601733   5.0601733\n",
      "  5.0601733   5.0601733   5.0601733   5.0601733   5.0601733   5.0601733\n",
      "  5.0601733   5.0601733   5.0601733   5.0601733   5.0601733   5.0601733\n",
      "  5.0601733   5.0601733   5.0601733   5.0601733   5.0601733   5.0601733\n",
      "  5.0601733   5.0601733   5.0601733   5.0601733   5.0601733   5.0601733\n",
      "  5.0601733   5.0601733   5.0601733   5.0601733   5.0601733   5.0601733\n",
      "  5.0601733   5.0601733 ]\n",
      "2\n",
      "0\n",
      "1\n",
      "2\n",
      "3\n",
      "4\n",
      "5\n",
      "6\n",
      "7\n",
      "8\n",
      "9\n",
      "10\n",
      "11\n",
      "12\n",
      "13\n",
      "14\n",
      "15\n",
      "16\n",
      "17\n",
      "18\n",
      "19\n",
      "20\n",
      "21\n",
      "22\n",
      "23\n",
      "24\n",
      "25\n",
      "26\n",
      "27\n",
      "28\n",
      "29\n",
      "30\n",
      "31\n",
      "32\n",
      "33\n",
      "34\n",
      "35\n",
      "36\n",
      "37\n",
      "38\n",
      "39\n",
      "40\n",
      "41\n",
      "42\n",
      "43\n",
      "44\n",
      "45\n",
      "46\n",
      "47\n",
      "48\n",
      "49\n",
      "[  6.24712753   6.24712753   6.24712753   6.24712753   6.24712753\n",
      "   6.24712753   6.24712753   6.24712753   6.24712753   6.24712753\n",
      "   6.24712753   6.24712753   6.24712753   6.24712753   6.24712753\n",
      "   6.24712753   6.24712753   6.24712753   6.24712753   6.24712753\n",
      "   6.24712753   6.24712753   6.24712753   6.24712753   6.24712753\n",
      "   6.24712753   6.24712753   6.24712753   6.24712753   6.24712753\n",
      "   6.24712753   6.24712753   6.24712753   6.24712753   6.24712753\n",
      "   6.24712753   6.24712753   6.24712753   6.24712753   6.24712753\n",
      "   6.24712753   6.24712753   6.24712753   6.24712753   6.24712753\n",
      "   6.24712753   6.24712753   6.24712753   6.24712753   6.24712753\n",
      "   6.24712753   6.24712753   6.24712753   6.24712753   6.24712753\n",
      "   6.24712753   6.24712753   6.24712753   6.24712753   6.24712753\n",
      "   6.24712753   6.24712753   6.24712753   6.24712753   6.24712753\n",
      "   6.24712753   6.24712753   6.24712753   6.24712753   6.24712753\n",
      "   6.24712753   6.24712753   6.24712753   6.24712753   6.24712753\n",
      "   6.24712753   6.24712753   6.24712753   6.24712753   6.24712753\n",
      "   6.24712753   6.24712753   6.24712753   6.24712753   6.24712753\n",
      "   6.24712753   6.24712753   6.24712753   6.24712753   6.24712753\n",
      "   6.24712753   6.24712753   6.24712753   6.24712753   6.24712753\n",
      "   6.24712753   6.24712753   6.24712753   6.24712753   6.24712753\n",
      "   6.24712753   6.24712753   6.24712753   6.24712753   6.24712753\n",
      "   6.24712753   6.24712753   6.24712753   6.24712753   6.24712753\n",
      "   6.24712753   6.24712753   6.24712753   6.24712753   6.24712753\n",
      "   6.24712753   6.24712753   6.24712753   6.24712753   6.24712753\n",
      "   6.24712753   6.24712753   6.24712753   6.24712753   6.24712753\n",
      "   6.24712753   6.24712753   6.24712753   6.24712753   6.24712753\n",
      "   6.24712753   6.24712753   6.24712753   6.24712753   6.24712753\n",
      "   6.24712753   6.24712753   6.24712753   6.24712753   6.24712753\n",
      "   6.24712753   6.24712753   6.24712753   6.24712753   6.24712753\n",
      "   6.24712753   6.24712753   6.24712753   6.24712753   6.24712753\n",
      "   6.24712753   6.24712753   6.24712753   6.24712753   6.24712753\n",
      "   6.24712753   6.24712753   6.24712753   6.24712753   6.24712753\n",
      "   6.24712753   6.24712753   6.24712753   6.24712753   6.24712753\n",
      "   6.24712753   6.24712753   6.24712753   6.24712753   6.24712753\n",
      "   6.24712753   6.24712753   6.24712753   6.24712753   6.24712753\n",
      "   6.24712753   6.24712753   6.24712753   6.24712753   6.24712753\n",
      "   6.24712753   6.24712753   6.24712753   6.24712753   6.24712753\n",
      "   6.24712753   6.24712753   6.24712753   6.24712753   6.24712753\n",
      "   6.24712753   6.24712753   6.24712753   6.24712753   6.24712753\n",
      "   6.24712753   6.24712753   6.24712753   6.24712753   6.24712753\n",
      "   6.43394715 173.38474659  10.1912476   10.1664501   10.09163257\n",
      "  10.05658162  10.01798988   9.99517782   9.96027643   9.85168042\n",
      "  15.44967741   9.8206609  192.6141623  224.1017708  254.72711862\n",
      " 250.63429153 301.41450621  58.83064968  49.73232427 337.31130376\n",
      " 405.72988997 477.95668637 552.32628534 320.94333545 271.89821684\n",
      " 221.00049263 170.57587986 164.92480852 151.9311817  141.89774561\n",
      " 126.41611397 106.35143189  90.45914583 530.76104655 289.54744942\n",
      " 300.62157191 300.45706745 234.32318589 209.44561097 626.59444482\n",
      " 384.71090003 372.63346976 310.75461767 303.24902717 256.96947838\n",
      " 218.54748073 213.51145582 186.83367365 199.09980617 123.20601711\n",
      "   4.55415597   4.55415597   4.55415597   4.55415597   4.55415597\n",
      "   4.55415597   4.55415597   4.55415597   4.55415597   4.55415597\n",
      "   4.55415597   4.55415597   4.55415597   4.55415597   4.55415597\n",
      "   4.55415597   4.55415597   4.55415597   4.55415597   4.55415597\n",
      "   4.55415597   4.55415597   4.55415597   4.55415597   4.55415597\n",
      "   4.55415597   4.55415597   4.55415597   4.55415597   4.55415597\n",
      "   4.55415597   4.55415597   4.55415597   4.55415597   4.55415597\n",
      "   4.55415597   4.55415597   4.55415597   4.55415597   4.55415597\n",
      "   4.55415597   4.55415597   4.55415597   4.55415597   4.55415597\n",
      "   4.55415597   4.55415597   4.55415597   4.55415597   4.55415597\n",
      "   4.55415597   4.55415597   4.55415597   4.55415597   4.55415597\n",
      "   4.55415597   4.55415597   4.55415597   4.55415597   4.55415597\n",
      "   4.55415597   4.55415597   4.55415597   4.55415597   4.55415597\n",
      "   4.55415597   4.55415597   4.55415597   4.55415597   4.55415597\n",
      "   4.55415597   4.55415597   4.55415597   4.55415597   4.55415597\n",
      "   4.55415597   4.55415597   4.55415597   4.55415597   4.55415597\n",
      "   4.55415597   4.55415597   4.55415597   4.55415597   4.55415597\n",
      "   4.55415597   4.55415597   4.55415597   4.55415597   4.55415597\n",
      "   4.55415597   4.55415597   4.55415597   4.55415597   4.55415597\n",
      "   4.55415597   4.55415597   4.55415597   4.55415597   4.55415597\n",
      "   4.55415597   4.55415597   4.55415597   4.55415597   4.55415597\n",
      "   4.55415597   4.55415597   4.55415597   4.55415597   4.55415597\n",
      "   4.55415597   4.55415597   4.55415597   4.55415597   4.55415597\n",
      "   4.55415597   4.55415597   4.55415597   4.55415597   4.55415597\n",
      "   4.55415597   4.55415597   4.55415597   4.55415597   4.55415597\n",
      "   4.55415597   4.55415597   4.55415597   4.55415597   4.55415597\n",
      "   4.55415597   4.55415597   4.55415597   4.55415597   4.55415597\n",
      "   4.55415597   4.55415597   4.55415597   4.55415597   4.55415597\n",
      "   4.55415597   4.55415597   4.55415597   4.55415597   4.55415597\n",
      "   4.55415597   4.55415597   4.55415597   4.55415597   4.55415597\n",
      "   4.55415597   4.55415597   4.55415597   4.55415597   4.55415597\n",
      "   4.55415597   4.55415597   4.55415597   4.55415597   4.55415597\n",
      "   4.55415597   4.55415597   4.55415597   4.55415597   4.55415597\n",
      "   4.55415597   4.55415597   4.55415597   4.55415597   4.55415597\n",
      "   4.55415597   4.55415597   4.55415597   4.55415597   4.55415597\n",
      "   4.55415597   4.55415597   4.55415597   4.55415597   4.55415597\n",
      "   4.55415597   4.55415597   4.55415597   4.55415597   4.55415597\n",
      "   4.55415597   4.55415597   4.55415597   4.55415597   4.55415597\n",
      "   4.55415597   4.55415597   4.55415597   4.55415597   4.55415597\n",
      "   4.55415597   4.55415597   4.55415597   4.55415597   4.55415597\n",
      "   4.55415597   4.55415597   4.55415597   4.55415597   4.55415597\n",
      "   4.55415597   4.55415597   4.55415597   4.55415597   4.55415597\n",
      "   4.55415597   4.55415597   4.55415597   4.55415597   4.55415597\n",
      "   4.55415597   4.55415597   4.55415597   4.55415597   4.55415597\n",
      "   4.55415597   4.55415597   4.55415597   4.55415597   4.55415597\n",
      "   4.55415597   4.55415597   4.55415597   4.55415597   4.55415597\n",
      "   4.55415597   4.55415597   4.55415597   4.55415597   4.55415597\n",
      "   4.55415597   4.55415597   4.55415597   4.55415597   4.55415597\n",
      "   4.55415597   4.55415597   4.55415597   4.55415597   4.55415597\n",
      "   4.55415597   4.55415597   4.55415597   4.55415597   4.55415597]\n",
      "3\n",
      "0\n",
      "1\n",
      "2\n",
      "3\n",
      "4\n",
      "5\n",
      "6\n",
      "7\n",
      "8\n",
      "9\n",
      "10\n",
      "11\n",
      "12\n",
      "13\n",
      "14\n",
      "15\n",
      "16\n",
      "17\n",
      "18\n",
      "19\n",
      "20\n",
      "21\n",
      "22\n",
      "23\n",
      "24\n",
      "25\n",
      "26\n",
      "27\n",
      "28\n",
      "29\n",
      "30\n",
      "31\n",
      "32\n",
      "33\n",
      "34\n",
      "35\n",
      "36\n",
      "37\n",
      "38\n",
      "39\n",
      "40\n",
      "41\n",
      "42\n",
      "43\n",
      "44\n",
      "45\n",
      "46\n",
      "47\n",
      "48\n",
      "49\n",
      "[6.24712753e+00 6.24712753e+00 6.24712753e+00 6.24712753e+00\n",
      " 6.24712753e+00 6.24712753e+00 6.24712753e+00 6.24712753e+00\n",
      " 6.24712753e+00 6.24712753e+00 6.24712753e+00 6.24712753e+00\n",
      " 6.24712753e+00 6.24712753e+00 6.24712753e+00 6.24712753e+00\n",
      " 6.24712753e+00 6.24712753e+00 6.24712753e+00 6.24712753e+00\n",
      " 6.24712753e+00 6.24712753e+00 6.24712753e+00 6.24712753e+00\n",
      " 6.24712753e+00 6.24712753e+00 6.24712753e+00 6.24712753e+00\n",
      " 6.24712753e+00 6.24712753e+00 6.24712753e+00 6.24712753e+00\n",
      " 6.24712753e+00 6.24712753e+00 6.24712753e+00 6.24712753e+00\n",
      " 6.24712753e+00 6.24712753e+00 6.24712753e+00 6.24712753e+00\n",
      " 6.24712753e+00 6.24712753e+00 6.24712753e+00 6.24712753e+00\n",
      " 6.24712753e+00 6.24712753e+00 6.24712753e+00 6.24712753e+00\n",
      " 6.24712753e+00 6.24712753e+00 6.24712753e+00 6.24712753e+00\n",
      " 6.24712753e+00 6.24712753e+00 6.24712753e+00 6.24712753e+00\n",
      " 6.24712753e+00 6.24712753e+00 6.24712753e+00 6.24712753e+00\n",
      " 6.24712753e+00 6.24712753e+00 6.24712753e+00 6.24712753e+00\n",
      " 6.24712753e+00 6.24712753e+00 6.24712753e+00 6.24712753e+00\n",
      " 6.24712753e+00 6.24712753e+00 6.24712753e+00 6.24712753e+00\n",
      " 6.24712753e+00 6.24712753e+00 6.24712753e+00 6.24712753e+00\n",
      " 6.24712753e+00 6.24712753e+00 6.24712753e+00 6.24712753e+00\n",
      " 6.24712753e+00 6.24712753e+00 6.24712753e+00 6.24712753e+00\n",
      " 6.24712753e+00 6.24712753e+00 6.24712753e+00 6.24712753e+00\n",
      " 6.24712753e+00 6.24712753e+00 6.24712753e+00 6.24712753e+00\n",
      " 6.24712753e+00 6.24712753e+00 6.24712753e+00 6.24712753e+00\n",
      " 6.24712753e+00 6.24712753e+00 6.24712753e+00 6.24712753e+00\n",
      " 6.24712753e+00 6.24712753e+00 6.24712753e+00 6.24712753e+00\n",
      " 6.24712753e+00 6.24712753e+00 6.24712753e+00 6.24712753e+00\n",
      " 6.24712753e+00 6.24712753e+00 6.24712753e+00 6.24712753e+00\n",
      " 6.24712753e+00 6.24712753e+00 6.24712753e+00 6.24712753e+00\n",
      " 6.24712753e+00 6.24712753e+00 6.24712753e+00 6.24712753e+00\n",
      " 6.24712753e+00 6.24712753e+00 6.24712753e+00 6.24712753e+00\n",
      " 6.24712753e+00 6.24712753e+00 6.24712753e+00 6.24712753e+00\n",
      " 6.24712753e+00 6.24712753e+00 6.24712753e+00 6.24712753e+00\n",
      " 6.24712753e+00 6.24712753e+00 6.24712753e+00 6.24712753e+00\n",
      " 6.24712753e+00 6.24712753e+00 6.24712753e+00 6.24712753e+00\n",
      " 6.24712753e+00 6.24712753e+00 6.24712753e+00 6.24712753e+00\n",
      " 6.24712753e+00 6.24712753e+00 6.24712753e+00 6.24712753e+00\n",
      " 6.24712753e+00 6.24712753e+00 6.24712753e+00 6.24712753e+00\n",
      " 6.24712753e+00 6.24712753e+00 6.24712753e+00 6.24712753e+00\n",
      " 6.24712753e+00 6.24712753e+00 6.24712753e+00 6.24712753e+00\n",
      " 6.24712753e+00 6.24712753e+00 6.24712753e+00 6.24712753e+00\n",
      " 6.24712753e+00 6.24712753e+00 6.24712753e+00 6.24712753e+00\n",
      " 6.24712753e+00 6.24712753e+00 6.24712753e+00 6.24712753e+00\n",
      " 6.24712753e+00 6.24712753e+00 6.24712753e+00 6.24712753e+00\n",
      " 6.24712753e+00 6.24712753e+00 6.24712753e+00 6.24712753e+00\n",
      " 6.24712753e+00 6.24712753e+00 6.24712753e+00 6.24712753e+00\n",
      " 6.24712753e+00 6.24712753e+00 6.24712753e+00 6.24712753e+00\n",
      " 6.24712753e+00 6.24712753e+00 6.24712753e+00 6.24712753e+00\n",
      " 6.24712753e+00 6.24712753e+00 6.24712753e+00 6.24712753e+00\n",
      " 6.24712753e+00 6.24712753e+00 6.24712753e+00 6.24712753e+00\n",
      " 6.48685709e+00 2.42295791e+02 9.17212284e+00 3.71855468e+01\n",
      " 9.87154442e+01 9.87850379e+01 9.88381645e+01 9.88923653e+01\n",
      " 9.89471687e+01 9.89766233e+01 1.04521873e+02 9.81039153e+01\n",
      " 2.63997453e+02 2.01691594e+02 2.29254407e+02 2.25570862e+02\n",
      " 2.71273056e+02 5.29475847e+01 4.47590918e+01 3.94226103e+02\n",
      " 1.83888549e+03 1.89765013e+03 4.97093657e+02 2.88849002e+02\n",
      " 2.44708395e+02 1.98900443e+02 1.53518292e+02 1.48432328e+02\n",
      " 1.02339451e+04 2.01418278e+04 1.13774503e+02 9.57162887e+01\n",
      " 8.14132312e+01 4.77684942e+02 2.60592704e+02 2.70559415e+02\n",
      " 2.70411361e+02 2.10890867e+02 1.88501050e+02 5.63935000e+02\n",
      " 3.46239810e+02 3.35370123e+02 2.79679156e+02 2.72924124e+02\n",
      " 2.31272531e+02 1.96692733e+02 1.92160310e+02 1.68150306e+02\n",
      " 1.79189826e+02 1.10885415e+02 4.09874037e+00 4.09874037e+00\n",
      " 4.09874037e+00 4.09874037e+00 4.09874037e+00 4.09874037e+00\n",
      " 4.09874037e+00 4.09874037e+00 4.09874037e+00 4.09874037e+00\n",
      " 4.09874037e+00 4.09874037e+00 4.09874037e+00 4.09874037e+00\n",
      " 4.09874037e+00 4.09874037e+00 4.09874037e+00 4.09874037e+00\n",
      " 4.09874037e+00 4.09874037e+00 4.09874037e+00 4.09874037e+00\n",
      " 4.09874037e+00 4.09874037e+00 4.09874037e+00 4.09874037e+00\n",
      " 4.09874037e+00 4.09874037e+00 4.09874037e+00 4.09874037e+00\n",
      " 4.09874037e+00 4.09874037e+00 4.09874037e+00 4.09874037e+00\n",
      " 4.09874037e+00 4.09874037e+00 4.09874037e+00 4.09874037e+00\n",
      " 4.09874037e+00 4.09874037e+00 4.09874037e+00 4.09874037e+00\n",
      " 4.09874037e+00 4.09874037e+00 4.09874037e+00 4.09874037e+00\n",
      " 4.09874037e+00 4.09874037e+00 4.09874037e+00 4.09874037e+00\n",
      " 4.09874037e+00 4.09874037e+00 4.09874037e+00 4.09874037e+00\n",
      " 4.09874037e+00 4.09874037e+00 4.09874037e+00 4.09874037e+00\n",
      " 4.09874037e+00 4.09874037e+00 4.09874037e+00 4.09874037e+00\n",
      " 4.09874037e+00 4.09874037e+00 4.09874037e+00 4.09874037e+00\n",
      " 4.09874037e+00 4.09874037e+00 4.09874037e+00 4.09874037e+00\n",
      " 4.09874037e+00 4.09874037e+00 4.09874037e+00 4.09874037e+00\n",
      " 4.09874037e+00 4.09874037e+00 4.09874037e+00 4.09874037e+00\n",
      " 4.09874037e+00 4.09874037e+00 4.09874037e+00 4.09874037e+00\n",
      " 4.09874037e+00 4.09874037e+00 4.09874037e+00 4.09874037e+00\n",
      " 4.09874037e+00 4.09874037e+00 4.09874037e+00 4.09874037e+00\n",
      " 4.09874037e+00 4.09874037e+00 4.09874037e+00 4.09874037e+00\n",
      " 4.09874037e+00 4.09874037e+00 4.09874037e+00 4.09874037e+00\n",
      " 4.09874037e+00 4.09874037e+00 4.09874037e+00 4.09874037e+00\n",
      " 4.09874037e+00 4.09874037e+00 4.09874037e+00 4.09874037e+00\n",
      " 4.09874037e+00 4.09874037e+00 4.09874037e+00 4.09874037e+00\n",
      " 4.09874037e+00 4.09874037e+00 4.09874037e+00 4.09874037e+00\n",
      " 4.09874037e+00 4.09874037e+00 4.09874037e+00 4.09874037e+00\n",
      " 4.09874037e+00 4.09874037e+00 4.09874037e+00 4.09874037e+00\n",
      " 4.09874037e+00 4.09874037e+00 4.09874037e+00 4.09874037e+00\n",
      " 4.09874037e+00 4.09874037e+00 4.09874037e+00 4.09874037e+00\n",
      " 4.09874037e+00 4.09874037e+00 4.09874037e+00 4.09874037e+00\n",
      " 4.09874037e+00 4.09874037e+00 4.09874037e+00 4.09874037e+00\n",
      " 4.09874037e+00 4.09874037e+00 4.09874037e+00 4.09874037e+00\n",
      " 4.09874037e+00 4.09874037e+00 4.09874037e+00 4.09874037e+00\n",
      " 4.09874037e+00 4.09874037e+00 4.09874037e+00 4.09874037e+00\n",
      " 4.09874037e+00 4.09874037e+00 4.09874037e+00 4.09874037e+00\n",
      " 4.09874037e+00 4.09874037e+00 4.09874037e+00 4.09874037e+00\n",
      " 4.09874037e+00 4.09874037e+00 4.09874037e+00 4.09874037e+00\n",
      " 4.09874037e+00 4.09874037e+00 4.09874037e+00 4.09874037e+00\n",
      " 4.09874037e+00 4.09874037e+00 4.09874037e+00 4.09874037e+00\n",
      " 4.09874037e+00 4.09874037e+00 4.09874037e+00 4.09874037e+00\n",
      " 4.09874037e+00 4.09874037e+00 4.09874037e+00 4.09874037e+00\n",
      " 4.09874037e+00 4.09874037e+00 4.09874037e+00 4.09874037e+00\n",
      " 4.09874037e+00 4.09874037e+00 4.09874037e+00 4.09874037e+00\n",
      " 4.09874037e+00 4.09874037e+00 4.09874037e+00 4.09874037e+00\n",
      " 4.09874037e+00 4.09874037e+00 4.09874037e+00 4.09874037e+00\n",
      " 4.09874037e+00 4.09874037e+00 4.09874037e+00 4.09874037e+00\n",
      " 4.09874037e+00 4.09874037e+00 4.09874037e+00 4.09874037e+00\n",
      " 4.09874037e+00 4.09874037e+00 4.09874037e+00 4.09874037e+00\n",
      " 4.09874037e+00 4.09874037e+00 4.09874037e+00 4.09874037e+00\n",
      " 4.09874037e+00 4.09874037e+00 4.09874037e+00 4.09874037e+00\n",
      " 4.09874037e+00 4.09874037e+00 4.09874037e+00 4.09874037e+00\n",
      " 4.09874037e+00 4.09874037e+00 4.09874037e+00 4.09874037e+00\n",
      " 4.09874037e+00 4.09874037e+00 4.09874037e+00 4.09874037e+00\n",
      " 4.09874037e+00 4.09874037e+00 4.09874037e+00 4.09874037e+00\n",
      " 4.09874037e+00 4.09874037e+00 4.09874037e+00 4.09874037e+00\n",
      " 4.09874037e+00 4.09874037e+00 4.09874037e+00 4.09874037e+00\n",
      " 4.09874037e+00 4.09874037e+00 4.09874037e+00 4.09874037e+00\n",
      " 4.09874037e+00 4.09874037e+00 4.09874037e+00 4.09874037e+00\n",
      " 4.09874037e+00 4.09874037e+00 4.09874037e+00 4.09874037e+00]\n",
      "4\n",
      "0\n",
      "1\n",
      "2\n",
      "3\n",
      "4\n",
      "5\n",
      "6\n",
      "7\n",
      "8\n",
      "9\n",
      "10\n",
      "11\n",
      "12\n",
      "13\n",
      "14\n",
      "15\n",
      "16\n",
      "17\n",
      "18\n",
      "19\n",
      "20\n",
      "21\n",
      "22\n",
      "23\n",
      "24\n",
      "25\n",
      "26\n",
      "27\n",
      "28\n",
      "29\n",
      "30\n",
      "31\n",
      "32\n",
      "33\n",
      "34\n",
      "35\n",
      "36\n",
      "37\n",
      "38\n",
      "39\n",
      "40\n",
      "41\n",
      "42\n",
      "43\n",
      "44\n",
      "45\n",
      "46\n",
      "47\n",
      "48\n",
      "49\n",
      "[6.24712753e+00 6.24712753e+00 6.24712753e+00 6.24712753e+00\n",
      " 6.24712753e+00 6.24712753e+00 6.24712753e+00 6.24712753e+00\n",
      " 6.24712753e+00 6.24712753e+00 6.24712753e+00 6.24712753e+00\n",
      " 6.24712753e+00 6.24712753e+00 6.24712753e+00 6.24712753e+00\n",
      " 6.24712753e+00 6.24712753e+00 6.24712753e+00 6.24712753e+00\n",
      " 6.24712753e+00 6.24712753e+00 6.24712753e+00 6.24712753e+00\n",
      " 6.24712753e+00 6.24712753e+00 6.24712753e+00 6.24712753e+00\n",
      " 6.24712753e+00 6.24712753e+00 6.24712753e+00 6.24712753e+00\n",
      " 6.24712753e+00 6.24712753e+00 6.24712753e+00 6.24712753e+00\n",
      " 6.24712753e+00 6.24712753e+00 6.24712753e+00 6.24712753e+00\n",
      " 6.24712753e+00 6.24712753e+00 6.24712753e+00 6.24712753e+00\n",
      " 6.24712753e+00 6.24712753e+00 6.24712753e+00 6.24712753e+00\n",
      " 6.24712753e+00 6.24712753e+00 6.24712753e+00 6.24712753e+00\n",
      " 6.24712753e+00 6.24712753e+00 6.24712753e+00 6.24712753e+00\n",
      " 6.24712753e+00 6.24712753e+00 6.24712753e+00 6.24712753e+00\n",
      " 6.24712753e+00 6.24712753e+00 6.24712753e+00 6.24712753e+00\n",
      " 6.24712753e+00 6.24712753e+00 6.24712753e+00 6.24712753e+00\n",
      " 6.24712753e+00 6.24712753e+00 6.24712753e+00 6.24712753e+00\n",
      " 6.24712753e+00 6.24712753e+00 6.24712753e+00 6.24712753e+00\n",
      " 6.24712753e+00 6.24712753e+00 6.24712753e+00 6.24712753e+00\n",
      " 6.24712753e+00 6.24712753e+00 6.24712753e+00 6.24712753e+00\n",
      " 6.24712753e+00 6.24712753e+00 6.24712753e+00 6.24712753e+00\n",
      " 6.24712753e+00 6.24712753e+00 6.24712753e+00 6.24712753e+00\n",
      " 6.24712753e+00 6.24712753e+00 6.24712753e+00 6.24712753e+00\n",
      " 6.24712753e+00 6.24712753e+00 6.24712753e+00 6.24712753e+00\n",
      " 6.24712753e+00 6.24712753e+00 6.24712753e+00 6.24712753e+00\n",
      " 6.24712753e+00 6.24712753e+00 6.24712753e+00 6.24712753e+00\n",
      " 6.24712753e+00 6.24712753e+00 6.24712753e+00 6.24712753e+00\n",
      " 6.24712753e+00 6.24712753e+00 6.24712753e+00 6.24712753e+00\n",
      " 6.24712753e+00 6.24712753e+00 6.24712753e+00 6.24712753e+00\n",
      " 6.24712753e+00 6.24712753e+00 6.24712753e+00 6.24712753e+00\n",
      " 6.24712753e+00 6.24712753e+00 6.24712753e+00 6.24712753e+00\n",
      " 6.24712753e+00 6.24712753e+00 6.24712753e+00 6.24712753e+00\n",
      " 6.24712753e+00 6.24712753e+00 6.24712753e+00 6.24712753e+00\n",
      " 6.24712753e+00 6.24712753e+00 6.24712753e+00 6.24712753e+00\n",
      " 6.24712753e+00 6.24712753e+00 6.24712753e+00 6.24712753e+00\n",
      " 6.24712753e+00 6.24712753e+00 6.24712753e+00 6.24712753e+00\n",
      " 6.24712753e+00 6.24712753e+00 6.24712753e+00 6.24712753e+00\n",
      " 6.24712753e+00 6.24712753e+00 6.24712753e+00 6.24712753e+00\n",
      " 6.24712753e+00 6.24712753e+00 6.24712753e+00 6.24712753e+00\n",
      " 6.24712753e+00 6.24712753e+00 6.24712753e+00 6.24712753e+00\n",
      " 6.24712753e+00 6.24712753e+00 6.24712753e+00 6.24712753e+00\n",
      " 6.24712753e+00 6.24712753e+00 6.24712753e+00 6.24712753e+00\n",
      " 6.24712753e+00 6.24712753e+00 6.24712753e+00 6.24712753e+00\n",
      " 6.24712753e+00 6.24712753e+00 6.24712753e+00 6.24712753e+00\n",
      " 6.24712753e+00 6.24712753e+00 6.24712753e+00 6.24712753e+00\n",
      " 6.24712753e+00 6.24712753e+00 6.24712753e+00 6.24712753e+00\n",
      " 6.24712753e+00 6.24712753e+00 6.24712753e+00 6.24712753e+00\n",
      " 6.24712753e+00 6.24712753e+00 6.24712753e+00 6.24712753e+00\n",
      " 6.24712753e+00 6.24712753e+00 6.24712753e+00 6.24712753e+00\n",
      " 6.53534832e+00 3.01897962e+02 8.25491056e+00 1.24108872e+02\n",
      " 1.79489830e+02 8.89065341e+01 8.89543480e+01 8.90031288e+01\n",
      " 8.90524518e+01 8.90789610e+01 9.40696858e+01 8.82935238e+01\n",
      " 2.58628044e+02 2.02552770e+02 2.06328966e+02 2.03013776e+02\n",
      " 2.44145750e+02 4.76528262e+01 2.54764529e+02 7.86931563e+02\n",
      " 2.08712501e+03 1.70788511e+03 4.47384291e+02 2.59964102e+02\n",
      " 2.20237556e+02 1.79010399e+02 1.38166463e+02 1.33589095e+02\n",
      " 9.21055055e+03 1.81276450e+04 1.02397052e+02 8.61446598e+01\n",
      " 7.32719081e+01 4.32992423e+02 2.34533434e+02 2.43503473e+02\n",
      " 2.43370225e+02 1.89801781e+02 1.69650945e+02 5.07541500e+02\n",
      " 3.11615829e+02 3.01833111e+02 2.51711240e+02 2.45631712e+02\n",
      " 2.08145277e+02 1.77023459e+02 1.72944279e+02 1.51335276e+02\n",
      " 1.61270843e+02 9.97968739e+01 3.68886633e+00 3.68886633e+00\n",
      " 3.68886633e+00 3.68886633e+00 3.68886633e+00 3.68886633e+00\n",
      " 3.68886633e+00 3.68886633e+00 3.68886633e+00 3.68886633e+00\n",
      " 3.68886633e+00 3.68886633e+00 3.68886633e+00 3.68886633e+00\n",
      " 3.68886633e+00 3.68886633e+00 3.68886633e+00 3.68886633e+00\n",
      " 3.68886633e+00 3.68886633e+00 3.68886633e+00 3.68886633e+00\n",
      " 3.68886633e+00 3.68886633e+00 3.68886633e+00 3.68886633e+00\n",
      " 3.68886633e+00 3.68886633e+00 3.68886633e+00 3.68886633e+00\n",
      " 3.68886633e+00 3.68886633e+00 3.68886633e+00 3.68886633e+00\n",
      " 3.68886633e+00 3.68886633e+00 3.68886633e+00 3.68886633e+00\n",
      " 3.68886633e+00 3.68886633e+00 3.68886633e+00 3.68886633e+00\n",
      " 3.68886633e+00 3.68886633e+00 3.68886633e+00 3.68886633e+00\n",
      " 3.68886633e+00 3.68886633e+00 3.68886633e+00 3.68886633e+00\n",
      " 3.68886633e+00 3.68886633e+00 3.68886633e+00 3.68886633e+00\n",
      " 3.68886633e+00 3.68886633e+00 3.68886633e+00 3.68886633e+00\n",
      " 3.68886633e+00 3.68886633e+00 3.68886633e+00 3.68886633e+00\n",
      " 3.68886633e+00 3.68886633e+00 3.68886633e+00 3.68886633e+00\n",
      " 3.68886633e+00 3.68886633e+00 3.68886633e+00 3.68886633e+00\n",
      " 3.68886633e+00 3.68886633e+00 3.68886633e+00 3.68886633e+00\n",
      " 3.68886633e+00 3.68886633e+00 3.68886633e+00 3.68886633e+00\n",
      " 3.68886633e+00 3.68886633e+00 3.68886633e+00 3.68886633e+00\n",
      " 3.68886633e+00 3.68886633e+00 3.68886633e+00 3.68886633e+00\n",
      " 3.68886633e+00 3.68886633e+00 3.68886633e+00 3.68886633e+00\n",
      " 3.68886633e+00 3.68886633e+00 3.68886633e+00 3.68886633e+00\n",
      " 3.68886633e+00 3.68886633e+00 3.68886633e+00 3.68886633e+00\n",
      " 3.68886633e+00 3.68886633e+00 3.68886633e+00 3.68886633e+00\n",
      " 3.68886633e+00 3.68886633e+00 3.68886633e+00 3.68886633e+00\n",
      " 3.68886633e+00 3.68886633e+00 3.68886633e+00 3.68886633e+00\n",
      " 3.68886633e+00 3.68886633e+00 3.68886633e+00 3.68886633e+00\n",
      " 3.68886633e+00 3.68886633e+00 3.68886633e+00 3.68886633e+00\n",
      " 3.68886633e+00 3.68886633e+00 3.68886633e+00 3.68886633e+00\n",
      " 3.68886633e+00 3.68886633e+00 3.68886633e+00 3.68886633e+00\n",
      " 3.68886633e+00 3.68886633e+00 3.68886633e+00 3.68886633e+00\n",
      " 3.68886633e+00 3.68886633e+00 3.68886633e+00 3.68886633e+00\n",
      " 3.68886633e+00 3.68886633e+00 3.68886633e+00 3.68886633e+00\n",
      " 3.68886633e+00 3.68886633e+00 3.68886633e+00 3.68886633e+00\n",
      " 3.68886633e+00 3.68886633e+00 3.68886633e+00 3.68886633e+00\n",
      " 3.68886633e+00 3.68886633e+00 3.68886633e+00 3.68886633e+00\n",
      " 3.68886633e+00 3.68886633e+00 3.68886633e+00 3.68886633e+00\n",
      " 3.68886633e+00 3.68886633e+00 3.68886633e+00 3.68886633e+00\n",
      " 3.68886633e+00 3.68886633e+00 3.68886633e+00 3.68886633e+00\n",
      " 3.68886633e+00 3.68886633e+00 3.68886633e+00 3.68886633e+00\n",
      " 3.68886633e+00 3.68886633e+00 3.68886633e+00 3.68886633e+00\n",
      " 3.68886633e+00 3.68886633e+00 3.68886633e+00 3.68886633e+00\n",
      " 3.68886633e+00 3.68886633e+00 3.68886633e+00 3.68886633e+00\n",
      " 3.68886633e+00 3.68886633e+00 3.68886633e+00 3.68886633e+00\n",
      " 3.68886633e+00 3.68886633e+00 3.68886633e+00 3.68886633e+00\n",
      " 3.68886633e+00 3.68886633e+00 3.68886633e+00 3.68886633e+00\n",
      " 3.68886633e+00 3.68886633e+00 3.68886633e+00 3.68886633e+00\n",
      " 3.68886633e+00 3.68886633e+00 3.68886633e+00 3.68886633e+00\n",
      " 3.68886633e+00 3.68886633e+00 3.68886633e+00 3.68886633e+00\n",
      " 3.68886633e+00 3.68886633e+00 3.68886633e+00 3.68886633e+00\n",
      " 3.68886633e+00 3.68886633e+00 3.68886633e+00 3.68886633e+00\n",
      " 3.68886633e+00 3.68886633e+00 3.68886633e+00 3.68886633e+00\n",
      " 3.68886633e+00 3.68886633e+00 3.68886633e+00 3.68886633e+00\n",
      " 3.68886633e+00 3.68886633e+00 3.68886633e+00 3.68886633e+00\n",
      " 3.68886633e+00 3.68886633e+00 3.68886633e+00 3.68886633e+00\n",
      " 3.68886633e+00 3.68886633e+00 3.68886633e+00 3.68886633e+00\n",
      " 3.68886633e+00 3.68886633e+00 3.68886633e+00 3.68886633e+00\n",
      " 3.68886633e+00 3.68886633e+00 3.68886633e+00 3.68886633e+00\n",
      " 3.68886633e+00 3.68886633e+00 3.68886633e+00 3.68886633e+00\n",
      " 3.68886633e+00 3.68886633e+00 3.68886633e+00 3.68886633e+00\n",
      " 3.68886633e+00 3.68886633e+00 3.68886633e+00 3.68886633e+00]\n",
      "5\n"
     ]
    },
    {
     "name": "stderr",
     "output_type": "stream",
     "text": [
      "ZeroDivisionError: division by zero\n",
      "\n",
      "The above exception was the direct cause of the following exception:\n",
      "\n",
      "Traceback (most recent call last):\n",
      "  File \"C:\\Users\\madsh\\OneDrive - University of Copenhagen\\Desktop\\Thesis\\code\\MA_thesis\\DurableConsumptionModel.py\", line 504, in solve_path\n",
      "    negm.solve_keep(t,sol_path,par)\n",
      "SystemError: CPUDispatcher(<function solve_keep at 0x000001B6CF9E64C0>) returned a result with an error set\n"
     ]
    },
    {
     "ename": "SystemError",
     "evalue": "CPUDispatcher(<function solve_keep at 0x000001B6CF9E64C0>) returned a result with an error set",
     "output_type": "error",
     "traceback": [
      "\u001b[1;31m---------------------------------------------------------------------------\u001b[0m",
      "\u001b[1;31mZeroDivisionError\u001b[0m                         Traceback (most recent call last)",
      "\u001b[1;31mZeroDivisionError\u001b[0m: division by zero",
      "\nThe above exception was the direct cause of the following exception:\n",
      "\u001b[1;31mSystemError\u001b[0m                               Traceback (most recent call last)",
      "\u001b[1;32m~\\AppData\\Local\\Temp\\ipykernel_9648\\966199428.py\u001b[0m in \u001b[0;36m<cell line: 13>\u001b[1;34m()\u001b[0m\n\u001b[0;32m     15\u001b[0m     \u001b[1;31m# ii. solve and simulate\u001b[0m\u001b[1;33m\u001b[0m\u001b[1;33m\u001b[0m\u001b[0m\n\u001b[0;32m     16\u001b[0m     \u001b[0mmodel_path\u001b[0m\u001b[1;33m.\u001b[0m\u001b[0mpar\u001b[0m\u001b[1;33m.\u001b[0m\u001b[0mpath_ph\u001b[0m \u001b[1;33m=\u001b[0m \u001b[0mpath_ph\u001b[0m\u001b[1;33m\u001b[0m\u001b[1;33m\u001b[0m\u001b[0m\n\u001b[1;32m---> 17\u001b[1;33m     \u001b[0mmodel_path\u001b[0m\u001b[1;33m.\u001b[0m\u001b[0msolve_path\u001b[0m\u001b[1;33m(\u001b[0m\u001b[1;33m)\u001b[0m\u001b[1;33m\u001b[0m\u001b[1;33m\u001b[0m\u001b[0m\n\u001b[0m\u001b[0;32m     18\u001b[0m     \u001b[0mmodel_path\u001b[0m\u001b[1;33m.\u001b[0m\u001b[0msimulate_path\u001b[0m\u001b[1;33m(\u001b[0m\u001b[1;33m)\u001b[0m\u001b[1;33m\u001b[0m\u001b[1;33m\u001b[0m\u001b[0m\n\u001b[0;32m     19\u001b[0m \u001b[1;33m\u001b[0m\u001b[0m\n",
      "\u001b[1;32m~\\OneDrive - University of Copenhagen\\Desktop\\Thesis\\code\\MA_thesis\\DurableConsumptionModel.py\u001b[0m in \u001b[0;36msolve_path\u001b[1;34m(self)\u001b[0m\n\u001b[0;32m    502\u001b[0m \u001b[1;33m\u001b[0m\u001b[0m\n\u001b[0;32m    503\u001b[0m                     \u001b[1;31m# oo. Solve keeper\u001b[0m\u001b[1;33m\u001b[0m\u001b[1;33m\u001b[0m\u001b[0m\n\u001b[1;32m--> 504\u001b[1;33m                     \u001b[0mnegm\u001b[0m\u001b[1;33m.\u001b[0m\u001b[0msolve_keep\u001b[0m\u001b[1;33m(\u001b[0m\u001b[0mt\u001b[0m\u001b[1;33m,\u001b[0m\u001b[0msol_path\u001b[0m\u001b[1;33m,\u001b[0m\u001b[0mpar\u001b[0m\u001b[1;33m)\u001b[0m\u001b[1;33m\u001b[0m\u001b[1;33m\u001b[0m\u001b[0m\n\u001b[0m\u001b[0;32m    505\u001b[0m \u001b[1;33m\u001b[0m\u001b[0m\n\u001b[0;32m    506\u001b[0m                     \u001b[1;31m# ooo. Solve adjuster\u001b[0m\u001b[1;33m\u001b[0m\u001b[1;33m\u001b[0m\u001b[0m\n",
      "\u001b[1;31mSystemError\u001b[0m: CPUDispatcher(<function solve_keep at 0x000001B6CF9E64C0>) returned a result with an error set"
     ]
    }
   ],
   "source": [
    "# t0 = time.time()\n",
    "\n",
    "# a. allocate\n",
    "path_ph_ = np.zeros(model_path.par.path_T)\n",
    "path_ph = model_path.par.path_ph\n",
    "\n",
    "# b. setting\n",
    "nu = 0.99 # relaxation parameter\n",
    "max_iter = 500 # maximum number of iterations\n",
    "\n",
    "# c. iterate\n",
    "it = 0\n",
    "for _ in range(max_iter):\n",
    "\n",
    "    # ii. solve and simulate\n",
    "    model_path.par.path_ph = path_ph\n",
    "    model_path.solve_path()\n",
    "    model_path.simulate_path()\n",
    "\n",
    "    # iii. implied housing price\n",
    "    for t in range(50):\n",
    "        path_ph_[t] = Hs_prime(np.mean(model_path.sim_path.n, axis=1)[model_path.par.sim_T + t])\n",
    "\n",
    "    # iv. difference\n",
    "    max_abs_diff = np.max(np.abs(path_ph[200:]-path_ph_))\n",
    "    if it%10 == 0: print(f'{it:4d}: {max_abs_diff:.8f}')\n",
    "    if max_abs_diff < 1e-4: break # test different values of this threshold\n",
    "\n",
    "    # v. update\n",
    "    path_ph[model_path.par.sim_T:] = 0.9*path_ph[model_path.par.sim_T:] + (1-0.9)*path_ph_\n",
    "    \n",
    "    print(path_ph)\n",
    "    \n",
    "    # vi.  increment\n",
    "    it += 1\n",
    "    if it > max_iter: raise Exception('too many iterations')    \n",
    "    \n",
    "    print(it)\n",
    "\n",
    "print(f'\\n transtion path found in {elapsed(t0)}')"
   ]
  }
 ],
 "metadata": {
  "kernelspec": {
   "display_name": "Python 3 (ipykernel)",
   "language": "python",
   "name": "python3"
  },
  "language_info": {
   "codemirror_mode": {
    "name": "ipython",
    "version": 3
   },
   "file_extension": ".py",
   "mimetype": "text/x-python",
   "name": "python",
   "nbconvert_exporter": "python",
   "pygments_lexer": "ipython3",
   "version": "3.9.10"
  }
 },
 "nbformat": 4,
 "nbformat_minor": 5
}
