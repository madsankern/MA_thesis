{
 "cells": [
  {
   "cell_type": "markdown",
   "id": "3cb73a7a-682f-4f58-b9af-0201b9cdf547",
   "metadata": {},
   "source": [
    "# Transition Path"
   ]
  },
  {
   "cell_type": "markdown",
   "id": "173566da-5ac9-488d-9bbd-0bca5bfe2178",
   "metadata": {},
   "source": [
    "In this notebook, I solve and simulate the housing model along a **transition path** stemming from an interest rate shock"
   ]
  },
  {
   "cell_type": "code",
   "execution_count": 4,
   "id": "f047c835-55b1-4819-8d0b-62d765ccfc91",
   "metadata": {
    "tags": []
   },
   "outputs": [],
   "source": [
    "%load_ext autoreload\n",
    "%autoreload 2\n",
    "\n",
    "import time\n",
    "import numpy as np\n",
    "import numba as nb\n",
    "import matplotlib.pyplot as plt\n",
    "import funcs as f\n",
    "from scipy import stats\n",
    "\n",
    "# load the DurableConsumptionModel module\n",
    "from HousingModel import HousingModelClass\n",
    "\n",
    "# Set the number of threads in numba\n",
    "nb.set_num_threads(3)\n",
    "\n",
    "# Smoother\n",
    "from scipy.signal import savgol_filter"
   ]
  },
  {
   "cell_type": "code",
   "execution_count": 5,
   "id": "f51ba595-909d-404a-8e5f-aca5313d717f",
   "metadata": {},
   "outputs": [],
   "source": [
    "# Something for figure layout here\n",
    "plt.rc('font', family='serif')\n",
    "plt.rc('text', usetex=True)\n",
    "plt.rc('axes', axisbelow=True)"
   ]
  },
  {
   "cell_type": "markdown",
   "id": "3e9e1484-3272-4691-a6ff-9cd813c6f959",
   "metadata": {},
   "source": [
    "# Plot a partial equilibrium transition path"
   ]
  },
  {
   "cell_type": "code",
   "execution_count": 6,
   "id": "090495fc-2eb9-4ef3-8a23-6f452733e64a",
   "metadata": {},
   "outputs": [],
   "source": [
    "# Initialize model and solve initial steady state\n",
    "model1 = HousingModelClass(name='example_negm',par={'solmethod':'negm', 'do_print':False})\n",
    "model1.precompile_numba()\n",
    "model1.solve()\n",
    "model1.simulate() # simulate initial ss\n",
    "\n",
    "# For convenience\n",
    "par = model1.par\n",
    "sim = model1.sim\n",
    "sim1 = model1.sim_path"
   ]
  },
  {
   "cell_type": "code",
   "execution_count": 4,
   "id": "b3f4ff16-2368-488f-9de6-91ce21ae858b",
   "metadata": {},
   "outputs": [],
   "source": [
    "model1.solve_path()\n",
    "model1.simulate_path()"
   ]
  },
  {
   "cell_type": "code",
   "execution_count": 5,
   "id": "f9084a7a-2f1b-42f2-a986-8d670b65ced5",
   "metadata": {},
   "outputs": [],
   "source": [
    "# Connect the points\n",
    "IRF_c_raw = np.zeros(400)\n",
    "IRF_a_raw = np.zeros(400)\n",
    "IRF_d_raw = np.zeros(400)\n",
    "IRF_discrete_raw = np.zeros(400)\n",
    "\n",
    "# Add ss part\n",
    "IRF_c_raw[:200] = np.mean(model1.sim.c,axis=1)\n",
    "IRF_a_raw[:200] = np.mean(model1.sim.a,axis=1)\n",
    "IRF_d_raw[:200] = np.mean(model1.sim.d,axis=1)\n",
    "IRF_discrete_raw[:200] = np.mean(model1.sim.discrete,axis=1)\n",
    "\n",
    "# Add shock part\n",
    "IRF_c_raw[200:] = np.mean(model1.sim_path.c,axis=1)\n",
    "IRF_a_raw[200:] = np.mean(model1.sim_path.a,axis=1)\n",
    "IRF_d_raw[200:] = np.mean(model1.sim_path.d,axis=1)\n",
    "IRF_discrete_raw[200:] = np.mean(model1.sim_path.discrete,axis=1)"
   ]
  },
  {
   "cell_type": "code",
   "execution_count": 8,
   "id": "0fc89274-481b-40e0-ab6b-ae4092ce4aaa",
   "metadata": {},
   "outputs": [
    {
     "data": {
      "image/png": "[encoded data removed]",
      "text/plain": [
       "<Figure size 432x288 with 1 Axes>"
      ]
     },
     "metadata": {
      "needs_background": "light"
     },
     "output_type": "display_data"
    }
   ],
   "source": [
    "fig = plt.figure(figsize=(6,4))\n",
    "ax = fig.add_subplot(1,1,1)\n",
    "\n",
    "ax.plot(range(-200,200),IRF_discrete_raw, color = 'blue', linestyle='-', linewidth=2,  label = 'Demand',zorder=2)\n",
    "ax.vlines(0,0,10, color = '0.2', linestyle='--', linewidth = 1.2, zorder=2)\n",
    "\n",
    "ax.set_xlim(-10,150)\n",
    "ax.set_ylim(0,.3)\n",
    "\n",
    "ax.set_xlabel('Time from shock')\n",
    "ax.set_ylabel(r'% Deviation From SS')\n",
    " \n",
    "ax.grid(visible=True, which = 'major', linestyle='-', linewidth=0.5, color='0.9')\n",
    "ax.tick_params(axis='both',bottom=True,top=True,left=True,right=True,direction='in',which='both')\n",
    "# ax.legend(frameon = True, edgecolor = 'k', facecolor = 'white', framealpha=1, fancybox=False)\n",
    "\n",
    "plt.savefig('../../tex/figs/IRF_discrete_raw.pdf')"
   ]
  },
  {
   "cell_type": "code",
   "execution_count": 14,
   "id": "ce6376bd-eb35-4d8a-9a9a-8eee5b2f4c86",
   "metadata": {},
   "outputs": [
    {
     "data": {
      "image/png": "[encoded data removed]",
      "text/plain": [
       "<Figure size 288x216 with 1 Axes>"
      ]
     },
     "metadata": {
      "needs_background": "light"
     },
     "output_type": "display_data"
    }
   ],
   "source": [
    "fig = plt.figure(figsize=(4,3))\n",
    "ax = fig.add_subplot(1,1,1)\n",
    "\n",
    "ax.plot(range(-200,200),IRF_c_raw/IRF_c_raw[199], color = 'blue', linestyle='-', linewidth=2,  label = 'Demand',zorder=2)\n",
    "ax.vlines(0,0,10, color = '0.2', linestyle='--', linewidth = 1.2, zorder=2)\n",
    "\n",
    "ax.set_xlim(-10,150)\n",
    "ax.set_ylim(.9,1.1)\n",
    "\n",
    "ax.set_xlabel('Time from shock')\n",
    "ax.set_ylabel(r'% Deviation From SS')\n",
    "\n",
    "ax.grid(visible=True, which = 'major', linestyle='-', linewidth=0.5, color='0.9')\n",
    "ax.tick_params(axis='both',bottom=True,top=True,left=True,right=True,direction='in',which='both')\n",
    "# ax.legend(frameon = True, edgecolor = 'k', facecolor = 'white', framealpha=1, fancybox=False)\n",
    "\n",
    "plt.savefig('../../tex/figs/IRF_c_raw.pdf')"
   ]
  },
  {
   "cell_type": "code",
   "execution_count": 15,
   "id": "8824fe3d-5aaa-41ed-bdf6-9612dc6bd827",
   "metadata": {},
   "outputs": [
    {
     "data": {
      "image/png": "[encoded data removed]",
      "text/plain": [
       "<Figure size 288x216 with 1 Axes>"
      ]
     },
     "metadata": {
      "needs_background": "light"
     },
     "output_type": "display_data"
    }
   ],
   "source": [
    "fig = plt.figure(figsize=(4,3))\n",
    "ax = fig.add_subplot(1,1,1)\n",
    "\n",
    "ax.plot(range(-200,200),IRF_a_raw/IRF_a_raw[199], color = 'red', linestyle='-', linewidth=2,  label = 'Demand',zorder=2)\n",
    "ax.vlines(0,0,10, color = '0.2', linestyle='--', linewidth = 1.2, zorder=2)\n",
    "\n",
    "ax.set_xlim(-10,150)\n",
    "ax.set_ylim(.1,1.1)\n",
    "\n",
    "ax.set_xlabel('Time from shock')\n",
    "ax.set_ylabel(r'% Deviation From SS')\n",
    "\n",
    "ax.grid(visible=True, which = 'major', linestyle='-', linewidth=0.5, color='0.9')\n",
    "ax.tick_params(axis='both',bottom=True,top=True,left=True,right=True,direction='in',which='both')\n",
    "# ax.legend(frameon = True, edgecolor = 'k', facecolor = 'white', framealpha=1, fancybox=False)\n",
    "\n",
    "plt.savefig('../../tex/figs/IRF_a_raw.pdf')"
   ]
  },
  {
   "cell_type": "code",
   "execution_count": 18,
   "id": "d35f4131-1245-47ce-a870-2ec746f63619",
   "metadata": {},
   "outputs": [
    {
     "data": {
      "image/png": "[encoded data removed]",
      "text/plain": [
       "<Figure size 288x216 with 1 Axes>"
      ]
     },
     "metadata": {
      "needs_background": "light"
     },
     "output_type": "display_data"
    }
   ],
   "source": [
    "fig = plt.figure(figsize=(4,3))\n",
    "ax = fig.add_subplot(1,1,1)\n",
    "\n",
    "ax.plot(range(-200,200),IRF_d_raw/IRF_d_raw[199], color = 'green', linestyle='-', linewidth=2,  label = 'Demand',zorder=2)\n",
    "\n",
    "# ax.plot(range(-200,200),IRF_d_raw, color = 'green', linestyle='-', linewidth=2,  label = 'Demand',zorder=2)\n",
    "\n",
    "ax.vlines(0,0,10, color = '0.2', linestyle='--', linewidth = 1.2, zorder=2)\n",
    "\n",
    "ax.set_xlim(-10,150)\n",
    "ax.set_ylim(.8,1.4)\n",
    "\n",
    "ax.set_xlabel('Time from shock')\n",
    "ax.set_ylabel(r'% Deviation From SS')\n",
    "\n",
    "ax.grid(visible=True, which = 'major', linestyle='-', linewidth=0.5, color='0.9')\n",
    "ax.tick_params(axis='both',bottom=True,top=True,left=True,right=True,direction='in',which='both')\n",
    "# ax.legend(frameon = True, edgecolor = 'k', facecolor = 'white', framealpha=1, fancybox=False)\n",
    "\n",
    "plt.savefig('../../tex/figs/IRF_d_raw.pdf')"
   ]
  },
  {
   "cell_type": "code",
   "execution_count": 24,
   "id": "e2c0ea84-5ab0-4a5c-9e4d-426d05c7d067",
   "metadata": {},
   "outputs": [],
   "source": [
    "del model1"
   ]
  },
  {
   "cell_type": "markdown",
   "id": "c958f835-096e-4d8b-b08f-26a446aa1207",
   "metadata": {
    "tags": []
   },
   "source": [
    "# Find Equilibrium Along a Transition Path"
   ]
  },
  {
   "cell_type": "markdown",
   "id": "37dd4ffa-86b8-4b9a-b75c-d3f4c3f50ece",
   "metadata": {},
   "source": [
    "I apply a relaxation algorithm where I use a ghost run along the path as the benchmark to update equilibrium prices"
   ]
  },
  {
   "cell_type": "markdown",
   "id": "8abaa94d-a1b9-4a6c-b831-99ea2dbe910f",
   "metadata": {
    "tags": []
   },
   "source": [
    "## Baseline Case Without Taxes"
   ]
  },
  {
   "cell_type": "markdown",
   "id": "91d2cac4-0773-485c-b684-f3b8c61cbadb",
   "metadata": {},
   "source": [
    "### Define model"
   ]
  },
  {
   "cell_type": "code",
   "execution_count": 23,
   "id": "2b0a5dbe-eb0c-4d56-b590-e48abc5505b3",
   "metadata": {},
   "outputs": [],
   "source": [
    "# Initialize model and solve initial steady state\n",
    "model1 = HousingModelClass(name='example_negm',par={'solmethod':'negm', 'do_print':False})\n",
    "model1.precompile_numba()\n",
    "model1.solve()\n",
    "model1.simulate() # simulate initial ss\n",
    "\n",
    "# For convenience\n",
    "par = model1.par\n",
    "sim = model1.sim\n",
    "sim1 = model1.sim_path"
   ]
  },
  {
   "cell_type": "markdown",
   "id": "e5837b33-e423-4a9f-994a-2f769db785c2",
   "metadata": {},
   "source": [
    "### Simulate ghost run"
   ]
  },
  {
   "cell_type": "code",
   "execution_count": 25,
   "id": "06a137b1-3d69-4a4c-b99e-4f0f043d44b6",
   "metadata": {},
   "outputs": [],
   "source": [
    "model1.par.R_drop = 0.0\n",
    "model1.solve_path()\n",
    "model1.simulate_path()\n",
    "H_ghost1 = np.mean(model1.sim_path.d, axis=1)"
   ]
  },
  {
   "cell_type": "markdown",
   "id": "541f6f91-6efe-4a1d-bad0-b4fbd0aef3ee",
   "metadata": {},
   "source": [
    "Plot ghost run to see how it looks"
   ]
  },
  {
   "cell_type": "markdown",
   "id": "bc1e3c9e-4e19-4820-931f-84dbd48f6b98",
   "metadata": {},
   "source": [
    "### Reset interest rate drop"
   ]
  },
  {
   "cell_type": "code",
   "execution_count": 29,
   "id": "4f0d01a8-e6f7-4042-ae5e-68881659ba83",
   "metadata": {},
   "outputs": [],
   "source": [
    "model1.par.R_drop = 0.01\n",
    "model1.par.path_ph[:] = 1.0"
   ]
  },
  {
   "cell_type": "markdown",
   "id": "ba28f9df-6129-4a7a-b5d1-865f6b6eb218",
   "metadata": {},
   "source": [
    "### Run algorithm"
   ]
  },
  {
   "cell_type": "code",
   "execution_count": 1,
   "id": "5654160e-0265-414b-9af6-f63c18aca921",
   "metadata": {},
   "outputs": [],
   "source": [
    "# a. allocate\n",
    "path_ph = np.zeros(par.path_T + par.T)\n",
    "\n",
    "# b. setting - 0.9999\n",
    "nu = 0.1 # relaxation parameter\n",
    "max_iter = 1000 # maximum number of iterations\n",
    "\n",
    "# # c. Set path of prices\n",
    "# path_ph[:] = par.ph\n",
    "model1.par.path_ph[:] = model1.par.ph # Set to steady state\n",
    "\n",
    "# d. Iterate\n",
    "it = 0\n",
    "for _ in range(max_iter):\n",
    "\n",
    "    # ii. Solve and simulate\n",
    "    model1.solve_path()\n",
    "    model1.simulate_path()\n",
    "\n",
    "    # iii. Implied aggregate housing demand\n",
    "    H = np.mean(model1.sim_path.d, axis=1)\n",
    "    \n",
    "    # iv. Difference\n",
    "    max_abs_diff = np.max(np.abs(H - H_ghost1)) # remove last 50 periods?\n",
    "    \n",
    "    if max_abs_diff < 10e-3: break # test different values of this threshold\n",
    "\n",
    "    # v. Update prices\n",
    "    model1.par.path_ph[0:model1.par.path_T] = model1.par.path_ph[0:model1.par.path_T] + .1*(H-H_ghost1)\n",
    "    model1.par.path_ph[model1.par.path_T:] = model1.par.path_ph[model1.par.path_T-1]\n",
    "    \n",
    "    # vi.  Increment\n",
    "    it += 1\n",
    "    if it > max_iter: raise Exception('too many iterations')"
   ]
  },
  {
   "cell_type": "markdown",
   "id": "2e9750d2-d7da-415c-8709-7d6051d59e5a",
   "metadata": {
    "tags": []
   },
   "source": [
    "### Plot the Impulse Responses"
   ]
  },
  {
   "cell_type": "markdown",
   "id": "939a96f6-590a-41e7-9961-d9ceb1b2395b",
   "metadata": {},
   "source": [
    "Define path of aggregates, so that it starts 10 periods before the shock"
   ]
  },
  {
   "cell_type": "code",
   "execution_count": 23,
   "id": "76e460ec-a29b-4d20-8028-056cdf47595f",
   "metadata": {},
   "outputs": [],
   "source": [
    "p_path_base = np.zeros(10+model1.par.path_T)\n",
    "p_path_base[0:10] = model1.par.ph\n",
    "p_path_base[10:] = model1.par.path_ph[0:model1.par.path_T] / model1.par.ph\n",
    "\n",
    "c_path_base = np.zeros(10+model1.par.path_T)\n",
    "c_path_base[0:10] = np.mean(model1.sim.c, axis=1)[-10:] / np.mean(model1.sim.c, axis=1)[-1:]\n",
    "c_path_base[10:] = np.mean(model1.sim_path.c, axis=1)/ np.mean(model1.sim.c, axis=1)[-1:]\n",
    "\n",
    "a_path_base = np.zeros(10+model1.par.path_T)\n",
    "a_path_base[0:10] = np.mean(model1.sim.a, axis=1)[-10:] / np.mean(model1.sim.a, axis=1)[-1:]\n",
    "a_path_base[10:] = np.mean(model1.sim_path.a, axis=1) / np.mean(model1.sim.a, axis=1)[-1:]\n",
    "\n",
    "t_axis = range(-10,200) # Time from shock"
   ]
  },
  {
   "cell_type": "markdown",
   "id": "2124af4b-0124-48e6-9d57-f6f690211e7e",
   "metadata": {},
   "source": [
    "#### Equilibrium housing price"
   ]
  },
  {
   "cell_type": "code",
   "execution_count": 268,
   "id": "01367242-022d-48f8-a96d-eea345a928e3",
   "metadata": {},
   "outputs": [
    {
     "data": {
      "image/png": "[encoded data removed]",
      "text/plain": [
       "<Figure size 288x216 with 1 Axes>"
      ]
     },
     "metadata": {
      "needs_background": "light"
     },
     "output_type": "display_data"
    }
   ],
   "source": [
    "fig = plt.figure(figsize=(4,3))\n",
    "ax = fig.add_subplot(1,1,1)\n",
    "\n",
    "ax.plot(t_axis, p_path_base, color = 'green', linestyle='-', linewidth=2,  label = 'Demand',zorder=2)\n",
    "ax.vlines(0,0,10, color = '0.2', linestyle='--', linewidth = 1.2, zorder=2)\n",
    "\n",
    "ax.set_xlim(-10,100)\n",
    "# ax.set_ylim(6.98,7.53)\n",
    "# ax.set_ylim(0.6,1.5)\n",
    "ax.set_ylim(0,2)\n",
    "\n",
    "ax.set_xlabel('Time from shock')\n",
    "ax.set_ylabel(r'% Deviation From SS')\n",
    "\n",
    "ax.grid(visible=True, which = 'major', linestyle='-', linewidth=0.5, color='0.9')\n",
    "ax.tick_params(axis='both',bottom=True,top=True,left=True,right=True,direction='in',which='both')\n",
    "# ax.legend(frameon = True, edgecolor = 'k', facecolor = 'white', framealpha=1, fancybox=False)\n",
    "\n",
    "plt.savefig('../../tex/figs/IRF_ph.pdf')"
   ]
  },
  {
   "cell_type": "markdown",
   "id": "4dcd8c5b-fc42-4e71-b7b7-76de5686889c",
   "metadata": {},
   "source": [
    "#### Non-durable consumption"
   ]
  },
  {
   "cell_type": "code",
   "execution_count": 269,
   "id": "351e4c27-4f71-4c06-bbf5-4ce48dfd5f31",
   "metadata": {},
   "outputs": [
    {
     "data": {
      "image/png": "[encoded data removed]",
      "text/plain": [
       "<Figure size 288x216 with 1 Axes>"
      ]
     },
     "metadata": {
      "needs_background": "light"
     },
     "output_type": "display_data"
    }
   ],
   "source": [
    "fig = plt.figure(figsize=(4,3))\n",
    "ax = fig.add_subplot(1,1,1)\n",
    "\n",
    "ax.plot(t_axis, c_path_base, color = 'blue', linestyle='-', linewidth=2,  label = 'Demand',zorder=2)\n",
    "ax.vlines(0,0,10, color = '0.2', linestyle='--', linewidth = 1.2, zorder=2)\n",
    "\n",
    "ax.set_xlim(-10,80)\n",
    "# ax.set_ylim(0.4,1.6)\n",
    "ax.set_ylim(0,2)\n",
    "\n",
    "ax.set_xlabel('Time from shock')\n",
    "ax.set_ylabel(r'% Deviation From SS')\n",
    "\n",
    "ax.grid(visible=True, which = 'major', linestyle='-', linewidth=0.5, color='0.9')\n",
    "ax.tick_params(axis='both',bottom=True,top=True,left=True,right=True,direction='in',which='both')\n",
    "# ax.legend(frameon = True, edgecolor = 'k', facecolor = 'white', framealpha=1, fancybox=False)\n",
    "\n",
    "plt.savefig('../../tex/figs/IRF_c.pdf')"
   ]
  },
  {
   "cell_type": "markdown",
   "id": "4c0f2a6c-9858-4ea5-8386-b0e31e575376",
   "metadata": {},
   "source": [
    "#### Cash on hand"
   ]
  },
  {
   "cell_type": "code",
   "execution_count": 270,
   "id": "7905e7fc-b996-43ef-9479-07b291996d8a",
   "metadata": {},
   "outputs": [
    {
     "data": {
      "image/png": "[encoded data removed]",
      "text/plain": [
       "<Figure size 288x216 with 1 Axes>"
      ]
     },
     "metadata": {
      "needs_background": "light"
     },
     "output_type": "display_data"
    }
   ],
   "source": [
    "fig = plt.figure(figsize=(4,3))\n",
    "ax = fig.add_subplot(1,1,1)\n",
    "\n",
    "ax.plot(t_axis, a_path_base, color = 'red', linestyle='-', linewidth=2,  label = 'Demand',zorder=2)\n",
    "ax.vlines(0,0,10, color = '0.2', linestyle='--', linewidth = 1.2, zorder=2)\n",
    "\n",
    "ax.set_xlim(-10,80)\n",
    "# ax.set_ylim(0,1.6)\n",
    "ax.set_ylim(0,2)\n",
    "\n",
    "ax.set_xlabel('Time from shock')\n",
    "ax.set_ylabel(r'% Deviation From SS')\n",
    "\n",
    "ax.grid(visible=True, which = 'major', linestyle='-', linewidth=0.5, color='0.9')\n",
    "ax.tick_params(axis='both',bottom=True,top=True,left=True,right=True,direction='in',which='both')\n",
    "\n",
    "plt.savefig('../../tex/figs/IRF_m.pdf')"
   ]
  },
  {
   "cell_type": "markdown",
   "id": "442caa96-a1fc-40cc-a33b-c2a57055e425",
   "metadata": {},
   "source": [
    "### Compute other statistics along the transition path"
   ]
  },
  {
   "cell_type": "markdown",
   "id": "169a7893-3f01-4193-8ed9-5891e94a4a69",
   "metadata": {},
   "source": [
    "Variance of wealth distribution"
   ]
  },
  {
   "cell_type": "code",
   "execution_count": 47,
   "id": "6e4f65fd-69fe-40db-b567-3793dddb9077",
   "metadata": {},
   "outputs": [],
   "source": [
    "par1 = model1.par\n",
    "sim1 = model1.sim\n",
    "sim_path1 = model1.sim_path"
   ]
  },
  {
   "cell_type": "code",
   "execution_count": 50,
   "id": "c45242ee-bc4d-4642-a004-57c829757ef1",
   "metadata": {},
   "outputs": [],
   "source": [
    "# Generate path of wealth\n",
    "w = np.zeros(shape=(par1.path_T+10,par1.simN))\n",
    "\n",
    "for k in range(-10,par1.T):\n",
    "    \n",
    "    t = k + 10\n",
    "    if k < 0:\n",
    "        w[t] = (sim1.m[k] + par1.ph*sim1.n[k]) / sim1.y[k]\n",
    "\n",
    "    else:\n",
    "        w[t] = (sim_path1.m[k] + par1.path_ph[k]*sim_path1.n[k]) / sim_path1.y[k]"
   ]
  },
  {
   "cell_type": "code",
   "execution_count": 63,
   "id": "ce7336b4-64a2-43af-bb5a-9baebc7f134b",
   "metadata": {},
   "outputs": [],
   "source": [
    "# mean_var = np.var(w,axis=1) / np.mean(w,axis=1)\n",
    "gini = np.zeros(50)\n",
    "for t in range(0,50):\n",
    "    gini[t] = f.gini(w[t,:])"
   ]
  },
  {
   "cell_type": "code",
   "execution_count": 92,
   "id": "f2c9dcaf-1921-46af-873c-76d6ebd4172a",
   "metadata": {},
   "outputs": [
    {
     "data": {
      "image/png": "[encoded data removed]",
      "text/plain": [
       "<Figure size 360x216 with 1 Axes>"
      ]
     },
     "metadata": {
      "needs_background": "light"
     },
     "output_type": "display_data"
    }
   ],
   "source": [
    "# Initialize the figure\n",
    "fig = plt.figure(figsize=(5,3))\n",
    "ax = fig.add_subplot(1,1,1)\n",
    "\n",
    "# Plot the avalanche sizes\n",
    "ax.plot(range(-10,40),gini, color = 'red', linestyle = '-')\n",
    "ax.vlines(0,0,10, color = '0.2', linestyle='--', linewidth = 1.2, zorder=2)\n",
    "\n",
    "# Plot setting\n",
    "ax.set_xlabel('Time from Shock')\n",
    "ax.set_ylabel('Gini Coefficient')\n",
    "\n",
    "ax.set_xlim(-10,20)\n",
    "ax.set_ylim(0.37,.4)\n",
    "\n",
    "ax.grid(visible=True, which = 'major', linestyle='-', linewidth=0.5, color='0.9')\n",
    "ax.tick_params(axis='both',bottom=True,top=True,left=True,right=True,direction='in',which='both')\n",
    "# ax.legend()\n",
    "\n",
    "plt.savefig('../../tex/figs/gini.pdf')"
   ]
  },
  {
   "cell_type": "markdown",
   "id": "b5a325f4-88b3-46fb-af63-9ad8c6154ae4",
   "metadata": {},
   "source": [
    "#### Binned scatterplots"
   ]
  },
  {
   "cell_type": "markdown",
   "id": "71f76b65-38a9-4260-ba92-935109e38efe",
   "metadata": {},
   "source": [
    "Compute gain from $t=0$ to $t=1$"
   ]
  },
  {
   "cell_type": "code",
   "execution_count": 57,
   "id": "4d8b97ea-8bce-4721-8694-2d5453ec4fef",
   "metadata": {},
   "outputs": [],
   "source": [
    "gain = (par.path_ph[0]*model1.sim_path.n[0,:] - par.ph*model1.sim.d[-1,:]) / (model1.sim_path.m[0,:] + model1.sim_path.n[0,:])"
   ]
  },
  {
   "cell_type": "code",
   "execution_count": 58,
   "id": "8e7a13ac-ced0-47f6-a716-b8aed1d26f0d",
   "metadata": {},
   "outputs": [],
   "source": [
    "# try binned scatterplot\n",
    "gains_means, bin_edges, binnumber = stats.binned_statistic(model1.sim.m[-1,:],gain, bins=np.linspace(0,10,11), statistic = 'mean')\n",
    "\n",
    "# Compute bins\n",
    "bin_width = (bin_edges[1] - bin_edges[0])\n",
    "bin_centers = bin_edges[1:] - bin_width/2"
   ]
  },
  {
   "cell_type": "code",
   "execution_count": 93,
   "id": "6d74475c-6b8c-4bb7-ae2e-8befeb5ef563",
   "metadata": {},
   "outputs": [
    {
     "data": {
      "image/png": "[encoded data removed]",
      "text/plain": [
       "<Figure size 360x216 with 1 Axes>"
      ]
     },
     "metadata": {
      "needs_background": "light"
     },
     "output_type": "display_data"
    }
   ],
   "source": [
    "# Initialize the figure\n",
    "fig = plt.figure(figsize=(5,3))\n",
    "ax = fig.add_subplot(1,1,1)\n",
    "\n",
    "# Plot the avalanche sizes\n",
    "ax.scatter(bin_centers, gains_means, s=50, c='gold', marker='o', edgecolors = '0.2', zorder=2) \n",
    "# ax.plot(par.grid_m,y_fit)\n",
    "\n",
    "# Plot setting\n",
    "ax.set_xlabel('Wealth')\n",
    "ax.set_ylabel('Relative Gains')\n",
    "\n",
    "ax.set_xlim(0,10)\n",
    "# ax.set_ylim(0.4,.55)\n",
    "\n",
    "ax.grid(visible=True, which = 'major', linestyle='-', linewidth=0.5, color='0.9')\n",
    "ax.tick_params(axis='both',bottom=True,top=True,left=True,right=True,direction='in',which='both')\n",
    "# ax.legend()\n",
    "\n",
    "plt.savefig('../../tex/figs/gains_bins.pdf')"
   ]
  },
  {
   "cell_type": "markdown",
   "id": "6b8d1bce-d476-4639-be62-b32cc60f8602",
   "metadata": {},
   "source": [
    "Housing demand"
   ]
  },
  {
   "cell_type": "code",
   "execution_count": 391,
   "id": "ba6a2be8-6da2-473e-9dc6-f6296414de49",
   "metadata": {},
   "outputs": [],
   "source": [
    "# try binned scatterplot\n",
    "n_init, bin_edges, binnumber = stats.binned_statistic(model1.sim.m[-1,:],model1.sim_path.n[0,:], bins=np.linspace(0,10,11), statistic = 'mean')\n",
    "\n",
    "# Compute bins\n",
    "bin_width = (bin_edges[1] - bin_edges[0])\n",
    "bin_centers_init = bin_edges[1:] - bin_width/2"
   ]
  },
  {
   "cell_type": "code",
   "execution_count": 410,
   "id": "8024b8fe-1ed5-42ac-808b-fa60d2f5b890",
   "metadata": {},
   "outputs": [],
   "source": [
    "# try binned scatterplot\n",
    "n_term, bin_edges, binnumber = stats.binned_statistic(model1.sim_path.m[150,:],model1.sim_path.n[150,:], bins=np.linspace(0,10,11), statistic = 'mean')\n",
    "\n",
    "# Compute bins\n",
    "bin_width = (bin_edges[1] - bin_edges[0])\n",
    "bin_centers_term = bin_edges[1:] - bin_width/2"
   ]
  },
  {
   "cell_type": "markdown",
   "id": "8ff6ca2b-e529-4b35-a24d-c93d83c572e5",
   "metadata": {
    "tags": []
   },
   "source": [
    "# Transition path with avancebeskatning"
   ]
  },
  {
   "cell_type": "markdown",
   "id": "d017a00e-01ee-4d89-9855-c37bd6558d25",
   "metadata": {},
   "source": [
    "Define model"
   ]
  },
  {
   "cell_type": "code",
   "execution_count": 7,
   "id": "c2e194bf-bbb2-4a79-bd8b-45a3267e9b16",
   "metadata": {},
   "outputs": [],
   "source": [
    "# Set parameters\n",
    "taug = 0.02 # Avancebeskatnings rate\n",
    "Npb = 50\n",
    "\n",
    "# Initialize model and solve initial steady state\n",
    "model2 = HousingModelClass(name='example_negm',par={'solmethod':'negm', 'taug':taug, 'Npb':Npb, 'do_print':False})\n",
    "model2.precompile_numba()\n",
    "model2.solve()\n",
    "model2.simulate() # simulate initial ss"
   ]
  },
  {
   "cell_type": "code",
   "execution_count": 171,
   "id": "0d3bf6cb-62aa-44e0-852b-d91c8e82cd91",
   "metadata": {},
   "outputs": [],
   "source": [
    "# iii. Implied aggregate housing demand\n",
    "H = np.mean(model2.sim_path.d, axis=1)"
   ]
  },
  {
   "cell_type": "code",
   "execution_count": 96,
   "id": "e5964af8-e29f-44d1-bf42-128b8b7eff01",
   "metadata": {},
   "outputs": [],
   "source": [
    "# Remove interest rate drop\n",
    "model2.par.R_drop = 0.0\n",
    "\n",
    "# Solve and simulate\n",
    "model2.solve_path()\n",
    "model2.simulate_path()\n",
    "H_ghost2 = np.mean(model2.sim_path.d, axis=1)"
   ]
  },
  {
   "cell_type": "markdown",
   "id": "19105444-f18c-415e-b78a-f2ca123eb768",
   "metadata": {},
   "source": [
    "Reset interest rate drop"
   ]
  },
  {
   "cell_type": "code",
   "execution_count": 51,
   "id": "bd09a545-d3fd-473b-8c29-0d416352c078",
   "metadata": {},
   "outputs": [],
   "source": [
    "model2.par.R_drop = 0.01"
   ]
  },
  {
   "cell_type": "code",
   "execution_count": 2,
   "id": "3b0dc999-b3b1-4aad-84c8-53e971d0de06",
   "metadata": {},
   "outputs": [],
   "source": [
    "# a. allocate\n",
    "path_ph = np.zeros(model2.par.path_T + model2.par.T)\n",
    "\n",
    "# b. setting - 0.9999\n",
    "nu = 0.6 # relaxation parameter\n",
    "max_iter = 1000 # maximum number of iterations\n",
    "\n",
    "# # c. Set path of prices\n",
    "# path_ph[:] = model2.par.ph\n",
    "# model2.par.path_ph[:] = model2.par.ph # Set to steady state\n",
    "\n",
    "# d. iterate\n",
    "it = 0\n",
    "for _ in range(max_iter):\n",
    "\n",
    "    # ii. solve and simulate\n",
    "    model2.solve_path()\n",
    "    model2.simulate_path()\n",
    "\n",
    "    # iii. Implied aggregate housing demand\n",
    "    H = np.mean(model2.sim_path.d, axis=1)\n",
    "    \n",
    "    # iv. difference\n",
    "    max_abs_diff = np.max(np.abs(H[:-50] - H_ghost2[:-50]))\n",
    "    \n",
    "    # if it%10 == 0: print(f'{it:4d}: {max_abs_diff:.8f}')\n",
    "    if max_abs_diff < 10e-3: break # test different values of this threshold\n",
    "\n",
    "    # v. update\n",
    "    model2.par.path_ph[0:model2.par.path_T] = model2.par.path_ph[0:model2.par.path_T] + nu*(H-H_ghost2)\n",
    "    model2.par.path_ph[model2.par.path_T:] = model2.par.path_ph[model2.par.path_T-1]\n",
    "        \n",
    "    # vi. increment\n",
    "    it += 1\n",
    "    if it > max_iter: raise Exception('too many iterations')    "
   ]
  },
  {
   "cell_type": "code",
   "execution_count": 21,
   "id": "d31b063a-d883-489a-9965-d7cb399f67de",
   "metadata": {},
   "outputs": [],
   "source": [
    "p_path_g = np.zeros(10+model2.par.path_T)\n",
    "p_path_g[0:10] = model2.par.ph\n",
    "p_path_g[10:] = model2.par.path_ph[0:model2.par.path_T] / model2.par.ph\n",
    "\n",
    "c_path_g = np.zeros(10+model2.par.path_T)\n",
    "c_path_g[0:10] = np.mean(model2.sim.c, axis=1)[-10:] / np.mean(model2.sim.c[-1])\n",
    "c_path_g[10:] = np.mean(model2.sim_path.c, axis=1) / np.mean(model2.sim.c[-1])\n",
    "\n",
    "a_path_g = np.zeros(10+model2.par.path_T)\n",
    "a_path_g[0:10] = np.mean(model2.sim.a, axis=1)[-10:] / np.mean(model2.sim.a[-1])\n",
    "a_path_g[10:] = np.mean(model2.sim_path.a, axis=1) / np.mean(model2.sim.a[-1])\n",
    "\n",
    "t_axis = range(-10,200) # Time from shock"
   ]
  },
  {
   "cell_type": "code",
   "execution_count": 25,
   "id": "59c44400-c090-4569-8014-8a69e9428d1a",
   "metadata": {},
   "outputs": [
    {
     "data": {
      "image/png": "[encoded data removed]",
      "text/plain": [
       "<Figure size 288x216 with 1 Axes>"
      ]
     },
     "metadata": {
      "needs_background": "light"
     },
     "output_type": "display_data"
    }
   ],
   "source": [
    "fig = plt.figure(figsize=(4,3))\n",
    "ax = fig.add_subplot(1,1,1)\n",
    "\n",
    "ax.plot(t_axis, p_path_g, color = 'forestgreen', linestyle='-', linewidth=1.5,  zorder=2, label = r'Gains Tax')\n",
    "ax.plot(t_axis, p_path_base, color = 'limegreen', linestyle='--', linewidth=1.5,zorder=2, label = r'No Gains Tax')\n",
    "\n",
    "# ax.plot(t_axis, p_path_base, color = 'blue', linestyle='-', linewidth=2,  label = 'Demand',zorder=2)\n",
    "\n",
    "ax.vlines(0,0,10, color = '0.2', linestyle='--', linewidth = 1.2, zorder=2)\n",
    "\n",
    "ax.set_xlim(-10,100)\n",
    "# ax.set_ylim(0.4,2.0)\n",
    "ax.set_ylim(0,2.0)\n",
    "\n",
    "ax.set_xlabel('Time from shock')\n",
    "# ax.set_ylabel('Relative To SS')\n",
    "\n",
    "ax.grid(visible=True, which = 'major', linestyle='-', linewidth=0.5, color='0.9')\n",
    "ax.tick_params(axis='both',bottom=True,top=True,left=True,right=True,direction='in',which='both')\n",
    "ax.legend(frameon = True, edgecolor = 'k', facecolor = 'white', framealpha=1, fancybox=False, prop={'size': 12})\n",
    "\n",
    "plt.savefig('../../tex/figs/IRF_ph_taug.pdf')"
   ]
  },
  {
   "cell_type": "code",
   "execution_count": 266,
   "id": "9463ed37-9a44-4c53-8976-d9ef49d49ffa",
   "metadata": {},
   "outputs": [
    {
     "data": {
      "image/png": "[encoded data removed]",
      "text/plain": [
       "<Figure size 288x216 with 1 Axes>"
      ]
     },
     "metadata": {
      "needs_background": "light"
     },
     "output_type": "display_data"
    }
   ],
   "source": [
    "fig = plt.figure(figsize=(4,3))\n",
    "ax = fig.add_subplot(1,1,1)\n",
    "\n",
    "ax.plot(t_axis, c_path_g, color = 'blue', linestyle='-', linewidth=2,zorder=2, label = r'Gains Tax')\n",
    "ax.plot(t_axis, c_path_base, color = 'deepskyblue', linestyle='--', linewidth=2,zorder=2, label = r'No Gains Tax')\n",
    "\n",
    "ax.vlines(0,0,10, color = '0.2', linestyle='--', linewidth = 1.2, zorder=2)\n",
    "\n",
    "ax.set_xlim(-10,100)\n",
    "# ax.set_ylim(0.9,1.2)\n",
    "ax.set_ylim(0,2)\n",
    "\n",
    "ax.set_xlabel('Time from shock')\n",
    "# ax.set_ylabel(r'\\% Deviation From SS')\n",
    "\n",
    "ax.grid(visible=True, which = 'major', linestyle='-', linewidth=0.5, color='0.9')\n",
    "ax.tick_params(axis='both',bottom=True,top=True,left=True,right=True,direction='in',which='both')\n",
    "ax.legend(frameon = True, edgecolor = 'k', facecolor = 'white', framealpha=1, fancybox=False, prop={'size': 12})\n",
    "\n",
    "plt.savefig('../../tex/figs/IRF_c_taug.pdf')"
   ]
  },
  {
   "cell_type": "code",
   "execution_count": 271,
   "id": "e5da55e3-a413-4769-84bc-92ff2eac0d3e",
   "metadata": {},
   "outputs": [
    {
     "data": {
      "image/png": "[encoded data removed]",
      "text/plain": [
       "<Figure size 288x216 with 1 Axes>"
      ]
     },
     "metadata": {
      "needs_background": "light"
     },
     "output_type": "display_data"
    }
   ],
   "source": [
    "fig = plt.figure(figsize=(4,3))\n",
    "ax = fig.add_subplot(1,1,1)\n",
    "\n",
    "ax.plot(t_axis, a_path_g, color = 'red', linestyle='-', linewidth=2, zorder=2, label = r'Gains Tax' )\n",
    "ax.plot(t_axis, a_path_base, color = 'tomato', linestyle='--', linewidth=2, zorder=2, label = r'No Gains Tax')\n",
    "\n",
    "ax.vlines(0,0,10, color = '0.2', linestyle='--', linewidth = 1.2, zorder=2)\n",
    "\n",
    "ax.set_xlim(-10,100)\n",
    "ax.set_ylim(0,2)\n",
    "# ax.set_ylim(0.99,1.02)\n",
    "\n",
    "ax.set_xlabel('Time from shock')\n",
    "# ax.set_ylabel(r'$p_t$')\n",
    "\n",
    "ax.grid(visible=True, which = 'major', linestyle='-', linewidth=0.5, color='0.9')\n",
    "ax.tick_params(axis='both',bottom=True,top=True,left=True,right=True,direction='in',which='both')\n",
    "ax.legend(frameon = True, edgecolor = 'k', facecolor = 'white', framealpha=1, fancybox=False, prop={'size': 12})\n",
    "\n",
    "plt.savefig('../../tex/figs/IRF_m_taug.pdf')"
   ]
  },
  {
   "cell_type": "markdown",
   "id": "61be6501-264e-454f-8568-ca8f362e064d",
   "metadata": {},
   "source": [
    "Plot pb"
   ]
  },
  {
   "cell_type": "code",
   "execution_count": 204,
   "id": "40ce1e74-3a5c-467e-96fd-56439cd3dabc",
   "metadata": {},
   "outputs": [
    {
     "data": {
      "image/png": "[encoded data removed]",
      "text/plain": [
       "<Figure size 432x288 with 1 Axes>"
      ]
     },
     "metadata": {
      "needs_background": "light"
     },
     "output_type": "display_data"
    }
   ],
   "source": [
    "fig = plt.figure(figsize=(6,4))\n",
    "ax = fig.add_subplot(1,1,1)\n",
    "\n",
    "ax.plot(t_axis[10:], np.mean(model2.sim_path.pb, axis=1), color = 'indigo', linestyle='-', linewidth=2,  label = 'Demand',zorder=2)\n",
    "# ax.plot(t_axis[10:], p_path_g[10:], color = 'blue', linestyle='-', linewidth=1,  label = 'Demand',zorder=2)\n",
    "\n",
    "ax.set_xlim(0,200)\n",
    "# ax.set_ylim(.9,1.1)\n",
    "\n",
    "ax.set_xlabel('Time from shock')\n",
    "# ax.set_ylabel(r'% Deviation From SS')\n",
    "\n",
    "ax.grid(visible=True, which = 'major', linestyle='-', linewidth=0.5, color='0.9')\n",
    "ax.tick_params(axis='both',bottom=True,top=True,left=True,right=True,direction='in',which='both')\n",
    "\n",
    "plt.savefig('../../tex/figs/IRF_pb_taug.pdf')"
   ]
  },
  {
   "cell_type": "markdown",
   "id": "c8212598-aa36-4ca6-ba14-b92c9cc851d8",
   "metadata": {},
   "source": [
    "Plot distribution of housing before and after shock"
   ]
  },
  {
   "cell_type": "code",
   "execution_count": 505,
   "id": "18f25b7c-1a29-43e4-8576-6f68f15eabbc",
   "metadata": {},
   "outputs": [
    {
     "data": {
      "image/png": "[encoded data removed]",
      "text/plain": [
       "<Figure size 432x288 with 1 Axes>"
      ]
     },
     "metadata": {
      "needs_background": "light"
     },
     "output_type": "display_data"
    }
   ],
   "source": [
    "# Initialize the figure\n",
    "fig = plt.figure(figsize=(6,4))\n",
    "ax = fig.add_subplot(1,1,1)\n",
    "\n",
    "# Plot the avalanche sizes\n",
    "ax.hist(model2.sim_path.n[0,:], model2.par.grid_n, density = False, facecolor='royalblue', edgecolor = 'k', zorder=2, alpha = .4, label = r'Period 1')\n",
    "ax.hist(model2.sim_path.n[1,:], model2.par.grid_n, density = False, facecolor='green', edgecolor = 'k', zorder=2, alpha = .4, label = r'Period 2')\n",
    "\n",
    "# Plot setting\n",
    "ax.set_xlabel('Housing')\n",
    "ax.set_ylabel('Nr. of Households')\n",
    "\n",
    "ax.set_xlim(0,1.5)\n",
    "\n",
    "ax.grid(visible=True, which = 'major', linestyle='-', linewidth=0.5, color='0.9')\n",
    "ax.tick_params(axis='both',bottom=True,top=True,left=True,right=True,direction='in',which='both')\n",
    "ax.legend(frameon = True, edgecolor = 'k', facecolor = 'white', framealpha=1, fancybox=False,  prop={'size': 10})\n",
    "\n",
    "plt.savefig('../../tex/figs/h_distr_period12.pdf')"
   ]
  }
 ],
 "metadata": {
  "kernelspec": {
   "display_name": "Python 3 (ipykernel)",
   "language": "python",
   "name": "python3"
  },
  "language_info": {
   "codemirror_mode": {
    "name": "ipython",
    "version": 3
   },
   "file_extension": ".py",
   "mimetype": "text/x-python",
   "name": "python",
   "nbconvert_exporter": "python",
   "pygments_lexer": "ipython3",
   "version": "3.9.10"
  }
 },
 "nbformat": 4,
 "nbformat_minor": 5
}
