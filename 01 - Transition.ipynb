{
 "cells": [
  {
   "cell_type": "markdown",
   "id": "3cb73a7a-682f-4f58-b9af-0201b9cdf547",
   "metadata": {},
   "source": [
    "# Transition Path"
   ]
  },
  {
   "cell_type": "markdown",
   "id": "173566da-5ac9-488d-9bbd-0bca5bfe2178",
   "metadata": {},
   "source": [
    "In this notebook, I solve and simulate the housing model along a **transition path** stemming from an interest rate shock"
   ]
  },
  {
   "cell_type": "code",
   "execution_count": 1,
   "id": "f047c835-55b1-4819-8d0b-62d765ccfc91",
   "metadata": {
    "tags": []
   },
   "outputs": [],
   "source": [
    "%load_ext autoreload\n",
    "%autoreload 2\n",
    "\n",
    "import time\n",
    "import numpy as np\n",
    "import numba as nb\n",
    "import matplotlib.pyplot as plt\n",
    "from scipy import optimize\n",
    "from consav import linear_interp\n",
    "\n",
    "# load the DurableConsumptionModel module\n",
    "from HousingModel import HousingModelClass\n",
    "\n",
    "# Set the number of threads in numba\n",
    "nb.set_num_threads(4)\n",
    "\n",
    "# Smoother\n",
    "# from scipy.signal import savgol_filter"
   ]
  },
  {
   "cell_type": "markdown",
   "id": "be9f531b-8b38-4eaf-829c-49c32c196b7d",
   "metadata": {},
   "source": [
    "This is to individually test each step in the relaxation algorithm for any troubleshooting"
   ]
  },
  {
   "cell_type": "markdown",
   "id": "c958f835-096e-4d8b-b08f-26a446aa1207",
   "metadata": {
    "tags": []
   },
   "source": [
    "# Find Equilibrium Along a Transition Path"
   ]
  },
  {
   "cell_type": "markdown",
   "id": "37dd4ffa-86b8-4b9a-b75c-d3f4c3f50ece",
   "metadata": {},
   "source": [
    "I apply a relaxation algorithm where I use a ghost run along the path as the benchmark to update equilibrium prices"
   ]
  },
  {
   "cell_type": "code",
   "execution_count": 5,
   "id": "3207f784-8d8d-4d94-a3f2-1a080f8d072f",
   "metadata": {},
   "outputs": [],
   "source": [
    "# Define the model\n",
    "model = HousingModelClass(name='example_negm',par={'solmethod':'negm', 'do_print':False})\n",
    "\n",
    "# Solve and simulate\n",
    "model.precompile_numba()\n",
    "model.solve()\n",
    "# model.simulate()"
   ]
  },
  {
   "cell_type": "markdown",
   "id": "25e18cc3-605d-4edd-a98d-ac8613fd0bb5",
   "metadata": {},
   "source": [
    "Ghost run - simulate path without an interest rate drop"
   ]
  },
  {
   "cell_type": "code",
   "execution_count": 164,
   "id": "c5388314-2d8f-475b-aeed-eb88b8c37a76",
   "metadata": {},
   "outputs": [],
   "source": [
    "# No drop in interest rates\n",
    "model.par.R_drop = 0.0\n",
    "\n",
    "# Solve and simulate along the path\n",
    "model.solve_path()\n",
    "model.simulate_path()"
   ]
  },
  {
   "cell_type": "markdown",
   "id": "447ac163-bccb-4c40-8228-0e51b73ebd58",
   "metadata": {},
   "source": [
    "Check if everything looks reasonable"
   ]
  },
  {
   "cell_type": "code",
   "execution_count": 165,
   "id": "eda18eed-9dca-4921-8114-2c23ebe058fe",
   "metadata": {
    "tags": []
   },
   "outputs": [
    {
     "data": {
      "image/png": "[encoded data removed]",
      "text/plain": [
       "<Figure size 432x288 with 1 Axes>"
      ]
     },
     "metadata": {
      "needs_background": "light"
     },
     "output_type": "display_data"
    }
   ],
   "source": [
    "# Define aggregates\n",
    "h_ss = np.mean(model.sim.d, axis=1)\n",
    "h_path = np.mean(model.sim_path.d, axis=1)\n",
    "\n",
    "# Plot results\n",
    "plt.plot(h_ss, color ='blue')\n",
    "plt.plot(h_path, color = 'red')\n",
    "plt.show()"
   ]
  },
  {
   "cell_type": "markdown",
   "id": "7eb9776c-5efe-4f9a-84a9-32ae7b12cae9",
   "metadata": {},
   "source": [
    "Looks fine!"
   ]
  },
  {
   "cell_type": "code",
   "execution_count": 10,
   "id": "ece1b5a3-d0a5-4c31-8414-ee76c40108e6",
   "metadata": {},
   "outputs": [],
   "source": [
    "# Define ghost run path\n",
    "H_ghost = np.mean(model.sim_path.d, axis=1)"
   ]
  },
  {
   "cell_type": "markdown",
   "id": "8abaa94d-a1b9-4a6c-b831-99ea2dbe910f",
   "metadata": {},
   "source": [
    "## Apply relaxation algorithm "
   ]
  },
  {
   "cell_type": "code",
   "execution_count": 49,
   "id": "2b0a5dbe-eb0c-4d56-b590-e48abc5505b3",
   "metadata": {},
   "outputs": [],
   "source": [
    "# Initialize model and solve initial steady state\n",
    "model_path = HousingModelClass(name='example_negm',par={'solmethod':'negm', 'do_print':False})\n",
    "model_path.precompile_numba()\n",
    "model_path.solve()\n",
    "model_path.simulate() # simulate initial ss"
   ]
  },
  {
   "cell_type": "markdown",
   "id": "091ead2a-748e-4869-aaf3-8c9e4c87de0f",
   "metadata": {},
   "source": [
    "Check how the partial eq. impulse response looks"
   ]
  },
  {
   "cell_type": "code",
   "execution_count": 53,
   "id": "b2459ef5-89ae-4fc1-8e8b-8cd79428dd5e",
   "metadata": {},
   "outputs": [
    {
     "data": {
      "image/png": "[encoded data removed]",
      "text/plain": [
       "<Figure size 432x288 with 1 Axes>"
      ]
     },
     "metadata": {
      "needs_background": "light"
     },
     "output_type": "display_data"
    }
   ],
   "source": [
    "h_ss = np.mean(model_path.sim.d, axis=1)\n",
    "h_path = np.mean(model_path.sim_path.d, axis=1)\n",
    "\n",
    "# Plot results\n",
    "plt.plot(h_ss, color ='blue')\n",
    "plt.plot(h_path, color = 'red')\n",
    "plt.show()"
   ]
  },
  {
   "cell_type": "code",
   "execution_count": 77,
   "id": "5654160e-0265-414b-9af6-f63c18aca921",
   "metadata": {},
   "outputs": [
    {
     "name": "stdout",
     "output_type": "stream",
     "text": [
      "1th iteration: dif = 0.011167044840519447\n",
      "2th iteration: dif = 0.011193435416135072\n",
      "3th iteration: dif = 0.010521676565212024\n",
      "4th iteration: dif = 0.010175179631285836\n",
      "5th iteration: dif = 0.009907851231054532\n",
      "6th iteration: dif = 0.009673854165789031\n",
      "7th iteration: dif = 0.009546919754343741\n",
      "8th iteration: dif = 0.009434107212938775\n",
      "9th iteration: dif = 0.009053097953141603\n",
      "10th iteration: dif = 0.008153557865285072\n",
      "11th iteration: dif = 0.007952816041153055\n",
      "12th iteration: dif = 0.007776442977214193\n",
      "13th iteration: dif = 0.007650678499544206\n",
      "14th iteration: dif = 0.007278326037095828\n",
      "15th iteration: dif = 0.006603380194647068\n",
      "16th iteration: dif = 0.006163073517075596\n",
      "17th iteration: dif = 0.005728135475721957\n",
      "18th iteration: dif = 0.0054872089849804795\n",
      "19th iteration: dif = 0.005138517196541764\n",
      "20th iteration: dif = 0.005091067700641078\n",
      "21th iteration: dif = 0.004690742735388415\n",
      "22th iteration: dif = 0.004539000627066164\n",
      "23th iteration: dif = 0.004382526108693635\n",
      "24th iteration: dif = 0.004250595136508051\n",
      "25th iteration: dif = 0.004223609996911681\n",
      "26th iteration: dif = 0.0040632507525563966\n",
      "27th iteration: dif = 0.0035782598369450414\n",
      "28th iteration: dif = 0.0034660813073606744\n",
      "29th iteration: dif = 0.003338443968098098\n",
      "30th iteration: dif = 0.003301422350395433\n",
      "31th iteration: dif = 0.003184898516429141\n",
      "32th iteration: dif = 0.0031144202515064057\n",
      "33th iteration: dif = 0.003064157102575682\n",
      "34th iteration: dif = 0.0029631293837791006\n",
      "35th iteration: dif = 0.0027197551919445617\n",
      "36th iteration: dif = 0.002639279628671082\n",
      "37th iteration: dif = 0.0025063871455855424\n",
      "38th iteration: dif = 0.0024355140970367117\n",
      "39th iteration: dif = 0.0023276193562330183\n",
      "40th iteration: dif = 0.002242321200728231\n",
      "41th iteration: dif = 0.002157331612423402\n",
      "42th iteration: dif = 0.002076826564482215\n",
      "43th iteration: dif = 0.0021813852998172067\n",
      "44th iteration: dif = 0.0019452369751574716\n",
      "45th iteration: dif = 0.0019073950582296217\n",
      "46th iteration: dif = 0.0018529081899070488\n",
      "47th iteration: dif = 0.0018770882209934725\n",
      "48th iteration: dif = 0.0016094495995856717\n",
      "49th iteration: dif = 0.0016280457872953624\n",
      "50th iteration: dif = 0.0016413891721432095\n",
      "51th iteration: dif = 0.0015651790310030056\n",
      "52th iteration: dif = 0.0015396839562380749\n",
      "53th iteration: dif = 0.0014849580991663225\n",
      "54th iteration: dif = 0.001434909967009984\n",
      "55th iteration: dif = 0.001348680774482497\n",
      "56th iteration: dif = 0.0012475469935919747\n",
      "57th iteration: dif = 0.0010358725089361087\n"
     ]
    }
   ],
   "source": [
    "# a. allocate\n",
    "path_ph = np.zeros(model_path.par.path_T + model_path.par.T)\n",
    "\n",
    "# b. setting - 0.9999\n",
    "nu = 2.0 # relaxation parameter\n",
    "max_iter = 1000 # maximum number of iterations\n",
    "\n",
    "# # c. Set path of prices\n",
    "path_ph[:] = model_path.par.ph\n",
    "model_path.par.path_ph = path_ph\n",
    "\n",
    "# d. iterate\n",
    "it = 0\n",
    "for _ in range(max_iter):\n",
    "\n",
    "    # ii. solve and simulate\n",
    "    model_path.solve_path()\n",
    "    model_path.simulate_path()\n",
    "\n",
    "    # iii. Implied aggregate housing demand\n",
    "    H = np.mean(model_path.sim_path.d, axis=1)\n",
    "    \n",
    "    # iv. difference\n",
    "    max_abs_diff = np.max(np.abs(H[:-2] - H_ghost[:-2]))\n",
    "    # if it%10 == 0: print(f'{it:4d}: {max_abs_diff:.8f}')\n",
    "    if max_abs_diff < 10e-4: break # test different values of this threshold\n",
    "\n",
    "    # v. update\n",
    "    path_ph[:model_path.par.path_T] = path_ph[:model_path.par.path_T] + nu*(H - H_ghost)\n",
    "    path_ph[model_path.par.path_T:] = path_ph[model_path.par.path_T-3]\n",
    "    \n",
    "    model_path.par.path_ph = path_ph    \n",
    "    \n",
    "    # vi.  increment\n",
    "    it += 1\n",
    "    if it > max_iter: raise Exception('too many iterations')    \n",
    "    \n",
    "    print(str(it)+'th iteration: dif = '+str(max_abs_diff))"
   ]
  },
  {
   "cell_type": "markdown",
   "id": "2e9750d2-d7da-415c-8709-7d6051d59e5a",
   "metadata": {},
   "source": [
    "## Plot the Impulse Responses"
   ]
  },
  {
   "cell_type": "markdown",
   "id": "939a96f6-590a-41e7-9961-d9ceb1b2395b",
   "metadata": {},
   "source": [
    "Define path of aggregates, so that it starts 10 periods before the shock"
   ]
  },
  {
   "cell_type": "code",
   "execution_count": 149,
   "id": "76e460ec-a29b-4d20-8028-056cdf47595f",
   "metadata": {},
   "outputs": [],
   "source": [
    "p_path = np.zeros(10+model_path.par.path_T)\n",
    "p_path[0:10] = model_path.par.ph\n",
    "p_path[10:] = model_path.par.path_ph[0:model_path.par.path_T]\n",
    "\n",
    "c_path = np.zeros(10+model_path.par.path_T)\n",
    "c_path[0:10] = np.mean(model_path.sim.c, axis=1)[-10:]\n",
    "c_path[10:] = np.mean(model_path.sim_path.c, axis=1)\n",
    "\n",
    "m_path = np.zeros(10+model_path.par.path_T)\n",
    "m_path[0:10] = np.mean(model_path.sim.m, axis=1)[-10:]\n",
    "m_path[10:] = np.mean(model_path.sim_path.m, axis=1)\n",
    "\n",
    "t_axis = range(-10,200) # Time from shock"
   ]
  },
  {
   "cell_type": "markdown",
   "id": "2124af4b-0124-48e6-9d57-f6f690211e7e",
   "metadata": {},
   "source": [
    "Equilibrium housing price"
   ]
  },
  {
   "cell_type": "code",
   "execution_count": 162,
   "id": "01367242-022d-48f8-a96d-eea345a928e3",
   "metadata": {},
   "outputs": [
    {
     "data": {
      "image/png": "[encoded data removed]",
      "text/plain": [
       "<Figure size 432x288 with 1 Axes>"
      ]
     },
     "metadata": {
      "needs_background": "light"
     },
     "output_type": "display_data"
    }
   ],
   "source": [
    "fig = plt.figure(figsize=(6,4))\n",
    "ax = fig.add_subplot(1,1,1)\n",
    "\n",
    "ax.plot(t_axis, p_path, color = '0.4', linestyle='-', linewidth=1,  label = 'Demand',zorder=2)\n",
    "ax.vlines(0,0,10, color = '0.2', linestyle='--', linewidth = 1.2, zorder=2)\n",
    "\n",
    "ax.set_xlim(-10,100)\n",
    "ax.set_ylim(6.98,7.53)\n",
    "\n",
    "ax.set_xlabel('Time from shock')\n",
    "ax.set_ylabel(r'$p_t$')\n",
    "\n",
    "ax.grid(visible=True, which = 'major', linestyle='-', linewidth=0.5, color='0.9')\n",
    "ax.tick_params(axis='both',bottom=True,top=True,left=True,right=True,direction='in',which='both')\n",
    "# ax.legend(frameon = True, edgecolor = 'k', facecolor = 'white', framealpha=1, fancybox=False)\n",
    "\n",
    "# plt.savefig('../../tex/figs/IRF_ph.pdf')"
   ]
  },
  {
   "cell_type": "markdown",
   "id": "4dcd8c5b-fc42-4e71-b7b7-76de5686889c",
   "metadata": {},
   "source": [
    "Non-durable consumption"
   ]
  },
  {
   "cell_type": "code",
   "execution_count": 145,
   "id": "351e4c27-4f71-4c06-bbf5-4ce48dfd5f31",
   "metadata": {},
   "outputs": [
    {
     "data": {
      "image/png": "[encoded data removed]",
      "text/plain": [
       "<Figure size 432x288 with 1 Axes>"
      ]
     },
     "metadata": {
      "needs_background": "light"
     },
     "output_type": "display_data"
    }
   ],
   "source": [
    "fig = plt.figure(figsize=(6,4))\n",
    "ax = fig.add_subplot(1,1,1)\n",
    "\n",
    "ax.plot(t_axis, c_path, color = 'blue', linestyle='-', linewidth=1,  label = 'Demand',zorder=2)\n",
    "ax.vlines(0,0,10, color = '0.2', linestyle='--', linewidth = 1.2, zorder=2)\n",
    "\n",
    "ax.set_xlim(-10,100)\n",
    "ax.set_ylim(1.095,1.122)\n",
    "\n",
    "ax.set_xlabel('Time from shock')\n",
    "ax.set_ylabel(r'$c^\\mathrm{agg}_t$')\n",
    "\n",
    "ax.grid(visible=True, which = 'major', linestyle='-', linewidth=0.5, color='0.9')\n",
    "ax.tick_params(axis='both',bottom=True,top=True,left=True,right=True,direction='in',which='both')\n",
    "# ax.legend(frameon = True, edgecolor = 'k', facecolor = 'white', framealpha=1, fancybox=False)\n",
    "\n",
    "plt.savefig('../../tex/figs/IRF_c.pdf')"
   ]
  },
  {
   "cell_type": "markdown",
   "id": "4c0f2a6c-9858-4ea5-8386-b0e31e575376",
   "metadata": {},
   "source": [
    "Cash on hand"
   ]
  },
  {
   "cell_type": "code",
   "execution_count": 142,
   "id": "7905e7fc-b996-43ef-9479-07b291996d8a",
   "metadata": {},
   "outputs": [
    {
     "data": {
      "image/png": "[encoded data removed]",
      "text/plain": [
       "<Figure size 432x288 with 1 Axes>"
      ]
     },
     "metadata": {
      "needs_background": "light"
     },
     "output_type": "display_data"
    }
   ],
   "source": [
    "fig = plt.figure(figsize=(6,4))\n",
    "ax = fig.add_subplot(1,1,1)\n",
    "\n",
    "ax.plot(t_axis, m_path, color = 'red', linestyle='-', linewidth=1,  label = 'Demand',zorder=2)\n",
    "ax.vlines(0,0,10, color = '0.2', linestyle='--', linewidth = 1.2, zorder=2)\n",
    "\n",
    "ax.set_xlim(-10,100)\n",
    "ax.set_ylim(1.84,2.11)\n",
    "\n",
    "ax.set_xlabel('Time from shock')\n",
    "ax.set_ylabel(r'$m^\\mathrm{agg}_t$')\n",
    "\n",
    "ax.grid(visible=True, which = 'major', linestyle='-', linewidth=0.5, color='0.9')\n",
    "ax.tick_params(axis='both',bottom=True,top=True,left=True,right=True,direction='in',which='both')\n",
    "\n",
    "plt.savefig('../../tex/figs/IRF_m.pdf')"
   ]
  },
  {
   "cell_type": "markdown",
   "id": "8ff6ca2b-e529-4b35-a24d-c93d83c572e5",
   "metadata": {
    "tags": []
   },
   "source": [
    "# Test the transition path with avancebeskatning"
   ]
  },
  {
   "cell_type": "code",
   "execution_count": 2,
   "id": "4c5a42fd-b06f-4879-96a2-e08062c57931",
   "metadata": {},
   "outputs": [],
   "source": [
    "# Define the model\n",
    "model = HousingModelClass(name='example_negm',par={'solmethod':'negm', 'do_print':False})\n",
    "\n",
    "# Solve and simulate\n",
    "model.precompile_numba()"
   ]
  },
  {
   "cell_type": "markdown",
   "id": "d8967f01-b2ec-4c7a-944a-ba6a4bda555d",
   "metadata": {},
   "source": [
    "Generate ghost path"
   ]
  },
  {
   "cell_type": "code",
   "execution_count": 9,
   "id": "e6625f52-4d7a-40ca-939b-c8c002f63693",
   "metadata": {},
   "outputs": [],
   "source": [
    "model.solve()\n",
    "model.simulate()"
   ]
  },
  {
   "cell_type": "code",
   "execution_count": 10,
   "id": "a3e67fb7-d7df-4028-a9f0-da95a2d7298d",
   "metadata": {},
   "outputs": [],
   "source": [
    "# No drop in interest rates\n",
    "model.par.R_drop = 0.0\n",
    "\n",
    "# Solve and simulate along the path\n",
    "model.solve_path()\n",
    "model.simulate_path()"
   ]
  },
  {
   "cell_type": "code",
   "execution_count": 11,
   "id": "31c4e5f4-9e02-4644-9e03-17c20649d64b",
   "metadata": {},
   "outputs": [
    {
     "data": {
      "text/plain": [
       "[<matplotlib.lines.Line2D at 0x256d8372730>]"
      ]
     },
     "execution_count": 11,
     "metadata": {},
     "output_type": "execute_result"
    },
    {
     "data": {
      "image/png": "[encoded data removed]",
      "text/plain": [
       "<Figure size 432x288 with 1 Axes>"
      ]
     },
     "metadata": {
      "needs_background": "light"
     },
     "output_type": "display_data"
    }
   ],
   "source": [
    "plt.plot(model.par.grid_m, model.sol_path.d_adj[0,17,1,:], linestyle = '-', color = 'red', linewidth = '1.5')\n",
    "plt.plot(model.par.grid_m, model.sol_path.d_adj[0,5,1,:], linestyle = '-', color = 'blue', linewidth = '1.5')\n",
    "\n",
    "# plt.plot(model.par.grid_m, model.sol.d_adj[0,17,1,:], linestyle = '--', color = 'red', linewidth = '1.5')\n",
    "# plt.plot(model.par.grid_m, model.sol.d_adj[0,5,1,:], linestyle = '--', color = 'blue', linewidth = '1.5')"
   ]
  },
  {
   "cell_type": "code",
   "execution_count": 12,
   "id": "366f96ba-8ea5-4e91-82d6-dea8beeee6c9",
   "metadata": {},
   "outputs": [],
   "source": [
    "H_ghost = np.mean(model.sim_path.d, axis=1)"
   ]
  },
  {
   "cell_type": "markdown",
   "id": "0bc68c25-8209-48e0-b8ca-e7ee2fbcfab1",
   "metadata": {},
   "source": [
    "Run Relaxation algo"
   ]
  },
  {
   "cell_type": "code",
   "execution_count": 15,
   "id": "c2e194bf-bbb2-4a79-bd8b-45a3267e9b16",
   "metadata": {},
   "outputs": [],
   "source": [
    "# Initialize model and solve initial steady state\n",
    "taug = 0.01\n",
    "model_path = HousingModelClass(name='example_negm',par={'solmethod':'negm', 'taug':taug, 'do_print':False})\n",
    "model_path.precompile_numba()\n",
    "model_path.solve()\n",
    "model_path.simulate() # simulate initial ss"
   ]
  },
  {
   "cell_type": "code",
   "execution_count": 17,
   "id": "e5964af8-e29f-44d1-bf42-128b8b7eff01",
   "metadata": {},
   "outputs": [],
   "source": [
    "model_path.solve_path()\n",
    "model_path.simulate_path()"
   ]
  },
  {
   "cell_type": "code",
   "execution_count": 18,
   "id": "b96cb598-bd4a-4c39-b3f4-937a17831141",
   "metadata": {},
   "outputs": [
    {
     "data": {
      "image/png": "[encoded data removed]",
      "text/plain": [
       "<Figure size 432x288 with 1 Axes>"
      ]
     },
     "metadata": {
      "needs_background": "light"
     },
     "output_type": "display_data"
    }
   ],
   "source": [
    "h_ss = np.mean(model_path.sim.d, axis=1)\n",
    "h_path = np.mean(model_path.sim_path.d, axis=1)\n",
    "\n",
    "# Plot results\n",
    "plt.plot(h_ss, color ='blue')\n",
    "plt.plot(h_path, color = 'red')\n",
    "plt.show()"
   ]
  },
  {
   "cell_type": "markdown",
   "id": "81d71ec9-d65b-4010-9c7a-b24f101503a7",
   "metadata": {},
   "source": [
    "Same result as withou gains tax; should be in partial eq."
   ]
  },
  {
   "cell_type": "code",
   "execution_count": 30,
   "id": "3b0dc999-b3b1-4aad-84c8-53e971d0de06",
   "metadata": {},
   "outputs": [
    {
     "name": "stdout",
     "output_type": "stream",
     "text": [
      "1th iteration: dif = 0.012611009567777803\n",
      "2th iteration: dif = 0.011811210858812232\n",
      "3th iteration: dif = 0.010206082956532664\n",
      "4th iteration: dif = 0.009042281802095431\n",
      "5th iteration: dif = 0.008174529461170782\n",
      "6th iteration: dif = 0.007799386335083869\n",
      "7th iteration: dif = 0.007373595607637506\n",
      "8th iteration: dif = 0.00703222367406281\n",
      "9th iteration: dif = 0.006760212211131794\n",
      "10th iteration: dif = 0.0063500025190481035\n",
      "11th iteration: dif = 0.0059590325836964275\n",
      "12th iteration: dif = 0.005852272526814639\n",
      "13th iteration: dif = 0.005582201127943193\n",
      "14th iteration: dif = 0.005536098361411029\n",
      "15th iteration: dif = 0.005407278792895875\n",
      "16th iteration: dif = 0.00534328297237624\n",
      "17th iteration: dif = 0.0052030239758440455\n",
      "18th iteration: dif = 0.005103051161008232\n",
      "19th iteration: dif = 0.004974036454706926\n",
      "20th iteration: dif = 0.004909087162511316\n",
      "21th iteration: dif = 0.004753941045743115\n",
      "22th iteration: dif = 0.004694554171599669\n",
      "23th iteration: dif = 0.004650871723816452\n",
      "24th iteration: dif = 0.004562334049975497\n",
      "25th iteration: dif = 0.0044761450998856145\n",
      "26th iteration: dif = 0.004427050746655503\n",
      "27th iteration: dif = 0.004370041646272027\n",
      "28th iteration: dif = 0.0043186479792153565\n",
      "29th iteration: dif = 0.004218936790537975\n",
      "30th iteration: dif = 0.004157886950506867\n",
      "31th iteration: dif = 0.0040343228933181485\n",
      "32th iteration: dif = 0.003936648527145398\n",
      "33th iteration: dif = 0.00384687660046934\n",
      "34th iteration: dif = 0.0038059417385758743\n",
      "35th iteration: dif = 0.0037869570571356925\n",
      "36th iteration: dif = 0.0037452904327339442\n",
      "37th iteration: dif = 0.0036821114590925574\n",
      "38th iteration: dif = 0.0036470336714317653\n",
      "39th iteration: dif = 0.003616814843760058\n",
      "40th iteration: dif = 0.0035371472500994594\n",
      "41th iteration: dif = 0.003539853518857189\n",
      "42th iteration: dif = 0.0035360296929567436\n",
      "43th iteration: dif = 0.003514649356956001\n",
      "44th iteration: dif = 0.0035004004355858598\n",
      "45th iteration: dif = 0.003482289526887311\n",
      "46th iteration: dif = 0.003475706696938363\n",
      "47th iteration: dif = 0.003478884991507447\n",
      "48th iteration: dif = 0.0034455997199139277\n",
      "49th iteration: dif = 0.0034307841659984573\n",
      "50th iteration: dif = 0.003421859758862722\n",
      "51th iteration: dif = 0.0034072742192128858\n",
      "52th iteration: dif = 0.003968590911219205\n",
      "53th iteration: dif = 0.0033374935517962168\n",
      "54th iteration: dif = 0.003348396442690388\n",
      "55th iteration: dif = 0.003928979841622771\n",
      "56th iteration: dif = 0.0032735477626180676\n",
      "57th iteration: dif = 0.0032418315817141774\n",
      "58th iteration: dif = 0.003250181724089446\n",
      "59th iteration: dif = 0.003697873045255873\n",
      "60th iteration: dif = 0.0033398458370245965\n",
      "61th iteration: dif = 0.003205640466601517\n",
      "62th iteration: dif = 0.0035034491196002104\n"
     ]
    },
    {
     "name": "stderr",
     "output_type": "stream",
     "text": [
      "Traceback (most recent call last):\n",
      "  File \"C:\\Users\\madsh\\OneDrive - University of Copenhagen\\Desktop\\Thesis\\code\\MA_thesis\\HousingModel.py\", line 540, in solve_path\n",
      "    negm.solve_keep(t,sol_path,par)\n",
      "KeyboardInterrupt\n"
     ]
    },
    {
     "ename": "KeyboardInterrupt",
     "evalue": "",
     "output_type": "error",
     "traceback": [
      "\u001b[1;31m---------------------------------------------------------------------------\u001b[0m",
      "\u001b[1;31mKeyboardInterrupt\u001b[0m                         Traceback (most recent call last)",
      "\u001b[1;32m~\\AppData\\Local\\Temp\\ipykernel_16240\\621375491.py\u001b[0m in \u001b[0;36m<cell line: 14>\u001b[1;34m()\u001b[0m\n\u001b[0;32m     15\u001b[0m \u001b[1;33m\u001b[0m\u001b[0m\n\u001b[0;32m     16\u001b[0m     \u001b[1;31m# ii. solve and simulate\u001b[0m\u001b[1;33m\u001b[0m\u001b[1;33m\u001b[0m\u001b[0m\n\u001b[1;32m---> 17\u001b[1;33m     \u001b[0mmodel_path\u001b[0m\u001b[1;33m.\u001b[0m\u001b[0msolve_path\u001b[0m\u001b[1;33m(\u001b[0m\u001b[1;33m)\u001b[0m\u001b[1;33m\u001b[0m\u001b[1;33m\u001b[0m\u001b[0m\n\u001b[0m\u001b[0;32m     18\u001b[0m     \u001b[0mmodel_path\u001b[0m\u001b[1;33m.\u001b[0m\u001b[0msimulate_path\u001b[0m\u001b[1;33m(\u001b[0m\u001b[1;33m)\u001b[0m\u001b[1;33m\u001b[0m\u001b[1;33m\u001b[0m\u001b[0m\n\u001b[0;32m     19\u001b[0m \u001b[1;33m\u001b[0m\u001b[0m\n",
      "\u001b[1;32m~\\OneDrive - University of Copenhagen\\Desktop\\Thesis\\code\\MA_thesis\\HousingModel.py\u001b[0m in \u001b[0;36msolve_path\u001b[1;34m(self)\u001b[0m\n\u001b[0;32m    538\u001b[0m \u001b[1;33m\u001b[0m\u001b[0m\n\u001b[0;32m    539\u001b[0m                     \u001b[1;31m# oo. Solve keeper\u001b[0m\u001b[1;33m\u001b[0m\u001b[1;33m\u001b[0m\u001b[0m\n\u001b[1;32m--> 540\u001b[1;33m                     \u001b[0mnegm\u001b[0m\u001b[1;33m.\u001b[0m\u001b[0msolve_keep\u001b[0m\u001b[1;33m(\u001b[0m\u001b[0mt\u001b[0m\u001b[1;33m,\u001b[0m\u001b[0msol_path\u001b[0m\u001b[1;33m,\u001b[0m\u001b[0mpar\u001b[0m\u001b[1;33m)\u001b[0m\u001b[1;33m\u001b[0m\u001b[1;33m\u001b[0m\u001b[0m\n\u001b[0m\u001b[0;32m    541\u001b[0m \u001b[1;33m\u001b[0m\u001b[0m\n\u001b[0;32m    542\u001b[0m                     \u001b[1;31m# ooo. Solve adjuster\u001b[0m\u001b[1;33m\u001b[0m\u001b[1;33m\u001b[0m\u001b[0m\n",
      "\u001b[1;31mKeyboardInterrupt\u001b[0m: "
     ]
    }
   ],
   "source": [
    "# a. allocate\n",
    "path_ph = np.zeros(model_path.par.path_T + model_path.par.T)\n",
    "\n",
    "# b. setting - 0.9999\n",
    "nu = .5 # relaxation parameter\n",
    "max_iter = 1000 # maximum number of iterations\n",
    "\n",
    "# # c. Set path of prices\n",
    "path_ph[:] = model_path.par.ph\n",
    "model_path.par.path_ph = path_ph\n",
    "\n",
    "# d. iterate\n",
    "it = 0\n",
    "for _ in range(max_iter):\n",
    "\n",
    "    # ii. solve and simulate\n",
    "    model_path.solve_path()\n",
    "    model_path.simulate_path()\n",
    "\n",
    "    # iii. Implied aggregate housing demand\n",
    "    H = np.mean(model_path.sim_path.d, axis=1)\n",
    "    \n",
    "    # iv. difference\n",
    "    max_abs_diff = np.max(np.abs(H[:-2] - H_ghost[:-2]))\n",
    "    # if it%10 == 0: print(f'{it:4d}: {max_abs_diff:.8f}')\n",
    "    if max_abs_diff < 10e-4: break # test different values of this threshold\n",
    "\n",
    "    # v. update\n",
    "    path_ph[:model_path.par.path_T] = path_ph[:model_path.par.path_T] + nu*(H - H_ghost)\n",
    "    path_ph[model_path.par.path_T:] = path_ph[model_path.par.path_T-3]\n",
    "    \n",
    "    model_path.par.path_ph = path_ph    \n",
    "    \n",
    "    # vi.  increment\n",
    "    it += 1\n",
    "    if it > max_iter: raise Exception('too many iterations')    \n",
    "    \n",
    "    print(str(it)+'th iteration: dif = '+str(max_abs_diff))"
   ]
  },
  {
   "cell_type": "code",
   "execution_count": 31,
   "id": "59c44400-c090-4569-8014-8a69e9428d1a",
   "metadata": {},
   "outputs": [
    {
     "data": {
      "text/plain": [
       "[<matplotlib.lines.Line2D at 0x256ac0b4d60>]"
      ]
     },
     "execution_count": 31,
     "metadata": {},
     "output_type": "execute_result"
    },
    {
     "data": {
      "image/png": "[encoded data removed]",
      "text/plain": [
       "<Figure size 432x288 with 1 Axes>"
      ]
     },
     "metadata": {
      "needs_background": "light"
     },
     "output_type": "display_data"
    }
   ],
   "source": [
    "plt.plot(path_ph)"
   ]
  }
 ],
 "metadata": {
  "kernelspec": {
   "display_name": "Python 3 (ipykernel)",
   "language": "python",
   "name": "python3"
  },
  "language_info": {
   "codemirror_mode": {
    "name": "ipython",
    "version": 3
   },
   "file_extension": ".py",
   "mimetype": "text/x-python",
   "name": "python",
   "nbconvert_exporter": "python",
   "pygments_lexer": "ipython3",
   "version": "3.9.10"
  }
 },
 "nbformat": 4,
 "nbformat_minor": 5
}
