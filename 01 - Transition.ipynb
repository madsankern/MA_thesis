{
 "cells": [
  {
   "cell_type": "markdown",
   "id": "3cb73a7a-682f-4f58-b9af-0201b9cdf547",
   "metadata": {},
   "source": [
    "# Transition Path"
   ]
  },
  {
   "cell_type": "markdown",
   "id": "173566da-5ac9-488d-9bbd-0bca5bfe2178",
   "metadata": {},
   "source": [
    "In this notebook, I solve and simulate the housing model along a **transition path** stemming from an interest rate shock"
   ]
  },
  {
   "cell_type": "code",
   "execution_count": 3,
   "id": "f047c835-55b1-4819-8d0b-62d765ccfc91",
   "metadata": {
    "tags": []
   },
   "outputs": [
    {
     "name": "stdout",
     "output_type": "stream",
     "text": [
      "The autoreload extension is already loaded. To reload it, use:\n",
      "  %reload_ext autoreload\n"
     ]
    }
   ],
   "source": [
    "%load_ext autoreload\n",
    "%autoreload 2\n",
    "\n",
    "import time\n",
    "import numpy as np\n",
    "import numba as nb\n",
    "import matplotlib.pyplot as plt\n",
    "from scipy import optimize\n",
    "from consav import linear_interp\n",
    "\n",
    "# load the DurableConsumptionModel module\n",
    "from HousingModel import HousingModelClass\n",
    "\n",
    "# Set the number of threads in numba\n",
    "nb.set_num_threads(4)\n",
    "\n",
    "# Smoother\n",
    "from scipy.signal import savgol_filter"
   ]
  },
  {
   "cell_type": "markdown",
   "id": "0d4a8bba-5eb2-4903-be0d-7172b978c500",
   "metadata": {},
   "source": [
    "## Test Relaxation Algorithm"
   ]
  },
  {
   "cell_type": "markdown",
   "id": "be9f531b-8b38-4eaf-829c-49c32c196b7d",
   "metadata": {},
   "source": [
    "This is to individually test each step in the relaxation algorithm for any troubleshooting"
   ]
  },
  {
   "cell_type": "markdown",
   "id": "7eb16138-d948-446c-bdbb-b5983b040f44",
   "metadata": {},
   "source": [
    "1. Define Reduced Form Supply function"
   ]
  },
  {
   "cell_type": "code",
   "execution_count": 13,
   "id": "aed9714a-5fdd-4889-9fdc-ac05eb761f85",
   "metadata": {},
   "outputs": [],
   "source": [
    "# Write test function\n",
    "def Hs_prime(x):\n",
    "    \n",
    "    # Parameters\n",
    "    a = 9000\n",
    "    b = 6.4593010477953685 - a*0.05\n",
    "    \n",
    "    # Set negatives to zero\n",
    "    y = a*x + b\n",
    "    \n",
    "    return max(y,0)"
   ]
  },
  {
   "cell_type": "markdown",
   "id": "11c2dfc4-7f78-406b-ad31-438f8dd2829b",
   "metadata": {},
   "source": [
    "2. Setup"
   ]
  },
  {
   "cell_type": "code",
   "execution_count": 66,
   "id": "963219cd-de2c-4328-9994-3c74d09fca73",
   "metadata": {},
   "outputs": [],
   "source": [
    "# a. allocate\n",
    "path_ph_ = np.zeros(model.par.path_T)\n",
    "path_ph = np.zeros(model.par.path_T)\n",
    "\n",
    "# b. setting\n",
    "nu = 0.9995 # relaxation parameter\n",
    "max_iter = 500 # maximum number of iterations\n",
    "\n",
    "# Set path of prices\n",
    "path_ph[:] = model.par.ph\n",
    "model.par.path_ph[model.par.sim_T:model.par.sim_T+model.par.path_T] = path_ph"
   ]
  },
  {
   "cell_type": "markdown",
   "id": "c16c312f-9bfc-416e-9bbd-846517aa99fd",
   "metadata": {},
   "source": [
    "3. Solve and simulate along path - **start here again**"
   ]
  },
  {
   "cell_type": "code",
   "execution_count": 108,
   "id": "b3bdd281-cc94-4d7f-979a-59647aff79e1",
   "metadata": {},
   "outputs": [],
   "source": [
    "model.solve_path()\n",
    "model.simulate_path()"
   ]
  },
  {
   "cell_type": "markdown",
   "id": "2c7eb610-71a7-400a-91fc-78a3232ba38b",
   "metadata": {},
   "source": [
    "4. Find implied house price"
   ]
  },
  {
   "cell_type": "code",
   "execution_count": 109,
   "id": "3e84aa2a-e0c5-455f-8d0d-a5e9af1c9a37",
   "metadata": {},
   "outputs": [],
   "source": [
    "for t in range(model.par.path_T):\n",
    "    path_ph_[t] = Hs_prime(np.mean(model.sim_path.d, axis=1)[model.par.sim_T+t])"
   ]
  },
  {
   "cell_type": "markdown",
   "id": "d0c280c1-6323-485a-b106-520a726104b2",
   "metadata": {},
   "source": [
    "5. Compute difference between implied and actual prices"
   ]
  },
  {
   "cell_type": "code",
   "execution_count": 110,
   "id": "8cb6c1bc-3d1e-43a3-b49e-fc8539d4f762",
   "metadata": {},
   "outputs": [
    {
     "name": "stdout",
     "output_type": "stream",
     "text": [
      "49.0993239408949\n"
     ]
    }
   ],
   "source": [
    "max_abs_diff = np.max(np.abs(path_ph-path_ph_))\n",
    "print(max_abs_diff)"
   ]
  },
  {
   "cell_type": "markdown",
   "id": "51f4f5fd-056d-435c-b791-0aba6399caae",
   "metadata": {},
   "source": [
    "Check results"
   ]
  },
  {
   "cell_type": "code",
   "execution_count": 111,
   "id": "e06d9a46-d3d8-46c9-aaf5-5446ace7a4a7",
   "metadata": {},
   "outputs": [
    {
     "data": {
      "text/plain": [
       "[<matplotlib.lines.Line2D at 0x19de8589a00>]"
      ]
     },
     "execution_count": 111,
     "metadata": {},
     "output_type": "execute_result"
    },
    {
     "data": {
      "image/png": "[encoded data removed]",
      "text/plain": [
       "<Figure size 432x288 with 1 Axes>"
      ]
     },
     "metadata": {
      "needs_background": "light"
     },
     "output_type": "display_data"
    }
   ],
   "source": [
    "y = path_ph_ - path_ph\n",
    "plt.plot(y)"
   ]
  },
  {
   "cell_type": "markdown",
   "id": "f28094bf-9640-4afa-9767-f1307f121c92",
   "metadata": {},
   "source": [
    "6. Update price sequence"
   ]
  },
  {
   "cell_type": "code",
   "execution_count": 112,
   "id": "700177d9-d3f6-4cbc-9977-332428cb279b",
   "metadata": {
    "tags": []
   },
   "outputs": [
    {
     "data": {
      "text/plain": [
       "[<matplotlib.lines.Line2D at 0x19d848a90d0>]"
      ]
     },
     "execution_count": 112,
     "metadata": {},
     "output_type": "execute_result"
    },
    {
     "data": {
      "image/png": "[encoded data removed]",
      "text/plain": [
       "<Figure size 432x288 with 1 Axes>"
      ]
     },
     "metadata": {
      "needs_background": "light"
     },
     "output_type": "display_data"
    }
   ],
   "source": [
    "path_ph = nu*path_ph + (1-nu)*path_ph_\n",
    "plt.plot(path_ph)"
   ]
  },
  {
   "cell_type": "markdown",
   "id": "a9289448-2698-4647-97c8-32b0d0742d61",
   "metadata": {},
   "source": [
    "7. Add updated price sequence to model. **Then return to step 3**"
   ]
  },
  {
   "cell_type": "code",
   "execution_count": 113,
   "id": "2d0ee5c3-96c8-49ab-aa8f-77d476d05d02",
   "metadata": {},
   "outputs": [],
   "source": [
    "model.par.path_ph[model.par.sim_T:model.par.sim_T+model.par.path_T] = path_ph"
   ]
  },
  {
   "cell_type": "markdown",
   "id": "6fee7ccb-8fda-4e3d-9fd7-ea47ee2f5d6f",
   "metadata": {},
   "source": [
    "Test plot"
   ]
  },
  {
   "cell_type": "code",
   "execution_count": 114,
   "id": "a4fad42a-8c7d-4447-a6bc-fb6548fade2c",
   "metadata": {
    "tags": []
   },
   "outputs": [
    {
     "data": {
      "text/plain": [
       "[<matplotlib.lines.Line2D at 0x19d837ff0a0>]"
      ]
     },
     "execution_count": 114,
     "metadata": {},
     "output_type": "execute_result"
    },
    {
     "data": {
      "image/png": "[encoded data removed]",
      "text/plain": [
       "<Figure size 432x288 with 1 Axes>"
      ]
     },
     "metadata": {
      "needs_background": "light"
     },
     "output_type": "display_data"
    }
   ],
   "source": [
    "plt.plot(model.par.path_ph)"
   ]
  },
  {
   "cell_type": "code",
   "execution_count": 115,
   "id": "294e699a-f2e3-46c7-af5a-88c0cf43482e",
   "metadata": {},
   "outputs": [
    {
     "data": {
      "image/png": "[encoded data removed]",
      "text/plain": [
       "<Figure size 432x288 with 1 Axes>"
      ]
     },
     "metadata": {
      "needs_background": "light"
     },
     "output_type": "display_data"
    }
   ],
   "source": [
    "# define\n",
    "h_path = np.mean(model.sim_path.d, axis=1)\n",
    "\n",
    "# plot\n",
    "plt.plot(range(len(h_path)),h_path)\n",
    "plt.xlim(150,300)\n",
    "plt.ylim(0.045,0.065)\n",
    "plt.show()"
   ]
  },
  {
   "cell_type": "code",
   "execution_count": 566,
   "id": "ad8c54e6-3756-4813-bea1-548910e603ee",
   "metadata": {},
   "outputs": [
    {
     "data": {
      "image/png": "[encoded data removed]",
      "text/plain": [
       "<Figure size 432x288 with 1 Axes>"
      ]
     },
     "metadata": {
      "needs_background": "light"
     },
     "output_type": "display_data"
    }
   ],
   "source": [
    "fig = plt.figure(figsize=(6,4))\n",
    "ax = fig.add_subplot(1,1,1)\n",
    "\n",
    "ax.plot(range(0,50),path_ph, color = 'red', label = 'Demand',zorder=2)\n",
    "\n",
    "# ax.set_xlim(0.0,0.14)\n",
    "# ax.set_ylim(2.5,9.4)\n",
    "ax.set_xlabel('Time')\n",
    "ax.set_ylabel(r'$p_t$')\n",
    "\n",
    "ax.grid(visible=True, which = 'major', linestyle='-', linewidth=0.5, color='0.9')\n",
    "ax.tick_params(axis='both',bottom=True,top=True,left=True,right=True,direction='in',which='both')\n",
    "# ax.legend(frameon = True, edgecolor = 'k', facecolor = 'white', framealpha=1, fancybox=False)\n",
    "\n",
    "# plt.savefig('../../tex/figs/IRF_ph.pdf')"
   ]
  },
  {
   "cell_type": "markdown",
   "id": "c958f835-096e-4d8b-b08f-26a446aa1207",
   "metadata": {
    "tags": []
   },
   "source": [
    "## Find Equilibrium Along a Transition Path"
   ]
  },
  {
   "cell_type": "markdown",
   "id": "37dd4ffa-86b8-4b9a-b75c-d3f4c3f50ece",
   "metadata": {},
   "source": [
    "I apply a relaxation algorithm where I use a ghost run along the path as the benchmark to update equilibrium prices"
   ]
  },
  {
   "cell_type": "code",
   "execution_count": 5,
   "id": "3207f784-8d8d-4d94-a3f2-1a080f8d072f",
   "metadata": {},
   "outputs": [],
   "source": [
    "# Define the model\n",
    "model = HousingModelClass(name='example_negm',par={'solmethod':'negm', 'do_print':False})\n",
    "\n",
    "# Solve and simulate\n",
    "model.precompile_numba()\n",
    "model.solve()\n",
    "# model.simulate()"
   ]
  },
  {
   "cell_type": "markdown",
   "id": "25e18cc3-605d-4edd-a98d-ac8613fd0bb5",
   "metadata": {},
   "source": [
    "Ghost run - simulate path without abn interest rate drop"
   ]
  },
  {
   "cell_type": "code",
   "execution_count": 6,
   "id": "c5388314-2d8f-475b-aeed-eb88b8c37a76",
   "metadata": {},
   "outputs": [],
   "source": [
    "# No drop\n",
    "model.par.R_drop = 0.0\n",
    "\n",
    "# Solve and simulate along the path\n",
    "model.solve_path()\n",
    "model.simulate_path()"
   ]
  },
  {
   "cell_type": "markdown",
   "id": "447ac163-bccb-4c40-8228-0e51b73ebd58",
   "metadata": {},
   "source": [
    "Check if everything looks reasonable"
   ]
  },
  {
   "cell_type": "code",
   "execution_count": 9,
   "id": "eda18eed-9dca-4921-8114-2c23ebe058fe",
   "metadata": {
    "tags": []
   },
   "outputs": [
    {
     "data": {
      "image/png": "[encoded data removed]",
      "text/plain": [
       "<Figure size 432x288 with 1 Axes>"
      ]
     },
     "metadata": {
      "needs_background": "light"
     },
     "output_type": "display_data"
    }
   ],
   "source": [
    "# Define aggregates\n",
    "h_ss = np.mean(model.sim.d, axis=1)\n",
    "h_path = np.mean(model.sim_path.d, axis=1)\n",
    "\n",
    "# Plot results\n",
    "plt.plot(h_ss, color ='blue')\n",
    "plt.plot(h_path, color = 'red')\n",
    "plt.show()"
   ]
  },
  {
   "cell_type": "markdown",
   "id": "7eb9776c-5efe-4f9a-84a9-32ae7b12cae9",
   "metadata": {},
   "source": [
    "Looks fine!"
   ]
  },
  {
   "cell_type": "code",
   "execution_count": 10,
   "id": "ece1b5a3-d0a5-4c31-8414-ee76c40108e6",
   "metadata": {},
   "outputs": [],
   "source": [
    "# Define ghost run path\n",
    "H_ghost = np.mean(model.sim_path.d, axis=1)"
   ]
  },
  {
   "cell_type": "markdown",
   "id": "8abaa94d-a1b9-4a6c-b831-99ea2dbe910f",
   "metadata": {},
   "source": [
    "## Apply relaxation algorithm "
   ]
  },
  {
   "cell_type": "code",
   "execution_count": 49,
   "id": "2b0a5dbe-eb0c-4d56-b590-e48abc5505b3",
   "metadata": {},
   "outputs": [],
   "source": [
    "# Initialize model and solve initial steady state\n",
    "model_path = HousingModelClass(name='example_negm',par={'solmethod':'negm', 'do_print':False})\n",
    "model_path.precompile_numba()\n",
    "model_path.solve()\n",
    "model_path.simulate() # simulate initial ss"
   ]
  },
  {
   "cell_type": "code",
   "execution_count": 53,
   "id": "b2459ef5-89ae-4fc1-8e8b-8cd79428dd5e",
   "metadata": {},
   "outputs": [
    {
     "data": {
      "image/png": "[encoded data removed]",
      "text/plain": [
       "<Figure size 432x288 with 1 Axes>"
      ]
     },
     "metadata": {
      "needs_background": "light"
     },
     "output_type": "display_data"
    }
   ],
   "source": [
    "h_ss = np.mean(model_path.sim.d, axis=1)\n",
    "h_path = np.mean(model_path.sim_path.d, axis=1)\n",
    "\n",
    "# Plot results\n",
    "plt.plot(h_ss, color ='blue')\n",
    "plt.plot(h_path, color = 'red')\n",
    "plt.show()"
   ]
  },
  {
   "cell_type": "code",
   "execution_count": 77,
   "id": "5654160e-0265-414b-9af6-f63c18aca921",
   "metadata": {},
   "outputs": [
    {
     "name": "stdout",
     "output_type": "stream",
     "text": [
      "1th iteration: dif = 0.011167044840519447\n",
      "2th iteration: dif = 0.011193435416135072\n",
      "3th iteration: dif = 0.010521676565212024\n",
      "4th iteration: dif = 0.010175179631285836\n",
      "5th iteration: dif = 0.009907851231054532\n",
      "6th iteration: dif = 0.009673854165789031\n",
      "7th iteration: dif = 0.009546919754343741\n",
      "8th iteration: dif = 0.009434107212938775\n",
      "9th iteration: dif = 0.009053097953141603\n",
      "10th iteration: dif = 0.008153557865285072\n",
      "11th iteration: dif = 0.007952816041153055\n",
      "12th iteration: dif = 0.007776442977214193\n",
      "13th iteration: dif = 0.007650678499544206\n",
      "14th iteration: dif = 0.007278326037095828\n",
      "15th iteration: dif = 0.006603380194647068\n",
      "16th iteration: dif = 0.006163073517075596\n",
      "17th iteration: dif = 0.005728135475721957\n",
      "18th iteration: dif = 0.0054872089849804795\n",
      "19th iteration: dif = 0.005138517196541764\n",
      "20th iteration: dif = 0.005091067700641078\n",
      "21th iteration: dif = 0.004690742735388415\n",
      "22th iteration: dif = 0.004539000627066164\n",
      "23th iteration: dif = 0.004382526108693635\n",
      "24th iteration: dif = 0.004250595136508051\n",
      "25th iteration: dif = 0.004223609996911681\n",
      "26th iteration: dif = 0.0040632507525563966\n",
      "27th iteration: dif = 0.0035782598369450414\n",
      "28th iteration: dif = 0.0034660813073606744\n",
      "29th iteration: dif = 0.003338443968098098\n",
      "30th iteration: dif = 0.003301422350395433\n",
      "31th iteration: dif = 0.003184898516429141\n",
      "32th iteration: dif = 0.0031144202515064057\n",
      "33th iteration: dif = 0.003064157102575682\n",
      "34th iteration: dif = 0.0029631293837791006\n",
      "35th iteration: dif = 0.0027197551919445617\n",
      "36th iteration: dif = 0.002639279628671082\n",
      "37th iteration: dif = 0.0025063871455855424\n",
      "38th iteration: dif = 0.0024355140970367117\n",
      "39th iteration: dif = 0.0023276193562330183\n",
      "40th iteration: dif = 0.002242321200728231\n",
      "41th iteration: dif = 0.002157331612423402\n",
      "42th iteration: dif = 0.002076826564482215\n",
      "43th iteration: dif = 0.0021813852998172067\n",
      "44th iteration: dif = 0.0019452369751574716\n",
      "45th iteration: dif = 0.0019073950582296217\n",
      "46th iteration: dif = 0.0018529081899070488\n",
      "47th iteration: dif = 0.0018770882209934725\n",
      "48th iteration: dif = 0.0016094495995856717\n",
      "49th iteration: dif = 0.0016280457872953624\n",
      "50th iteration: dif = 0.0016413891721432095\n",
      "51th iteration: dif = 0.0015651790310030056\n",
      "52th iteration: dif = 0.0015396839562380749\n",
      "53th iteration: dif = 0.0014849580991663225\n",
      "54th iteration: dif = 0.001434909967009984\n",
      "55th iteration: dif = 0.001348680774482497\n",
      "56th iteration: dif = 0.0012475469935919747\n",
      "57th iteration: dif = 0.0010358725089361087\n"
     ]
    }
   ],
   "source": [
    "# a. allocate\n",
    "path_ph = np.zeros(model_path.par.path_T + model_path.par.T)\n",
    "\n",
    "# b. setting - 0.9999\n",
    "nu = 2.0 # relaxation parameter\n",
    "max_iter = 1000 # maximum number of iterations\n",
    "\n",
    "# # c. Set path of prices\n",
    "path_ph[:] = model_path.par.ph\n",
    "model_path.par.path_ph = path_ph\n",
    "\n",
    "# d. iterate\n",
    "it = 0\n",
    "for _ in range(max_iter):\n",
    "\n",
    "    # ii. solve and simulate\n",
    "    model_path.solve_path()\n",
    "    model_path.simulate_path()\n",
    "\n",
    "    # iii. Implied aggregate housing demand\n",
    "    H = np.mean(model_path.sim_path.d, axis=1)\n",
    "    \n",
    "    # iv. difference\n",
    "    max_abs_diff = np.max(np.abs(H[:-2] - H_ghost[:-2]))\n",
    "    # if it%10 == 0: print(f'{it:4d}: {max_abs_diff:.8f}')\n",
    "    if max_abs_diff < 10e-4: break # test different values of this threshold\n",
    "\n",
    "    # v. update\n",
    "    path_ph[:model_path.par.path_T] = path_ph[:model_path.par.path_T] + nu*(H - H_ghost)\n",
    "    path_ph[model_path.par.path_T:] = path_ph[model_path.par.path_T-3]\n",
    "    \n",
    "    model_path.par.path_ph = path_ph    \n",
    "    \n",
    "    # vi.  increment\n",
    "    it += 1\n",
    "    if it > max_iter: raise Exception('too many iterations')    \n",
    "    \n",
    "    print(str(it)+'th iteration: dif = '+str(max_abs_diff))"
   ]
  },
  {
   "cell_type": "code",
   "execution_count": 92,
   "id": "dde8cbfa-c080-4dcb-87e3-81004d0f02a0",
   "metadata": {},
   "outputs": [
    {
     "data": {
      "image/png": "[encoded data removed]",
      "text/plain": [
       "<Figure size 432x288 with 1 Axes>"
      ]
     },
     "metadata": {
      "needs_background": "light"
     },
     "output_type": "display_data"
    }
   ],
   "source": [
    "fig = plt.figure(figsize=(6,4))\n",
    "ax = fig.add_subplot(1,1,1)\n",
    "\n",
    "ax.plot(range(model_path.par.path_T),path_ph[:200], color = 'red', linestyle='-', linewidth=1,  label = 'Demand',zorder=2)\n",
    "# ax.plot(range(model_path.par.path_T),yhat, color = 'red', linestyle='--', label = 'price', zorder=2)\n",
    "\n",
    "ax.set_xlim(0,100)\n",
    "\n",
    "ax.set_xlabel('Time')\n",
    "ax.set_ylabel(r'$p_t$')\n",
    "\n",
    "ax.grid(visible=True, which = 'major', linestyle='-', linewidth=0.5, color='0.9')\n",
    "ax.tick_params(axis='both',bottom=True,top=True,left=True,right=True,direction='in',which='both')\n",
    "# ax.legend(frameon = True, edgecolor = 'k', facecolor = 'white', framealpha=1, fancybox=False)\n",
    "\n",
    "plt.savefig('../../tex/figs/IRF_ph.pdf')"
   ]
  },
  {
   "cell_type": "code",
   "execution_count": 109,
   "id": "76e460ec-a29b-4d20-8028-056cdf47595f",
   "metadata": {},
   "outputs": [],
   "source": [
    "c_path = np.zeros(10+model_path.par.path_T)\n",
    "c_path[0:10] = np.mean(model_path.sim.c, axis=1)[-10:]\n",
    "c_path[10:] = np.mean(model_path.sim_path.c, axis=1)\n",
    "\n",
    "m_path = np.zeros(10+model_path.par.path_T)\n",
    "m_path[0:10] = np.mean(model_path.sim.m, axis=1)[-10:]\n",
    "m_path[10:] = np.mean(model_path.sim_path.m, axis=1)\n",
    "\n",
    "t_axis = range(-10,200) # Time from shock"
   ]
  },
  {
   "cell_type": "code",
   "execution_count": 138,
   "id": "351e4c27-4f71-4c06-bbf5-4ce48dfd5f31",
   "metadata": {},
   "outputs": [
    {
     "data": {
      "image/png": "[encoded data removed]",
      "text/plain": [
       "<Figure size 432x288 with 1 Axes>"
      ]
     },
     "metadata": {
      "needs_background": "light"
     },
     "output_type": "display_data"
    }
   ],
   "source": [
    "fig = plt.figure(figsize=(6,4))\n",
    "ax = fig.add_subplot(1,1,1)\n",
    "\n",
    "ax.plot(t_axis, c_path, color = 'blue', linestyle='-', linewidth=1,  label = 'Demand',zorder=2)\n",
    "ax.vlines(0,0,10, color = '0.2', linestyle='--', linewidth = 1.2, zorder=2)\n",
    "\n",
    "ax.set_xlim(-10,110)\n",
    "ax.set_ylim(1.095,1.122)\n",
    "\n",
    "ax.set_xlabel('Time from shock')\n",
    "ax.set_ylabel(r'$c^\\mathrm{agg}_t$')\n",
    "\n",
    "ax.grid(visible=True, which = 'major', linestyle='-', linewidth=0.5, color='0.9')\n",
    "ax.tick_params(axis='both',bottom=True,top=True,left=True,right=True,direction='in',which='both')\n",
    "# ax.legend(frameon = True, edgecolor = 'k', facecolor = 'white', framealpha=1, fancybox=False)\n",
    "\n",
    "plt.savefig('../../tex/figs/IRF_c.pdf')"
   ]
  },
  {
   "cell_type": "code",
   "execution_count": 142,
   "id": "7905e7fc-b996-43ef-9479-07b291996d8a",
   "metadata": {},
   "outputs": [
    {
     "data": {
      "image/png": "[encoded data removed]",
      "text/plain": [
       "<Figure size 432x288 with 1 Axes>"
      ]
     },
     "metadata": {
      "needs_background": "light"
     },
     "output_type": "display_data"
    }
   ],
   "source": [
    "fig = plt.figure(figsize=(6,4))\n",
    "ax = fig.add_subplot(1,1,1)\n",
    "\n",
    "ax.plot(t_axis, m_path, color = 'red', linestyle='-', linewidth=1,  label = 'Demand',zorder=2)\n",
    "ax.vlines(0,0,10, color = '0.2', linestyle='--', linewidth = 1.2, zorder=2)\n",
    "\n",
    "ax.set_xlim(-10,100)\n",
    "ax.set_ylim(1.84,2.11)\n",
    "\n",
    "ax.set_xlabel('Time from shock')\n",
    "ax.set_ylabel(r'$m^\\mathrm{agg}_t$')\n",
    "\n",
    "ax.grid(visible=True, which = 'major', linestyle='-', linewidth=0.5, color='0.9')\n",
    "ax.tick_params(axis='both',bottom=True,top=True,left=True,right=True,direction='in',which='both')\n",
    "\n",
    "plt.savefig('../../tex/figs/IRF_m.pdf')"
   ]
  }
 ],
 "metadata": {
  "kernelspec": {
   "display_name": "Python 3 (ipykernel)",
   "language": "python",
   "name": "python3"
  },
  "language_info": {
   "codemirror_mode": {
    "name": "ipython",
    "version": 3
   },
   "file_extension": ".py",
   "mimetype": "text/x-python",
   "name": "python",
   "nbconvert_exporter": "python",
   "pygments_lexer": "ipython3",
   "version": "3.9.10"
  }
 },
 "nbformat": 4,
 "nbformat_minor": 5
}
