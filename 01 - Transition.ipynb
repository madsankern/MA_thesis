{
 "cells": [
  {
   "cell_type": "markdown",
   "id": "3cb73a7a-682f-4f58-b9af-0201b9cdf547",
   "metadata": {},
   "source": [
    "# Transition Path"
   ]
  },
  {
   "cell_type": "markdown",
   "id": "173566da-5ac9-488d-9bbd-0bca5bfe2178",
   "metadata": {},
   "source": [
    "In this notebook, I solve and simulate the housing model along a **transition path** stemming from an interest rate shock"
   ]
  },
  {
   "cell_type": "code",
   "execution_count": 252,
   "id": "f047c835-55b1-4819-8d0b-62d765ccfc91",
   "metadata": {
    "tags": []
   },
   "outputs": [
    {
     "name": "stdout",
     "output_type": "stream",
     "text": [
      "The autoreload extension is already loaded. To reload it, use:\n",
      "  %reload_ext autoreload\n"
     ]
    }
   ],
   "source": [
    "%load_ext autoreload\n",
    "%autoreload 2\n",
    "\n",
    "import time\n",
    "import numpy as np\n",
    "import numba as nb\n",
    "import matplotlib.pyplot as plt\n",
    "import funcs as f\n",
    "from scipy import stats\n",
    "\n",
    "# load the DurableConsumptionModel module\n",
    "from HousingModel import HousingModelClass\n",
    "\n",
    "# Set the number of threads in numba\n",
    "nb.set_num_threads(3)\n",
    "\n",
    "# Smoother\n",
    "# from scipy.signal import savgol_filter"
   ]
  },
  {
   "cell_type": "markdown",
   "id": "c958f835-096e-4d8b-b08f-26a446aa1207",
   "metadata": {
    "tags": []
   },
   "source": [
    "# Find Equilibrium Along a Transition Path"
   ]
  },
  {
   "cell_type": "markdown",
   "id": "37dd4ffa-86b8-4b9a-b75c-d3f4c3f50ece",
   "metadata": {},
   "source": [
    "I apply a relaxation algorithm where I use a ghost run along the path as the benchmark to update equilibrium prices"
   ]
  },
  {
   "cell_type": "code",
   "execution_count": 253,
   "id": "3207f784-8d8d-4d94-a3f2-1a080f8d072f",
   "metadata": {},
   "outputs": [],
   "source": [
    "# Define the model\n",
    "taug = 0.0 # baseline w/o gains tax\n",
    "model = HousingModelClass(name='example_negm',par={'solmethod':'negm', 'taug':taug, 'do_print':False})\n",
    "\n",
    "# # Solve and simulate\n",
    "model.precompile_numba()\n",
    "model.solve()\n",
    "model.simulate()"
   ]
  },
  {
   "cell_type": "markdown",
   "id": "25e18cc3-605d-4edd-a98d-ac8613fd0bb5",
   "metadata": {},
   "source": [
    "Ghost run - simulate path without an interest rate drop"
   ]
  },
  {
   "cell_type": "code",
   "execution_count": null,
   "id": "c5388314-2d8f-475b-aeed-eb88b8c37a76",
   "metadata": {},
   "outputs": [],
   "source": [
    "# No drop in interest rates\n",
    "model.par.R_drop = 0.0\n",
    "\n",
    "# Solve and simulate along the path\n",
    "model.solve_path()\n",
    "model.simulate_path()"
   ]
  },
  {
   "cell_type": "markdown",
   "id": "094f1e12-e571-4f73-b24d-c4af2608daae",
   "metadata": {},
   "source": [
    "Define ghost path"
   ]
  },
  {
   "cell_type": "code",
   "execution_count": 62,
   "id": "ece1b5a3-d0a5-4c31-8414-ee76c40108e6",
   "metadata": {},
   "outputs": [
    {
     "ename": "NameError",
     "evalue": "name 'model' is not defined",
     "output_type": "error",
     "traceback": [
      "\u001b[1;31m---------------------------------------------------------------------------\u001b[0m",
      "\u001b[1;31mNameError\u001b[0m                                 Traceback (most recent call last)",
      "\u001b[1;32m~\\AppData\\Local\\Temp\\ipykernel_10596\\520232135.py\u001b[0m in \u001b[0;36m<cell line: 2>\u001b[1;34m()\u001b[0m\n\u001b[0;32m      1\u001b[0m \u001b[1;31m# Define ghost run path\u001b[0m\u001b[1;33m\u001b[0m\u001b[1;33m\u001b[0m\u001b[0m\n\u001b[1;32m----> 2\u001b[1;33m \u001b[0mH_ghost\u001b[0m \u001b[1;33m=\u001b[0m \u001b[0mnp\u001b[0m\u001b[1;33m.\u001b[0m\u001b[0mmean\u001b[0m\u001b[1;33m(\u001b[0m\u001b[0mmodel\u001b[0m\u001b[1;33m.\u001b[0m\u001b[0msim_path\u001b[0m\u001b[1;33m.\u001b[0m\u001b[0md\u001b[0m\u001b[1;33m,\u001b[0m \u001b[0maxis\u001b[0m\u001b[1;33m=\u001b[0m\u001b[1;36m1\u001b[0m\u001b[1;33m)\u001b[0m\u001b[1;33m\u001b[0m\u001b[1;33m\u001b[0m\u001b[0m\n\u001b[0m",
      "\u001b[1;31mNameError\u001b[0m: name 'model' is not defined"
     ]
    }
   ],
   "source": [
    "# Define ghost run path\n",
    "H_ghost = np.mean(model.sim_path.d, axis=1)"
   ]
  },
  {
   "cell_type": "markdown",
   "id": "8abaa94d-a1b9-4a6c-b831-99ea2dbe910f",
   "metadata": {
    "tags": []
   },
   "source": [
    "## Apply relaxation algorithm "
   ]
  },
  {
   "cell_type": "code",
   "execution_count": 3,
   "id": "2b0a5dbe-eb0c-4d56-b590-e48abc5505b3",
   "metadata": {},
   "outputs": [],
   "source": [
    "# Initialize model and solve initial steady state\n",
    "model_path = HousingModelClass(name='example_negm',par={'solmethod':'negm', 'do_print':False})\n",
    "model_path.precompile_numba()\n",
    "model_path.solve()\n",
    "model_path.simulate() # simulate initial ss"
   ]
  },
  {
   "cell_type": "code",
   "execution_count": 4,
   "id": "06a137b1-3d69-4a4c-b99e-4f0f043d44b6",
   "metadata": {},
   "outputs": [],
   "source": [
    "model_path.par.R_drop = 0.0\n",
    "model_path.par.taug = 0.0\n",
    "model_path.solve_path()\n",
    "model_path.simulate_path()"
   ]
  },
  {
   "cell_type": "code",
   "execution_count": 5,
   "id": "d4e29034-1b86-4a37-b3f2-4014f4e26cf3",
   "metadata": {},
   "outputs": [],
   "source": [
    "H_ghost = np.mean(model_path.sim_path.d, axis=1)"
   ]
  },
  {
   "cell_type": "code",
   "execution_count": 6,
   "id": "4f0d01a8-e6f7-4042-ae5e-68881659ba83",
   "metadata": {},
   "outputs": [],
   "source": [
    "model_path.par.R_drop = 0.005"
   ]
  },
  {
   "cell_type": "markdown",
   "id": "091ead2a-748e-4869-aaf3-8c9e4c87de0f",
   "metadata": {},
   "source": [
    "Check how the partial eq. impulse response looks"
   ]
  },
  {
   "cell_type": "code",
   "execution_count": 8,
   "id": "5654160e-0265-414b-9af6-f63c18aca921",
   "metadata": {},
   "outputs": [
    {
     "name": "stdout",
     "output_type": "stream",
     "text": [
      "p_max is 1.0110286997510225\n",
      "1th iteration: dif = 0.11125348553629277\n",
      "p_max is 1.021724527525717\n",
      "2th iteration: dif = 0.10695827774694466\n",
      "p_max is 1.0320550241943645\n",
      "3th iteration: dif = 0.10405177267016708\n",
      "p_max is 1.0423011752040547\n",
      "4th iteration: dif = 0.10319334978623007\n",
      "p_max is 1.0518440921638035\n",
      "5th iteration: dif = 0.09832324769866396\n",
      "p_max is 1.0612617602817274\n",
      "6th iteration: dif = 0.09965243436596527\n",
      "p_max is 1.0698311357619439\n",
      "7th iteration: dif = 0.09586224403891919\n",
      "p_max is 1.078908078741628\n",
      "8th iteration: dif = 0.09290979988957448\n",
      "p_max is 1.0882935326604315\n",
      "9th iteration: dif = 0.0938545391880341\n",
      "p_max is 1.0968210258473867\n",
      "10th iteration: dif = 0.0852749318695527\n",
      "p_max is 1.1056962766091347\n",
      "11th iteration: dif = 0.08875250761747999\n",
      "p_max is 1.1145314572563556\n",
      "12th iteration: dif = 0.08835180647220975\n",
      "p_max is 1.122696833839651\n",
      "13th iteration: dif = 0.08558481507980775\n",
      "p_max is 1.1308573571292824\n",
      "14th iteration: dif = 0.08458874060973476\n",
      "p_max is 1.1376392590875435\n",
      "15th iteration: dif = 0.08270939421055634\n",
      "p_max is 1.1454486057104558\n",
      "16th iteration: dif = 0.07809346622912328\n",
      "p_max is 1.152424845929556\n",
      "17th iteration: dif = 0.06982643594786042\n",
      "p_max is 1.1594613113480219\n",
      "18th iteration: dif = 0.07036465418465898\n",
      "p_max is 1.166552147531751\n",
      "19th iteration: dif = 0.07090836183729143\n",
      "p_max is 1.1728878352310574\n",
      "20th iteration: dif = 0.0633568769930637\n",
      "p_max is 1.179185886069725\n",
      "21th iteration: dif = 0.06298050838667568\n",
      "p_max is 1.1857942939387507\n",
      "22th iteration: dif = 0.0660840786902559\n",
      "p_max is 1.19193500841682\n",
      "23th iteration: dif = 0.06140714478069498\n",
      "p_max is 1.1981993151929684\n",
      "24th iteration: dif = 0.0626430677614831\n",
      "p_max is 1.2046556510186512\n",
      "25th iteration: dif = 0.06456335825682924\n",
      "p_max is 1.211283857645313\n",
      "26th iteration: dif = 0.06628206626661926\n",
      "p_max is 1.2178968802816645\n",
      "27th iteration: dif = 0.06613022636351484\n",
      "p_max is 1.2239961284907117\n",
      "28th iteration: dif = 0.060992482090471256\n",
      "p_max is 1.2298208041346024\n",
      "29th iteration: dif = 0.05824675643890598\n",
      "p_max is 1.2350486110163756\n",
      "30th iteration: dif = 0.05606540540243654\n",
      "p_max is 1.240395120636902\n",
      "31th iteration: dif = 0.05346509620526296\n",
      "p_max is 1.2453856669145706\n",
      "32th iteration: dif = 0.04990546277668795\n",
      "p_max is 1.2501450918508006\n",
      "33th iteration: dif = 0.04879129616689748\n",
      "p_max is 1.2549368938410164\n",
      "34th iteration: dif = 0.04791801990215694\n",
      "p_max is 1.259528555697551\n",
      "35th iteration: dif = 0.0459166185653459\n",
      "p_max is 1.2641112131122922\n",
      "36th iteration: dif = 0.045826574147412646\n",
      "p_max is 1.2686284661040736\n",
      "37th iteration: dif = 0.04517252991781384\n",
      "p_max is 1.2732271536493023\n",
      "38th iteration: dif = 0.04598687545228719\n",
      "p_max is 1.2779940707616608\n",
      "39th iteration: dif = 0.04766917112358482\n",
      "p_max is 1.2829875812245577\n",
      "40th iteration: dif = 0.049935104628968885\n",
      "p_max is 1.2878512554433788\n",
      "41th iteration: dif = 0.048636742188210125\n",
      "p_max is 1.292280034847758\n",
      "42th iteration: dif = 0.04428779404379446\n",
      "p_max is 1.2966514668148936\n",
      "43th iteration: dif = 0.04371431967135453\n",
      "p_max is 1.3009810483878097\n",
      "44th iteration: dif = 0.04329581572916097\n",
      "p_max is 1.3050835208429075\n",
      "45th iteration: dif = 0.04102472455097739\n",
      "p_max is 1.309232887781423\n",
      "46th iteration: dif = 0.04149366938515531\n",
      "p_max is 1.3131007862910464\n",
      "47th iteration: dif = 0.03867898509623413\n",
      "p_max is 1.3170332214204605\n",
      "48th iteration: dif = 0.039324351294139914\n",
      "p_max is 1.321038167886256\n",
      "49th iteration: dif = 0.04004946465795456\n",
      "p_max is 1.3248359576706688\n",
      "50th iteration: dif = 0.03797789784412697\n",
      "p_max is 1.3285284679183136\n",
      "51th iteration: dif = 0.03692510247644876\n",
      "p_max is 1.332046989855178\n",
      "52th iteration: dif = 0.03518521936864438\n",
      "p_max is 1.3356006815148627\n",
      "53th iteration: dif = 0.03553691659684599\n",
      "p_max is 1.3391974533871611\n",
      "54th iteration: dif = 0.0359677187229841\n",
      "p_max is 1.342717316090349\n",
      "55th iteration: dif = 0.03519862703187848\n",
      "p_max is 1.3462378850152417\n",
      "56th iteration: dif = 0.03520568924892631\n",
      "p_max is 1.349520614220722\n",
      "57th iteration: dif = 0.03282729205480339\n",
      "p_max is 1.3527491235845122\n",
      "58th iteration: dif = 0.03228509363790155\n",
      "p_max is 1.3559996379793966\n",
      "59th iteration: dif = 0.03250514394884463\n",
      "p_max is 1.3593153609407655\n",
      "60th iteration: dif = 0.033157229613690165\n",
      "p_max is 1.3623988159343994\n",
      "61th iteration: dif = 0.0313778381457277\n",
      "p_max is 1.3654396867186922\n",
      "62th iteration: dif = 0.03040870784292915\n",
      "p_max is 1.3683456943483532\n",
      "63th iteration: dif = 0.029060076296610227\n",
      "p_max is 1.3713113948906328\n",
      "64th iteration: dif = 0.02965700542279537\n",
      "p_max is 1.3743266755961805\n",
      "65th iteration: dif = 0.030152807055476183\n",
      "p_max is 1.377322519806365\n",
      "66th iteration: dif = 0.029958442101845506\n",
      "p_max is 1.380300006618867\n",
      "67th iteration: dif = 0.029774868125020282\n",
      "p_max is 1.3830716828055811\n",
      "68th iteration: dif = 0.027716761867139894\n",
      "p_max is 1.3858709296109244\n",
      "69th iteration: dif = 0.027992468053433583\n",
      "p_max is 1.3886525963028666\n",
      "70th iteration: dif = 0.0302322648865212\n",
      "p_max is 1.3914987966124017\n",
      "71th iteration: dif = 0.028462003095351962\n",
      "p_max is 1.3943821175434563\n",
      "72th iteration: dif = 0.028833209310545005\n",
      "p_max is 1.3970665706738952\n",
      "73th iteration: dif = 0.026844531304387687\n",
      "p_max is 1.3996437010039127\n",
      "74th iteration: dif = 0.02944215433332964\n",
      "p_max is 1.4022647182961114\n",
      "75th iteration: dif = 0.02621017292198813\n",
      "p_max is 1.4047285635074913\n",
      "76th iteration: dif = 0.024638452113799447\n",
      "p_max is 1.407093065359169\n",
      "77th iteration: dif = 0.027983555395044712\n",
      "p_max is 1.409439228589528\n",
      "78th iteration: dif = 0.027331483489571706\n",
      "p_max is 1.4114493370335397\n",
      "79th iteration: dif = 0.028025967733984025\n",
      "p_max is 1.413500336082178\n",
      "80th iteration: dif = 0.020509990486383245\n",
      "p_max is 1.4155937663934786\n",
      "81th iteration: dif = 0.020934303113005148\n",
      "p_max is 1.4177288694155221\n",
      "82th iteration: dif = 0.02691027491403153\n",
      "p_max is 1.4199270931041978\n",
      "83th iteration: dif = 0.026337129546716742\n",
      "p_max is 1.4221467491738786\n",
      "84th iteration: dif = 0.02219656069680731\n",
      "p_max is 1.4243416966903564\n",
      "85th iteration: dif = 0.021949475164777077\n",
      "p_max is 1.4264807435234363\n",
      "86th iteration: dif = 0.021390468330800827\n",
      "p_max is 1.4284532067666809\n",
      "87th iteration: dif = 0.019724632432445377\n",
      "p_max is 1.4304230309672712\n",
      "88th iteration: dif = 0.019815712904131644\n",
      "p_max is 1.432400561185144\n",
      "89th iteration: dif = 0.02023251008274296\n",
      "p_max is 1.4343145530332873\n",
      "90th iteration: dif = 0.025211569573835302\n",
      "p_max is 1.4362236809850173\n",
      "91th iteration: dif = 0.029259410819420628\n",
      "p_max is 1.4378355601775412\n",
      "92th iteration: dif = 0.02597233453453618\n",
      "p_max is 1.439456878258487\n",
      "93th iteration: dif = 0.03669997534194924\n",
      "p_max is 1.4411132067693557\n",
      "94th iteration: dif = 0.020053493911606823\n",
      "p_max is 1.4428505878797395\n",
      "95th iteration: dif = 0.023853302906154727\n",
      "p_max is 1.44438515651565\n",
      "96th iteration: dif = 0.020187727490847962\n",
      "p_max is 1.4459317442011692\n",
      "97th iteration: dif = 0.021163592316751245\n",
      "p_max is 1.447517262650531\n",
      "98th iteration: dif = 0.02742026531481745\n",
      "p_max is 1.4491432973134613\n",
      "99th iteration: dif = 0.0254430133985577\n",
      "p_max is 1.450801828033121\n",
      "100th iteration: dif = 0.016585307196596233\n",
      "p_max is 1.4524864799584305\n",
      "101th iteration: dif = 0.02743941240790937\n",
      "p_max is 1.4541997053880165\n",
      "102th iteration: dif = 0.02242807433283822\n",
      "p_max is 1.4559327361401828\n",
      "103th iteration: dif = 0.02084949249221557\n",
      "p_max is 1.4576852015066775\n",
      "104th iteration: dif = 0.02096797592291666\n",
      "p_max is 1.4592272802852797\n",
      "105th iteration: dif = 0.020323658239288944\n",
      "p_max is 1.4608009030730122\n",
      "106th iteration: dif = 0.024600690667405445\n",
      "p_max is 1.4624075485503407\n",
      "107th iteration: dif = 0.02845587789098336\n",
      "p_max is 1.4640370600793429\n",
      "108th iteration: dif = 0.027804079108035618\n"
     ]
    },
    {
     "name": "stderr",
     "output_type": "stream",
     "text": [
      "Traceback (most recent call last):\n",
      "  File \"C:\\Users\\madsh\\OneDrive - University of Copenhagen\\Desktop\\Thesis\\code\\MA_thesis\\HousingModel.py\", line 623, in simulate_path\n",
      "    simulate.monte_carlo(sim_path,sol_path,par,path=True)\n",
      "KeyboardInterrupt\n"
     ]
    },
    {
     "ename": "KeyboardInterrupt",
     "evalue": "",
     "output_type": "error",
     "traceback": [
      "\u001b[1;31m---------------------------------------------------------------------------\u001b[0m",
      "\u001b[1;31mKeyboardInterrupt\u001b[0m                         Traceback (most recent call last)",
      "\u001b[1;32m~\\AppData\\Local\\Temp\\ipykernel_13164\\4003026315.py\u001b[0m in \u001b[0;36m<cell line: 14>\u001b[1;34m()\u001b[0m\n\u001b[0;32m     16\u001b[0m     \u001b[1;31m# ii. solve and simulate\u001b[0m\u001b[1;33m\u001b[0m\u001b[1;33m\u001b[0m\u001b[0m\n\u001b[0;32m     17\u001b[0m     \u001b[0mmodel_path\u001b[0m\u001b[1;33m.\u001b[0m\u001b[0msolve_path\u001b[0m\u001b[1;33m(\u001b[0m\u001b[1;33m)\u001b[0m\u001b[1;33m\u001b[0m\u001b[1;33m\u001b[0m\u001b[0m\n\u001b[1;32m---> 18\u001b[1;33m     \u001b[0mmodel_path\u001b[0m\u001b[1;33m.\u001b[0m\u001b[0msimulate_path\u001b[0m\u001b[1;33m(\u001b[0m\u001b[1;33m)\u001b[0m\u001b[1;33m\u001b[0m\u001b[1;33m\u001b[0m\u001b[0m\n\u001b[0m\u001b[0;32m     19\u001b[0m \u001b[1;33m\u001b[0m\u001b[0m\n\u001b[0;32m     20\u001b[0m     \u001b[1;31m# iii. Implied aggregate housing demand\u001b[0m\u001b[1;33m\u001b[0m\u001b[1;33m\u001b[0m\u001b[0m\n",
      "\u001b[1;32m~\\OneDrive - University of Copenhagen\\Desktop\\Thesis\\code\\MA_thesis\\HousingModel.py\u001b[0m in \u001b[0;36msimulate_path\u001b[1;34m(self)\u001b[0m\n\u001b[0;32m    621\u001b[0m             \u001b[0msim\u001b[0m \u001b[1;33m=\u001b[0m \u001b[0mself\u001b[0m\u001b[1;33m.\u001b[0m\u001b[0msim\u001b[0m\u001b[1;33m\u001b[0m\u001b[1;33m\u001b[0m\u001b[0m\n\u001b[0;32m    622\u001b[0m \u001b[1;33m\u001b[0m\u001b[0m\n\u001b[1;32m--> 623\u001b[1;33m             \u001b[0msimulate\u001b[0m\u001b[1;33m.\u001b[0m\u001b[0mmonte_carlo\u001b[0m\u001b[1;33m(\u001b[0m\u001b[0msim_path\u001b[0m\u001b[1;33m,\u001b[0m\u001b[0msol_path\u001b[0m\u001b[1;33m,\u001b[0m\u001b[0mpar\u001b[0m\u001b[1;33m,\u001b[0m\u001b[0mpath\u001b[0m\u001b[1;33m=\u001b[0m\u001b[1;32mTrue\u001b[0m\u001b[1;33m)\u001b[0m\u001b[1;33m\u001b[0m\u001b[1;33m\u001b[0m\u001b[0m\n\u001b[0m",
      "\u001b[1;31mKeyboardInterrupt\u001b[0m: "
     ]
    }
   ],
   "source": [
    "# a. allocate\n",
    "path_ph = np.zeros(model_path.par.path_T + model_path.par.T)\n",
    "\n",
    "# b. setting - 0.9999\n",
    "nu = 0.1 # relaxation parameter\n",
    "max_iter = 1000 # maximum number of iterations\n",
    "\n",
    "# # c. Set path of prices\n",
    "path_ph[:] = model_path.par.ph\n",
    "model_path.par.path_ph = path_ph\n",
    "\n",
    "# d. iterate\n",
    "it = 0\n",
    "for _ in range(max_iter):\n",
    "\n",
    "    # ii. solve and simulate\n",
    "    model_path.solve_path()\n",
    "    model_path.simulate_path()\n",
    "\n",
    "    # iii. Implied aggregate housing demand\n",
    "    H = np.mean(model_path.sim_path.d, axis=1)\n",
    "    \n",
    "    # iv. difference\n",
    "    max_abs_diff = np.max(np.abs(H[:-2] - H_ghost[:-2]))\n",
    "    # if it%10 == 0: print(f'{it:4d}: {max_abs_diff:.8f}')\n",
    "    if max_abs_diff < 10e-4: break # test different values of this threshold\n",
    "\n",
    "    # v. update\n",
    "    path_ph[:model_path.par.path_T] = path_ph[:model_path.par.path_T] + nu*(H - H_ghost)\n",
    "    path_ph[model_path.par.path_T:] = path_ph[model_path.par.path_T-3] # think about this term\n",
    "    \n",
    "    model_path.par.path_ph = path_ph    \n",
    "    \n",
    "    # vi.  increment\n",
    "    it += 1\n",
    "    if it > max_iter: raise Exception('too many iterations')    \n",
    "    \n",
    "    print('p_max is ' +str(path_ph[0]))\n",
    "    print(str(it)+'th iteration: dif = '+str(max_abs_diff))"
   ]
  },
  {
   "cell_type": "markdown",
   "id": "2e9750d2-d7da-415c-8709-7d6051d59e5a",
   "metadata": {
    "tags": []
   },
   "source": [
    "## Plot the Impulse Responses"
   ]
  },
  {
   "cell_type": "markdown",
   "id": "939a96f6-590a-41e7-9961-d9ceb1b2395b",
   "metadata": {},
   "source": [
    "Define path of aggregates, so that it starts 10 periods before the shock"
   ]
  },
  {
   "cell_type": "code",
   "execution_count": 90,
   "id": "76e460ec-a29b-4d20-8028-056cdf47595f",
   "metadata": {},
   "outputs": [],
   "source": [
    "p_path_base = np.zeros(10+model_path.par.path_T)\n",
    "p_path_base[0:10] = model_path.par.ph\n",
    "p_path_base[10:] = model_path.par.path_ph[0:model_path.par.path_T] / model_path.par.ph\n",
    "\n",
    "c_path_base = np.zeros(10+model_path.par.path_T)\n",
    "c_path_base[0:10] = np.mean(model_path.sim.c, axis=1)[-10:] / np.mean(model_path.sim.c, axis=1)[-1:]\n",
    "c_path_base[10:] = np.mean(model_path.sim_path.c, axis=1)/ np.mean(model_path.sim.c, axis=1)[-1:]\n",
    "\n",
    "a_path_base = np.zeros(10+model_path.par.path_T)\n",
    "a_path_base[0:10] = np.mean(model_path.sim.a, axis=1)[-10:] / np.mean(model_path.sim.a, axis=1)[-1:]\n",
    "a_path_base[10:] = np.mean(model_path.sim_path.a, axis=1) / np.mean(model_path.sim.a, axis=1)[-1:]\n",
    "\n",
    "t_axis = range(-10,200) # Time from shock"
   ]
  },
  {
   "cell_type": "markdown",
   "id": "2124af4b-0124-48e6-9d57-f6f690211e7e",
   "metadata": {},
   "source": [
    "Equilibrium housing price"
   ]
  },
  {
   "cell_type": "code",
   "execution_count": 109,
   "id": "01367242-022d-48f8-a96d-eea345a928e3",
   "metadata": {},
   "outputs": [
    {
     "data": {
      "image/png": "[encoded data removed]",
      "text/plain": [
       "<Figure size 432x288 with 1 Axes>"
      ]
     },
     "metadata": {
      "needs_background": "light"
     },
     "output_type": "display_data"
    }
   ],
   "source": [
    "fig = plt.figure(figsize=(6,4))\n",
    "ax = fig.add_subplot(1,1,1)\n",
    "\n",
    "ax.plot(t_axis, p_path_base, color = 'green', linestyle='-', linewidth=2,  label = 'Demand',zorder=2)\n",
    "ax.vlines(0,0,10, color = '0.2', linestyle='--', linewidth = 1.2, zorder=2)\n",
    "\n",
    "ax.set_xlim(-10,80)\n",
    "# ax.set_ylim(6.98,7.53)\n",
    "ax.set_ylim(0.4,1.6)\n",
    "\n",
    "ax.set_xlabel('Time from shock')\n",
    "ax.set_ylabel(r'% Deviation From SS')\n",
    "\n",
    "ax.grid(visible=True, which = 'major', linestyle='-', linewidth=0.5, color='0.9')\n",
    "ax.tick_params(axis='both',bottom=True,top=True,left=True,right=True,direction='in',which='both')\n",
    "# ax.legend(frameon = True, edgecolor = 'k', facecolor = 'white', framealpha=1, fancybox=False)\n",
    "\n",
    "plt.savefig('../../tex/figs/IRF_ph.pdf')"
   ]
  },
  {
   "cell_type": "code",
   "execution_count": 112,
   "id": "1f34d366-8d1a-44b8-b802-3f5eefc7f893",
   "metadata": {},
   "outputs": [
    {
     "data": {
      "text/plain": [
       "[<matplotlib.lines.Line2D at 0x1b98f9d2be0>]"
      ]
     },
     "execution_count": 112,
     "metadata": {},
     "output_type": "execute_result"
    },
    {
     "data": {
      "image/png": "[encoded data removed]",
      "text/plain": [
       "<Figure size 432x288 with 1 Axes>"
      ]
     },
     "metadata": {
      "needs_background": "light"
     },
     "output_type": "display_data"
    }
   ],
   "source": [
    "plt.plot(H_ghost, color = 'blue')\n",
    "plt.plot( np.mean(model_path.sim_path.d, axis=1), color = 'red')"
   ]
  },
  {
   "cell_type": "markdown",
   "id": "4dcd8c5b-fc42-4e71-b7b7-76de5686889c",
   "metadata": {},
   "source": [
    "Non-durable consumption"
   ]
  },
  {
   "cell_type": "code",
   "execution_count": 153,
   "id": "351e4c27-4f71-4c06-bbf5-4ce48dfd5f31",
   "metadata": {},
   "outputs": [
    {
     "data": {
      "image/png": "[encoded data removed]",
      "text/plain": [
       "<Figure size 432x288 with 1 Axes>"
      ]
     },
     "metadata": {
      "needs_background": "light"
     },
     "output_type": "display_data"
    }
   ],
   "source": [
    "fig = plt.figure(figsize=(6,4))\n",
    "ax = fig.add_subplot(1,1,1)\n",
    "\n",
    "ax.plot(t_axis, c_path_base, color = 'blue', linestyle='-', linewidth=2,  label = 'Demand',zorder=2)\n",
    "ax.vlines(0,0,10, color = '0.2', linestyle='--', linewidth = 1.2, zorder=2)\n",
    "\n",
    "ax.set_xlim(-10,80)\n",
    "ax.set_ylim(0.4,1.6)\n",
    "\n",
    "ax.set_xlabel('Time from shock')\n",
    "ax.set_ylabel(r'% Deviation From SS')\n",
    "\n",
    "ax.grid(visible=True, which = 'major', linestyle='-', linewidth=0.5, color='0.9')\n",
    "ax.tick_params(axis='both',bottom=True,top=True,left=True,right=True,direction='in',which='both')\n",
    "# ax.legend(frameon = True, edgecolor = 'k', facecolor = 'white', framealpha=1, fancybox=False)\n",
    "\n",
    "plt.savefig('../../tex/figs/IRF_c.pdf')"
   ]
  },
  {
   "cell_type": "markdown",
   "id": "4c0f2a6c-9858-4ea5-8386-b0e31e575376",
   "metadata": {},
   "source": [
    "Cash on hand"
   ]
  },
  {
   "cell_type": "code",
   "execution_count": 111,
   "id": "7905e7fc-b996-43ef-9479-07b291996d8a",
   "metadata": {},
   "outputs": [
    {
     "data": {
      "image/png": "[encoded data removed]",
      "text/plain": [
       "<Figure size 432x288 with 1 Axes>"
      ]
     },
     "metadata": {
      "needs_background": "light"
     },
     "output_type": "display_data"
    }
   ],
   "source": [
    "fig = plt.figure(figsize=(6,4))\n",
    "ax = fig.add_subplot(1,1,1)\n",
    "\n",
    "ax.plot(t_axis, a_path_base, color = 'red', linestyle='-', linewidth=2,  label = 'Demand',zorder=2)\n",
    "ax.vlines(0,0,10, color = '0.2', linestyle='--', linewidth = 1.2, zorder=2)\n",
    "\n",
    "ax.set_xlim(-10,80)\n",
    "ax.set_ylim(0.4,1.6)\n",
    "\n",
    "ax.set_xlabel('Time from shock')\n",
    "ax.set_ylabel(r'% Deviation From SS')\n",
    "\n",
    "ax.grid(visible=True, which = 'major', linestyle='-', linewidth=0.5, color='0.9')\n",
    "ax.tick_params(axis='both',bottom=True,top=True,left=True,right=True,direction='in',which='both')\n",
    "\n",
    "plt.savefig('../../tex/figs/IRF_m.pdf')"
   ]
  },
  {
   "cell_type": "markdown",
   "id": "6b61106a-f24e-4bcc-a37b-78ceb0a39a46",
   "metadata": {},
   "source": [
    "## Plot the path of the Gini coefficient"
   ]
  },
  {
   "cell_type": "markdown",
   "id": "bf236401-c43c-4724-b1e1-435357542a21",
   "metadata": {},
   "source": [
    "Generate panel for path"
   ]
  },
  {
   "cell_type": "code",
   "execution_count": 114,
   "id": "e4ed2491-d379-4e3b-9b1e-e292758623ca",
   "metadata": {},
   "outputs": [],
   "source": [
    "# For ease\n",
    "par = model_path.par\n",
    "sim = model_path.sim\n",
    "sim_path = model_path.sim_path"
   ]
  },
  {
   "cell_type": "code",
   "execution_count": 149,
   "id": "cf5849bf-6c33-449d-9ad1-bd37759c9183",
   "metadata": {},
   "outputs": [],
   "source": [
    "# Generate path of wealth\n",
    "w = np.zeros(shape=(par.path_T+10,par.simN))\n",
    "\n",
    "for k in range(-10,par.T-10):\n",
    "    \n",
    "    t = k + 10\n",
    "    # print('t =  '+str(t) +' k = '+str(k))\n",
    "    if k < 0:\n",
    "        w[t] = sim.m[k] + par.ph*sim.n[k]\n",
    "\n",
    "    else:\n",
    "        w[t] = sim_path.m[k] + par.path_ph[k]*sim_path.n[k]"
   ]
  },
  {
   "cell_type": "code",
   "execution_count": 150,
   "id": "76847fc3-4bde-4ff6-a37a-35d6877d548d",
   "metadata": {},
   "outputs": [
    {
     "data": {
      "text/plain": [
       "[<matplotlib.lines.Line2D at 0x1b9892073d0>]"
      ]
     },
     "execution_count": 150,
     "metadata": {},
     "output_type": "execute_result"
    },
    {
     "data": {
      "image/png": "[encoded data removed]",
      "text/plain": [
       "<Figure size 432x288 with 1 Axes>"
      ]
     },
     "metadata": {
      "needs_background": "light"
     },
     "output_type": "display_data"
    }
   ],
   "source": [
    "plt.plot(np.mean(w,axis=1)[0:50])"
   ]
  },
  {
   "cell_type": "code",
   "execution_count": 156,
   "id": "2a7e6910-e531-41b8-95a8-252096ee95eb",
   "metadata": {},
   "outputs": [
    {
     "data": {
      "image/png": "[encoded data removed]",
      "text/plain": [
       "<Figure size 432x288 with 1 Axes>"
      ]
     },
     "metadata": {
      "needs_background": "light"
     },
     "output_type": "display_data"
    }
   ],
   "source": [
    "plt.hist(w[9,:], bins = 100, alpha =.5)\n",
    "plt.hist(w[10,:], bins = 100, alpha =.5)\n",
    "\n",
    "plt.show()"
   ]
  },
  {
   "cell_type": "markdown",
   "id": "71f76b65-38a9-4260-ba92-935109e38efe",
   "metadata": {},
   "source": [
    "Compute gain from $t=0$ to $t=1$"
   ]
  },
  {
   "cell_type": "code",
   "execution_count": 219,
   "id": "4d8b97ea-8bce-4721-8694-2d5453ec4fef",
   "metadata": {},
   "outputs": [],
   "source": [
    "# gain = (par.path_ph[0]*sim_path.n[0,:] + sim_path.m[0,:] - par.ph*sim.n[-1,:] - sim.m[-1,:]) / (par.ph*sim.n[-1,:] + sim.m[-1,:])\n",
    "gain = (par.path_ph[0]*sim_path.n[0,:] - par.ph*sim.n[-1,:]) / (par.ph*sim.n[-1,:])"
   ]
  },
  {
   "cell_type": "code",
   "execution_count": 223,
   "id": "8e7a13ac-ced0-47f6-a716-b8aed1d26f0d",
   "metadata": {},
   "outputs": [],
   "source": [
    "# try binned scatterplot\n",
    "gains_means, bin_edges, binnumber = stats.binned_statistic(sim.m[-1,:],gain, bins = 20, statistic = 'mean')\n",
    "\n",
    "# Compute bins\n",
    "bin_width = (bin_edges[1] - bin_edges[0])\n",
    "bin_centers = bin_edges[1:] - bin_width/2"
   ]
  },
  {
   "cell_type": "code",
   "execution_count": 237,
   "id": "5bb75ce8-c82b-4202-801e-da4a35548d39",
   "metadata": {},
   "outputs": [],
   "source": [
    "# regression line\n",
    "res = stats.linregress(sim.m[-1,:], gain)\n",
    "y_fit = res.intercept + res.slope*par.grid_m"
   ]
  },
  {
   "cell_type": "code",
   "execution_count": 239,
   "id": "6d74475c-6b8c-4bb7-ae2e-8befeb5ef563",
   "metadata": {},
   "outputs": [
    {
     "data": {
      "image/png": "[encoded data removed]",
      "text/plain": [
       "<Figure size 432x288 with 1 Axes>"
      ]
     },
     "metadata": {
      "needs_background": "light"
     },
     "output_type": "display_data"
    }
   ],
   "source": [
    "# Initialize the figure\n",
    "fig = plt.figure(figsize=(6,4))\n",
    "ax = fig.add_subplot(1,1,1)\n",
    "\n",
    "# Plot the avalanche sizes\n",
    "ax.scatter(bin_centers, gains_means, s=50, c='gold', marker='o', edgecolors = '0.2', zorder=2) \n",
    "# ax.plot(par.grid_m,y_fit)\n",
    "\n",
    "# Plot setting\n",
    "ax.set_xlabel('Cash-On-Hand')\n",
    "ax.set_ylabel('Percentage Gain')\n",
    "\n",
    "# ax.set_xlim(0,200)\n",
    "ax.set_ylim(0.4,.55)\n",
    "\n",
    "ax.grid(visible=True, which = 'major', linestyle='-', linewidth=0.5, color='0.9')\n",
    "ax.tick_params(axis='both',bottom=True,top=True,left=True,right=True,direction='in',which='both')\n",
    "# ax.legend()\n",
    "\n",
    "plt.savefig('../../tex/figs/gains_bins.pdf')"
   ]
  },
  {
   "cell_type": "code",
   "execution_count": 151,
   "id": "220c689e-950b-4e67-82f4-4b13ebb6ba82",
   "metadata": {},
   "outputs": [],
   "source": [
    "gini_path = np.zeros(par.path_T+10)\n",
    "\n",
    "for t in range(par.path_T):\n",
    "    gini_path[t] = f.gini(w[t,:])"
   ]
  },
  {
   "cell_type": "code",
   "execution_count": 152,
   "id": "e622657c-4135-4d33-8236-9e2eb70d4a77",
   "metadata": {},
   "outputs": [
    {
     "data": {
      "image/png": "[encoded data removed]",
      "text/plain": [
       "<Figure size 432x288 with 1 Axes>"
      ]
     },
     "metadata": {
      "needs_background": "light"
     },
     "output_type": "display_data"
    }
   ],
   "source": [
    "t = np.linspace(-10,199,210, dtype = int)\n",
    "\n",
    "plt.plot(t,gini_path)\n",
    "plt.xlim(-10,50)\n",
    "plt.ylim(.15,.3)\n",
    "plt.show()"
   ]
  },
  {
   "cell_type": "markdown",
   "id": "8ff6ca2b-e529-4b35-a24d-c93d83c572e5",
   "metadata": {
    "tags": []
   },
   "source": [
    "# Test the transition path with avancebeskatning"
   ]
  },
  {
   "cell_type": "code",
   "execution_count": 225,
   "id": "c2e194bf-bbb2-4a79-bd8b-45a3267e9b16",
   "metadata": {},
   "outputs": [],
   "source": [
    "# Initialize model and solve initial steady state\n",
    "model_path = HousingModelClass(name='example_negm',par={'solmethod':'negm', 'do_print':False})\n",
    "\n",
    "# Solve and simulate\n",
    "model_path.precompile_numba()\n",
    "model_path.solve()\n",
    "model_path.simulate()\n",
    "\n",
    "H_ghost = np.mean(model_path.sim_path.d, axis=1)"
   ]
  },
  {
   "cell_type": "code",
   "execution_count": 226,
   "id": "e5964af8-e29f-44d1-bf42-128b8b7eff01",
   "metadata": {},
   "outputs": [],
   "source": [
    "model_path.par.taug = 0.01\n",
    "model_path.solve_path()\n",
    "model_path.simulate_path()"
   ]
  },
  {
   "cell_type": "code",
   "execution_count": 240,
   "id": "3b0dc999-b3b1-4aad-84c8-53e971d0de06",
   "metadata": {},
   "outputs": [
    {
     "name": "stdout",
     "output_type": "stream",
     "text": [
      "1th iteration: dif = 1.9345517394342469\n",
      "p_max is 1.0967275869717124\n",
      "2th iteration: dif = 1.9088805527111368\n",
      "p_max is 1.1921716146072692\n",
      "3th iteration: dif = 1.8805799387031124\n",
      "p_max is 1.2861852625179488\n",
      "4th iteration: dif = 1.8562347006487951\n",
      "p_max is 1.3789969975503886\n",
      "5th iteration: dif = 1.8326548738210688\n",
      "p_max is 1.4706297412414422\n",
      "6th iteration: dif = 1.8138673743316382\n",
      "p_max is 1.561323109958024\n",
      "7th iteration: dif = 1.7959613967601142\n",
      "p_max is 1.6511211797960297\n",
      "8th iteration: dif = 1.7791243789536075\n",
      "p_max is 1.7400773987437101\n",
      "9th iteration: dif = 1.7515436737991499\n",
      "p_max is 1.8276545824336676\n"
     ]
    },
    {
     "name": "stderr",
     "output_type": "stream",
     "text": [
      "Traceback (most recent call last):\n",
      "  File \"C:\\Users\\madsh\\OneDrive - University of Copenhagen\\Desktop\\Thesis\\code\\MA_thesis\\HousingModel.py\", line 623, in simulate_path\n",
      "    simulate.monte_carlo(sim_path,sol_path,par,path=True)\n",
      "KeyboardInterrupt\n"
     ]
    },
    {
     "ename": "KeyboardInterrupt",
     "evalue": "",
     "output_type": "error",
     "traceback": [
      "\u001b[1;31m---------------------------------------------------------------------------\u001b[0m",
      "\u001b[1;31mKeyboardInterrupt\u001b[0m                         Traceback (most recent call last)",
      "\u001b[1;32m~\\AppData\\Local\\Temp\\ipykernel_13164\\1178885271.py\u001b[0m in \u001b[0;36m<cell line: 14>\u001b[1;34m()\u001b[0m\n\u001b[0;32m     16\u001b[0m     \u001b[1;31m# ii. solve and simulate\u001b[0m\u001b[1;33m\u001b[0m\u001b[1;33m\u001b[0m\u001b[0m\n\u001b[0;32m     17\u001b[0m     \u001b[0mmodel_path\u001b[0m\u001b[1;33m.\u001b[0m\u001b[0msolve_path\u001b[0m\u001b[1;33m(\u001b[0m\u001b[1;33m)\u001b[0m\u001b[1;33m\u001b[0m\u001b[1;33m\u001b[0m\u001b[0m\n\u001b[1;32m---> 18\u001b[1;33m     \u001b[0mmodel_path\u001b[0m\u001b[1;33m.\u001b[0m\u001b[0msimulate_path\u001b[0m\u001b[1;33m(\u001b[0m\u001b[1;33m)\u001b[0m\u001b[1;33m\u001b[0m\u001b[1;33m\u001b[0m\u001b[0m\n\u001b[0m\u001b[0;32m     19\u001b[0m \u001b[1;33m\u001b[0m\u001b[0m\n\u001b[0;32m     20\u001b[0m     \u001b[1;31m# iii. Implied aggregate housing demand\u001b[0m\u001b[1;33m\u001b[0m\u001b[1;33m\u001b[0m\u001b[0m\n",
      "\u001b[1;32m~\\OneDrive - University of Copenhagen\\Desktop\\Thesis\\code\\MA_thesis\\HousingModel.py\u001b[0m in \u001b[0;36msimulate_path\u001b[1;34m(self)\u001b[0m\n\u001b[0;32m    621\u001b[0m             \u001b[0msim\u001b[0m \u001b[1;33m=\u001b[0m \u001b[0mself\u001b[0m\u001b[1;33m.\u001b[0m\u001b[0msim\u001b[0m\u001b[1;33m\u001b[0m\u001b[1;33m\u001b[0m\u001b[0m\n\u001b[0;32m    622\u001b[0m \u001b[1;33m\u001b[0m\u001b[0m\n\u001b[1;32m--> 623\u001b[1;33m             \u001b[0msimulate\u001b[0m\u001b[1;33m.\u001b[0m\u001b[0mmonte_carlo\u001b[0m\u001b[1;33m(\u001b[0m\u001b[0msim_path\u001b[0m\u001b[1;33m,\u001b[0m\u001b[0msol_path\u001b[0m\u001b[1;33m,\u001b[0m\u001b[0mpar\u001b[0m\u001b[1;33m,\u001b[0m\u001b[0mpath\u001b[0m\u001b[1;33m=\u001b[0m\u001b[1;32mTrue\u001b[0m\u001b[1;33m)\u001b[0m\u001b[1;33m\u001b[0m\u001b[1;33m\u001b[0m\u001b[0m\n\u001b[0m",
      "\u001b[1;31mKeyboardInterrupt\u001b[0m: "
     ]
    }
   ],
   "source": [
    "# a. allocate\n",
    "path_ph = np.zeros(model_path.par.path_T + model_path.par.T)\n",
    "\n",
    "# b. setting - 0.9999\n",
    "nu = .05 # relaxation parameter\n",
    "max_iter = 1000 # maximum number of iterations\n",
    "\n",
    "# # c. Set path of prices\n",
    "path_ph[:] = model_path.par.ph\n",
    "model_path.par.path_ph = path_ph\n",
    "\n",
    "# d. iterate\n",
    "it = 0\n",
    "for _ in range(max_iter):\n",
    "\n",
    "    # ii. solve and simulate\n",
    "    model_path.solve_path()\n",
    "    model_path.simulate_path()\n",
    "\n",
    "    # iii. Implied aggregate housing demand\n",
    "    H = np.mean(model_path.sim_path.d, axis=1)\n",
    "    \n",
    "    # iv. difference\n",
    "    max_abs_diff = np.max(np.abs(H[:-2] - H_ghost[:-2]))\n",
    "    # if it%10 == 0: print(f'{it:4d}: {max_abs_diff:.8f}')\n",
    "    if max_abs_diff < 10e-3: break # test different values of this threshold\n",
    "\n",
    "    # v. update\n",
    "    path_ph[:model_path.par.path_T] = path_ph[:model_path.par.path_T] + nu*(H - H_ghost)\n",
    "    path_ph[model_path.par.path_T:] = path_ph[model_path.par.path_T-3]\n",
    "    \n",
    "    model_path.par.path_ph = path_ph    \n",
    "    \n",
    "    # vi.  increment\n",
    "    it += 1\n",
    "    if it > max_iter: raise Exception('too many iterations')    \n",
    "    \n",
    "    print(str(it)+'th iteration: dif = '+str(max_abs_diff))\n",
    "    print('p_max is ' +str(path_ph[0]))"
   ]
  },
  {
   "cell_type": "code",
   "execution_count": 241,
   "id": "d31b063a-d883-489a-9965-d7cb399f67de",
   "metadata": {},
   "outputs": [],
   "source": [
    "p_path_g = np.zeros(10+model_path.par.path_T)\n",
    "p_path_g[0:10] = model_path.par.ph\n",
    "p_path_g[10:] = model_path.par.path_ph[0:model_path.par.path_T]\n",
    "\n",
    "c_path_g = np.zeros(10+model_path.par.path_T)\n",
    "c_path_g[0:10] = np.mean(model_path.sim.c, axis=1)[-10:]\n",
    "c_path_g[10:] = np.mean(model_path.sim_path.c, axis=1)\n",
    "\n",
    "a_path_g = np.zeros(10+model_path.par.path_T)\n",
    "a_path_g[0:10] = np.mean(model_path.sim.a, axis=1)[-10:]\n",
    "a_path_g[10:] = np.mean(model_path.sim_path.a, axis=1)\n",
    "\n",
    "t_axis = range(-10,200) # Time from shock"
   ]
  },
  {
   "cell_type": "code",
   "execution_count": 251,
   "id": "59c44400-c090-4569-8014-8a69e9428d1a",
   "metadata": {},
   "outputs": [
    {
     "data": {
      "image/png": "[encoded data removed]",
      "text/plain": [
       "<Figure size 432x288 with 1 Axes>"
      ]
     },
     "metadata": {
      "needs_background": "light"
     },
     "output_type": "display_data"
    }
   ],
   "source": [
    "fig = plt.figure(figsize=(6,4))\n",
    "ax = fig.add_subplot(1,1,1)\n",
    "\n",
    "ax.plot(t_axis, p_path_g, color = '0.4', linestyle='-', linewidth=1,  label = 'Demand',zorder=2)\n",
    "ax.vlines(0,0,10, color = '0.2', linestyle='--', linewidth = 1.2, zorder=2)\n",
    "\n",
    "ax.set_xlim(-10,100)\n",
    "ax.set_ylim(.8,1.9)\n",
    "# ax.set_ylim(0.99,1.7)\n",
    "\n",
    "ax.set_xlabel('Time from shock')\n",
    "ax.set_ylabel(r'$p_t$')\n",
    "\n",
    "ax.grid(visible=True, which = 'major', linestyle='-', linewidth=0.5, color='0.9')\n",
    "ax.tick_params(axis='both',bottom=True,top=True,left=True,right=True,direction='in',which='both')"
   ]
  },
  {
   "cell_type": "code",
   "execution_count": 248,
   "id": "9463ed37-9a44-4c53-8976-d9ef49d49ffa",
   "metadata": {},
   "outputs": [
    {
     "data": {
      "image/png": "[encoded data removed]",
      "text/plain": [
       "<Figure size 432x288 with 1 Axes>"
      ]
     },
     "metadata": {
      "needs_background": "light"
     },
     "output_type": "display_data"
    }
   ],
   "source": [
    "fig = plt.figure(figsize=(6,4))\n",
    "ax = fig.add_subplot(1,1,1)\n",
    "\n",
    "ax.plot(t_axis, c_path_g, color = '0.4', linestyle='-', linewidth=1,  label = 'Demand',zorder=2)\n",
    "# ax.vlines(0,0,10, color = '0.2', linestyle='--', linewidth = 1.2, zorder=2)\n",
    "\n",
    "ax.set_xlim(-10,100)\n",
    "# ax.set_ylim(6.98,7.53)\n",
    "# ax.set_ylim(0.99,1.02)\n",
    "\n",
    "ax.set_xlabel('Time from shock')\n",
    "ax.set_ylabel(r'$p_t$')\n",
    "\n",
    "ax.grid(visible=True, which = 'major', linestyle='-', linewidth=0.5, color='0.9')\n",
    "ax.tick_params(axis='both',bottom=True,top=True,left=True,right=True,direction='in',which='both')"
   ]
  },
  {
   "cell_type": "code",
   "execution_count": 249,
   "id": "e5da55e3-a413-4769-84bc-92ff2eac0d3e",
   "metadata": {},
   "outputs": [
    {
     "data": {
      "image/png": "[encoded data removed]",
      "text/plain": [
       "<Figure size 432x288 with 1 Axes>"
      ]
     },
     "metadata": {
      "needs_background": "light"
     },
     "output_type": "display_data"
    }
   ],
   "source": [
    "fig = plt.figure(figsize=(6,4))\n",
    "ax = fig.add_subplot(1,1,1)\n",
    "\n",
    "ax.plot(t_axis, a_path_g, color = '0.4', linestyle='-', linewidth=1,  label = 'Demand',zorder=2)\n",
    "# ax.vlines(0,0,10, color = '0.2', linestyle='--', linewidth = 1.2, zorder=2)\n",
    "\n",
    "ax.set_xlim(-10,100)\n",
    "# ax.set_ylim(6.98,7.53)\n",
    "# ax.set_ylim(0.99,1.02)\n",
    "\n",
    "ax.set_xlabel('Time from shock')\n",
    "ax.set_ylabel(r'$p_t$')\n",
    "\n",
    "ax.grid(visible=True, which = 'major', linestyle='-', linewidth=0.5, color='0.9')\n",
    "ax.tick_params(axis='both',bottom=True,top=True,left=True,right=True,direction='in',which='both')"
   ]
  }
 ],
 "metadata": {
  "kernelspec": {
   "display_name": "Python 3 (ipykernel)",
   "language": "python",
   "name": "python3"
  },
  "language_info": {
   "codemirror_mode": {
    "name": "ipython",
    "version": 3
   },
   "file_extension": ".py",
   "mimetype": "text/x-python",
   "name": "python",
   "nbconvert_exporter": "python",
   "pygments_lexer": "ipython3",
   "version": "3.9.10"
  }
 },
 "nbformat": 4,
 "nbformat_minor": 5
}
